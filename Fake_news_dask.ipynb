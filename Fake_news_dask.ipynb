{
  "nbformat": 4,
  "nbformat_minor": 0,
  "metadata": {
    "colab": {
      "name": "Fake_news_dask.ipynb",
      "provenance": [],
      "collapsed_sections": [
        "CAT0_yCsiwFR"
      ]
    },
    "kernelspec": {
      "name": "python3",
      "display_name": "Python 3"
    },
    "language_info": {
      "name": "python"
    }
  },
  "cells": [
    {
      "cell_type": "markdown",
      "metadata": {
        "id": "8fdaswjUBb_H"
      },
      "source": [
        "[Fake News](https://www.kaggle.com/shahidkhan1/fake-news-detection-using-lstm-90-accuracy/data)\n",
        "\n",
        " **train.csv**: A full training dataset with the following attributes:\n",
        "\n",
        "\n",
        "*   id: unique id for a news article\n",
        "*  title: the title of a news article\n",
        "* author: author of the news article\n",
        "* text: the text of the article; could be incomplete\n",
        "* label: a label that marks the article as potentially unreliable\n",
        "\n",
        ">> 1: unreliable\n",
        "\n",
        ">> 0: reliable\n",
        "\n",
        "**test.csv**: A testing training dataset with all the same attributes at train.csv without the label.\n",
        "\n",
        "**submit.csv**\n"
      ]
    },
    {
      "cell_type": "code",
      "source": [
        "from google.colab import drive\n",
        "drive.mount('/content/drive')"
      ],
      "metadata": {
        "colab": {
          "base_uri": "https://localhost:8080/"
        },
        "id": "f2XSG5I6E5j3",
        "outputId": "7e3e6e78-111f-45df-d39f-d042eb8449e6"
      },
      "execution_count": 1,
      "outputs": [
        {
          "output_type": "stream",
          "name": "stdout",
          "text": [
            "Drive already mounted at /content/drive; to attempt to forcibly remount, call drive.mount(\"/content/drive\", force_remount=True).\n"
          ]
        }
      ]
    },
    {
      "cell_type": "code",
      "metadata": {
        "id": "SGXNBJ52IKHE"
      },
      "source": [
        "import os\n",
        "os.environ[\"KAGGLE_CONFIG_DIR\"] = \"/content/drive/MyDrive/ciclo2/BigData/proyecto-grupal\""
      ],
      "execution_count": 2,
      "outputs": []
    },
    {
      "cell_type": "code",
      "metadata": {
        "colab": {
          "base_uri": "https://localhost:8080/"
        },
        "id": "3l02Lhc_cwIU",
        "outputId": "c014e7ad-d725-4bac-88f2-c984503635b7"
      },
      "source": [
        "!python -m pip install 'fsspec>=0.3.3' #"
      ],
      "execution_count": 3,
      "outputs": [
        {
          "output_type": "stream",
          "name": "stdout",
          "text": [
            "Collecting fsspec>=0.3.3\n",
            "  Downloading fsspec-2021.11.1-py3-none-any.whl (132 kB)\n",
            "\u001b[?25l\r\u001b[K     |██▌                             | 10 kB 20.0 MB/s eta 0:00:01\r\u001b[K     |█████                           | 20 kB 25.7 MB/s eta 0:00:01\r\u001b[K     |███████▍                        | 30 kB 24.2 MB/s eta 0:00:01\r\u001b[K     |█████████▉                      | 40 kB 19.1 MB/s eta 0:00:01\r\u001b[K     |████████████▎                   | 51 kB 7.8 MB/s eta 0:00:01\r\u001b[K     |██████████████▉                 | 61 kB 9.0 MB/s eta 0:00:01\r\u001b[K     |█████████████████▎              | 71 kB 8.2 MB/s eta 0:00:01\r\u001b[K     |███████████████████▊            | 81 kB 9.1 MB/s eta 0:00:01\r\u001b[K     |██████████████████████▏         | 92 kB 9.8 MB/s eta 0:00:01\r\u001b[K     |████████████████████████▋       | 102 kB 7.4 MB/s eta 0:00:01\r\u001b[K     |███████████████████████████     | 112 kB 7.4 MB/s eta 0:00:01\r\u001b[K     |█████████████████████████████▋  | 122 kB 7.4 MB/s eta 0:00:01\r\u001b[K     |████████████████████████████████| 132 kB 7.4 MB/s \n",
            "\u001b[?25hInstalling collected packages: fsspec\n",
            "Successfully installed fsspec-2021.11.1\n"
          ]
        }
      ]
    },
    {
      "cell_type": "code",
      "metadata": {
        "colab": {
          "base_uri": "https://localhost:8080/"
        },
        "id": "ltRywY8uc3Td",
        "outputId": "752de0f3-bab1-4573-8b5c-420a416780c3"
      },
      "source": [
        "!kaggle competitions download -c fake-news"
      ],
      "execution_count": 11,
      "outputs": [
        {
          "output_type": "stream",
          "name": "stdout",
          "text": [
            "Warning: Looks like you're using an outdated API Version, please consider updating (server 1.5.12 / client 1.5.4)\n",
            "Downloading test.csv.zip to /content\n",
            " 53% 5.00M/9.42M [00:00<00:00, 29.6MB/s]\n",
            "100% 9.42M/9.42M [00:00<00:00, 35.6MB/s]\n",
            "Downloading submit.csv to /content\n",
            "  0% 0.00/40.6k [00:00<?, ?B/s]\n",
            "100% 40.6k/40.6k [00:00<00:00, 16.6MB/s]\n",
            "Downloading train.csv.zip to /content\n",
            " 84% 31.0M/37.0M [00:01<00:00, 28.1MB/s]\n",
            "100% 37.0M/37.0M [00:01<00:00, 32.4MB/s]\n"
          ]
        }
      ]
    },
    {
      "cell_type": "code",
      "metadata": {
        "colab": {
          "base_uri": "https://localhost:8080/"
        },
        "id": "c-kqbKNzdS1T",
        "outputId": "45c7a6bc-c1dc-400d-ca14-727a2aab262a"
      },
      "source": [
        "! unzip test.csv.zip\n",
        "! unzip train.csv.zip"
      ],
      "execution_count": 12,
      "outputs": [
        {
          "output_type": "stream",
          "name": "stdout",
          "text": [
            "Archive:  test.csv.zip\n",
            "  inflating: test.csv                \n",
            "Archive:  train.csv.zip\n",
            "  inflating: train.csv               \n"
          ]
        }
      ]
    },
    {
      "cell_type": "code",
      "metadata": {
        "id": "7PZuNId9gs0v"
      },
      "source": [
        "import pandas as pd\n",
        "import psutil\n",
        "import time"
      ],
      "execution_count": 13,
      "outputs": []
    },
    {
      "cell_type": "code",
      "metadata": {
        "id": "aO-uO1Tkdx3R"
      },
      "source": [
        "df_submit = pd.read_csv(\"/content/submit.csv\")\n",
        "df_train = pd.read_csv(\"/content/train.csv\")\n",
        "df_test = pd.read_csv(\"/content/test.csv\")\n"
      ],
      "execution_count": 14,
      "outputs": []
    },
    {
      "cell_type": "markdown",
      "metadata": {
        "id": "tTa0RzIIiqk9"
      },
      "source": [
        "## Submit"
      ]
    },
    {
      "cell_type": "code",
      "metadata": {
        "colab": {
          "base_uri": "https://localhost:8080/",
          "height": 206
        },
        "id": "XlHS8VzbeLkv",
        "outputId": "099f2c58-98a1-4a0e-e6e1-cd40af5ad10b"
      },
      "source": [
        "df_submit.head()"
      ],
      "execution_count": null,
      "outputs": [
        {
          "output_type": "execute_result",
          "data": {
            "text/html": [
              "<div>\n",
              "<style scoped>\n",
              "    .dataframe tbody tr th:only-of-type {\n",
              "        vertical-align: middle;\n",
              "    }\n",
              "\n",
              "    .dataframe tbody tr th {\n",
              "        vertical-align: top;\n",
              "    }\n",
              "\n",
              "    .dataframe thead th {\n",
              "        text-align: right;\n",
              "    }\n",
              "</style>\n",
              "<table border=\"1\" class=\"dataframe\">\n",
              "  <thead>\n",
              "    <tr style=\"text-align: right;\">\n",
              "      <th></th>\n",
              "      <th>id</th>\n",
              "      <th>label</th>\n",
              "    </tr>\n",
              "  </thead>\n",
              "  <tbody>\n",
              "    <tr>\n",
              "      <th>0</th>\n",
              "      <td>20800</td>\n",
              "      <td>0</td>\n",
              "    </tr>\n",
              "    <tr>\n",
              "      <th>1</th>\n",
              "      <td>20801</td>\n",
              "      <td>1</td>\n",
              "    </tr>\n",
              "    <tr>\n",
              "      <th>2</th>\n",
              "      <td>20802</td>\n",
              "      <td>0</td>\n",
              "    </tr>\n",
              "    <tr>\n",
              "      <th>3</th>\n",
              "      <td>20803</td>\n",
              "      <td>1</td>\n",
              "    </tr>\n",
              "    <tr>\n",
              "      <th>4</th>\n",
              "      <td>20804</td>\n",
              "      <td>1</td>\n",
              "    </tr>\n",
              "  </tbody>\n",
              "</table>\n",
              "</div>"
            ],
            "text/plain": [
              "      id  label\n",
              "0  20800      0\n",
              "1  20801      1\n",
              "2  20802      0\n",
              "3  20803      1\n",
              "4  20804      1"
            ]
          },
          "metadata": {},
          "execution_count": 5
        }
      ]
    },
    {
      "cell_type": "code",
      "metadata": {
        "colab": {
          "base_uri": "https://localhost:8080/"
        },
        "id": "niJj3zN2arm3",
        "outputId": "6916e96d-ebdf-4c23-eeb5-7163664b0c86"
      },
      "source": [
        "print(\"Cantidad de elementos SUBMIT:\",len(df_submit.index))"
      ],
      "execution_count": 15,
      "outputs": [
        {
          "output_type": "stream",
          "name": "stdout",
          "text": [
            "Cantidad de elementos SUBMIT: 5200\n"
          ]
        }
      ]
    },
    {
      "cell_type": "markdown",
      "metadata": {
        "id": "4yPQjAheit5F"
      },
      "source": [
        "## Train"
      ]
    },
    {
      "cell_type": "code",
      "metadata": {
        "colab": {
          "base_uri": "https://localhost:8080/",
          "height": 206
        },
        "id": "DrgYoC3EeMHq",
        "outputId": "46fe8309-5ac4-4bb9-9776-b1350eaee714"
      },
      "source": [
        "df_train.head()"
      ],
      "execution_count": 16,
      "outputs": [
        {
          "output_type": "execute_result",
          "data": {
            "text/html": [
              "<div>\n",
              "<style scoped>\n",
              "    .dataframe tbody tr th:only-of-type {\n",
              "        vertical-align: middle;\n",
              "    }\n",
              "\n",
              "    .dataframe tbody tr th {\n",
              "        vertical-align: top;\n",
              "    }\n",
              "\n",
              "    .dataframe thead th {\n",
              "        text-align: right;\n",
              "    }\n",
              "</style>\n",
              "<table border=\"1\" class=\"dataframe\">\n",
              "  <thead>\n",
              "    <tr style=\"text-align: right;\">\n",
              "      <th></th>\n",
              "      <th>id</th>\n",
              "      <th>title</th>\n",
              "      <th>author</th>\n",
              "      <th>text</th>\n",
              "      <th>label</th>\n",
              "    </tr>\n",
              "  </thead>\n",
              "  <tbody>\n",
              "    <tr>\n",
              "      <th>0</th>\n",
              "      <td>0</td>\n",
              "      <td>House Dem Aide: We Didn’t Even See Comey’s Let...</td>\n",
              "      <td>Darrell Lucus</td>\n",
              "      <td>House Dem Aide: We Didn’t Even See Comey’s Let...</td>\n",
              "      <td>1</td>\n",
              "    </tr>\n",
              "    <tr>\n",
              "      <th>1</th>\n",
              "      <td>1</td>\n",
              "      <td>FLYNN: Hillary Clinton, Big Woman on Campus - ...</td>\n",
              "      <td>Daniel J. Flynn</td>\n",
              "      <td>Ever get the feeling your life circles the rou...</td>\n",
              "      <td>0</td>\n",
              "    </tr>\n",
              "    <tr>\n",
              "      <th>2</th>\n",
              "      <td>2</td>\n",
              "      <td>Why the Truth Might Get You Fired</td>\n",
              "      <td>Consortiumnews.com</td>\n",
              "      <td>Why the Truth Might Get You Fired October 29, ...</td>\n",
              "      <td>1</td>\n",
              "    </tr>\n",
              "    <tr>\n",
              "      <th>3</th>\n",
              "      <td>3</td>\n",
              "      <td>15 Civilians Killed In Single US Airstrike Hav...</td>\n",
              "      <td>Jessica Purkiss</td>\n",
              "      <td>Videos 15 Civilians Killed In Single US Airstr...</td>\n",
              "      <td>1</td>\n",
              "    </tr>\n",
              "    <tr>\n",
              "      <th>4</th>\n",
              "      <td>4</td>\n",
              "      <td>Iranian woman jailed for fictional unpublished...</td>\n",
              "      <td>Howard Portnoy</td>\n",
              "      <td>Print \\nAn Iranian woman has been sentenced to...</td>\n",
              "      <td>1</td>\n",
              "    </tr>\n",
              "  </tbody>\n",
              "</table>\n",
              "</div>"
            ],
            "text/plain": [
              "   id  ... label\n",
              "0   0  ...     1\n",
              "1   1  ...     0\n",
              "2   2  ...     1\n",
              "3   3  ...     1\n",
              "4   4  ...     1\n",
              "\n",
              "[5 rows x 5 columns]"
            ]
          },
          "metadata": {},
          "execution_count": 16
        }
      ]
    },
    {
      "cell_type": "code",
      "metadata": {
        "colab": {
          "base_uri": "https://localhost:8080/"
        },
        "id": "6NuY8L7mbXT1",
        "outputId": "680f00c6-1b18-4b5d-844d-89c3edc29160"
      },
      "source": [
        "print(\"Cantidad de elementos TRAIN:\",len(df_train.index))"
      ],
      "execution_count": 17,
      "outputs": [
        {
          "output_type": "stream",
          "name": "stdout",
          "text": [
            "Cantidad de elementos TRAIN: 20800\n"
          ]
        }
      ]
    },
    {
      "cell_type": "code",
      "metadata": {
        "colab": {
          "base_uri": "https://localhost:8080/",
          "height": 138
        },
        "id": "hvnV-tqviQnV",
        "outputId": "82ac36fd-3cd8-4a5a-fa7e-cf23ad7c59cb"
      },
      "source": [
        "display(type(df_train))\n",
        "display((df_train.count(), len(df_train.columns)))"
      ],
      "execution_count": 18,
      "outputs": [
        {
          "output_type": "display_data",
          "data": {
            "text/plain": [
              "pandas.core.frame.DataFrame"
            ]
          },
          "metadata": {}
        },
        {
          "output_type": "display_data",
          "data": {
            "text/plain": [
              "(id        20800\n",
              " title     20242\n",
              " author    18843\n",
              " text      20761\n",
              " label     20800\n",
              " dtype: int64, 5)"
            ]
          },
          "metadata": {}
        }
      ]
    },
    {
      "cell_type": "code",
      "metadata": {
        "id": "kE8p33E8imox"
      },
      "source": [
        "df_train = df_train[df_train.text.notna()]"
      ],
      "execution_count": 19,
      "outputs": []
    },
    {
      "cell_type": "markdown",
      "metadata": {
        "id": "CAT0_yCsiwFR"
      },
      "source": [
        "## Test"
      ]
    },
    {
      "cell_type": "code",
      "metadata": {
        "colab": {
          "base_uri": "https://localhost:8080/",
          "height": 206
        },
        "id": "GAspB1b-eQkT",
        "outputId": "9865e6ea-e895-45d9-ed47-3f28bc3aa02a"
      },
      "source": [
        "df_test.head()"
      ],
      "execution_count": 20,
      "outputs": [
        {
          "output_type": "execute_result",
          "data": {
            "text/html": [
              "<div>\n",
              "<style scoped>\n",
              "    .dataframe tbody tr th:only-of-type {\n",
              "        vertical-align: middle;\n",
              "    }\n",
              "\n",
              "    .dataframe tbody tr th {\n",
              "        vertical-align: top;\n",
              "    }\n",
              "\n",
              "    .dataframe thead th {\n",
              "        text-align: right;\n",
              "    }\n",
              "</style>\n",
              "<table border=\"1\" class=\"dataframe\">\n",
              "  <thead>\n",
              "    <tr style=\"text-align: right;\">\n",
              "      <th></th>\n",
              "      <th>id</th>\n",
              "      <th>title</th>\n",
              "      <th>author</th>\n",
              "      <th>text</th>\n",
              "    </tr>\n",
              "  </thead>\n",
              "  <tbody>\n",
              "    <tr>\n",
              "      <th>0</th>\n",
              "      <td>20800</td>\n",
              "      <td>Specter of Trump Loosens Tongues, if Not Purse...</td>\n",
              "      <td>David Streitfeld</td>\n",
              "      <td>PALO ALTO, Calif.  —   After years of scorning...</td>\n",
              "    </tr>\n",
              "    <tr>\n",
              "      <th>1</th>\n",
              "      <td>20801</td>\n",
              "      <td>Russian warships ready to strike terrorists ne...</td>\n",
              "      <td>NaN</td>\n",
              "      <td>Russian warships ready to strike terrorists ne...</td>\n",
              "    </tr>\n",
              "    <tr>\n",
              "      <th>2</th>\n",
              "      <td>20802</td>\n",
              "      <td>#NoDAPL: Native American Leaders Vow to Stay A...</td>\n",
              "      <td>Common Dreams</td>\n",
              "      <td>Videos #NoDAPL: Native American Leaders Vow to...</td>\n",
              "    </tr>\n",
              "    <tr>\n",
              "      <th>3</th>\n",
              "      <td>20803</td>\n",
              "      <td>Tim Tebow Will Attempt Another Comeback, This ...</td>\n",
              "      <td>Daniel Victor</td>\n",
              "      <td>If at first you don’t succeed, try a different...</td>\n",
              "    </tr>\n",
              "    <tr>\n",
              "      <th>4</th>\n",
              "      <td>20804</td>\n",
              "      <td>Keiser Report: Meme Wars (E995)</td>\n",
              "      <td>Truth Broadcast Network</td>\n",
              "      <td>42 mins ago 1 Views 0 Comments 0 Likes 'For th...</td>\n",
              "    </tr>\n",
              "  </tbody>\n",
              "</table>\n",
              "</div>"
            ],
            "text/plain": [
              "      id  ...                                               text\n",
              "0  20800  ...  PALO ALTO, Calif.  —   After years of scorning...\n",
              "1  20801  ...  Russian warships ready to strike terrorists ne...\n",
              "2  20802  ...  Videos #NoDAPL: Native American Leaders Vow to...\n",
              "3  20803  ...  If at first you don’t succeed, try a different...\n",
              "4  20804  ...  42 mins ago 1 Views 0 Comments 0 Likes 'For th...\n",
              "\n",
              "[5 rows x 4 columns]"
            ]
          },
          "metadata": {},
          "execution_count": 20
        }
      ]
    },
    {
      "cell_type": "code",
      "metadata": {
        "colab": {
          "base_uri": "https://localhost:8080/"
        },
        "id": "LSRW7bBdbsw_",
        "outputId": "2d142443-fbeb-4734-ba72-54cdd58af01c"
      },
      "source": [
        "print(\"Cantidad de elementos TEST:\",len(df_test.index))"
      ],
      "execution_count": null,
      "outputs": [
        {
          "output_type": "stream",
          "name": "stdout",
          "text": [
            "Cantidad de elementos TEST: 5200\n"
          ]
        }
      ]
    },
    {
      "cell_type": "code",
      "metadata": {
        "colab": {
          "base_uri": "https://localhost:8080/",
          "height": 121
        },
        "id": "z_4aPJiGhvmw",
        "outputId": "e34bb631-2cd8-463f-f22f-de1770cf6585"
      },
      "source": [
        "display(type(df_test))\n",
        "display((df_test.count(), len(df_test.columns)))"
      ],
      "execution_count": 21,
      "outputs": [
        {
          "output_type": "display_data",
          "data": {
            "text/plain": [
              "pandas.core.frame.DataFrame"
            ]
          },
          "metadata": {}
        },
        {
          "output_type": "display_data",
          "data": {
            "text/plain": [
              "(id        5200\n",
              " title     5078\n",
              " author    4697\n",
              " text      5193\n",
              " dtype: int64, 4)"
            ]
          },
          "metadata": {}
        }
      ]
    },
    {
      "cell_type": "code",
      "metadata": {
        "id": "B0vsrHsKhzQw"
      },
      "source": [
        "df_test = df_test[df_test.text.notna()]\n"
      ],
      "execution_count": null,
      "outputs": []
    },
    {
      "cell_type": "markdown",
      "metadata": {
        "id": "IRfepokrhoT8"
      },
      "source": [
        "## DASK: lecturas"
      ]
    },
    {
      "cell_type": "code",
      "metadata": {
        "id": "NxCWHSF6ybY1"
      },
      "source": [
        "import dask.dataframe as dd #"
      ],
      "execution_count": 22,
      "outputs": []
    },
    {
      "cell_type": "markdown",
      "metadata": {
        "id": "wzLV1WCRg91T"
      },
      "source": [
        "### Submit\n"
      ]
    },
    {
      "cell_type": "code",
      "metadata": {
        "colab": {
          "base_uri": "https://localhost:8080/"
        },
        "id": "4kKdPBf0yNbL",
        "outputId": "b7defc97-4470-4263-c3d2-c265f648ba5e"
      },
      "source": [
        "%%time\n",
        "start = time.time()\n",
        "ddf_submit = dd.from_pandas(df_submit, npartitions = 2) \n",
        "ddf_submit.compute()\n",
        "#print(psutil.Process().memory_info().rss / (1024 * 1024))\n",
        "\n"
      ],
      "execution_count": 23,
      "outputs": [
        {
          "output_type": "stream",
          "name": "stdout",
          "text": [
            "CPU times: user 6.57 ms, sys: 1.69 ms, total: 8.26 ms\n",
            "Wall time: 15 ms\n"
          ]
        }
      ]
    },
    {
      "cell_type": "markdown",
      "metadata": {
        "id": "aFMIBwu4ypoj"
      },
      "source": [
        "### Train"
      ]
    },
    {
      "cell_type": "code",
      "metadata": {
        "colab": {
          "base_uri": "https://localhost:8080/"
        },
        "id": "PS-cwXS8ueNQ",
        "outputId": "443ddfeb-609c-46b6-ac8a-cf2b7b4cd863"
      },
      "source": [
        "%%time\n",
        "ddf_train = dd.from_pandas(df_train, npartitions = 2)\n",
        "ddf_train.compute()\n",
        "#print(psutil.Process().memory_info().rss / (1024 * 1024))\n"
      ],
      "execution_count": 24,
      "outputs": [
        {
          "output_type": "stream",
          "name": "stdout",
          "text": [
            "CPU times: user 573 ms, sys: 184 ms, total: 757 ms\n",
            "Wall time: 1.23 s\n"
          ]
        }
      ]
    },
    {
      "cell_type": "code",
      "metadata": {
        "colab": {
          "base_uri": "https://localhost:8080/"
        },
        "id": "lxAPTfwIXqZ1",
        "outputId": "bd097f2f-1092-41ee-8338-6aa920dd9d35"
      },
      "source": [
        "len(ddf_train.index)\n",
        "\n"
      ],
      "execution_count": null,
      "outputs": [
        {
          "output_type": "execute_result",
          "data": {
            "text/plain": [
              "20800"
            ]
          },
          "metadata": {},
          "execution_count": 18
        }
      ]
    },
    {
      "cell_type": "markdown",
      "metadata": {
        "id": "Xql6EEfAy02r"
      },
      "source": [
        "### Test"
      ]
    },
    {
      "cell_type": "code",
      "metadata": {
        "colab": {
          "base_uri": "https://localhost:8080/"
        },
        "id": "eeQp6Zg4y688",
        "outputId": "92d90fe9-c5a6-495e-af16-27c3338475f6"
      },
      "source": [
        "%%time\n",
        "ddf_test = dd.from_pandas(df_test, npartitions = 2)\n",
        "ddf_test.compute()\n",
        "#print(psutil.Process().memory_info().rss / (1024 * 1024))\n"
      ],
      "execution_count": 25,
      "outputs": [
        {
          "output_type": "stream",
          "name": "stdout",
          "text": [
            "CPU times: user 161 ms, sys: 172 µs, total: 161 ms\n",
            "Wall time: 305 ms\n"
          ]
        }
      ]
    },
    {
      "cell_type": "markdown",
      "metadata": {
        "id": "g8mYrws2zgog"
      },
      "source": [
        "## DASK: Union Test y Submit"
      ]
    },
    {
      "cell_type": "code",
      "metadata": {
        "colab": {
          "base_uri": "https://localhost:8080/",
          "height": 423
        },
        "id": "q3bIdfrIA58b",
        "outputId": "ad5eda31-e9fe-4063-9129-551ce64c2592"
      },
      "source": [
        "ddf_submit.compute()\n"
      ],
      "execution_count": 26,
      "outputs": [
        {
          "output_type": "execute_result",
          "data": {
            "text/html": [
              "<div>\n",
              "<style scoped>\n",
              "    .dataframe tbody tr th:only-of-type {\n",
              "        vertical-align: middle;\n",
              "    }\n",
              "\n",
              "    .dataframe tbody tr th {\n",
              "        vertical-align: top;\n",
              "    }\n",
              "\n",
              "    .dataframe thead th {\n",
              "        text-align: right;\n",
              "    }\n",
              "</style>\n",
              "<table border=\"1\" class=\"dataframe\">\n",
              "  <thead>\n",
              "    <tr style=\"text-align: right;\">\n",
              "      <th></th>\n",
              "      <th>id</th>\n",
              "      <th>label</th>\n",
              "    </tr>\n",
              "  </thead>\n",
              "  <tbody>\n",
              "    <tr>\n",
              "      <th>0</th>\n",
              "      <td>20800</td>\n",
              "      <td>0</td>\n",
              "    </tr>\n",
              "    <tr>\n",
              "      <th>1</th>\n",
              "      <td>20801</td>\n",
              "      <td>1</td>\n",
              "    </tr>\n",
              "    <tr>\n",
              "      <th>2</th>\n",
              "      <td>20802</td>\n",
              "      <td>0</td>\n",
              "    </tr>\n",
              "    <tr>\n",
              "      <th>3</th>\n",
              "      <td>20803</td>\n",
              "      <td>1</td>\n",
              "    </tr>\n",
              "    <tr>\n",
              "      <th>4</th>\n",
              "      <td>20804</td>\n",
              "      <td>1</td>\n",
              "    </tr>\n",
              "    <tr>\n",
              "      <th>...</th>\n",
              "      <td>...</td>\n",
              "      <td>...</td>\n",
              "    </tr>\n",
              "    <tr>\n",
              "      <th>5195</th>\n",
              "      <td>25995</td>\n",
              "      <td>0</td>\n",
              "    </tr>\n",
              "    <tr>\n",
              "      <th>5196</th>\n",
              "      <td>25996</td>\n",
              "      <td>1</td>\n",
              "    </tr>\n",
              "    <tr>\n",
              "      <th>5197</th>\n",
              "      <td>25997</td>\n",
              "      <td>0</td>\n",
              "    </tr>\n",
              "    <tr>\n",
              "      <th>5198</th>\n",
              "      <td>25998</td>\n",
              "      <td>1</td>\n",
              "    </tr>\n",
              "    <tr>\n",
              "      <th>5199</th>\n",
              "      <td>25999</td>\n",
              "      <td>0</td>\n",
              "    </tr>\n",
              "  </tbody>\n",
              "</table>\n",
              "<p>5200 rows × 2 columns</p>\n",
              "</div>"
            ],
            "text/plain": [
              "         id  label\n",
              "0     20800      0\n",
              "1     20801      1\n",
              "2     20802      0\n",
              "3     20803      1\n",
              "4     20804      1\n",
              "...     ...    ...\n",
              "5195  25995      0\n",
              "5196  25996      1\n",
              "5197  25997      0\n",
              "5198  25998      1\n",
              "5199  25999      0\n",
              "\n",
              "[5200 rows x 2 columns]"
            ]
          },
          "metadata": {},
          "execution_count": 26
        }
      ]
    },
    {
      "cell_type": "code",
      "metadata": {
        "colab": {
          "base_uri": "https://localhost:8080/"
        },
        "id": "DFaFV2h6wOUh",
        "outputId": "b17279a2-5f3d-4a17-c0d9-4df42df89ef1"
      },
      "source": [
        "#type(ddf_submit)\n",
        "#type(ddf_test_not_null)\n",
        "#ddf_test_merge_submit = ddf_submit.merge(ddf_test, on=\"id\")\n",
        "%%time\n",
        "ddf_test_merge_submit =  ddf_test.merge(ddf_submit, on=\"id\")\n",
        "print(psutil.Process().memory_info().rss / (1024 * 1024))\n"
      ],
      "execution_count": 27,
      "outputs": [
        {
          "output_type": "stream",
          "name": "stdout",
          "text": [
            "681.9609375\n",
            "CPU times: user 28.6 ms, sys: 14.9 ms, total: 43.5 ms\n",
            "Wall time: 58.6 ms\n"
          ]
        }
      ]
    },
    {
      "cell_type": "code",
      "metadata": {
        "colab": {
          "base_uri": "https://localhost:8080/"
        },
        "id": "aFHa6-ndFSMg",
        "outputId": "9f87c53f-cc18-4da0-d0cc-d32716797e08"
      },
      "source": [
        "!pip install partd #"
      ],
      "execution_count": 28,
      "outputs": [
        {
          "output_type": "stream",
          "name": "stdout",
          "text": [
            "Collecting partd\n",
            "  Downloading partd-1.2.0-py3-none-any.whl (19 kB)\n",
            "Collecting locket\n",
            "  Downloading locket-0.2.1-py2.py3-none-any.whl (4.1 kB)\n",
            "Requirement already satisfied: toolz in /usr/local/lib/python3.7/dist-packages (from partd) (0.11.2)\n",
            "Installing collected packages: locket, partd\n",
            "Successfully installed locket-0.2.1 partd-1.2.0\n"
          ]
        }
      ]
    },
    {
      "cell_type": "code",
      "metadata": {
        "colab": {
          "base_uri": "https://localhost:8080/",
          "height": 423
        },
        "id": "Ef1E-AfgFaeF",
        "outputId": "b075e228-df44-4f3c-dd2c-98ca61f7290c"
      },
      "source": [
        "ddf_test_merge_submit.compute()"
      ],
      "execution_count": 29,
      "outputs": [
        {
          "output_type": "execute_result",
          "data": {
            "text/html": [
              "<div>\n",
              "<style scoped>\n",
              "    .dataframe tbody tr th:only-of-type {\n",
              "        vertical-align: middle;\n",
              "    }\n",
              "\n",
              "    .dataframe tbody tr th {\n",
              "        vertical-align: top;\n",
              "    }\n",
              "\n",
              "    .dataframe thead th {\n",
              "        text-align: right;\n",
              "    }\n",
              "</style>\n",
              "<table border=\"1\" class=\"dataframe\">\n",
              "  <thead>\n",
              "    <tr style=\"text-align: right;\">\n",
              "      <th></th>\n",
              "      <th>id</th>\n",
              "      <th>title</th>\n",
              "      <th>author</th>\n",
              "      <th>text</th>\n",
              "      <th>label</th>\n",
              "    </tr>\n",
              "  </thead>\n",
              "  <tbody>\n",
              "    <tr>\n",
              "      <th>0</th>\n",
              "      <td>20800</td>\n",
              "      <td>Specter of Trump Loosens Tongues, if Not Purse...</td>\n",
              "      <td>David Streitfeld</td>\n",
              "      <td>PALO ALTO, Calif.  —   After years of scorning...</td>\n",
              "      <td>0</td>\n",
              "    </tr>\n",
              "    <tr>\n",
              "      <th>1</th>\n",
              "      <td>20801</td>\n",
              "      <td>Russian warships ready to strike terrorists ne...</td>\n",
              "      <td>NaN</td>\n",
              "      <td>Russian warships ready to strike terrorists ne...</td>\n",
              "      <td>1</td>\n",
              "    </tr>\n",
              "    <tr>\n",
              "      <th>2</th>\n",
              "      <td>20804</td>\n",
              "      <td>Keiser Report: Meme Wars (E995)</td>\n",
              "      <td>Truth Broadcast Network</td>\n",
              "      <td>42 mins ago 1 Views 0 Comments 0 Likes 'For th...</td>\n",
              "      <td>1</td>\n",
              "    </tr>\n",
              "    <tr>\n",
              "      <th>3</th>\n",
              "      <td>20811</td>\n",
              "      <td>“Working Class Hero” by John Brennon</td>\n",
              "      <td>Doug Diamond</td>\n",
              "      <td>Source: CNBC, article by Robert Ferris Arctic ...</td>\n",
              "      <td>1</td>\n",
              "    </tr>\n",
              "    <tr>\n",
              "      <th>4</th>\n",
              "      <td>20812</td>\n",
              "      <td>The Rise of Mandatory Vaccinations Means the E...</td>\n",
              "      <td>Shaun Bradley</td>\n",
              "      <td>Written by Shaun Bradley   Mandatory vaccinati...</td>\n",
              "      <td>0</td>\n",
              "    </tr>\n",
              "    <tr>\n",
              "      <th>...</th>\n",
              "      <td>...</td>\n",
              "      <td>...</td>\n",
              "      <td>...</td>\n",
              "      <td>...</td>\n",
              "      <td>...</td>\n",
              "    </tr>\n",
              "    <tr>\n",
              "      <th>2571</th>\n",
              "      <td>25991</td>\n",
              "      <td>E3 Hands-On with ’South Park: The Fractured bu...</td>\n",
              "      <td>Lucas Nolan</td>\n",
              "      <td>The title of South Park: The Fractured but Who...</td>\n",
              "      <td>1</td>\n",
              "    </tr>\n",
              "    <tr>\n",
              "      <th>2572</th>\n",
              "      <td>25996</td>\n",
              "      <td>John Kasich Signs One Abortion Bill in Ohio bu...</td>\n",
              "      <td>Sheryl Gay Stolberg</td>\n",
              "      <td>WASHINGTON  —   Gov. John Kasich of Ohio on Tu...</td>\n",
              "      <td>1</td>\n",
              "    </tr>\n",
              "    <tr>\n",
              "      <th>2573</th>\n",
              "      <td>25997</td>\n",
              "      <td>California Today: What, Exactly, Is in Your Su...</td>\n",
              "      <td>Mike McPhate</td>\n",
              "      <td>Good morning. (Want to get California Today by...</td>\n",
              "      <td>0</td>\n",
              "    </tr>\n",
              "    <tr>\n",
              "      <th>2574</th>\n",
              "      <td>25998</td>\n",
              "      <td>300 US Marines To Be Deployed To Russian Borde...</td>\n",
              "      <td>NaN</td>\n",
              "      <td>« Previous - Next » 300 US Marines To Be Deplo...</td>\n",
              "      <td>1</td>\n",
              "    </tr>\n",
              "    <tr>\n",
              "      <th>2575</th>\n",
              "      <td>25999</td>\n",
              "      <td>Awkward Sex, Onscreen and Off - The New York T...</td>\n",
              "      <td>Teddy Wayne</td>\n",
              "      <td>Perhaps you’ve seen the new TV series whose pi...</td>\n",
              "      <td>0</td>\n",
              "    </tr>\n",
              "  </tbody>\n",
              "</table>\n",
              "<p>5200 rows × 5 columns</p>\n",
              "</div>"
            ],
            "text/plain": [
              "         id  ... label\n",
              "0     20800  ...     0\n",
              "1     20801  ...     1\n",
              "2     20804  ...     1\n",
              "3     20811  ...     1\n",
              "4     20812  ...     0\n",
              "...     ...  ...   ...\n",
              "2571  25991  ...     1\n",
              "2572  25996  ...     1\n",
              "2573  25997  ...     0\n",
              "2574  25998  ...     1\n",
              "2575  25999  ...     0\n",
              "\n",
              "[5200 rows x 5 columns]"
            ]
          },
          "metadata": {},
          "execution_count": 29
        }
      ]
    },
    {
      "cell_type": "markdown",
      "metadata": {
        "id": "LlnSHcH3DyGp"
      },
      "source": [
        "## DASK: remover valores null de train y test"
      ]
    },
    {
      "cell_type": "markdown",
      "metadata": {
        "id": "Bxb9i3RYUcys"
      },
      "source": [
        "1.   Test\n",
        "\n"
      ]
    },
    {
      "cell_type": "code",
      "metadata": {
        "id": "4eFIzScQFBqK"
      },
      "source": [
        "#ddf_test_merge_submit['text'].notnull().compute()"
      ],
      "execution_count": null,
      "outputs": []
    },
    {
      "cell_type": "code",
      "metadata": {
        "colab": {
          "base_uri": "https://localhost:8080/"
        },
        "id": "L_nBBsa2FU6o",
        "outputId": "c6435a03-7388-4df2-ad1a-0e2bac3e9da2"
      },
      "source": [
        "%%time\n",
        "ddf_test_not_null = ddf_test_merge_submit[ddf_test_merge_submit['text'].notnull()].compute() \n",
        "ddf_test_not_null\n",
        "print(psutil.Process().memory_info().rss / (1024 * 1024))\n"
      ],
      "execution_count": 30,
      "outputs": [
        {
          "output_type": "stream",
          "name": "stdout",
          "text": [
            "689.16796875\n",
            "CPU times: user 168 ms, sys: 24.8 ms, total: 192 ms\n",
            "Wall time: 184 ms\n"
          ]
        }
      ]
    },
    {
      "cell_type": "code",
      "metadata": {
        "colab": {
          "base_uri": "https://localhost:8080/"
        },
        "id": "RB1YMiKNFsBr",
        "outputId": "93c39a9f-a206-41d4-c79a-60b51b83fdfd"
      },
      "source": [
        " print(\"Datos originales:\", len(ddf_test), len(ddf_test.columns))\n",
        " print(\"Datos ddf_test_not_null:\", len(ddf_test_not_null), len(ddf_test_not_null.columns))"
      ],
      "execution_count": 31,
      "outputs": [
        {
          "output_type": "stream",
          "name": "stdout",
          "text": [
            "Datos originales: 5200 4\n",
            "Datos ddf_test_not_null: 5193 5\n"
          ]
        }
      ]
    },
    {
      "cell_type": "code",
      "source": [
        "ddf_test_not_null = ddf_test_not_null.reset_index().drop_duplicates(subset='index', keep='last').set_index('index').sort_index()\n"
      ],
      "metadata": {
        "id": "ijEoRXuTtIVc"
      },
      "execution_count": 32,
      "outputs": []
    },
    {
      "cell_type": "code",
      "source": [
        "ddf_test_not_null.index.duplicated()"
      ],
      "metadata": {
        "colab": {
          "base_uri": "https://localhost:8080/"
        },
        "id": "Bxvf2CxWtLLP",
        "outputId": "5df348e2-60ff-470a-cb4a-2cae4471ee1a"
      },
      "execution_count": 33,
      "outputs": [
        {
          "output_type": "execute_result",
          "data": {
            "text/plain": [
              "array([False, False, False, ..., False, False, False])"
            ]
          },
          "metadata": {},
          "execution_count": 33
        }
      ]
    },
    {
      "cell_type": "markdown",
      "metadata": {
        "id": "PrBRXqdvUZQ9"
      },
      "source": [
        "1.  Train"
      ]
    },
    {
      "cell_type": "code",
      "metadata": {
        "id": "RQyzwe9sUYbE"
      },
      "source": [
        "#ddf_train['text'].notnull().compute()"
      ],
      "execution_count": null,
      "outputs": []
    },
    {
      "cell_type": "code",
      "metadata": {
        "colab": {
          "base_uri": "https://localhost:8080/"
        },
        "id": "8gbwdL_OVJ53",
        "outputId": "6a644cca-561d-41c7-fdf3-a52a13b97f37"
      },
      "source": [
        "%%time\n",
        "ddf_train_not_null = ddf_train[ddf_train['text'].notnull()].compute() \n",
        "ddf_train_not_null\n",
        "print(\"memoria:\",psutil.Process().memory_info().rss / (1024 * 1024))"
      ],
      "execution_count": 34,
      "outputs": [
        {
          "output_type": "stream",
          "name": "stdout",
          "text": [
            "memoria: 689.3828125\n",
            "CPU times: user 26 ms, sys: 14.4 ms, total: 40.4 ms\n",
            "Wall time: 49.4 ms\n"
          ]
        }
      ]
    },
    {
      "cell_type": "code",
      "metadata": {
        "colab": {
          "base_uri": "https://localhost:8080/"
        },
        "id": "uoPK-e67VSIK",
        "outputId": "d456ee0c-e0d1-4753-e40f-91081383d9a4"
      },
      "source": [
        " print(\"Datos originales:\", len(ddf_train), len(ddf_train.columns))\n",
        " print(\"Datos ddf_train_not_null:\", len(ddf_train_not_null), len(ddf_train_not_null.columns))"
      ],
      "execution_count": 35,
      "outputs": [
        {
          "output_type": "stream",
          "name": "stdout",
          "text": [
            "Datos originales: 20761 5\n",
            "Datos ddf_train_not_null: 20761 5\n"
          ]
        }
      ]
    },
    {
      "cell_type": "markdown",
      "metadata": {
        "id": "NhmO1QlwTeGl"
      },
      "source": [
        "## DASK: pre procesamiento"
      ]
    },
    {
      "cell_type": "code",
      "source": [
        "ddf_test_not_null[\"text\"]"
      ],
      "metadata": {
        "colab": {
          "base_uri": "https://localhost:8080/"
        },
        "id": "vOEtf9i2jbFF",
        "outputId": "efb3e46a-7a92-45a8-b2a9-eab57c9f7aed"
      },
      "execution_count": 36,
      "outputs": [
        {
          "output_type": "execute_result",
          "data": {
            "text/plain": [
              "index\n",
              "0       Videos #NoDAPL: Native American Leaders Vow to...\n",
              "1       If at first you don’t succeed, try a different...\n",
              "2       Trump is USA's antique hero. Clinton will be n...\n",
              "3       Sunday on NBC’s “Meet the Press,” House Minori...\n",
              "4       You are here: Home / *Articles of the Bound* /...\n",
              "                              ...                        \n",
              "2619    Dr. Caleb Alexander knows how easily older peo...\n",
              "2620    Earth To Ammosexuals: NRA Admits No One Is Com...\n",
              "2621    Public concern about faulty automobile airbags...\n",
              "2622    Pres. Trump on if “tapes” exist of his convers...\n",
              "2623    Of all the dysfunctions that plague the world’...\n",
              "Name: text, Length: 2624, dtype: object"
            ]
          },
          "metadata": {},
          "execution_count": 36
        }
      ]
    },
    {
      "cell_type": "code",
      "source": [
        "ddf_test_not_null[\"text\"]\n",
        "#ddf_test_not_null"
      ],
      "metadata": {
        "colab": {
          "base_uri": "https://localhost:8080/"
        },
        "id": "xqka63lxmfHw",
        "outputId": "ed4607b4-da2e-4ecc-ddd4-d8ca513f5c68"
      },
      "execution_count": 37,
      "outputs": [
        {
          "output_type": "execute_result",
          "data": {
            "text/plain": [
              "index\n",
              "0       Videos #NoDAPL: Native American Leaders Vow to...\n",
              "1       If at first you don’t succeed, try a different...\n",
              "2       Trump is USA's antique hero. Clinton will be n...\n",
              "3       Sunday on NBC’s “Meet the Press,” House Minori...\n",
              "4       You are here: Home / *Articles of the Bound* /...\n",
              "                              ...                        \n",
              "2619    Dr. Caleb Alexander knows how easily older peo...\n",
              "2620    Earth To Ammosexuals: NRA Admits No One Is Com...\n",
              "2621    Public concern about faulty automobile airbags...\n",
              "2622    Pres. Trump on if “tapes” exist of his convers...\n",
              "2623    Of all the dysfunctions that plague the world’...\n",
              "Name: text, Length: 2624, dtype: object"
            ]
          },
          "metadata": {},
          "execution_count": 37
        }
      ]
    },
    {
      "cell_type": "code",
      "metadata": {
        "colab": {
          "base_uri": "https://localhost:8080/"
        },
        "id": "sVnIqcZRTg17",
        "outputId": "7b0195fe-65ef-47f9-dfd7-6ed4936dcbc7"
      },
      "source": [
        "ddf_train_not_null[\"text\"]"
      ],
      "execution_count": 38,
      "outputs": [
        {
          "output_type": "execute_result",
          "data": {
            "text/plain": [
              "0        House Dem Aide: We Didn’t Even See Comey’s Let...\n",
              "1        Ever get the feeling your life circles the rou...\n",
              "2        Why the Truth Might Get You Fired October 29, ...\n",
              "3        Videos 15 Civilians Killed In Single US Airstr...\n",
              "4        Print \\nAn Iranian woman has been sentenced to...\n",
              "                               ...                        \n",
              "20795    Rapper T. I. unloaded on black celebrities who...\n",
              "20796    When the Green Bay Packers lost to the Washing...\n",
              "20797    The Macy’s of today grew from the union of sev...\n",
              "20798    NATO, Russia To Hold Parallel Exercises In Bal...\n",
              "20799      David Swanson is an author, activist, journa...\n",
              "Name: text, Length: 20761, dtype: object"
            ]
          },
          "metadata": {},
          "execution_count": 38
        }
      ]
    },
    {
      "cell_type": "code",
      "source": [
        "pip install emoji"
      ],
      "metadata": {
        "colab": {
          "base_uri": "https://localhost:8080/"
        },
        "id": "BzJmQ8xKddIX",
        "outputId": "1ff98e22-cb3d-4355-e8d6-d94821b72640"
      },
      "execution_count": 39,
      "outputs": [
        {
          "output_type": "stream",
          "name": "stdout",
          "text": [
            "Collecting emoji\n",
            "  Downloading emoji-1.6.1.tar.gz (170 kB)\n",
            "\u001b[?25l\r\u001b[K     |██                              | 10 kB 16.7 MB/s eta 0:00:01\r\u001b[K     |███▉                            | 20 kB 14.1 MB/s eta 0:00:01\r\u001b[K     |█████▉                          | 30 kB 9.8 MB/s eta 0:00:01\r\u001b[K     |███████▊                        | 40 kB 8.5 MB/s eta 0:00:01\r\u001b[K     |█████████▋                      | 51 kB 7.8 MB/s eta 0:00:01\r\u001b[K     |███████████▋                    | 61 kB 7.7 MB/s eta 0:00:01\r\u001b[K     |█████████████▌                  | 71 kB 6.8 MB/s eta 0:00:01\r\u001b[K     |███████████████▍                | 81 kB 7.5 MB/s eta 0:00:01\r\u001b[K     |█████████████████▍              | 92 kB 7.6 MB/s eta 0:00:01\r\u001b[K     |███████████████████▎            | 102 kB 7.8 MB/s eta 0:00:01\r\u001b[K     |█████████████████████▏          | 112 kB 7.8 MB/s eta 0:00:01\r\u001b[K     |███████████████████████▏        | 122 kB 7.8 MB/s eta 0:00:01\r\u001b[K     |█████████████████████████       | 133 kB 7.8 MB/s eta 0:00:01\r\u001b[K     |███████████████████████████     | 143 kB 7.8 MB/s eta 0:00:01\r\u001b[K     |█████████████████████████████   | 153 kB 7.8 MB/s eta 0:00:01\r\u001b[K     |██████████████████████████████▉ | 163 kB 7.8 MB/s eta 0:00:01\r\u001b[K     |████████████████████████████████| 170 kB 7.8 MB/s \n",
            "\u001b[?25hBuilding wheels for collected packages: emoji\n",
            "  Building wheel for emoji (setup.py) ... \u001b[?25l\u001b[?25hdone\n",
            "  Created wheel for emoji: filename=emoji-1.6.1-py3-none-any.whl size=169314 sha256=d43fd1d4bc9405472a3b4305a800d695eeb087928be467bba116bdab6b16a2b6\n",
            "  Stored in directory: /root/.cache/pip/wheels/ea/5f/d3/03d313ddb3c2a1a427bb4690f1621eea60fe6f2a30cc95940f\n",
            "Successfully built emoji\n",
            "Installing collected packages: emoji\n",
            "Successfully installed emoji-1.6.1\n"
          ]
        }
      ]
    },
    {
      "cell_type": "code",
      "source": [
        "from nltk.corpus import stopwords\n",
        "from nltk.tokenize import word_tokenize\n",
        "from sklearn.feature_extraction.text import TfidfVectorizer\n",
        "import re\n",
        "import string"
      ],
      "metadata": {
        "id": "MjLNcoGMgp3z"
      },
      "execution_count": 40,
      "outputs": []
    },
    {
      "cell_type": "code",
      "source": [
        "import nltk\n",
        "nltk.download('stopwords')\n",
        "nltk.download('punkt')"
      ],
      "metadata": {
        "colab": {
          "base_uri": "https://localhost:8080/"
        },
        "id": "_B5jrml_dEpd",
        "outputId": "fc44f2da-1d83-4f5e-8913-b31d15ca8470"
      },
      "execution_count": 43,
      "outputs": [
        {
          "output_type": "stream",
          "name": "stdout",
          "text": [
            "[nltk_data] Downloading package stopwords to /root/nltk_data...\n",
            "[nltk_data]   Unzipping corpora/stopwords.zip.\n",
            "[nltk_data] Downloading package punkt to /root/nltk_data...\n",
            "[nltk_data]   Unzipping tokenizers/punkt.zip.\n"
          ]
        },
        {
          "output_type": "execute_result",
          "data": {
            "text/plain": [
              "True"
            ]
          },
          "metadata": {},
          "execution_count": 43
        }
      ]
    },
    {
      "cell_type": "code",
      "source": [
        "stop_words = set(stopwords.words('english'))\n",
        "print(stop_words)"
      ],
      "metadata": {
        "colab": {
          "base_uri": "https://localhost:8080/"
        },
        "id": "7j3XtfQldIkQ",
        "outputId": "c758fc16-49c1-4fc7-d282-e10dc8c238b5"
      },
      "execution_count": 44,
      "outputs": [
        {
          "output_type": "stream",
          "name": "stdout",
          "text": [
            "{'o', \"wouldn't\", 'whom', 'did', 'or', \"aren't\", 'a', \"won't\", 'was', 'then', 'below', 'who', 'do', 'in', 'theirs', 'that', 'their', 'had', \"shouldn't\", 'yourselves', \"mustn't\", \"doesn't\", 'of', 'against', \"you'll\", 'own', 'and', 'couldn', 'yourself', \"you'd\", 'shan', 'hers', 'this', 'has', 'over', 'through', 'm', 'most', 'more', 'hadn', 'down', \"haven't\", 'his', 'haven', 'those', 'which', 'are', 'myself', 'again', 'd', 'ours', 'these', 'with', 'than', 've', 'were', 'we', 'but', 'them', 'before', 'hasn', 't', 'shouldn', 'been', 'will', 'wouldn', 'is', \"shan't\", 'out', \"don't\", \"hasn't\", 'between', 'all', 'itself', \"weren't\", 'll', 's', 'y', 'why', 'such', 'won', 'isn', 'being', 'at', 'weren', 'ain', 'aren', 'so', \"it's\", 'its', 'don', 'him', 'having', 'under', 'they', 'ourselves', 'as', \"should've\", 'our', 're', 'few', \"wasn't\", 'doing', 'now', 'where', 'it', 'if', 'into', 'she', 'does', 'should', 'when', 'any', 'some', 'your', 'while', 'after', \"she's\", \"isn't\", \"couldn't\", 'once', 'doesn', \"hadn't\", 'up', 'i', 'both', 'not', 'on', 'for', 'here', 'he', 'wasn', \"that'll\", 'himself', 'what', 'mightn', 'during', 'just', 'very', 'only', 'same', 'can', 'there', 'didn', \"needn't\", 'am', 'my', 'me', 'you', \"mightn't\", 'from', 'needn', 'her', 'nor', \"you're\", 'be', 'the', 'have', 'other', 'above', 'ma', 'further', 'herself', 'too', \"didn't\", 'by', 'to', 'no', \"you've\", 'mustn', 'an', 'until', 'how', 'because', 'yours', 'themselves', 'off', 'each', 'about'}\n"
          ]
        }
      ]
    },
    {
      "cell_type": "code",
      "source": [
        "import emoji\n",
        "def give_emoji_free_text(text): \n",
        "    return emoji.get_emoji_regexp().sub(r'', text)"
      ],
      "metadata": {
        "id": "s9_RNmy1dLE7"
      },
      "execution_count": 45,
      "outputs": []
    },
    {
      "cell_type": "code",
      "source": [
        "def preprocess_new_text(tweet):\n",
        "  emoticon_string = r\"\"\"\n",
        "  (?:\n",
        "    [<>]?\n",
        "    [:;=8]                     \n",
        "    [\\-o\\*\\']?                 \n",
        "    [\\)\\]\\(\\[dDpP/\\:\\}\\{@\\|\\\\]       \n",
        "    |\n",
        "    [\\)\\]\\(\\[dDpP/\\:\\}\\{@\\|\\\\]\n",
        "    [\\-o\\*\\']?                 \n",
        "    [:;=8]                     \n",
        "    [<>]?\n",
        "  )\"\"\"\n",
        "\n",
        "  replacements = (\n",
        "    (\"á\", \"a\"),\n",
        "    (\"é\", \"e\"),\n",
        "    (\"í\", \"i\"),\n",
        "    (\"ó\", \"o\"),\n",
        "    (\"ú\", \"u\"),\n",
        "  )\n",
        "\n",
        "  tweet = str(tweet)\n",
        "  tweet = tweet.lower()\n",
        "  # Remove urls\n",
        "  tweet = re.sub(r\"http\\S+|www\\S+|https\\S+\", '', tweet, flags=re.MULTILINE)\n",
        "  # Remove user @ references and '#' from tweet\n",
        "  tweet = re.sub(r'\\@\\w+|\\#','', tweet)\n",
        "  # Remove user ¿ and ¡ from tweet\n",
        "  tweet = re.sub(r'\\¿|\\¡|\\?|\\!','', tweet)\n",
        "  # Remove punctuations\n",
        "  tweet = tweet.translate(str.maketrans('', '', string.punctuation))\n",
        "  # remove graphical emoji\n",
        "  tweet = give_emoji_free_text(tweet) \n",
        "  # remove textual emoji\n",
        "  tweet = re.sub(emoticon_string,'',tweet)\n",
        "  #remove accent mark\n",
        "  for a, b in replacements:\n",
        "    tweet = tweet.replace(a, b)\n",
        "\n",
        "  # Remove stopwords\n",
        "  tweet_tokens = word_tokenize(tweet)\n",
        "  filtered_words = [w for w in tweet_tokens if not w in stop_words]\n",
        "    \n",
        "  return \" \".join(filtered_words)"
      ],
      "metadata": {
        "id": "bJnELExUdjCU"
      },
      "execution_count": 46,
      "outputs": []
    },
    {
      "cell_type": "code",
      "source": [
        "%%time\n",
        "df_train.text = ddf_train_not_null[\"text\"].apply(preprocess_new_text)\n",
        "print(psutil.Process().memory_info().rss / (1024 * 1024))"
      ],
      "metadata": {
        "colab": {
          "base_uri": "https://localhost:8080/"
        },
        "id": "QMEgHIg_fn2p",
        "outputId": "1bf6cdb7-189d-49cd-8ba2-bc5693252c1a"
      },
      "execution_count": 47,
      "outputs": [
        {
          "output_type": "stream",
          "name": "stdout",
          "text": [
            "813.25\n",
            "CPU times: user 9min 29s, sys: 1.36 s, total: 9min 30s\n",
            "Wall time: 9min 45s\n"
          ]
        }
      ]
    },
    {
      "cell_type": "code",
      "source": [
        "df_train[\"text\"]"
      ],
      "metadata": {
        "colab": {
          "base_uri": "https://localhost:8080/"
        },
        "id": "v3nuFqevkgkv",
        "outputId": "8b1d5ead-b715-485f-b74a-5931e3d119c4"
      },
      "execution_count": 48,
      "outputs": [
        {
          "output_type": "execute_result",
          "data": {
            "text/plain": [
              "0        house dem aide ’ even see comey ’ letter jason...\n",
              "1        ever get feeling life circles roundabout rathe...\n",
              "2        truth might get fired october 29 2016 tension ...\n",
              "3        videos 15 civilians killed single us airstrike...\n",
              "4        print iranian woman sentenced six years prison...\n",
              "                               ...                        \n",
              "20795    rapper unloaded black celebrities met donald t...\n",
              "20796    green bay packers lost washington redskins wee...\n",
              "20797    macy ’ today grew union several great names am...\n",
              "20798    nato russia hold parallel exercises balkans 11...\n",
              "20799    david swanson author activist journalist radio...\n",
              "Name: text, Length: 20761, dtype: object"
            ]
          },
          "metadata": {},
          "execution_count": 48
        }
      ]
    },
    {
      "cell_type": "code",
      "source": [
        "%%time\n",
        "df_test.text = ddf_test_not_null[\"text\"].apply(preprocess_new_text)\n",
        "print(psutil.Process().memory_info().rss / (1024 * 1024))\n"
      ],
      "metadata": {
        "colab": {
          "base_uri": "https://localhost:8080/"
        },
        "id": "DcKpONq8kyMk",
        "outputId": "13735a1e-2503-4889-fb8f-09272e933b7e"
      },
      "execution_count": 49,
      "outputs": [
        {
          "output_type": "stream",
          "name": "stdout",
          "text": [
            "831.36328125\n",
            "CPU times: user 1min 10s, sys: 194 ms, total: 1min 11s\n",
            "Wall time: 1min 11s\n"
          ]
        }
      ]
    },
    {
      "cell_type": "markdown",
      "source": [
        "## DASK: modelamiento"
      ],
      "metadata": {
        "id": "kzY9f7afy4C_"
      }
    },
    {
      "cell_type": "code",
      "source": [
        "import numpy as np"
      ],
      "metadata": {
        "id": "2Fnq19Vz6QnP"
      },
      "execution_count": 50,
      "outputs": []
    },
    {
      "cell_type": "code",
      "source": [
        "%%time\n",
        "from nltk.stem import PorterStemmer\n",
        "import re\n",
        "import tensorflow\n",
        "from tensorflow.keras.layers import Embedding, Dense, LSTM\n",
        "from tensorflow.keras.preprocessing.sequence import pad_sequences\n",
        "from tensorflow.keras.models import Sequential\n",
        "from tensorflow.keras.preprocessing.text import one_hot\n",
        "embedding_vector_features = 40\n",
        "voc_size = 5000\n",
        "sent_length = 20\n",
        "model = Sequential()\n",
        "model.add(Embedding(voc_size, embedding_vector_features, input_length=sent_length))\n",
        "model.add(LSTM(100))\n",
        "model.add(Dense(1, activation='sigmoid'))\n",
        "model.compile(loss='binary_crossentropy', optimizer='adam', metrics=['accuracy'])\n",
        "print(model.summary())\n",
        "print(\"memoria:\",psutil.Process().memory_info().rss / (1024 * 1024))"
      ],
      "metadata": {
        "colab": {
          "base_uri": "https://localhost:8080/"
        },
        "id": "rbMWj6usy_vm",
        "outputId": "2bdec3d1-122c-496e-ebb8-dbf59a9fac19"
      },
      "execution_count": 51,
      "outputs": [
        {
          "output_type": "stream",
          "name": "stdout",
          "text": [
            "Model: \"sequential\"\n",
            "_________________________________________________________________\n",
            " Layer (type)                Output Shape              Param #   \n",
            "=================================================================\n",
            " embedding (Embedding)       (None, 20, 40)            200000    \n",
            "                                                                 \n",
            " lstm (LSTM)                 (None, 100)               56400     \n",
            "                                                                 \n",
            " dense (Dense)               (None, 1)                 101       \n",
            "                                                                 \n",
            "=================================================================\n",
            "Total params: 256,501\n",
            "Trainable params: 256,501\n",
            "Non-trainable params: 0\n",
            "_________________________________________________________________\n",
            "None\n",
            "memoria: 1123.15625\n",
            "CPU times: user 2.29 s, sys: 216 ms, total: 2.51 s\n",
            "Wall time: 2.64 s\n"
          ]
        }
      ]
    },
    {
      "cell_type": "code",
      "source": [
        "%%time\n",
        "voc_size = 5000\n",
        "df_train_str = df_train[\"text\"].astype(str)\n",
        "\n",
        "onehot_repre = [one_hot(words, voc_size) for words in df_train_str]\n",
        "onehot_repre[0]\n",
        "print(\"memoria:\",psutil.Process().memory_info().rss / (1024 * 1024))"
      ],
      "metadata": {
        "colab": {
          "base_uri": "https://localhost:8080/"
        },
        "id": "dyu77aGkzC8x",
        "outputId": "16b047fc-05d5-48c1-d0de-41e98a048f87"
      },
      "execution_count": 52,
      "outputs": [
        {
          "output_type": "stream",
          "name": "stdout",
          "text": [
            "memoria: 1486.0625\n",
            "CPU times: user 10 s, sys: 240 ms, total: 10.3 s\n",
            "Wall time: 10.3 s\n"
          ]
        }
      ]
    },
    {
      "cell_type": "code",
      "source": [
        "embedded_docs = pad_sequences(onehot_repre, padding='pre', maxlen=sent_length)\n",
        "print(embedded_docs[0])"
      ],
      "metadata": {
        "colab": {
          "base_uri": "https://localhost:8080/"
        },
        "id": "SNPwx1Z44bR0",
        "outputId": "c74aa728-a59b-42e1-dfa1-66a4a94d6072"
      },
      "execution_count": null,
      "outputs": [
        {
          "output_type": "stream",
          "name": "stdout",
          "text": [
            "[4481 4701 4714 2499 1137  175 2142 2967  815 3188 3065 1859 4910 1191\n",
            "  624 3524 4606 1831 4580 4910]\n"
          ]
        }
      ]
    },
    {
      "cell_type": "code",
      "source": [
        "Y = df_train.label  \n",
        "x_final = np.array(embedded_docs)\n",
        "y_final = np.array(Y)"
      ],
      "metadata": {
        "id": "aMgnSk2J6J_U"
      },
      "execution_count": null,
      "outputs": []
    },
    {
      "cell_type": "code",
      "source": [
        "x_final.shape, y_final.shape"
      ],
      "metadata": {
        "colab": {
          "base_uri": "https://localhost:8080/"
        },
        "id": "s4wEzGQH6VTQ",
        "outputId": "13be9ba1-e47e-4a69-86bd-776410a7a83a"
      },
      "execution_count": null,
      "outputs": [
        {
          "output_type": "execute_result",
          "data": {
            "text/plain": [
              "((20800, 20), (20800,))"
            ]
          },
          "metadata": {},
          "execution_count": 84
        }
      ]
    },
    {
      "cell_type": "code",
      "source": [
        "from sklearn.model_selection import train_test_split\n",
        "X_train, X_test, y_train, y_test = train_test_split(x_final, y_final, test_size=0.33, random_state=42)"
      ],
      "metadata": {
        "id": "Agc8s1Dp6ZCe"
      },
      "execution_count": null,
      "outputs": []
    },
    {
      "cell_type": "code",
      "source": [
        "%%time\n",
        "model.fit(X_train, y_train, validation_data=(X_test, y_test), epochs=10, batch_size=64)\n",
        "print(\"memoria:\",psutil.Process().memory_info().rss / (1024 * 1024))"
      ],
      "metadata": {
        "colab": {
          "base_uri": "https://localhost:8080/"
        },
        "id": "WvKcEYHK6etg",
        "outputId": "744e3a7f-70c4-48a4-a5ae-209790b953af"
      },
      "execution_count": null,
      "outputs": [
        {
          "output_type": "stream",
          "name": "stdout",
          "text": [
            "Epoch 1/10\n",
            "218/218 [==============================] - 7s 25ms/step - loss: 0.4070 - accuracy: 0.8065 - val_loss: 0.3072 - val_accuracy: 0.8612\n",
            "Epoch 2/10\n",
            "218/218 [==============================] - 5s 24ms/step - loss: 0.2232 - accuracy: 0.9076 - val_loss: 0.2964 - val_accuracy: 0.8728\n",
            "Epoch 3/10\n",
            "218/218 [==============================] - 5s 23ms/step - loss: 0.1519 - accuracy: 0.9452 - val_loss: 0.3655 - val_accuracy: 0.8651\n",
            "Epoch 4/10\n",
            "218/218 [==============================] - 5s 23ms/step - loss: 0.0970 - accuracy: 0.9663 - val_loss: 0.4491 - val_accuracy: 0.8617\n",
            "Epoch 5/10\n",
            "218/218 [==============================] - 5s 23ms/step - loss: 0.0565 - accuracy: 0.9818 - val_loss: 0.5828 - val_accuracy: 0.8530\n",
            "Epoch 6/10\n",
            "218/218 [==============================] - 5s 24ms/step - loss: 0.0322 - accuracy: 0.9895 - val_loss: 0.6541 - val_accuracy: 0.8462\n",
            "Epoch 7/10\n",
            "218/218 [==============================] - 5s 24ms/step - loss: 0.0196 - accuracy: 0.9937 - val_loss: 0.7498 - val_accuracy: 0.8462\n",
            "Epoch 8/10\n",
            "218/218 [==============================] - 5s 24ms/step - loss: 0.0160 - accuracy: 0.9949 - val_loss: 0.8022 - val_accuracy: 0.8470\n",
            "Epoch 9/10\n",
            "218/218 [==============================] - 5s 23ms/step - loss: 0.0105 - accuracy: 0.9967 - val_loss: 1.0374 - val_accuracy: 0.8459\n",
            "Epoch 10/10\n",
            "218/218 [==============================] - 5s 24ms/step - loss: 0.0107 - accuracy: 0.9971 - val_loss: 0.9632 - val_accuracy: 0.8447\n",
            "memoria: 1744.40625\n",
            "CPU times: user 1min 20s, sys: 3.73 s, total: 1min 24s\n",
            "Wall time: 53.6 s\n"
          ]
        }
      ]
    },
    {
      "cell_type": "code",
      "source": [
        "%%time\n",
        "classes_x = (model.predict(X_test) > 0.5).astype(\"int32\")\n",
        "print(\"memoria:\",psutil.Process().memory_info().rss / (1024 * 1024))"
      ],
      "metadata": {
        "colab": {
          "base_uri": "https://localhost:8080/"
        },
        "id": "M5uyOfQk6_FZ",
        "outputId": "67d17d74-731c-4d7b-9442-af133c29a35a"
      },
      "execution_count": null,
      "outputs": [
        {
          "output_type": "stream",
          "name": "stdout",
          "text": [
            "memoria: 1744.515625\n",
            "CPU times: user 1.7 s, sys: 80 ms, total: 1.78 s\n",
            "Wall time: 1.29 s\n"
          ]
        }
      ]
    },
    {
      "cell_type": "code",
      "source": [
        "from sklearn.metrics import confusion_matrix\n",
        "confusion_matrix(y_test, classes_x)"
      ],
      "metadata": {
        "colab": {
          "base_uri": "https://localhost:8080/"
        },
        "id": "Q_uyRQyg7BgX",
        "outputId": "9d51f66b-4879-4581-9bc9-fda682491d65"
      },
      "execution_count": null,
      "outputs": [
        {
          "output_type": "execute_result",
          "data": {
            "text/plain": [
              "array([[2990,  459],\n",
              "       [ 594, 2821]])"
            ]
          },
          "metadata": {},
          "execution_count": 88
        }
      ]
    },
    {
      "cell_type": "code",
      "source": [
        "from sklearn.metrics import accuracy_score\n",
        "accuracy_score(y_test,classes_x)"
      ],
      "metadata": {
        "colab": {
          "base_uri": "https://localhost:8080/"
        },
        "id": "nC-kqTog7DwZ",
        "outputId": "bbb0355e-4778-4ed6-9870-1a9e67113b43"
      },
      "execution_count": null,
      "outputs": [
        {
          "output_type": "execute_result",
          "data": {
            "text/plain": [
              "0.8465909090909091"
            ]
          },
          "metadata": {},
          "execution_count": 89
        }
      ]
    }
  ]
}