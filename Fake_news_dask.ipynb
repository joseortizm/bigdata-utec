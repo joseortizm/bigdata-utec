{
  "nbformat": 4,
  "nbformat_minor": 0,
  "metadata": {
    "colab": {
      "name": "Fake_news_dask.ipynb",
      "provenance": [],
      "collapsed_sections": [
        "CAT0_yCsiwFR"
      ]
    },
    "kernelspec": {
      "name": "python3",
      "display_name": "Python 3"
    },
    "language_info": {
      "name": "python"
    }
  },
  "cells": [
    {
      "cell_type": "markdown",
      "metadata": {
        "id": "8fdaswjUBb_H"
      },
      "source": [
        "[Fake News](https://www.kaggle.com/shahidkhan1/fake-news-detection-using-lstm-90-accuracy/data)\n",
        "\n",
        " **train.csv**: A full training dataset with the following attributes:\n",
        "\n",
        "\n",
        "*   id: unique id for a news article\n",
        "*  title: the title of a news article\n",
        "* author: author of the news article\n",
        "* text: the text of the article; could be incomplete\n",
        "* label: a label that marks the article as potentially unreliable\n",
        "\n",
        ">> 1: unreliable\n",
        "\n",
        ">> 0: reliable\n",
        "\n",
        "**test.csv**: A testing training dataset with all the same attributes at train.csv without the label.\n",
        "\n",
        "**submit.csv**\n"
      ]
    },
    {
      "cell_type": "code",
      "metadata": {
        "id": "SGXNBJ52IKHE"
      },
      "source": [
        "import os\n",
        "os.environ[\"KAGGLE_CONFIG_DIR\"] = \"/content/drive/MyDrive/ciclo2/BigData/proyecto-grupal\""
      ],
      "execution_count": 1,
      "outputs": []
    },
    {
      "cell_type": "code",
      "metadata": {
        "colab": {
          "base_uri": "https://localhost:8080/"
        },
        "id": "3l02Lhc_cwIU",
        "outputId": "cd29552e-ff65-4e6c-9943-a1c0afa8459e"
      },
      "source": [
        "!python -m pip install 'fsspec>=0.3.3' #"
      ],
      "execution_count": 2,
      "outputs": [
        {
          "output_type": "stream",
          "name": "stdout",
          "text": [
            "Collecting fsspec>=0.3.3\n",
            "  Downloading fsspec-2021.11.1-py3-none-any.whl (132 kB)\n",
            "\u001b[?25l\r\u001b[K     |██▌                             | 10 kB 33.6 MB/s eta 0:00:01\r\u001b[K     |█████                           | 20 kB 34.1 MB/s eta 0:00:01\r\u001b[K     |███████▍                        | 30 kB 27.9 MB/s eta 0:00:01\r\u001b[K     |█████████▉                      | 40 kB 19.0 MB/s eta 0:00:01\r\u001b[K     |████████████▎                   | 51 kB 12.7 MB/s eta 0:00:01\r\u001b[K     |██████████████▉                 | 61 kB 10.1 MB/s eta 0:00:01\r\u001b[K     |█████████████████▎              | 71 kB 11.2 MB/s eta 0:00:01\r\u001b[K     |███████████████████▊            | 81 kB 12.5 MB/s eta 0:00:01\r\u001b[K     |██████████████████████▏         | 92 kB 10.7 MB/s eta 0:00:01\r\u001b[K     |████████████████████████▋       | 102 kB 11.5 MB/s eta 0:00:01\r\u001b[K     |███████████████████████████     | 112 kB 11.5 MB/s eta 0:00:01\r\u001b[K     |█████████████████████████████▋  | 122 kB 11.5 MB/s eta 0:00:01\r\u001b[K     |████████████████████████████████| 132 kB 11.5 MB/s \n",
            "\u001b[?25hInstalling collected packages: fsspec\n",
            "Successfully installed fsspec-2021.11.1\n"
          ]
        }
      ]
    },
    {
      "cell_type": "code",
      "metadata": {
        "colab": {
          "base_uri": "https://localhost:8080/"
        },
        "id": "ltRywY8uc3Td",
        "outputId": "4b35a295-1363-4e7c-8ec9-4aa38a9ab238"
      },
      "source": [
        "!kaggle competitions download -c fake-news"
      ],
      "execution_count": 10,
      "outputs": [
        {
          "output_type": "stream",
          "name": "stdout",
          "text": [
            "Warning: Looks like you're using an outdated API Version, please consider updating (server 1.5.12 / client 1.5.4)\n",
            "Downloading test.csv.zip to /content\n",
            " 53% 5.00M/9.42M [00:00<00:00, 18.0MB/s]\n",
            "100% 9.42M/9.42M [00:00<00:00, 31.4MB/s]\n",
            "Downloading train.csv.zip to /content\n",
            " 67% 25.0M/37.0M [00:01<00:00, 22.5MB/s]\n",
            "100% 37.0M/37.0M [00:01<00:00, 34.6MB/s]\n",
            "Downloading submit.csv to /content\n",
            "  0% 0.00/40.6k [00:00<?, ?B/s]\n",
            "100% 40.6k/40.6k [00:00<00:00, 42.7MB/s]\n"
          ]
        }
      ]
    },
    {
      "cell_type": "code",
      "metadata": {
        "colab": {
          "base_uri": "https://localhost:8080/"
        },
        "id": "c-kqbKNzdS1T",
        "outputId": "f1762d28-5677-4b38-877b-9b76864c8330"
      },
      "source": [
        "! unzip test.csv.zip\n",
        "! unzip train.csv.zip"
      ],
      "execution_count": 12,
      "outputs": [
        {
          "output_type": "stream",
          "name": "stdout",
          "text": [
            "Archive:  test.csv.zip\n",
            "  inflating: test.csv                \n",
            "Archive:  train.csv.zip\n",
            "  inflating: train.csv               \n"
          ]
        }
      ]
    },
    {
      "cell_type": "code",
      "metadata": {
        "id": "7PZuNId9gs0v"
      },
      "source": [
        "import pandas as pd\n",
        "import psutil\n",
        "import time"
      ],
      "execution_count": 13,
      "outputs": []
    },
    {
      "cell_type": "code",
      "metadata": {
        "id": "aO-uO1Tkdx3R"
      },
      "source": [
        "df_submit = pd.read_csv(\"/content/submit.csv\")\n",
        "df_train = pd.read_csv(\"/content/train.csv\")\n",
        "df_test = pd.read_csv(\"/content/test.csv\")\n"
      ],
      "execution_count": 14,
      "outputs": []
    },
    {
      "cell_type": "markdown",
      "metadata": {
        "id": "tTa0RzIIiqk9"
      },
      "source": [
        "## Submit"
      ]
    },
    {
      "cell_type": "code",
      "metadata": {
        "colab": {
          "base_uri": "https://localhost:8080/",
          "height": 206
        },
        "id": "XlHS8VzbeLkv",
        "outputId": "099f2c58-98a1-4a0e-e6e1-cd40af5ad10b"
      },
      "source": [
        "df_submit.head()"
      ],
      "execution_count": 5,
      "outputs": [
        {
          "output_type": "execute_result",
          "data": {
            "text/html": [
              "<div>\n",
              "<style scoped>\n",
              "    .dataframe tbody tr th:only-of-type {\n",
              "        vertical-align: middle;\n",
              "    }\n",
              "\n",
              "    .dataframe tbody tr th {\n",
              "        vertical-align: top;\n",
              "    }\n",
              "\n",
              "    .dataframe thead th {\n",
              "        text-align: right;\n",
              "    }\n",
              "</style>\n",
              "<table border=\"1\" class=\"dataframe\">\n",
              "  <thead>\n",
              "    <tr style=\"text-align: right;\">\n",
              "      <th></th>\n",
              "      <th>id</th>\n",
              "      <th>label</th>\n",
              "    </tr>\n",
              "  </thead>\n",
              "  <tbody>\n",
              "    <tr>\n",
              "      <th>0</th>\n",
              "      <td>20800</td>\n",
              "      <td>0</td>\n",
              "    </tr>\n",
              "    <tr>\n",
              "      <th>1</th>\n",
              "      <td>20801</td>\n",
              "      <td>1</td>\n",
              "    </tr>\n",
              "    <tr>\n",
              "      <th>2</th>\n",
              "      <td>20802</td>\n",
              "      <td>0</td>\n",
              "    </tr>\n",
              "    <tr>\n",
              "      <th>3</th>\n",
              "      <td>20803</td>\n",
              "      <td>1</td>\n",
              "    </tr>\n",
              "    <tr>\n",
              "      <th>4</th>\n",
              "      <td>20804</td>\n",
              "      <td>1</td>\n",
              "    </tr>\n",
              "  </tbody>\n",
              "</table>\n",
              "</div>"
            ],
            "text/plain": [
              "      id  label\n",
              "0  20800      0\n",
              "1  20801      1\n",
              "2  20802      0\n",
              "3  20803      1\n",
              "4  20804      1"
            ]
          },
          "metadata": {},
          "execution_count": 5
        }
      ]
    },
    {
      "cell_type": "code",
      "metadata": {
        "colab": {
          "base_uri": "https://localhost:8080/"
        },
        "id": "niJj3zN2arm3",
        "outputId": "fc6a1eb8-d1f7-41bc-fbbb-b321437f4d1c"
      },
      "source": [
        "print(\"Cantidad de elementos SUBMIT:\",len(df_submit.index))"
      ],
      "execution_count": 6,
      "outputs": [
        {
          "output_type": "stream",
          "name": "stdout",
          "text": [
            "Cantidad de elementos SUBMIT: 5200\n"
          ]
        }
      ]
    },
    {
      "cell_type": "markdown",
      "metadata": {
        "id": "4yPQjAheit5F"
      },
      "source": [
        "## Train"
      ]
    },
    {
      "cell_type": "code",
      "metadata": {
        "colab": {
          "base_uri": "https://localhost:8080/",
          "height": 206
        },
        "id": "DrgYoC3EeMHq",
        "outputId": "10ee4bc0-5962-40c9-8867-49c5f25c42d3"
      },
      "source": [
        "df_train.head()"
      ],
      "execution_count": 9,
      "outputs": [
        {
          "output_type": "execute_result",
          "data": {
            "text/html": [
              "<div>\n",
              "<style scoped>\n",
              "    .dataframe tbody tr th:only-of-type {\n",
              "        vertical-align: middle;\n",
              "    }\n",
              "\n",
              "    .dataframe tbody tr th {\n",
              "        vertical-align: top;\n",
              "    }\n",
              "\n",
              "    .dataframe thead th {\n",
              "        text-align: right;\n",
              "    }\n",
              "</style>\n",
              "<table border=\"1\" class=\"dataframe\">\n",
              "  <thead>\n",
              "    <tr style=\"text-align: right;\">\n",
              "      <th></th>\n",
              "      <th>id</th>\n",
              "      <th>title</th>\n",
              "      <th>author</th>\n",
              "      <th>text</th>\n",
              "      <th>label</th>\n",
              "    </tr>\n",
              "  </thead>\n",
              "  <tbody>\n",
              "    <tr>\n",
              "      <th>0</th>\n",
              "      <td>0</td>\n",
              "      <td>House Dem Aide: We Didn’t Even See Comey’s Let...</td>\n",
              "      <td>Darrell Lucus</td>\n",
              "      <td>House Dem Aide: We Didn’t Even See Comey’s Let...</td>\n",
              "      <td>1</td>\n",
              "    </tr>\n",
              "    <tr>\n",
              "      <th>1</th>\n",
              "      <td>1</td>\n",
              "      <td>FLYNN: Hillary Clinton, Big Woman on Campus - ...</td>\n",
              "      <td>Daniel J. Flynn</td>\n",
              "      <td>Ever get the feeling your life circles the rou...</td>\n",
              "      <td>0</td>\n",
              "    </tr>\n",
              "    <tr>\n",
              "      <th>2</th>\n",
              "      <td>2</td>\n",
              "      <td>Why the Truth Might Get You Fired</td>\n",
              "      <td>Consortiumnews.com</td>\n",
              "      <td>Why the Truth Might Get You Fired October 29, ...</td>\n",
              "      <td>1</td>\n",
              "    </tr>\n",
              "    <tr>\n",
              "      <th>3</th>\n",
              "      <td>3</td>\n",
              "      <td>15 Civilians Killed In Single US Airstrike Hav...</td>\n",
              "      <td>Jessica Purkiss</td>\n",
              "      <td>Videos 15 Civilians Killed In Single US Airstr...</td>\n",
              "      <td>1</td>\n",
              "    </tr>\n",
              "    <tr>\n",
              "      <th>4</th>\n",
              "      <td>4</td>\n",
              "      <td>Iranian woman jailed for fictional unpublished...</td>\n",
              "      <td>Howard Portnoy</td>\n",
              "      <td>Print \\nAn Iranian woman has been sentenced to...</td>\n",
              "      <td>1</td>\n",
              "    </tr>\n",
              "  </tbody>\n",
              "</table>\n",
              "</div>"
            ],
            "text/plain": [
              "   id  ... label\n",
              "0   0  ...     1\n",
              "1   1  ...     0\n",
              "2   2  ...     1\n",
              "3   3  ...     1\n",
              "4   4  ...     1\n",
              "\n",
              "[5 rows x 5 columns]"
            ]
          },
          "metadata": {},
          "execution_count": 9
        }
      ]
    },
    {
      "cell_type": "code",
      "metadata": {
        "colab": {
          "base_uri": "https://localhost:8080/"
        },
        "id": "6NuY8L7mbXT1",
        "outputId": "5d4dbfce-0a49-4565-e9a1-2ed638c9053d"
      },
      "source": [
        "print(\"Cantidad de elementos TRAIN:\",len(df_train.index))"
      ],
      "execution_count": 10,
      "outputs": [
        {
          "output_type": "stream",
          "name": "stdout",
          "text": [
            "Cantidad de elementos TRAIN: 20800\n"
          ]
        }
      ]
    },
    {
      "cell_type": "code",
      "metadata": {
        "colab": {
          "base_uri": "https://localhost:8080/",
          "height": 138
        },
        "id": "hvnV-tqviQnV",
        "outputId": "3615b0c7-0563-4029-a092-f384b266e555"
      },
      "source": [
        "display(type(df_train))\n",
        "display((df_train.count(), len(df_train.columns)))"
      ],
      "execution_count": 11,
      "outputs": [
        {
          "output_type": "display_data",
          "data": {
            "text/plain": [
              "pandas.core.frame.DataFrame"
            ]
          },
          "metadata": {}
        },
        {
          "output_type": "display_data",
          "data": {
            "text/plain": [
              "(id        20800\n",
              " title     20242\n",
              " author    18843\n",
              " text      20761\n",
              " label     20800\n",
              " dtype: int64, 5)"
            ]
          },
          "metadata": {}
        }
      ]
    },
    {
      "cell_type": "code",
      "metadata": {
        "id": "kE8p33E8imox"
      },
      "source": [
        "df_train = df_train[df_train.text.notna()]"
      ],
      "execution_count": 12,
      "outputs": []
    },
    {
      "cell_type": "markdown",
      "metadata": {
        "id": "CAT0_yCsiwFR"
      },
      "source": [
        "## Test"
      ]
    },
    {
      "cell_type": "code",
      "metadata": {
        "colab": {
          "base_uri": "https://localhost:8080/",
          "height": 206
        },
        "id": "GAspB1b-eQkT",
        "outputId": "27648bd7-2f84-45f1-90a8-94d8a8a9f5b3"
      },
      "source": [
        "df_test.head()"
      ],
      "execution_count": 7,
      "outputs": [
        {
          "output_type": "execute_result",
          "data": {
            "text/html": [
              "<div>\n",
              "<style scoped>\n",
              "    .dataframe tbody tr th:only-of-type {\n",
              "        vertical-align: middle;\n",
              "    }\n",
              "\n",
              "    .dataframe tbody tr th {\n",
              "        vertical-align: top;\n",
              "    }\n",
              "\n",
              "    .dataframe thead th {\n",
              "        text-align: right;\n",
              "    }\n",
              "</style>\n",
              "<table border=\"1\" class=\"dataframe\">\n",
              "  <thead>\n",
              "    <tr style=\"text-align: right;\">\n",
              "      <th></th>\n",
              "      <th>id</th>\n",
              "      <th>title</th>\n",
              "      <th>author</th>\n",
              "      <th>text</th>\n",
              "    </tr>\n",
              "  </thead>\n",
              "  <tbody>\n",
              "    <tr>\n",
              "      <th>0</th>\n",
              "      <td>20800</td>\n",
              "      <td>Specter of Trump Loosens Tongues, if Not Purse...</td>\n",
              "      <td>David Streitfeld</td>\n",
              "      <td>PALO ALTO, Calif.  —   After years of scorning...</td>\n",
              "    </tr>\n",
              "    <tr>\n",
              "      <th>1</th>\n",
              "      <td>20801</td>\n",
              "      <td>Russian warships ready to strike terrorists ne...</td>\n",
              "      <td>NaN</td>\n",
              "      <td>Russian warships ready to strike terrorists ne...</td>\n",
              "    </tr>\n",
              "    <tr>\n",
              "      <th>2</th>\n",
              "      <td>20802</td>\n",
              "      <td>#NoDAPL: Native American Leaders Vow to Stay A...</td>\n",
              "      <td>Common Dreams</td>\n",
              "      <td>Videos #NoDAPL: Native American Leaders Vow to...</td>\n",
              "    </tr>\n",
              "    <tr>\n",
              "      <th>3</th>\n",
              "      <td>20803</td>\n",
              "      <td>Tim Tebow Will Attempt Another Comeback, This ...</td>\n",
              "      <td>Daniel Victor</td>\n",
              "      <td>If at first you don’t succeed, try a different...</td>\n",
              "    </tr>\n",
              "    <tr>\n",
              "      <th>4</th>\n",
              "      <td>20804</td>\n",
              "      <td>Keiser Report: Meme Wars (E995)</td>\n",
              "      <td>Truth Broadcast Network</td>\n",
              "      <td>42 mins ago 1 Views 0 Comments 0 Likes 'For th...</td>\n",
              "    </tr>\n",
              "  </tbody>\n",
              "</table>\n",
              "</div>"
            ],
            "text/plain": [
              "      id  ...                                               text\n",
              "0  20800  ...  PALO ALTO, Calif.  —   After years of scorning...\n",
              "1  20801  ...  Russian warships ready to strike terrorists ne...\n",
              "2  20802  ...  Videos #NoDAPL: Native American Leaders Vow to...\n",
              "3  20803  ...  If at first you don’t succeed, try a different...\n",
              "4  20804  ...  42 mins ago 1 Views 0 Comments 0 Likes 'For th...\n",
              "\n",
              "[5 rows x 4 columns]"
            ]
          },
          "metadata": {},
          "execution_count": 7
        }
      ]
    },
    {
      "cell_type": "code",
      "metadata": {
        "colab": {
          "base_uri": "https://localhost:8080/"
        },
        "id": "LSRW7bBdbsw_",
        "outputId": "2d142443-fbeb-4734-ba72-54cdd58af01c"
      },
      "source": [
        "print(\"Cantidad de elementos TEST:\",len(df_test.index))"
      ],
      "execution_count": 14,
      "outputs": [
        {
          "output_type": "stream",
          "name": "stdout",
          "text": [
            "Cantidad de elementos TEST: 5200\n"
          ]
        }
      ]
    },
    {
      "cell_type": "code",
      "metadata": {
        "colab": {
          "base_uri": "https://localhost:8080/",
          "height": 121
        },
        "id": "z_4aPJiGhvmw",
        "outputId": "23cf0855-588a-4984-bf7f-4cf855eded26"
      },
      "source": [
        "display(type(df_test))\n",
        "display((df_test.count(), len(df_test.columns)))"
      ],
      "execution_count": 15,
      "outputs": [
        {
          "output_type": "display_data",
          "data": {
            "text/plain": [
              "pandas.core.frame.DataFrame"
            ]
          },
          "metadata": {}
        },
        {
          "output_type": "display_data",
          "data": {
            "text/plain": [
              "(id        5200\n",
              " title     5078\n",
              " author    4697\n",
              " text      5193\n",
              " dtype: int64, 4)"
            ]
          },
          "metadata": {}
        }
      ]
    },
    {
      "cell_type": "code",
      "metadata": {
        "id": "B0vsrHsKhzQw"
      },
      "source": [
        "df_test = df_test[df_test.text.notna()]\n"
      ],
      "execution_count": 16,
      "outputs": []
    },
    {
      "cell_type": "markdown",
      "metadata": {
        "id": "IRfepokrhoT8"
      },
      "source": [
        "## DASK: lecturas"
      ]
    },
    {
      "cell_type": "code",
      "metadata": {
        "id": "NxCWHSF6ybY1"
      },
      "source": [
        "import dask.dataframe as dd #"
      ],
      "execution_count": 6,
      "outputs": []
    },
    {
      "cell_type": "markdown",
      "metadata": {
        "id": "wzLV1WCRg91T"
      },
      "source": [
        "### Submit\n"
      ]
    },
    {
      "cell_type": "code",
      "metadata": {
        "colab": {
          "base_uri": "https://localhost:8080/"
        },
        "id": "4kKdPBf0yNbL",
        "outputId": "aa741e08-a059-41ee-b2c4-8087dc071dc7"
      },
      "source": [
        "%%time\n",
        "start = time.time()\n",
        "ddf_submit = dd.from_pandas(df_submit, npartitions = 2) \n",
        "ddf_submit.compute()\n",
        "#print(psutil.Process().memory_info().rss / (1024 * 1024))\n",
        "\n"
      ],
      "execution_count": 16,
      "outputs": [
        {
          "output_type": "stream",
          "name": "stdout",
          "text": [
            "CPU times: user 2.75 ms, sys: 69 µs, total: 2.82 ms\n",
            "Wall time: 2.56 ms\n"
          ]
        }
      ]
    },
    {
      "cell_type": "markdown",
      "metadata": {
        "id": "aFMIBwu4ypoj"
      },
      "source": [
        "### Train"
      ]
    },
    {
      "cell_type": "code",
      "metadata": {
        "colab": {
          "base_uri": "https://localhost:8080/"
        },
        "id": "PS-cwXS8ueNQ",
        "outputId": "4d2e9a7a-5765-4142-f188-8f11700ff676"
      },
      "source": [
        "%%time\n",
        "ddf_train = dd.from_pandas(df_train, npartitions = 2)\n",
        "ddf_train.compute()\n",
        "#print(psutil.Process().memory_info().rss / (1024 * 1024))\n"
      ],
      "execution_count": 17,
      "outputs": [
        {
          "output_type": "stream",
          "name": "stdout",
          "text": [
            "CPU times: user 219 ms, sys: 83.9 ms, total: 303 ms\n",
            "Wall time: 299 ms\n"
          ]
        }
      ]
    },
    {
      "cell_type": "code",
      "metadata": {
        "colab": {
          "base_uri": "https://localhost:8080/"
        },
        "id": "lxAPTfwIXqZ1",
        "outputId": "bd097f2f-1092-41ee-8338-6aa920dd9d35"
      },
      "source": [
        "len(ddf_train.index)\n",
        "\n"
      ],
      "execution_count": 18,
      "outputs": [
        {
          "output_type": "execute_result",
          "data": {
            "text/plain": [
              "20800"
            ]
          },
          "metadata": {},
          "execution_count": 18
        }
      ]
    },
    {
      "cell_type": "markdown",
      "metadata": {
        "id": "Xql6EEfAy02r"
      },
      "source": [
        "### Test"
      ]
    },
    {
      "cell_type": "code",
      "metadata": {
        "colab": {
          "base_uri": "https://localhost:8080/"
        },
        "id": "eeQp6Zg4y688",
        "outputId": "4c70fd26-745a-46d6-81b4-e3eacf69cde1"
      },
      "source": [
        "%%time\n",
        "ddf_test = dd.from_pandas(df_test, npartitions = 2)\n",
        "ddf_test.compute()\n",
        "#print(psutil.Process().memory_info().rss / (1024 * 1024))\n"
      ],
      "execution_count": 19,
      "outputs": [
        {
          "output_type": "stream",
          "name": "stdout",
          "text": [
            "CPU times: user 66.3 ms, sys: 95 µs, total: 66.4 ms\n",
            "Wall time: 67.3 ms\n"
          ]
        }
      ]
    },
    {
      "cell_type": "markdown",
      "metadata": {
        "id": "g8mYrws2zgog"
      },
      "source": [
        "## DASK: Union Test y Submit"
      ]
    },
    {
      "cell_type": "code",
      "metadata": {
        "colab": {
          "base_uri": "https://localhost:8080/",
          "height": 423
        },
        "id": "q3bIdfrIA58b",
        "outputId": "de0da4ed-139a-4bb8-dfab-4d1cd6690be6"
      },
      "source": [
        "ddf_submit.compute()\n"
      ],
      "execution_count": 11,
      "outputs": [
        {
          "output_type": "execute_result",
          "data": {
            "text/html": [
              "<div>\n",
              "<style scoped>\n",
              "    .dataframe tbody tr th:only-of-type {\n",
              "        vertical-align: middle;\n",
              "    }\n",
              "\n",
              "    .dataframe tbody tr th {\n",
              "        vertical-align: top;\n",
              "    }\n",
              "\n",
              "    .dataframe thead th {\n",
              "        text-align: right;\n",
              "    }\n",
              "</style>\n",
              "<table border=\"1\" class=\"dataframe\">\n",
              "  <thead>\n",
              "    <tr style=\"text-align: right;\">\n",
              "      <th></th>\n",
              "      <th>id</th>\n",
              "      <th>label</th>\n",
              "    </tr>\n",
              "  </thead>\n",
              "  <tbody>\n",
              "    <tr>\n",
              "      <th>0</th>\n",
              "      <td>20800</td>\n",
              "      <td>0</td>\n",
              "    </tr>\n",
              "    <tr>\n",
              "      <th>1</th>\n",
              "      <td>20801</td>\n",
              "      <td>1</td>\n",
              "    </tr>\n",
              "    <tr>\n",
              "      <th>2</th>\n",
              "      <td>20802</td>\n",
              "      <td>0</td>\n",
              "    </tr>\n",
              "    <tr>\n",
              "      <th>3</th>\n",
              "      <td>20803</td>\n",
              "      <td>1</td>\n",
              "    </tr>\n",
              "    <tr>\n",
              "      <th>4</th>\n",
              "      <td>20804</td>\n",
              "      <td>1</td>\n",
              "    </tr>\n",
              "    <tr>\n",
              "      <th>...</th>\n",
              "      <td>...</td>\n",
              "      <td>...</td>\n",
              "    </tr>\n",
              "    <tr>\n",
              "      <th>5195</th>\n",
              "      <td>25995</td>\n",
              "      <td>0</td>\n",
              "    </tr>\n",
              "    <tr>\n",
              "      <th>5196</th>\n",
              "      <td>25996</td>\n",
              "      <td>1</td>\n",
              "    </tr>\n",
              "    <tr>\n",
              "      <th>5197</th>\n",
              "      <td>25997</td>\n",
              "      <td>0</td>\n",
              "    </tr>\n",
              "    <tr>\n",
              "      <th>5198</th>\n",
              "      <td>25998</td>\n",
              "      <td>1</td>\n",
              "    </tr>\n",
              "    <tr>\n",
              "      <th>5199</th>\n",
              "      <td>25999</td>\n",
              "      <td>0</td>\n",
              "    </tr>\n",
              "  </tbody>\n",
              "</table>\n",
              "<p>5200 rows × 2 columns</p>\n",
              "</div>"
            ],
            "text/plain": [
              "         id  label\n",
              "0     20800      0\n",
              "1     20801      1\n",
              "2     20802      0\n",
              "3     20803      1\n",
              "4     20804      1\n",
              "...     ...    ...\n",
              "5195  25995      0\n",
              "5196  25996      1\n",
              "5197  25997      0\n",
              "5198  25998      1\n",
              "5199  25999      0\n",
              "\n",
              "[5200 rows x 2 columns]"
            ]
          },
          "metadata": {},
          "execution_count": 11
        }
      ]
    },
    {
      "cell_type": "code",
      "metadata": {
        "colab": {
          "base_uri": "https://localhost:8080/"
        },
        "id": "DFaFV2h6wOUh",
        "outputId": "5b7ff7ec-56a9-4a4e-f36f-f5f8bd9e5740"
      },
      "source": [
        "#type(ddf_submit)\n",
        "#type(ddf_test_not_null)\n",
        "#ddf_test_merge_submit = ddf_submit.merge(ddf_test, on=\"id\")\n",
        "%%time\n",
        "ddf_test_merge_submit =  ddf_test.merge(ddf_submit, on=\"id\")\n",
        "print(psutil.Process().memory_info().rss / (1024 * 1024))\n"
      ],
      "execution_count": 24,
      "outputs": [
        {
          "output_type": "stream",
          "name": "stdout",
          "text": [
            "686.38671875\n",
            "CPU times: user 26.3 ms, sys: 10 ms, total: 36.3 ms\n",
            "Wall time: 51.9 ms\n"
          ]
        }
      ]
    },
    {
      "cell_type": "code",
      "metadata": {
        "colab": {
          "base_uri": "https://localhost:8080/"
        },
        "id": "aFHa6-ndFSMg",
        "outputId": "56b1c24a-7dce-41f9-a3d7-da5a244709dc"
      },
      "source": [
        "!pip install partd #"
      ],
      "execution_count": 22,
      "outputs": [
        {
          "output_type": "stream",
          "name": "stdout",
          "text": [
            "Collecting partd\n",
            "  Downloading partd-1.2.0-py3-none-any.whl (19 kB)\n",
            "Requirement already satisfied: toolz in /usr/local/lib/python3.7/dist-packages (from partd) (0.11.2)\n",
            "Collecting locket\n",
            "  Downloading locket-0.2.1-py2.py3-none-any.whl (4.1 kB)\n",
            "Installing collected packages: locket, partd\n",
            "Successfully installed locket-0.2.1 partd-1.2.0\n"
          ]
        }
      ]
    },
    {
      "cell_type": "code",
      "metadata": {
        "colab": {
          "base_uri": "https://localhost:8080/",
          "height": 423
        },
        "id": "Ef1E-AfgFaeF",
        "outputId": "8e3e9567-94d4-43fb-8fa6-b4d31ae32b15"
      },
      "source": [
        "ddf_test_merge_submit.compute()"
      ],
      "execution_count": 25,
      "outputs": [
        {
          "output_type": "execute_result",
          "data": {
            "text/html": [
              "<div>\n",
              "<style scoped>\n",
              "    .dataframe tbody tr th:only-of-type {\n",
              "        vertical-align: middle;\n",
              "    }\n",
              "\n",
              "    .dataframe tbody tr th {\n",
              "        vertical-align: top;\n",
              "    }\n",
              "\n",
              "    .dataframe thead th {\n",
              "        text-align: right;\n",
              "    }\n",
              "</style>\n",
              "<table border=\"1\" class=\"dataframe\">\n",
              "  <thead>\n",
              "    <tr style=\"text-align: right;\">\n",
              "      <th></th>\n",
              "      <th>id</th>\n",
              "      <th>title</th>\n",
              "      <th>author</th>\n",
              "      <th>text</th>\n",
              "      <th>label</th>\n",
              "    </tr>\n",
              "  </thead>\n",
              "  <tbody>\n",
              "    <tr>\n",
              "      <th>0</th>\n",
              "      <td>20800</td>\n",
              "      <td>Specter of Trump Loosens Tongues, if Not Purse...</td>\n",
              "      <td>David Streitfeld</td>\n",
              "      <td>PALO ALTO, Calif.  —   After years of scorning...</td>\n",
              "      <td>0</td>\n",
              "    </tr>\n",
              "    <tr>\n",
              "      <th>1</th>\n",
              "      <td>20801</td>\n",
              "      <td>Russian warships ready to strike terrorists ne...</td>\n",
              "      <td>NaN</td>\n",
              "      <td>Russian warships ready to strike terrorists ne...</td>\n",
              "      <td>1</td>\n",
              "    </tr>\n",
              "    <tr>\n",
              "      <th>2</th>\n",
              "      <td>20804</td>\n",
              "      <td>Keiser Report: Meme Wars (E995)</td>\n",
              "      <td>Truth Broadcast Network</td>\n",
              "      <td>42 mins ago 1 Views 0 Comments 0 Likes 'For th...</td>\n",
              "      <td>1</td>\n",
              "    </tr>\n",
              "    <tr>\n",
              "      <th>3</th>\n",
              "      <td>20811</td>\n",
              "      <td>“Working Class Hero” by John Brennon</td>\n",
              "      <td>Doug Diamond</td>\n",
              "      <td>Source: CNBC, article by Robert Ferris Arctic ...</td>\n",
              "      <td>1</td>\n",
              "    </tr>\n",
              "    <tr>\n",
              "      <th>4</th>\n",
              "      <td>20812</td>\n",
              "      <td>The Rise of Mandatory Vaccinations Means the E...</td>\n",
              "      <td>Shaun Bradley</td>\n",
              "      <td>Written by Shaun Bradley   Mandatory vaccinati...</td>\n",
              "      <td>0</td>\n",
              "    </tr>\n",
              "    <tr>\n",
              "      <th>...</th>\n",
              "      <td>...</td>\n",
              "      <td>...</td>\n",
              "      <td>...</td>\n",
              "      <td>...</td>\n",
              "      <td>...</td>\n",
              "    </tr>\n",
              "    <tr>\n",
              "      <th>2571</th>\n",
              "      <td>25991</td>\n",
              "      <td>E3 Hands-On with ’South Park: The Fractured bu...</td>\n",
              "      <td>Lucas Nolan</td>\n",
              "      <td>The title of South Park: The Fractured but Who...</td>\n",
              "      <td>1</td>\n",
              "    </tr>\n",
              "    <tr>\n",
              "      <th>2572</th>\n",
              "      <td>25996</td>\n",
              "      <td>John Kasich Signs One Abortion Bill in Ohio bu...</td>\n",
              "      <td>Sheryl Gay Stolberg</td>\n",
              "      <td>WASHINGTON  —   Gov. John Kasich of Ohio on Tu...</td>\n",
              "      <td>1</td>\n",
              "    </tr>\n",
              "    <tr>\n",
              "      <th>2573</th>\n",
              "      <td>25997</td>\n",
              "      <td>California Today: What, Exactly, Is in Your Su...</td>\n",
              "      <td>Mike McPhate</td>\n",
              "      <td>Good morning. (Want to get California Today by...</td>\n",
              "      <td>0</td>\n",
              "    </tr>\n",
              "    <tr>\n",
              "      <th>2574</th>\n",
              "      <td>25998</td>\n",
              "      <td>300 US Marines To Be Deployed To Russian Borde...</td>\n",
              "      <td>NaN</td>\n",
              "      <td>« Previous - Next » 300 US Marines To Be Deplo...</td>\n",
              "      <td>1</td>\n",
              "    </tr>\n",
              "    <tr>\n",
              "      <th>2575</th>\n",
              "      <td>25999</td>\n",
              "      <td>Awkward Sex, Onscreen and Off - The New York T...</td>\n",
              "      <td>Teddy Wayne</td>\n",
              "      <td>Perhaps you’ve seen the new TV series whose pi...</td>\n",
              "      <td>0</td>\n",
              "    </tr>\n",
              "  </tbody>\n",
              "</table>\n",
              "<p>5200 rows × 5 columns</p>\n",
              "</div>"
            ],
            "text/plain": [
              "         id  ... label\n",
              "0     20800  ...     0\n",
              "1     20801  ...     1\n",
              "2     20804  ...     1\n",
              "3     20811  ...     1\n",
              "4     20812  ...     0\n",
              "...     ...  ...   ...\n",
              "2571  25991  ...     1\n",
              "2572  25996  ...     1\n",
              "2573  25997  ...     0\n",
              "2574  25998  ...     1\n",
              "2575  25999  ...     0\n",
              "\n",
              "[5200 rows x 5 columns]"
            ]
          },
          "metadata": {},
          "execution_count": 25
        }
      ]
    },
    {
      "cell_type": "markdown",
      "metadata": {
        "id": "LlnSHcH3DyGp"
      },
      "source": [
        "## DASK: remover valores null de train y test"
      ]
    },
    {
      "cell_type": "markdown",
      "metadata": {
        "id": "Bxb9i3RYUcys"
      },
      "source": [
        "1.   Test\n",
        "\n"
      ]
    },
    {
      "cell_type": "code",
      "metadata": {
        "id": "4eFIzScQFBqK"
      },
      "source": [
        "#ddf_test_merge_submit['text'].notnull().compute()"
      ],
      "execution_count": null,
      "outputs": []
    },
    {
      "cell_type": "code",
      "metadata": {
        "colab": {
          "base_uri": "https://localhost:8080/"
        },
        "id": "L_nBBsa2FU6o",
        "outputId": "a3740dc5-f607-45a3-a40d-6b4c138fd325"
      },
      "source": [
        "%%time\n",
        "ddf_test_not_null = ddf_test_merge_submit[ddf_test_merge_submit['text'].notnull()].compute() \n",
        "ddf_test_not_null\n",
        "print(psutil.Process().memory_info().rss / (1024 * 1024))\n"
      ],
      "execution_count": 26,
      "outputs": [
        {
          "output_type": "stream",
          "name": "stdout",
          "text": [
            "689.9453125\n",
            "CPU times: user 126 ms, sys: 10.4 ms, total: 136 ms\n",
            "Wall time: 130 ms\n"
          ]
        }
      ]
    },
    {
      "cell_type": "code",
      "metadata": {
        "colab": {
          "base_uri": "https://localhost:8080/"
        },
        "id": "RB1YMiKNFsBr",
        "outputId": "99a2b3b2-7533-4817-f6f6-5458c0585e36"
      },
      "source": [
        " print(\"Datos originales:\", len(ddf_test), len(ddf_test.columns))\n",
        " print(\"Datos ddf_test_not_null:\", len(ddf_test_not_null), len(ddf_test_not_null.columns))"
      ],
      "execution_count": 16,
      "outputs": [
        {
          "output_type": "stream",
          "name": "stdout",
          "text": [
            "Datos originales: 5200 4\n",
            "Datos ddf_test_not_null: 5193 5\n"
          ]
        }
      ]
    },
    {
      "cell_type": "code",
      "source": [
        "ddf_test_not_null = ddf_test_not_null.reset_index().drop_duplicates(subset='index', keep='last').set_index('index').sort_index()\n"
      ],
      "metadata": {
        "id": "ijEoRXuTtIVc"
      },
      "execution_count": 68,
      "outputs": []
    },
    {
      "cell_type": "code",
      "source": [
        "ddf_test_not_null.index.duplicated()"
      ],
      "metadata": {
        "colab": {
          "base_uri": "https://localhost:8080/"
        },
        "id": "Bxvf2CxWtLLP",
        "outputId": "19aa1dc9-5965-495a-c7c3-5a5f05e0440d"
      },
      "execution_count": 69,
      "outputs": [
        {
          "output_type": "execute_result",
          "data": {
            "text/plain": [
              "array([False, False, False, ..., False, False, False])"
            ]
          },
          "metadata": {},
          "execution_count": 69
        }
      ]
    },
    {
      "cell_type": "markdown",
      "metadata": {
        "id": "PrBRXqdvUZQ9"
      },
      "source": [
        "1.  Train"
      ]
    },
    {
      "cell_type": "code",
      "metadata": {
        "id": "RQyzwe9sUYbE"
      },
      "source": [
        "#ddf_train['text'].notnull().compute()"
      ],
      "execution_count": null,
      "outputs": []
    },
    {
      "cell_type": "code",
      "metadata": {
        "colab": {
          "base_uri": "https://localhost:8080/"
        },
        "id": "8gbwdL_OVJ53",
        "outputId": "9ea4045b-2f74-4358-e297-442aeec4f579"
      },
      "source": [
        "%%time\n",
        "ddf_train_not_null = ddf_train[ddf_train['text'].notnull()].compute() \n",
        "ddf_train_not_null\n",
        "print(\"memoria:\",psutil.Process().memory_info().rss / (1024 * 1024))"
      ],
      "execution_count": 27,
      "outputs": [
        {
          "output_type": "stream",
          "name": "stdout",
          "text": [
            "memoria: 689.96875\n",
            "CPU times: user 10.8 ms, sys: 11.9 ms, total: 22.7 ms\n",
            "Wall time: 22.5 ms\n"
          ]
        }
      ]
    },
    {
      "cell_type": "code",
      "metadata": {
        "colab": {
          "base_uri": "https://localhost:8080/"
        },
        "id": "uoPK-e67VSIK",
        "outputId": "c654bc8d-9648-434c-a6f5-cd6a2a3a256a"
      },
      "source": [
        " print(\"Datos originales:\", len(ddf_train), len(ddf_train.columns))\n",
        " print(\"Datos ddf_train_not_null:\", len(ddf_train_not_null), len(ddf_train_not_null.columns))"
      ],
      "execution_count": 18,
      "outputs": [
        {
          "output_type": "stream",
          "name": "stdout",
          "text": [
            "Datos originales: 20800 5\n",
            "Datos ddf_train_not_null: 20761 5\n"
          ]
        }
      ]
    },
    {
      "cell_type": "markdown",
      "metadata": {
        "id": "NhmO1QlwTeGl"
      },
      "source": [
        "## DASK: pre procesamiento"
      ]
    },
    {
      "cell_type": "code",
      "source": [
        "ddf_test_not_null[\"text\"]"
      ],
      "metadata": {
        "colab": {
          "base_uri": "https://localhost:8080/"
        },
        "id": "vOEtf9i2jbFF",
        "outputId": "30a0cc21-f309-40a0-e9f5-cf7900968514"
      },
      "execution_count": 52,
      "outputs": [
        {
          "output_type": "execute_result",
          "data": {
            "text/plain": [
              "0       PALO ALTO, Calif.  —   After years of scorning...\n",
              "1       Russian warships ready to strike terrorists ne...\n",
              "2       42 mins ago 1 Views 0 Comments 0 Likes 'For th...\n",
              "3       Source: CNBC, article by Robert Ferris Arctic ...\n",
              "4       Written by Shaun Bradley   Mandatory vaccinati...\n",
              "                              ...                        \n",
              "2571    The title of South Park: The Fractured but Who...\n",
              "2572    WASHINGTON  —   Gov. John Kasich of Ohio on Tu...\n",
              "2573    Good morning. (Want to get California Today by...\n",
              "2574    « Previous - Next » 300 US Marines To Be Deplo...\n",
              "2575    Perhaps you’ve seen the new TV series whose pi...\n",
              "Name: text, Length: 5193, dtype: object"
            ]
          },
          "metadata": {},
          "execution_count": 52
        }
      ]
    },
    {
      "cell_type": "code",
      "source": [
        "ddf_test_not_null[\"text\"]\n",
        "#ddf_test_not_null"
      ],
      "metadata": {
        "colab": {
          "base_uri": "https://localhost:8080/"
        },
        "id": "xqka63lxmfHw",
        "outputId": "c0c570f5-6613-4128-e3d6-1c084a32d061"
      },
      "execution_count": 71,
      "outputs": [
        {
          "output_type": "execute_result",
          "data": {
            "text/plain": [
              "index\n",
              "0       Videos #NoDAPL: Native American Leaders Vow to...\n",
              "1       If at first you don’t succeed, try a different...\n",
              "2       Trump is USA's antique hero. Clinton will be n...\n",
              "3       Sunday on NBC’s “Meet the Press,” House Minori...\n",
              "4       You are here: Home / *Articles of the Bound* /...\n",
              "                              ...                        \n",
              "2619    Dr. Caleb Alexander knows how easily older peo...\n",
              "2620    Earth To Ammosexuals: NRA Admits No One Is Com...\n",
              "2621    Public concern about faulty automobile airbags...\n",
              "2622    Pres. Trump on if “tapes” exist of his convers...\n",
              "2623    Of all the dysfunctions that plague the world’...\n",
              "Name: text, Length: 2624, dtype: object"
            ]
          },
          "metadata": {},
          "execution_count": 71
        }
      ]
    },
    {
      "cell_type": "code",
      "metadata": {
        "colab": {
          "base_uri": "https://localhost:8080/"
        },
        "id": "sVnIqcZRTg17",
        "outputId": "fc34719b-c027-43b6-b26b-aff717bc92db"
      },
      "source": [
        "ddf_train_not_null[\"text\"]"
      ],
      "execution_count": 28,
      "outputs": [
        {
          "output_type": "execute_result",
          "data": {
            "text/plain": [
              "0        House Dem Aide: We Didn’t Even See Comey’s Let...\n",
              "1        Ever get the feeling your life circles the rou...\n",
              "2        Why the Truth Might Get You Fired October 29, ...\n",
              "3        Videos 15 Civilians Killed In Single US Airstr...\n",
              "4        Print \\nAn Iranian woman has been sentenced to...\n",
              "                               ...                        \n",
              "20795    Rapper T. I. unloaded on black celebrities who...\n",
              "20796    When the Green Bay Packers lost to the Washing...\n",
              "20797    The Macy’s of today grew from the union of sev...\n",
              "20798    NATO, Russia To Hold Parallel Exercises In Bal...\n",
              "20799      David Swanson is an author, activist, journa...\n",
              "Name: text, Length: 20761, dtype: object"
            ]
          },
          "metadata": {},
          "execution_count": 28
        }
      ]
    },
    {
      "cell_type": "code",
      "source": [
        "pip install emoji"
      ],
      "metadata": {
        "colab": {
          "base_uri": "https://localhost:8080/"
        },
        "id": "BzJmQ8xKddIX",
        "outputId": "87dcba56-5616-420b-b48e-c6094a1cda17"
      },
      "execution_count": 41,
      "outputs": [
        {
          "output_type": "stream",
          "name": "stdout",
          "text": [
            "Collecting emoji\n",
            "  Downloading emoji-1.6.1.tar.gz (170 kB)\n",
            "\u001b[?25l\r\u001b[K     |██                              | 10 kB 28.4 MB/s eta 0:00:01\r\u001b[K     |███▉                            | 20 kB 37.5 MB/s eta 0:00:01\r\u001b[K     |█████▉                          | 30 kB 22.1 MB/s eta 0:00:01\r\u001b[K     |███████▊                        | 40 kB 21.7 MB/s eta 0:00:01\r\u001b[K     |█████████▋                      | 51 kB 15.0 MB/s eta 0:00:01\r\u001b[K     |███████████▋                    | 61 kB 12.5 MB/s eta 0:00:01\r\u001b[K     |█████████████▌                  | 71 kB 11.2 MB/s eta 0:00:01\r\u001b[K     |███████████████▍                | 81 kB 12.1 MB/s eta 0:00:01\r\u001b[K     |█████████████████▍              | 92 kB 12.2 MB/s eta 0:00:01\r\u001b[K     |███████████████████▎            | 102 kB 12.9 MB/s eta 0:00:01\r\u001b[K     |█████████████████████▏          | 112 kB 12.9 MB/s eta 0:00:01\r\u001b[K     |███████████████████████▏        | 122 kB 12.9 MB/s eta 0:00:01\r\u001b[K     |█████████████████████████       | 133 kB 12.9 MB/s eta 0:00:01\r\u001b[K     |███████████████████████████     | 143 kB 12.9 MB/s eta 0:00:01\r\u001b[K     |█████████████████████████████   | 153 kB 12.9 MB/s eta 0:00:01\r\u001b[K     |██████████████████████████████▉ | 163 kB 12.9 MB/s eta 0:00:01\r\u001b[K     |████████████████████████████████| 170 kB 12.9 MB/s \n",
            "\u001b[?25hBuilding wheels for collected packages: emoji\n",
            "  Building wheel for emoji (setup.py) ... \u001b[?25l\u001b[?25hdone\n",
            "  Created wheel for emoji: filename=emoji-1.6.1-py3-none-any.whl size=169314 sha256=3df9dca09a1945a03a291fe385c98ed449232488b036ddbfd0c7a1965c3d869c\n",
            "  Stored in directory: /root/.cache/pip/wheels/ea/5f/d3/03d313ddb3c2a1a427bb4690f1621eea60fe6f2a30cc95940f\n",
            "Successfully built emoji\n",
            "Installing collected packages: emoji\n",
            "Successfully installed emoji-1.6.1\n"
          ]
        }
      ]
    },
    {
      "cell_type": "code",
      "source": [
        "from nltk.corpus import stopwords\n",
        "from nltk.tokenize import word_tokenize\n",
        "from sklearn.feature_extraction.text import TfidfVectorizer\n",
        "import re\n",
        "import string"
      ],
      "metadata": {
        "id": "MjLNcoGMgp3z"
      },
      "execution_count": 45,
      "outputs": []
    },
    {
      "cell_type": "code",
      "source": [
        "nltk.download('stopwords')\n",
        "nltk.download('punkt')"
      ],
      "metadata": {
        "colab": {
          "base_uri": "https://localhost:8080/"
        },
        "id": "_B5jrml_dEpd",
        "outputId": "29f8d85c-8770-47e7-fd92-ab06e6e39e14"
      },
      "execution_count": 46,
      "outputs": [
        {
          "output_type": "stream",
          "name": "stdout",
          "text": [
            "[nltk_data] Downloading package stopwords to /root/nltk_data...\n",
            "[nltk_data]   Package stopwords is already up-to-date!\n",
            "[nltk_data] Downloading package punkt to /root/nltk_data...\n",
            "[nltk_data]   Package punkt is already up-to-date!\n"
          ]
        },
        {
          "output_type": "execute_result",
          "data": {
            "text/plain": [
              "True"
            ]
          },
          "metadata": {},
          "execution_count": 46
        }
      ]
    },
    {
      "cell_type": "code",
      "source": [
        "stop_words = set(stopwords.words('english'))\n",
        "print(stop_words)"
      ],
      "metadata": {
        "colab": {
          "base_uri": "https://localhost:8080/"
        },
        "id": "7j3XtfQldIkQ",
        "outputId": "eccc308b-46e8-43bd-91ac-781adf0169dd"
      },
      "execution_count": 47,
      "outputs": [
        {
          "output_type": "stream",
          "name": "stdout",
          "text": [
            "{'this', 'do', 'once', 'your', 'while', 'no', 'was', 'how', \"wouldn't\", \"you've\", \"haven't\", 'above', 'does', 'ours', 'below', 'a', 'only', 'don', \"mustn't\", 'after', 'had', 'shan', 'i', 'having', 'ma', 'weren', 'in', 'if', 'shouldn', 'these', \"weren't\", \"it's\", 'are', 'few', 're', 'd', 'you', 'up', 'nor', 'at', \"shouldn't\", 'when', 'same', 've', 'needn', 'on', 'himself', 'hasn', \"you'll\", 'an', 'where', 'yours', 'yourself', \"mightn't\", 'between', 'can', 'such', 'own', 'itself', 'both', 'him', 'those', 'so', 's', \"couldn't\", 'whom', 'what', 'to', 'down', 'hadn', 'here', 'during', 'our', 'of', 'through', 'is', 'each', 'them', 'did', \"hasn't\", \"won't\", 'most', \"that'll\", \"you'd\", 'his', 't', 'will', 'before', 'into', 'out', 'y', \"aren't\", 'myself', 'the', 'yourselves', 'or', 'they', \"needn't\", 'mustn', 'wouldn', 'under', 'just', 'from', 'has', 'very', 'more', 'further', \"hadn't\", 'my', 'ourselves', 'that', 'than', 'who', 'wasn', \"isn't\", 'o', 'doesn', \"wasn't\", 'but', 'be', 'themselves', 'by', \"shan't\", 'why', 'again', 'me', 'ain', 'other', 'its', 'as', 'mightn', 'because', 'then', 'isn', 'her', 'with', 'now', 'won', 'hers', 'too', \"should've\", \"you're\", 'all', 'their', 'over', 'any', 'off', 'were', 'am', 'and', 'not', \"didn't\", 'm', 'about', 'being', 'been', 'some', 'there', 'doing', 'until', 'haven', 'we', 'it', 'theirs', 'which', 'against', 'aren', \"she's\", 'couldn', 'he', 'she', \"don't\", 'for', 'herself', 'll', \"doesn't\", 'should', 'didn', 'have'}\n"
          ]
        }
      ]
    },
    {
      "cell_type": "code",
      "source": [
        "import emoji\n",
        "def give_emoji_free_text(text): \n",
        "    return emoji.get_emoji_regexp().sub(r'', text)"
      ],
      "metadata": {
        "id": "s9_RNmy1dLE7"
      },
      "execution_count": 48,
      "outputs": []
    },
    {
      "cell_type": "code",
      "source": [
        "def preprocess_new_text(tweet):\n",
        "  emoticon_string = r\"\"\"\n",
        "  (?:\n",
        "    [<>]?\n",
        "    [:;=8]                     \n",
        "    [\\-o\\*\\']?                 \n",
        "    [\\)\\]\\(\\[dDpP/\\:\\}\\{@\\|\\\\]       \n",
        "    |\n",
        "    [\\)\\]\\(\\[dDpP/\\:\\}\\{@\\|\\\\]\n",
        "    [\\-o\\*\\']?                 \n",
        "    [:;=8]                     \n",
        "    [<>]?\n",
        "  )\"\"\"\n",
        "\n",
        "  replacements = (\n",
        "    (\"á\", \"a\"),\n",
        "    (\"é\", \"e\"),\n",
        "    (\"í\", \"i\"),\n",
        "    (\"ó\", \"o\"),\n",
        "    (\"ú\", \"u\"),\n",
        "  )\n",
        "\n",
        "  tweet = str(tweet)\n",
        "  tweet = tweet.lower()\n",
        "  # Remove urls\n",
        "  tweet = re.sub(r\"http\\S+|www\\S+|https\\S+\", '', tweet, flags=re.MULTILINE)\n",
        "  # Remove user @ references and '#' from tweet\n",
        "  tweet = re.sub(r'\\@\\w+|\\#','', tweet)\n",
        "  # Remove user ¿ and ¡ from tweet\n",
        "  tweet = re.sub(r'\\¿|\\¡|\\?|\\!','', tweet)\n",
        "  # Remove punctuations\n",
        "  tweet = tweet.translate(str.maketrans('', '', string.punctuation))\n",
        "  # remove graphical emoji\n",
        "  tweet = give_emoji_free_text(tweet) \n",
        "  # remove textual emoji\n",
        "  tweet = re.sub(emoticon_string,'',tweet)\n",
        "  #remove accent mark\n",
        "  for a, b in replacements:\n",
        "    tweet = tweet.replace(a, b)\n",
        "\n",
        "  # Remove stopwords\n",
        "  tweet_tokens = word_tokenize(tweet)\n",
        "  filtered_words = [w for w in tweet_tokens if not w in stop_words]\n",
        "    \n",
        "  return \" \".join(filtered_words)"
      ],
      "metadata": {
        "id": "bJnELExUdjCU"
      },
      "execution_count": 49,
      "outputs": []
    },
    {
      "cell_type": "code",
      "source": [
        "%%time\n",
        "df_train.text = ddf_train_not_null[\"text\"].apply(preprocess_new_text)\n",
        "print(psutil.Process().memory_info().rss / (1024 * 1024))"
      ],
      "metadata": {
        "colab": {
          "base_uri": "https://localhost:8080/"
        },
        "id": "QMEgHIg_fn2p",
        "outputId": "16897112-d68a-4165-dc71-6e6af5fb2357"
      },
      "execution_count": 50,
      "outputs": [
        {
          "output_type": "stream",
          "name": "stdout",
          "text": [
            "840.6484375\n",
            "CPU times: user 15min 29s, sys: 2.34 s, total: 15min 32s\n",
            "Wall time: 15min 31s\n"
          ]
        }
      ]
    },
    {
      "cell_type": "code",
      "source": [
        "df_train[\"text\"]"
      ],
      "metadata": {
        "colab": {
          "base_uri": "https://localhost:8080/"
        },
        "id": "v3nuFqevkgkv",
        "outputId": "0016b1e0-6da8-456a-c2f1-e7b97aa3d2d4"
      },
      "execution_count": 76,
      "outputs": [
        {
          "output_type": "execute_result",
          "data": {
            "text/plain": [
              "0        house dem aide ’ even see comey ’ letter jason...\n",
              "1        ever get feeling life circles roundabout rathe...\n",
              "2        truth might get fired october 29 2016 tension ...\n",
              "3        videos 15 civilians killed single us airstrike...\n",
              "4        print iranian woman sentenced six years prison...\n",
              "                               ...                        \n",
              "20795    rapper unloaded black celebrities met donald t...\n",
              "20796    green bay packers lost washington redskins wee...\n",
              "20797    macy ’ today grew union several great names am...\n",
              "20798    nato russia hold parallel exercises balkans 11...\n",
              "20799    david swanson author activist journalist radio...\n",
              "Name: text, Length: 20800, dtype: object"
            ]
          },
          "metadata": {},
          "execution_count": 76
        }
      ]
    },
    {
      "cell_type": "code",
      "source": [
        "%%time\n",
        "df_test.text = ddf_test_not_null[\"text\"].apply(preprocess_new_text)\n",
        "print(psutil.Process().memory_info().rss / (1024 * 1024))\n"
      ],
      "metadata": {
        "colab": {
          "base_uri": "https://localhost:8080/"
        },
        "id": "DcKpONq8kyMk",
        "outputId": "57cbc770-a39c-4533-be17-10fa236666ba"
      },
      "execution_count": 70,
      "outputs": [
        {
          "output_type": "stream",
          "name": "stdout",
          "text": [
            "979.6484375\n",
            "CPU times: user 1min 58s, sys: 347 ms, total: 1min 59s\n",
            "Wall time: 1min 59s\n"
          ]
        }
      ]
    },
    {
      "cell_type": "markdown",
      "source": [
        "## DASK: modelamiento"
      ],
      "metadata": {
        "id": "kzY9f7afy4C_"
      }
    },
    {
      "cell_type": "code",
      "source": [
        "import numpy as np"
      ],
      "metadata": {
        "id": "2Fnq19Vz6QnP"
      },
      "execution_count": 82,
      "outputs": []
    },
    {
      "cell_type": "code",
      "source": [
        "%%time\n",
        "from nltk.stem import PorterStemmer\n",
        "import re\n",
        "import tensorflow\n",
        "from tensorflow.keras.layers import Embedding, Dense, LSTM\n",
        "from tensorflow.keras.preprocessing.sequence import pad_sequences\n",
        "from tensorflow.keras.models import Sequential\n",
        "from tensorflow.keras.preprocessing.text import one_hot\n",
        "embedding_vector_features = 40\n",
        "voc_size = 5000\n",
        "sent_length = 20\n",
        "model = Sequential()\n",
        "model.add(Embedding(voc_size, embedding_vector_features, input_length=sent_length))\n",
        "model.add(LSTM(100))\n",
        "model.add(Dense(1, activation='sigmoid'))\n",
        "model.compile(loss='binary_crossentropy', optimizer='adam', metrics=['accuracy'])\n",
        "print(model.summary())\n",
        "print(\"memoria:\",psutil.Process().memory_info().rss / (1024 * 1024))"
      ],
      "metadata": {
        "colab": {
          "base_uri": "https://localhost:8080/"
        },
        "id": "rbMWj6usy_vm",
        "outputId": "20c75d2f-6250-4fa1-dea8-9f95a363d98c"
      },
      "execution_count": 92,
      "outputs": [
        {
          "output_type": "stream",
          "name": "stdout",
          "text": [
            "Model: \"sequential_3\"\n",
            "_________________________________________________________________\n",
            " Layer (type)                Output Shape              Param #   \n",
            "=================================================================\n",
            " embedding_3 (Embedding)     (None, 20, 40)            200000    \n",
            "                                                                 \n",
            " lstm_3 (LSTM)               (None, 100)               56400     \n",
            "                                                                 \n",
            " dense_3 (Dense)             (None, 1)                 101       \n",
            "                                                                 \n",
            "=================================================================\n",
            "Total params: 256,501\n",
            "Trainable params: 256,501\n",
            "Non-trainable params: 0\n",
            "_________________________________________________________________\n",
            "None\n",
            "memoria: 1686.9296875\n",
            "CPU times: user 252 ms, sys: 5.97 ms, total: 258 ms\n",
            "Wall time: 260 ms\n"
          ]
        }
      ]
    },
    {
      "cell_type": "code",
      "source": [
        "voc_size = 5000\n",
        "df_train_str = df_train[\"text\"].astype(str)\n",
        "\n",
        "onehot_repre = [one_hot(words, voc_size) for words in df_train_str]\n",
        "onehot_repre[0]"
      ],
      "metadata": {
        "colab": {
          "base_uri": "https://localhost:8080/"
        },
        "id": "dyu77aGkzC8x",
        "outputId": "03b3e2ee-ad74-46b9-e031-8105e8d51e45"
      },
      "execution_count": 79,
      "outputs": [
        {
          "output_type": "execute_result",
          "data": {
            "text/plain": [
              "[543,\n",
              " 815,\n",
              " 4721,\n",
              " 3283,\n",
              " 4968,\n",
              " 3784,\n",
              " 3252,\n",
              " 3283,\n",
              " 2563,\n",
              " 3435,\n",
              " 530,\n",
              " 4643,\n",
              " 4606,\n",
              " 3034,\n",
              " 2864,\n",
              " 4203,\n",
              " 1334,\n",
              " 1891,\n",
              " 3435,\n",
              " 530,\n",
              " 853,\n",
              " 3385,\n",
              " 2959,\n",
              " 3901,\n",
              " 2312,\n",
              " 1348,\n",
              " 4511,\n",
              " 1092,\n",
              " 686,\n",
              " 1223,\n",
              " 4528,\n",
              " 2587,\n",
              " 4594,\n",
              " 718,\n",
              " 4214,\n",
              " 2555,\n",
              " 3806,\n",
              " 1522,\n",
              " 2127,\n",
              " 2308,\n",
              " 462,\n",
              " 2815,\n",
              " 3252,\n",
              " 673,\n",
              " 543,\n",
              " 638,\n",
              " 4721,\n",
              " 1218,\n",
              " 322,\n",
              " 613,\n",
              " 1137,\n",
              " 4322,\n",
              " 1522,\n",
              " 2803,\n",
              " 1802,\n",
              " 3252,\n",
              " 2587,\n",
              " 2520,\n",
              " 2563,\n",
              " 4155,\n",
              " 4121,\n",
              " 4028,\n",
              " 2393,\n",
              " 2499,\n",
              " 2444,\n",
              " 1479,\n",
              " 3312,\n",
              " 3283,\n",
              " 4521,\n",
              " 84,\n",
              " 591,\n",
              " 288,\n",
              " 3497,\n",
              " 1496,\n",
              " 3283,\n",
              " 415,\n",
              " 3252,\n",
              " 556,\n",
              " 3015,\n",
              " 57,\n",
              " 1139,\n",
              " 970,\n",
              " 1594,\n",
              " 841,\n",
              " 1137,\n",
              " 3252,\n",
              " 3309,\n",
              " 970,\n",
              " 841,\n",
              " 638,\n",
              " 591,\n",
              " 3183,\n",
              " 543,\n",
              " 1400,\n",
              " 972,\n",
              " 4754,\n",
              " 1496,\n",
              " 1576,\n",
              " 4900,\n",
              " 2393,\n",
              " 770,\n",
              " 2138,\n",
              " 2702,\n",
              " 3784,\n",
              " 2584,\n",
              " 2834,\n",
              " 1387,\n",
              " 2904,\n",
              " 2563,\n",
              " 537,\n",
              " 4754,\n",
              " 1594,\n",
              " 1315,\n",
              " 3435,\n",
              " 530,\n",
              " 4141,\n",
              " 2719,\n",
              " 2127,\n",
              " 12,\n",
              " 57,\n",
              " 4121,\n",
              " 4939,\n",
              " 3846,\n",
              " 4121,\n",
              " 4013,\n",
              " 4915,\n",
              " 2393,\n",
              " 1967,\n",
              " 4356,\n",
              " 1773,\n",
              " 4061,\n",
              " 130,\n",
              " 4757,\n",
              " 3435,\n",
              " 530,\n",
              " 2864,\n",
              " 2075,\n",
              " 1334,\n",
              " 41,\n",
              " 1137,\n",
              " 4061,\n",
              " 3252,\n",
              " 2032,\n",
              " 1791,\n",
              " 4900,\n",
              " 2393,\n",
              " 63,\n",
              " 3622,\n",
              " 1066,\n",
              " 4061,\n",
              " 820,\n",
              " 431,\n",
              " 1137,\n",
              " 280,\n",
              " 3153,\n",
              " 3283,\n",
              " 1661,\n",
              " 2133,\n",
              " 3718,\n",
              " 2553,\n",
              " 4678,\n",
              " 146,\n",
              " 3283,\n",
              " 4172,\n",
              " 530,\n",
              " 3901,\n",
              " 970,\n",
              " 1645,\n",
              " 3544,\n",
              " 1422,\n",
              " 2553,\n",
              " 4897,\n",
              " 1479,\n",
              " 1899,\n",
              " 3771,\n",
              " 978,\n",
              " 1697,\n",
              " 3283,\n",
              " 3497,\n",
              " 4025,\n",
              " 4019,\n",
              " 3270,\n",
              " 3283,\n",
              " 3497,\n",
              " 3718,\n",
              " 530,\n",
              " 1976,\n",
              " 4121,\n",
              " 1645,\n",
              " 2253,\n",
              " 2601,\n",
              " 57,\n",
              " 2135,\n",
              " 1374,\n",
              " 2606,\n",
              " 1493,\n",
              " 2489,\n",
              " 491,\n",
              " 3169,\n",
              " 673,\n",
              " 2038,\n",
              " 543,\n",
              " 638,\n",
              " 4721,\n",
              " 1989,\n",
              " 2563,\n",
              " 2499,\n",
              " 3771,\n",
              " 530,\n",
              " 3283,\n",
              " 4718,\n",
              " 4721,\n",
              " 1068,\n",
              " 1726,\n",
              " 503,\n",
              " 288,\n",
              " 3283,\n",
              " 4968,\n",
              " 1137,\n",
              " 3252,\n",
              " 3283,\n",
              " 2563,\n",
              " 54,\n",
              " 556,\n",
              " 1693,\n",
              " 1859,\n",
              " 3622,\n",
              " 638,\n",
              " 591,\n",
              " 3183,\n",
              " 3497,\n",
              " 1496,\n",
              " 3283,\n",
              " 1764,\n",
              " 3252,\n",
              " 3283,\n",
              " 2563,\n",
              " 970,\n",
              " 841,\n",
              " 4046,\n",
              " 638,\n",
              " 591,\n",
              " 3183,\n",
              " 3283,\n",
              " 1764,\n",
              " 1315,\n",
              " 4754,\n",
              " 4626,\n",
              " 1697,\n",
              " 1594,\n",
              " 3435,\n",
              " 530,\n",
              " 4643,\n",
              " 1509,\n",
              " 1989,\n",
              " 820,\n",
              " 1618,\n",
              " 3283,\n",
              " 3784,\n",
              " 3283,\n",
              " 2010,\n",
              " 1822,\n",
              " 4121,\n",
              " 462,\n",
              " 2207,\n",
              " 530,\n",
              " 262,\n",
              " 1594,\n",
              " 841,\n",
              " 916,\n",
              " 4901,\n",
              " 401,\n",
              " 2000,\n",
              " 1804,\n",
              " 1773,\n",
              " 4790,\n",
              " 530,\n",
              " 996,\n",
              " 1348,\n",
              " 1618,\n",
              " 638,\n",
              " 772,\n",
              " 1137,\n",
              " 966,\n",
              " 673,\n",
              " 4721,\n",
              " 1509,\n",
              " 2267,\n",
              " 1859,\n",
              " 1645,\n",
              " 1078,\n",
              " 175,\n",
              " 2142,\n",
              " 3252,\n",
              " 3394,\n",
              " 2909,\n",
              " 2257,\n",
              " 2563,\n",
              " 530,\n",
              " 2903,\n",
              " 730,\n",
              " 2577,\n",
              " 2256,\n",
              " 1443,\n",
              " 1264,\n",
              " 2499,\n",
              " 857,\n",
              " 2014,\n",
              " 4267,\n",
              " 3755,\n",
              " 1216,\n",
              " 4968,\n",
              " 3811,\n",
              " 4061,\n",
              " 3755,\n",
              " 1216,\n",
              " 3811,\n",
              " 3252,\n",
              " 2981,\n",
              " 567,\n",
              " 4151,\n",
              " 3269,\n",
              " 2159,\n",
              " 1713,\n",
              " 530,\n",
              " 824,\n",
              " 3799,\n",
              " 1821,\n",
              " 1201,\n",
              " 4107,\n",
              " 4606,\n",
              " 500,\n",
              " 1644,\n",
              " 322,\n",
              " 1593,\n",
              " 2797,\n",
              " 2300,\n",
              " 3283,\n",
              " 4968,\n",
              " 1731,\n",
              " 178,\n",
              " 591,\n",
              " 3745,\n",
              " 1909,\n",
              " 448,\n",
              " 110,\n",
              " 1804,\n",
              " 3283,\n",
              " 4086,\n",
              " 1052,\n",
              " 1248,\n",
              " 4776,\n",
              " 3283,\n",
              " 1137,\n",
              " 4649,\n",
              " 3283,\n",
              " 2653,\n",
              " 530,\n",
              " 600,\n",
              " 4654,\n",
              " 4710,\n",
              " 970,\n",
              " 1048,\n",
              " 2871,\n",
              " 704,\n",
              " 4133,\n",
              " 3075,\n",
              " 4202,\n",
              " 2374,\n",
              " 369,\n",
              " 2,\n",
              " 2176,\n",
              " 2252,\n",
              " 2841,\n",
              " 4113,\n",
              " 1234,\n",
              " 802,\n",
              " 1002,\n",
              " 2786,\n",
              " 1365,\n",
              " 970,\n",
              " 543,\n",
              " 4636,\n",
              " 1757,\n",
              " 833,\n",
              " 1459,\n",
              " 530,\n",
              " 3283,\n",
              " 1338,\n",
              " 3516,\n",
              " 1807,\n",
              " 3283,\n",
              " 4822,\n",
              " 3283,\n",
              " 2256,\n",
              " 2494,\n",
              " 4093,\n",
              " 315,\n",
              " 3179,\n",
              " 543,\n",
              " 2685,\n",
              " 970,\n",
              " 224,\n",
              " 613,\n",
              " 3594,\n",
              " 3806,\n",
              " 1522,\n",
              " 2127,\n",
              " 4606,\n",
              " 3034,\n",
              " 4606,\n",
              " 1832,\n",
              " 1327,\n",
              " 3217,\n",
              " 340,\n",
              " 3468,\n",
              " 4762,\n",
              " 725,\n",
              " 873,\n",
              " 3247,\n",
              " 1400,\n",
              " 2256,\n",
              " 3745,\n",
              " 2381,\n",
              " 1822,\n",
              " 1425,\n",
              " 707,\n",
              " 2764,\n",
              " 2381,\n",
              " 2688,\n",
              " 3806,\n",
              " 4690,\n",
              " 2334,\n",
              " 2967,\n",
              " 3075,\n",
              " 4738,\n",
              " 1669,\n",
              " 1767,\n",
              " 1226,\n",
              " 715,\n",
              " 1806,\n",
              " 3952,\n",
              " 4481,\n",
              " 4701,\n",
              " 4714,\n",
              " 2499,\n",
              " 1137,\n",
              " 175,\n",
              " 2142,\n",
              " 2967,\n",
              " 815,\n",
              " 3188,\n",
              " 3065,\n",
              " 1859,\n",
              " 4910,\n",
              " 1191,\n",
              " 624,\n",
              " 3524,\n",
              " 4606,\n",
              " 1831,\n",
              " 4580,\n",
              " 4910]"
            ]
          },
          "metadata": {},
          "execution_count": 79
        }
      ]
    },
    {
      "cell_type": "code",
      "source": [
        "embedded_docs = pad_sequences(onehot_repre, padding='pre', maxlen=sent_length)\n",
        "print(embedded_docs[0])"
      ],
      "metadata": {
        "colab": {
          "base_uri": "https://localhost:8080/"
        },
        "id": "SNPwx1Z44bR0",
        "outputId": "c74aa728-a59b-42e1-dfa1-66a4a94d6072"
      },
      "execution_count": 80,
      "outputs": [
        {
          "output_type": "stream",
          "name": "stdout",
          "text": [
            "[4481 4701 4714 2499 1137  175 2142 2967  815 3188 3065 1859 4910 1191\n",
            "  624 3524 4606 1831 4580 4910]\n"
          ]
        }
      ]
    },
    {
      "cell_type": "code",
      "source": [
        "Y = df_train.label  \n",
        "x_final = np.array(embedded_docs)\n",
        "y_final = np.array(Y)"
      ],
      "metadata": {
        "id": "aMgnSk2J6J_U"
      },
      "execution_count": 83,
      "outputs": []
    },
    {
      "cell_type": "code",
      "source": [
        "x_final.shape, y_final.shape"
      ],
      "metadata": {
        "colab": {
          "base_uri": "https://localhost:8080/"
        },
        "id": "s4wEzGQH6VTQ",
        "outputId": "13be9ba1-e47e-4a69-86bd-776410a7a83a"
      },
      "execution_count": 84,
      "outputs": [
        {
          "output_type": "execute_result",
          "data": {
            "text/plain": [
              "((20800, 20), (20800,))"
            ]
          },
          "metadata": {},
          "execution_count": 84
        }
      ]
    },
    {
      "cell_type": "code",
      "source": [
        "from sklearn.model_selection import train_test_split\n",
        "X_train, X_test, y_train, y_test = train_test_split(x_final, y_final, test_size=0.33, random_state=42)"
      ],
      "metadata": {
        "id": "Agc8s1Dp6ZCe"
      },
      "execution_count": 85,
      "outputs": []
    },
    {
      "cell_type": "code",
      "source": [
        "%%time\n",
        "model.fit(X_train, y_train, validation_data=(X_test, y_test), epochs=10, batch_size=64)\n",
        "print(\"memoria:\",psutil.Process().memory_info().rss / (1024 * 1024))"
      ],
      "metadata": {
        "colab": {
          "base_uri": "https://localhost:8080/"
        },
        "id": "WvKcEYHK6etg",
        "outputId": "744e3a7f-70c4-48a4-a5ae-209790b953af"
      },
      "execution_count": 93,
      "outputs": [
        {
          "output_type": "stream",
          "name": "stdout",
          "text": [
            "Epoch 1/10\n",
            "218/218 [==============================] - 7s 25ms/step - loss: 0.4070 - accuracy: 0.8065 - val_loss: 0.3072 - val_accuracy: 0.8612\n",
            "Epoch 2/10\n",
            "218/218 [==============================] - 5s 24ms/step - loss: 0.2232 - accuracy: 0.9076 - val_loss: 0.2964 - val_accuracy: 0.8728\n",
            "Epoch 3/10\n",
            "218/218 [==============================] - 5s 23ms/step - loss: 0.1519 - accuracy: 0.9452 - val_loss: 0.3655 - val_accuracy: 0.8651\n",
            "Epoch 4/10\n",
            "218/218 [==============================] - 5s 23ms/step - loss: 0.0970 - accuracy: 0.9663 - val_loss: 0.4491 - val_accuracy: 0.8617\n",
            "Epoch 5/10\n",
            "218/218 [==============================] - 5s 23ms/step - loss: 0.0565 - accuracy: 0.9818 - val_loss: 0.5828 - val_accuracy: 0.8530\n",
            "Epoch 6/10\n",
            "218/218 [==============================] - 5s 24ms/step - loss: 0.0322 - accuracy: 0.9895 - val_loss: 0.6541 - val_accuracy: 0.8462\n",
            "Epoch 7/10\n",
            "218/218 [==============================] - 5s 24ms/step - loss: 0.0196 - accuracy: 0.9937 - val_loss: 0.7498 - val_accuracy: 0.8462\n",
            "Epoch 8/10\n",
            "218/218 [==============================] - 5s 24ms/step - loss: 0.0160 - accuracy: 0.9949 - val_loss: 0.8022 - val_accuracy: 0.8470\n",
            "Epoch 9/10\n",
            "218/218 [==============================] - 5s 23ms/step - loss: 0.0105 - accuracy: 0.9967 - val_loss: 1.0374 - val_accuracy: 0.8459\n",
            "Epoch 10/10\n",
            "218/218 [==============================] - 5s 24ms/step - loss: 0.0107 - accuracy: 0.9971 - val_loss: 0.9632 - val_accuracy: 0.8447\n",
            "memoria: 1744.40625\n",
            "CPU times: user 1min 20s, sys: 3.73 s, total: 1min 24s\n",
            "Wall time: 53.6 s\n"
          ]
        }
      ]
    },
    {
      "cell_type": "code",
      "source": [
        "%%time\n",
        "classes_x = (model.predict(X_test) > 0.5).astype(\"int32\")\n",
        "print(\"memoria:\",psutil.Process().memory_info().rss / (1024 * 1024))"
      ],
      "metadata": {
        "colab": {
          "base_uri": "https://localhost:8080/"
        },
        "id": "M5uyOfQk6_FZ",
        "outputId": "67d17d74-731c-4d7b-9442-af133c29a35a"
      },
      "execution_count": 94,
      "outputs": [
        {
          "output_type": "stream",
          "name": "stdout",
          "text": [
            "memoria: 1744.515625\n",
            "CPU times: user 1.7 s, sys: 80 ms, total: 1.78 s\n",
            "Wall time: 1.29 s\n"
          ]
        }
      ]
    },
    {
      "cell_type": "code",
      "source": [
        "from sklearn.metrics import confusion_matrix\n",
        "confusion_matrix(y_test, classes_x)"
      ],
      "metadata": {
        "colab": {
          "base_uri": "https://localhost:8080/"
        },
        "id": "Q_uyRQyg7BgX",
        "outputId": "9d51f66b-4879-4581-9bc9-fda682491d65"
      },
      "execution_count": 88,
      "outputs": [
        {
          "output_type": "execute_result",
          "data": {
            "text/plain": [
              "array([[2990,  459],\n",
              "       [ 594, 2821]])"
            ]
          },
          "metadata": {},
          "execution_count": 88
        }
      ]
    },
    {
      "cell_type": "code",
      "source": [
        "from sklearn.metrics import accuracy_score\n",
        "accuracy_score(y_test,classes_x)"
      ],
      "metadata": {
        "colab": {
          "base_uri": "https://localhost:8080/"
        },
        "id": "nC-kqTog7DwZ",
        "outputId": "bbb0355e-4778-4ed6-9870-1a9e67113b43"
      },
      "execution_count": 89,
      "outputs": [
        {
          "output_type": "execute_result",
          "data": {
            "text/plain": [
              "0.8465909090909091"
            ]
          },
          "metadata": {},
          "execution_count": 89
        }
      ]
    }
  ]
}