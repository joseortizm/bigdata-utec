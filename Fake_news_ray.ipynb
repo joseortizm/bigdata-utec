{
  "nbformat": 4,
  "nbformat_minor": 0,
  "metadata": {
    "application/vnd.databricks.v1+notebook": {
      "notebookName": "Fake-news",
      "dashboards": [],
      "notebookMetadata": {
        "pythonIndentUnit": 2
      },
      "language": "python",
      "widgets": {},
      "notebookOrigID": 2108108501825771
    },
    "colab": {
      "name": "Fake-news_ray.ipynb",
      "provenance": [],
      "collapsed_sections": []
    },
    "language_info": {
      "name": "python"
    },
    "kernelspec": {
      "name": "python3",
      "display_name": "Python 3"
    }
  },
  "cells": [
    {
      "cell_type": "code",
      "metadata": {
        "id": "V2JM4RztjxB1"
      },
      "source": [
        "## Descargar kaggle.json de \"account\" en la cuenta de kaggle."
      ],
      "execution_count": null,
      "outputs": []
    },
    {
      "cell_type": "markdown",
      "metadata": {
        "id": "vp7fSMw3D8aH"
      },
      "source": [
        "## Descargar librerías importantes"
      ]
    },
    {
      "cell_type": "code",
      "metadata": {
        "colab": {
          "base_uri": "https://localhost:8080/"
        },
        "id": "m47_4zqGKZSu",
        "outputId": "dd2fe1a1-32ef-48a9-93fe-2ea764333730"
      },
      "source": [
        "!pip install kaggle"
      ],
      "execution_count": 1,
      "outputs": [
        {
          "output_type": "stream",
          "name": "stdout",
          "text": [
            "Requirement already satisfied: kaggle in /usr/local/lib/python3.7/dist-packages (1.5.12)\n",
            "Requirement already satisfied: six>=1.10 in /usr/local/lib/python3.7/dist-packages (from kaggle) (1.15.0)\n",
            "Requirement already satisfied: python-slugify in /usr/local/lib/python3.7/dist-packages (from kaggle) (5.0.2)\n",
            "Requirement already satisfied: urllib3 in /usr/local/lib/python3.7/dist-packages (from kaggle) (1.24.3)\n",
            "Requirement already satisfied: requests in /usr/local/lib/python3.7/dist-packages (from kaggle) (2.23.0)\n",
            "Requirement already satisfied: certifi in /usr/local/lib/python3.7/dist-packages (from kaggle) (2021.10.8)\n",
            "Requirement already satisfied: tqdm in /usr/local/lib/python3.7/dist-packages (from kaggle) (4.62.3)\n",
            "Requirement already satisfied: python-dateutil in /usr/local/lib/python3.7/dist-packages (from kaggle) (2.8.2)\n",
            "Requirement already satisfied: text-unidecode>=1.3 in /usr/local/lib/python3.7/dist-packages (from python-slugify->kaggle) (1.3)\n",
            "Requirement already satisfied: chardet<4,>=3.0.2 in /usr/local/lib/python3.7/dist-packages (from requests->kaggle) (3.0.4)\n",
            "Requirement already satisfied: idna<3,>=2.5 in /usr/local/lib/python3.7/dist-packages (from requests->kaggle) (2.10)\n"
          ]
        }
      ]
    },
    {
      "cell_type": "code",
      "metadata": {
        "colab": {
          "base_uri": "https://localhost:8080/"
        },
        "id": "D1bKdiy2D5aD",
        "outputId": "cf037fd4-0f46-44c5-caff-ef772c4059ac"
      },
      "source": [
        "!pip install ray"
      ],
      "execution_count": 2,
      "outputs": [
        {
          "output_type": "stream",
          "name": "stdout",
          "text": [
            "Requirement already satisfied: ray in /usr/local/lib/python3.7/dist-packages (1.8.0)\n",
            "Requirement already satisfied: grpcio>=1.28.1 in /usr/local/lib/python3.7/dist-packages (from ray) (1.42.0)\n",
            "Requirement already satisfied: pyyaml in /usr/local/lib/python3.7/dist-packages (from ray) (3.13)\n",
            "Requirement already satisfied: msgpack<2.0.0,>=1.0.0 in /usr/local/lib/python3.7/dist-packages (from ray) (1.0.2)\n",
            "Requirement already satisfied: jsonschema in /usr/local/lib/python3.7/dist-packages (from ray) (2.6.0)\n",
            "Requirement already satisfied: numpy>=1.16 in /usr/local/lib/python3.7/dist-packages (from ray) (1.19.5)\n",
            "Requirement already satisfied: click>=7.0 in /usr/local/lib/python3.7/dist-packages (from ray) (7.1.2)\n",
            "Requirement already satisfied: attrs in /usr/local/lib/python3.7/dist-packages (from ray) (21.2.0)\n",
            "Requirement already satisfied: protobuf>=3.15.3 in /usr/local/lib/python3.7/dist-packages (from ray) (3.17.3)\n",
            "Requirement already satisfied: redis>=3.5.0 in /usr/local/lib/python3.7/dist-packages (from ray) (4.0.2)\n",
            "Requirement already satisfied: filelock in /usr/local/lib/python3.7/dist-packages (from ray) (3.4.0)\n",
            "Requirement already satisfied: six>=1.5.2 in /usr/local/lib/python3.7/dist-packages (from grpcio>=1.28.1->ray) (1.15.0)\n",
            "Requirement already satisfied: deprecated in /usr/local/lib/python3.7/dist-packages (from redis>=3.5.0->ray) (1.2.13)\n",
            "Requirement already satisfied: wrapt<2,>=1.10 in /usr/local/lib/python3.7/dist-packages (from deprecated->redis>=3.5.0->ray) (1.13.3)\n"
          ]
        }
      ]
    },
    {
      "cell_type": "code",
      "metadata": {
        "colab": {
          "base_uri": "https://localhost:8080/"
        },
        "id": "sW41inrSFpzT",
        "outputId": "d1ce4779-7a6d-487c-f6f9-43a08cf6e11a"
      },
      "source": [
        "!pip install ray[data]"
      ],
      "execution_count": 3,
      "outputs": [
        {
          "output_type": "stream",
          "name": "stdout",
          "text": [
            "Requirement already satisfied: ray[data] in /usr/local/lib/python3.7/dist-packages (1.8.0)\n",
            "Requirement already satisfied: redis>=3.5.0 in /usr/local/lib/python3.7/dist-packages (from ray[data]) (4.0.2)\n",
            "Requirement already satisfied: msgpack<2.0.0,>=1.0.0 in /usr/local/lib/python3.7/dist-packages (from ray[data]) (1.0.2)\n",
            "Requirement already satisfied: grpcio>=1.28.1 in /usr/local/lib/python3.7/dist-packages (from ray[data]) (1.42.0)\n",
            "Requirement already satisfied: numpy>=1.16 in /usr/local/lib/python3.7/dist-packages (from ray[data]) (1.19.5)\n",
            "Requirement already satisfied: filelock in /usr/local/lib/python3.7/dist-packages (from ray[data]) (3.4.0)\n",
            "Requirement already satisfied: protobuf>=3.15.3 in /usr/local/lib/python3.7/dist-packages (from ray[data]) (3.17.3)\n",
            "Requirement already satisfied: click>=7.0 in /usr/local/lib/python3.7/dist-packages (from ray[data]) (7.1.2)\n",
            "Requirement already satisfied: jsonschema in /usr/local/lib/python3.7/dist-packages (from ray[data]) (2.6.0)\n",
            "Requirement already satisfied: pyyaml in /usr/local/lib/python3.7/dist-packages (from ray[data]) (3.13)\n",
            "Requirement already satisfied: attrs in /usr/local/lib/python3.7/dist-packages (from ray[data]) (21.2.0)\n",
            "Requirement already satisfied: pandas in /usr/local/lib/python3.7/dist-packages (from ray[data]) (1.1.5)\n",
            "Requirement already satisfied: pyarrow>=4.0.1 in /usr/local/lib/python3.7/dist-packages (from ray[data]) (6.0.1)\n",
            "Requirement already satisfied: fsspec in /usr/local/lib/python3.7/dist-packages (from ray[data]) (2021.11.1)\n",
            "Requirement already satisfied: six>=1.5.2 in /usr/local/lib/python3.7/dist-packages (from grpcio>=1.28.1->ray[data]) (1.15.0)\n",
            "Requirement already satisfied: deprecated in /usr/local/lib/python3.7/dist-packages (from redis>=3.5.0->ray[data]) (1.2.13)\n",
            "Requirement already satisfied: wrapt<2,>=1.10 in /usr/local/lib/python3.7/dist-packages (from deprecated->redis>=3.5.0->ray[data]) (1.13.3)\n",
            "Requirement already satisfied: pytz>=2017.2 in /usr/local/lib/python3.7/dist-packages (from pandas->ray[data]) (2018.9)\n",
            "Requirement already satisfied: python-dateutil>=2.7.3 in /usr/local/lib/python3.7/dist-packages (from pandas->ray[data]) (2.8.2)\n"
          ]
        }
      ]
    },
    {
      "cell_type": "code",
      "metadata": {
        "colab": {
          "base_uri": "https://localhost:8080/"
        },
        "id": "fV0QE0WjEnHi",
        "outputId": "acac6467-728e-4ea7-c744-445e34fe1633"
      },
      "source": [
        "!pip install emoji"
      ],
      "execution_count": 4,
      "outputs": [
        {
          "output_type": "stream",
          "name": "stdout",
          "text": [
            "Requirement already satisfied: emoji in /usr/local/lib/python3.7/dist-packages (1.6.1)\n"
          ]
        }
      ]
    },
    {
      "cell_type": "code",
      "metadata": {
        "id": "pBWwrfxEEi9L"
      },
      "source": [
        "import pandas as pd\n",
        "import numpy as np\n",
        "import re\n",
        "import string\n",
        "import emoji\n",
        "import matplotlib.pyplot as plt\n",
        "from nltk.corpus import stopwords\n",
        "from nltk.tokenize import word_tokenize\n",
        "from sklearn.feature_extraction.text import TfidfVectorizer\n",
        "from sklearn.model_selection import train_test_split\n",
        "# ML Libraries\n",
        "from sklearn.metrics import accuracy_score, classification_report\n",
        "from sklearn.ensemble import RandomForestClassifier, VotingClassifier\n",
        "from sklearn.naive_bayes import MultinomialNB\n",
        "from sklearn.linear_model import LogisticRegression\n",
        "from sklearn import svm, tree\n",
        "\n",
        "import ray\n",
        "from joblib import parallel_backend\n",
        "import math, statistics, time\n",
        "import numpy as np\n",
        "import os, psutil"
      ],
      "execution_count": 22,
      "outputs": []
    },
    {
      "cell_type": "markdown",
      "metadata": {
        "id": "1BYwa9UUEBU-"
      },
      "source": [
        "## Acceder a la base de datos"
      ]
    },
    {
      "cell_type": "code",
      "metadata": {
        "id": "HWpF2HscKpth"
      },
      "source": [
        "!cp kaggle.json kaggle"
      ],
      "execution_count": 2,
      "outputs": []
    },
    {
      "cell_type": "code",
      "metadata": {
        "id": "O_9dDKS_LvQE"
      },
      "source": [
        "! chmod 600 kaggle.json"
      ],
      "execution_count": 3,
      "outputs": []
    },
    {
      "cell_type": "code",
      "metadata": {
        "id": "Js5UEuiqMKc2"
      },
      "source": [
        "! cp kaggle.json ~/.kaggle/"
      ],
      "execution_count": 6,
      "outputs": []
    },
    {
      "cell_type": "code",
      "metadata": {
        "id": "IHwag5pNMMiX"
      },
      "source": [
        "! chmod 600 ~/.kaggle/kaggle.json"
      ],
      "execution_count": 7,
      "outputs": []
    },
    {
      "cell_type": "code",
      "metadata": {
        "colab": {
          "base_uri": "https://localhost:8080/"
        },
        "id": "UhTM440FL73b",
        "outputId": "7417ab4d-fb34-491f-d743-701c9ea9bd09"
      },
      "source": [
        "!kaggle competitions download -c fake-news"
      ],
      "execution_count": 8,
      "outputs": [
        {
          "output_type": "stream",
          "name": "stdout",
          "text": [
            "Warning: Looks like you're using an outdated API Version, please consider updating (server 1.5.12 / client 1.5.4)\n",
            "Downloading submit.csv to /content\n",
            "  0% 0.00/40.6k [00:00<?, ?B/s]\n",
            "100% 40.6k/40.6k [00:00<00:00, 16.3MB/s]\n",
            "Downloading train.csv.zip to /content\n",
            " 76% 28.0M/37.0M [00:00<00:00, 58.5MB/s]\n",
            "100% 37.0M/37.0M [00:00<00:00, 81.9MB/s]\n",
            "Downloading test.csv.zip to /content\n",
            " 64% 6.00M/9.42M [00:00<00:00, 62.4MB/s]\n",
            "100% 9.42M/9.42M [00:00<00:00, 60.2MB/s]\n"
          ]
        }
      ]
    },
    {
      "cell_type": "code",
      "metadata": {
        "colab": {
          "base_uri": "https://localhost:8080/"
        },
        "id": "sOqejJTVMVVN",
        "outputId": "c4c5b015-04fe-4d8f-9e45-227c98bc3e08"
      },
      "source": [
        "! unzip test.csv.zip\n",
        "! unzip train.csv.zip"
      ],
      "execution_count": 9,
      "outputs": [
        {
          "output_type": "stream",
          "name": "stdout",
          "text": [
            "Archive:  test.csv.zip\n",
            "  inflating: test.csv                \n",
            "Archive:  train.csv.zip\n",
            "  inflating: train.csv               \n"
          ]
        }
      ]
    },
    {
      "cell_type": "markdown",
      "metadata": {
        "id": "XHrxS5bMFEg3"
      },
      "source": [
        "## Entorno Ray"
      ]
    },
    {
      "cell_type": "code",
      "metadata": {
        "colab": {
          "base_uri": "https://localhost:8080/"
        },
        "id": "srfvWviHFIhN",
        "outputId": "fbac7a4a-c296-439b-faf3-58a152f9da53"
      },
      "source": [
        "num_workers = 8\n",
        "trials = 20\n",
        "ray.init(num_cpus=num_workers, ignore_reinit_error=True)"
      ],
      "execution_count": 6,
      "outputs": [
        {
          "output_type": "execute_result",
          "data": {
            "text/plain": [
              "{'metrics_export_port': 46048,\n",
              " 'node_id': 'e4338e65d4a758597b318fdc9ac81f008fb69443e74197a73b4aac95',\n",
              " 'node_ip_address': '172.28.0.2',\n",
              " 'object_store_address': '/tmp/ray/session_2021-11-29_00-30-26_903616_454/sockets/plasma_store',\n",
              " 'raylet_ip_address': '172.28.0.2',\n",
              " 'raylet_socket_name': '/tmp/ray/session_2021-11-29_00-30-26_903616_454/sockets/raylet',\n",
              " 'redis_address': '172.28.0.2:6379',\n",
              " 'session_dir': '/tmp/ray/session_2021-11-29_00-30-26_903616_454',\n",
              " 'webui_url': None}"
            ]
          },
          "metadata": {},
          "execution_count": 6
        }
      ]
    },
    {
      "cell_type": "markdown",
      "metadata": {
        "id": "E9QQrX7bEEmG"
      },
      "source": [
        "## Lectura de datos"
      ]
    },
    {
      "cell_type": "code",
      "metadata": {
        "id": "7ohyvqpkLBGg"
      },
      "source": [
        "@ray.remote\n",
        "def ray_read(dat):\n",
        "    return pd.read_csv(dat)"
      ],
      "execution_count": 32,
      "outputs": []
    },
    {
      "cell_type": "code",
      "metadata": {
        "colab": {
          "base_uri": "https://localhost:8080/"
        },
        "id": "F58UqbgTEbUA",
        "outputId": "80e6e440-b7b6-49b4-c8ba-cdeefe52abfb"
      },
      "source": [
        "start = time.time()\n",
        "df_submit_ray = ray_read.remote(\"/content/submit.csv\")\n",
        "df_submit = ray.get(df_submit_ray)\n",
        "duration = time.time() - start\n",
        "print(duration)\n",
        "print(psutil.Process().memory_info().rss / (1024 * 1024))"
      ],
      "execution_count": 35,
      "outputs": [
        {
          "output_type": "stream",
          "name": "stdout",
          "text": [
            "0.008511543273925781\n",
            "255.80859375\n"
          ]
        }
      ]
    },
    {
      "cell_type": "code",
      "metadata": {
        "colab": {
          "base_uri": "https://localhost:8080/"
        },
        "id": "sitiE0UBGoVF",
        "outputId": "a67ba34e-05da-4d81-feda-0eb877b98a4e"
      },
      "source": [
        "start = time.time()\n",
        "df_train_ray = ray_read.remote(\"/content/train.csv\")\n",
        "df_train = ray.get(df_train_ray)\n",
        "duration = time.time() - start\n",
        "print(duration)\n",
        "print(psutil.Process().memory_info().rss / (1024 * 1024))"
      ],
      "execution_count": 44,
      "outputs": [
        {
          "output_type": "stream",
          "name": "stdout",
          "text": [
            "1.6012375354766846\n",
            "1374.43359375\n"
          ]
        }
      ]
    },
    {
      "cell_type": "code",
      "metadata": {
        "colab": {
          "base_uri": "https://localhost:8080/"
        },
        "id": "9NyJFcw8NCjW",
        "outputId": "d0552f78-47ba-4ef9-e28f-defa44f985ef"
      },
      "source": [
        "start = time.time()\n",
        "df_test_ray = ray_read.remote(\"/content/test.csv\")\n",
        "df_test = ray.get(df_test_ray)\n",
        "duration = time.time() - start\n",
        "print(duration)\n",
        "print(psutil.Process().memory_info().rss / (1024 * 1024))"
      ],
      "execution_count": 45,
      "outputs": [
        {
          "output_type": "stream",
          "name": "stdout",
          "text": [
            "0.43208885192871094\n",
            "1425.72265625\n"
          ]
        }
      ]
    },
    {
      "cell_type": "code",
      "metadata": {
        "colab": {
          "base_uri": "https://localhost:8080/",
          "height": 221
        },
        "id": "lx0e6ifkQtNq",
        "outputId": "d19000e0-e601-472b-8e83-4464125e58e0"
      },
      "source": [
        "df_train.head()"
      ],
      "execution_count": 46,
      "outputs": [
        {
          "output_type": "execute_result",
          "data": {
            "text/html": [
              "<div>\n",
              "<style scoped>\n",
              "    .dataframe tbody tr th:only-of-type {\n",
              "        vertical-align: middle;\n",
              "    }\n",
              "\n",
              "    .dataframe tbody tr th {\n",
              "        vertical-align: top;\n",
              "    }\n",
              "\n",
              "    .dataframe thead th {\n",
              "        text-align: right;\n",
              "    }\n",
              "</style>\n",
              "<table border=\"1\" class=\"dataframe\">\n",
              "  <thead>\n",
              "    <tr style=\"text-align: right;\">\n",
              "      <th></th>\n",
              "      <th>id</th>\n",
              "      <th>title</th>\n",
              "      <th>author</th>\n",
              "      <th>text</th>\n",
              "      <th>label</th>\n",
              "    </tr>\n",
              "  </thead>\n",
              "  <tbody>\n",
              "    <tr>\n",
              "      <th>0</th>\n",
              "      <td>0</td>\n",
              "      <td>House Dem Aide: We Didn’t Even See Comey’s Let...</td>\n",
              "      <td>Darrell Lucus</td>\n",
              "      <td>House Dem Aide: We Didn’t Even See Comey’s Let...</td>\n",
              "      <td>1</td>\n",
              "    </tr>\n",
              "    <tr>\n",
              "      <th>1</th>\n",
              "      <td>1</td>\n",
              "      <td>FLYNN: Hillary Clinton, Big Woman on Campus - ...</td>\n",
              "      <td>Daniel J. Flynn</td>\n",
              "      <td>Ever get the feeling your life circles the rou...</td>\n",
              "      <td>0</td>\n",
              "    </tr>\n",
              "    <tr>\n",
              "      <th>2</th>\n",
              "      <td>2</td>\n",
              "      <td>Why the Truth Might Get You Fired</td>\n",
              "      <td>Consortiumnews.com</td>\n",
              "      <td>Why the Truth Might Get You Fired October 29, ...</td>\n",
              "      <td>1</td>\n",
              "    </tr>\n",
              "    <tr>\n",
              "      <th>3</th>\n",
              "      <td>3</td>\n",
              "      <td>15 Civilians Killed In Single US Airstrike Hav...</td>\n",
              "      <td>Jessica Purkiss</td>\n",
              "      <td>Videos 15 Civilians Killed In Single US Airstr...</td>\n",
              "      <td>1</td>\n",
              "    </tr>\n",
              "    <tr>\n",
              "      <th>4</th>\n",
              "      <td>4</td>\n",
              "      <td>Iranian woman jailed for fictional unpublished...</td>\n",
              "      <td>Howard Portnoy</td>\n",
              "      <td>Print \\nAn Iranian woman has been sentenced to...</td>\n",
              "      <td>1</td>\n",
              "    </tr>\n",
              "  </tbody>\n",
              "</table>\n",
              "</div>"
            ],
            "text/plain": [
              "   id  ... label\n",
              "0   0  ...     1\n",
              "1   1  ...     0\n",
              "2   2  ...     1\n",
              "3   3  ...     1\n",
              "4   4  ...     1\n",
              "\n",
              "[5 rows x 5 columns]"
            ]
          },
          "metadata": {},
          "execution_count": 46
        }
      ]
    },
    {
      "cell_type": "markdown",
      "metadata": {
        "id": "Z27bw4hVQi7b"
      },
      "source": [
        "## Eliminar nulos"
      ]
    },
    {
      "cell_type": "code",
      "metadata": {
        "id": "dkbdA57NRMya"
      },
      "source": [
        "@ray.remote\n",
        "def ray_remove_null(dat):\n",
        "    return dat[dat.text.notna()]"
      ],
      "execution_count": 42,
      "outputs": []
    },
    {
      "cell_type": "code",
      "metadata": {
        "colab": {
          "base_uri": "https://localhost:8080/"
        },
        "id": "wNPnb_SFQanP",
        "outputId": "0b0e91fb-e909-40c5-ee6b-0b564bf852b5"
      },
      "source": [
        "start = time.time()\n",
        "df_train_rm = ray_remove_null.remote(df_train)\n",
        "df_train = ray.get(df_train_rm)\n",
        "duration = time.time() - start\n",
        "print(duration)\n",
        "print(psutil.Process().memory_info().rss / (1024 * 1024))"
      ],
      "execution_count": 47,
      "outputs": [
        {
          "output_type": "stream",
          "name": "stdout",
          "text": [
            "1.301347255706787\n",
            "1679.42578125\n"
          ]
        }
      ]
    },
    {
      "cell_type": "code",
      "metadata": {
        "colab": {
          "base_uri": "https://localhost:8080/"
        },
        "id": "IrGA0A8mRqvB",
        "outputId": "155cefa4-95a7-4ede-c050-ad8113bb0084"
      },
      "source": [
        "start = time.time()\n",
        "df_test_rm = ray_remove_null.remote(df_test)\n",
        "df_test = ray.get(df_test_rm)\n",
        "duration = time.time() - start\n",
        "print(duration)\n",
        "print(psutil.Process().memory_info().rss / (1024 * 1024))"
      ],
      "execution_count": 48,
      "outputs": [
        {
          "output_type": "stream",
          "name": "stdout",
          "text": [
            "0.30404067039489746\n",
            "1686.8203125\n"
          ]
        }
      ]
    },
    {
      "cell_type": "code",
      "metadata": {
        "colab": {
          "base_uri": "https://localhost:8080/",
          "height": 119
        },
        "id": "Tp3Blnv9O9_L",
        "outputId": "16b3567a-983d-40f9-e337-199aed54482c"
      },
      "source": [
        "display(type(df_test))\n",
        "display((df_test.count(), len(df_test.columns)))"
      ],
      "execution_count": 49,
      "outputs": [
        {
          "output_type": "display_data",
          "data": {
            "text/plain": [
              "pandas.core.frame.DataFrame"
            ]
          },
          "metadata": {}
        },
        {
          "output_type": "display_data",
          "data": {
            "text/plain": [
              "(id        5193\n",
              " title     5071\n",
              " author    4697\n",
              " text      5193\n",
              " dtype: int64, 4)"
            ]
          },
          "metadata": {}
        }
      ]
    },
    {
      "cell_type": "markdown",
      "metadata": {
        "id": "UCsA2usoTqoc"
      },
      "source": [
        "## Procesamiento de datos"
      ]
    },
    {
      "cell_type": "code",
      "metadata": {
        "colab": {
          "base_uri": "https://localhost:8080/"
        },
        "id": "iRb50IxcTbP0",
        "outputId": "893f6ebc-7eb8-4f91-bfe3-480bb2653b44"
      },
      "source": [
        "import nltk\n",
        "nltk.download('stopwords')\n",
        "nltk.download('punkt')"
      ],
      "execution_count": 50,
      "outputs": [
        {
          "output_type": "stream",
          "name": "stdout",
          "text": [
            "[nltk_data] Downloading package stopwords to /root/nltk_data...\n",
            "[nltk_data]   Unzipping corpora/stopwords.zip.\n",
            "[nltk_data] Downloading package punkt to /root/nltk_data...\n",
            "[nltk_data]   Unzipping tokenizers/punkt.zip.\n"
          ]
        },
        {
          "output_type": "execute_result",
          "data": {
            "text/plain": [
              "True"
            ]
          },
          "metadata": {},
          "execution_count": 50
        }
      ]
    },
    {
      "cell_type": "code",
      "metadata": {
        "id": "cFFFm31YT0UT"
      },
      "source": [
        "stop_words = set(stopwords.words('english'))"
      ],
      "execution_count": 51,
      "outputs": []
    },
    {
      "cell_type": "code",
      "metadata": {
        "id": "77IjoH0VWOaL"
      },
      "source": [
        "def give_emoji_free_text(text): \n",
        "    return emoji.get_emoji_regexp().sub(r'', text)"
      ],
      "execution_count": 52,
      "outputs": []
    },
    {
      "cell_type": "code",
      "metadata": {
        "id": "mmzP-Lq4WOOt"
      },
      "source": [
        "def preprocess_tweet_text(tweet):\n",
        "    emoticon_string = r\"\"\"\n",
        "    (?:\n",
        "    [<>]?\n",
        "    [:;=8]                     \n",
        "    [\\-o\\*\\']?                 \n",
        "    [\\)\\]\\(\\[dDpP/\\:\\}\\{@\\|\\\\]       \n",
        "    |\n",
        "    [\\)\\]\\(\\[dDpP/\\:\\}\\{@\\|\\\\]\n",
        "    [\\-o\\*\\']?                 \n",
        "    [:;=8]                     \n",
        "    [<>]?\n",
        "    )\"\"\"\n",
        "\n",
        "    replacements = (\n",
        "    (\"á\", \"a\"),\n",
        "    (\"é\", \"e\"),\n",
        "    (\"í\", \"i\"),\n",
        "    (\"ó\", \"o\"),\n",
        "    (\"ú\", \"u\"),\n",
        "    )\n",
        "\n",
        "    tweet = tweet.lower()\n",
        "    # Remove urls\n",
        "    tweet = re.sub(r\"http\\S+|www\\S+|https\\S+\", '', tweet, flags=re.MULTILINE)\n",
        "    # Remove user @ references and '#' from tweet\n",
        "    tweet = re.sub(r'\\@\\w+|\\#','', tweet)\n",
        "    # Remove user ¿ and ¡ from tweet\n",
        "    tweet = re.sub(r'\\¿|\\¡|\\?|\\!','', tweet)\n",
        "    # Remove punctuations\n",
        "    tweet = tweet.translate(str.maketrans('', '', string.punctuation))\n",
        "    # remove graphical emoji\n",
        "    tweet = give_emoji_free_text(tweet) \n",
        "    # remove textual emoji\n",
        "    tweet = re.sub(emoticon_string,'',tweet)\n",
        "    #remove accent mark\n",
        "    for a, b in replacements:\n",
        "        tweet = tweet.replace(a, b)\n",
        "\n",
        "    # Remove stopwords\n",
        "    tweet_tokens = word_tokenize(tweet)\n",
        "    filtered_words = [w for w in tweet_tokens if not w in stop_words]\n",
        "    \n",
        "    return \" \".join(filtered_words)"
      ],
      "execution_count": 53,
      "outputs": []
    },
    {
      "cell_type": "code",
      "metadata": {
        "id": "h3LZCrEFWOFK"
      },
      "source": [
        "def get_feature_vector(train_fit):\n",
        "    vector = TfidfVectorizer(sublinear_tf=True)\n",
        "    vector.fit(train_fit)\n",
        "    return vector"
      ],
      "execution_count": 54,
      "outputs": []
    },
    {
      "cell_type": "code",
      "metadata": {
        "colab": {
          "base_uri": "https://localhost:8080/",
          "height": 221
        },
        "id": "-d_TdTf4XbPd",
        "outputId": "3da2fb46-8d14-4dc5-dec1-4b6ae96d8444"
      },
      "source": [
        "df_train.head()"
      ],
      "execution_count": 55,
      "outputs": [
        {
          "output_type": "execute_result",
          "data": {
            "text/html": [
              "<div>\n",
              "<style scoped>\n",
              "    .dataframe tbody tr th:only-of-type {\n",
              "        vertical-align: middle;\n",
              "    }\n",
              "\n",
              "    .dataframe tbody tr th {\n",
              "        vertical-align: top;\n",
              "    }\n",
              "\n",
              "    .dataframe thead th {\n",
              "        text-align: right;\n",
              "    }\n",
              "</style>\n",
              "<table border=\"1\" class=\"dataframe\">\n",
              "  <thead>\n",
              "    <tr style=\"text-align: right;\">\n",
              "      <th></th>\n",
              "      <th>id</th>\n",
              "      <th>title</th>\n",
              "      <th>author</th>\n",
              "      <th>text</th>\n",
              "      <th>label</th>\n",
              "    </tr>\n",
              "  </thead>\n",
              "  <tbody>\n",
              "    <tr>\n",
              "      <th>0</th>\n",
              "      <td>0</td>\n",
              "      <td>House Dem Aide: We Didn’t Even See Comey’s Let...</td>\n",
              "      <td>Darrell Lucus</td>\n",
              "      <td>House Dem Aide: We Didn’t Even See Comey’s Let...</td>\n",
              "      <td>1</td>\n",
              "    </tr>\n",
              "    <tr>\n",
              "      <th>1</th>\n",
              "      <td>1</td>\n",
              "      <td>FLYNN: Hillary Clinton, Big Woman on Campus - ...</td>\n",
              "      <td>Daniel J. Flynn</td>\n",
              "      <td>Ever get the feeling your life circles the rou...</td>\n",
              "      <td>0</td>\n",
              "    </tr>\n",
              "    <tr>\n",
              "      <th>2</th>\n",
              "      <td>2</td>\n",
              "      <td>Why the Truth Might Get You Fired</td>\n",
              "      <td>Consortiumnews.com</td>\n",
              "      <td>Why the Truth Might Get You Fired October 29, ...</td>\n",
              "      <td>1</td>\n",
              "    </tr>\n",
              "    <tr>\n",
              "      <th>3</th>\n",
              "      <td>3</td>\n",
              "      <td>15 Civilians Killed In Single US Airstrike Hav...</td>\n",
              "      <td>Jessica Purkiss</td>\n",
              "      <td>Videos 15 Civilians Killed In Single US Airstr...</td>\n",
              "      <td>1</td>\n",
              "    </tr>\n",
              "    <tr>\n",
              "      <th>4</th>\n",
              "      <td>4</td>\n",
              "      <td>Iranian woman jailed for fictional unpublished...</td>\n",
              "      <td>Howard Portnoy</td>\n",
              "      <td>Print \\nAn Iranian woman has been sentenced to...</td>\n",
              "      <td>1</td>\n",
              "    </tr>\n",
              "  </tbody>\n",
              "</table>\n",
              "</div>"
            ],
            "text/plain": [
              "   id  ... label\n",
              "0   0  ...     1\n",
              "1   1  ...     0\n",
              "2   2  ...     1\n",
              "3   3  ...     1\n",
              "4   4  ...     1\n",
              "\n",
              "[5 rows x 5 columns]"
            ]
          },
          "metadata": {},
          "execution_count": 55
        }
      ]
    },
    {
      "cell_type": "code",
      "metadata": {
        "id": "kXdgWbvJb8HT"
      },
      "source": [
        "@ray.remote\n",
        "def ray_preprocess_tweet_text(tweet):\n",
        "    return preprocess_tweet_text(tweet)"
      ],
      "execution_count": 56,
      "outputs": []
    },
    {
      "cell_type": "code",
      "metadata": {
        "colab": {
          "base_uri": "https://localhost:8080/"
        },
        "id": "JrIMQCqwUJ-G",
        "outputId": "95f9a738-5a90-49aa-adde-47a06c9d0344"
      },
      "source": [
        "start = time.time()\n",
        "df_train['text'] = df_train['text'].apply(ray_preprocess_tweet_text.remote)\n",
        "df_train['text'] = df_train['text'].apply(ray.get)\n",
        "duration = time.time() - start\n",
        "print(duration)\n",
        "print(psutil.Process().memory_info().rss / (1024 * 1024))"
      ],
      "execution_count": 57,
      "outputs": [
        {
          "output_type": "stream",
          "name": "stderr",
          "text": [
            "\u001b[2m\u001b[36m(pid=1085)\u001b[0m [2021-11-29 01:31:00,993 C 1085 1141] core_worker.cc:194:  Check failed: core_worker_process The core worker process is not initialized yet or already shutdown.\n",
            "\u001b[2m\u001b[36m(pid=1085)\u001b[0m *** StackTrace Information ***\n",
            "\u001b[2m\u001b[36m(pid=1085)\u001b[0m     ray::SpdLogMessage::Flush()\n",
            "\u001b[2m\u001b[36m(pid=1085)\u001b[0m     ray::RayLog::~RayLog()\n",
            "\u001b[2m\u001b[36m(pid=1085)\u001b[0m     ray::core::CoreWorkerProcess::EnsureInitialized()\n",
            "\u001b[2m\u001b[36m(pid=1085)\u001b[0m     ray::core::CoreWorkerProcess::GetCoreWorker()\n",
            "\u001b[2m\u001b[36m(pid=1085)\u001b[0m     __pyx_pw_3ray_7_raylet_10CoreWorker_23get_worker_id()\n",
            "\u001b[2m\u001b[36m(pid=1085)\u001b[0m     _PyMethodDef_RawFastCallKeywords\n",
            "\u001b[2m\u001b[36m(pid=1085)\u001b[0m \n"
          ]
        },
        {
          "output_type": "stream",
          "name": "stdout",
          "text": [
            "\u001b[2m\u001b[36m(ray_preprocess_tweet_text pid=1044)\u001b[0m \n",
            "\u001b[2m\u001b[36m(ray_preprocess_tweet_text pid=995)\u001b[0m \n",
            "\u001b[2m\u001b[36m(ray_preprocess_tweet_text pid=1035)\u001b[0m \n",
            "\u001b[2m\u001b[36m(ray_preprocess_tweet_text pid=627)\u001b[0m \n",
            "\u001b[2m\u001b[36m(ray_preprocess_tweet_text pid=1132)\u001b[0m \n",
            "\u001b[2m\u001b[36m(ray_preprocess_tweet_text pid=1094)\u001b[0m \n",
            "\u001b[2m\u001b[36m(ray_preprocess_tweet_text pid=626)\u001b[0m \n",
            "\u001b[2m\u001b[36m(ray_preprocess_tweet_text pid=1094)\u001b[0m \n",
            "\u001b[2m\u001b[36m(ray_preprocess_tweet_text pid=996)\u001b[0m \n",
            "\u001b[2m\u001b[36m(ray_preprocess_tweet_text pid=627)\u001b[0m \n",
            "\u001b[2m\u001b[36m(ray_preprocess_tweet_text pid=627)\u001b[0m \n",
            "\u001b[2m\u001b[36m(ray_preprocess_tweet_text pid=1094)\u001b[0m \n",
            "\u001b[2m\u001b[36m(ray_preprocess_tweet_text pid=1132)\u001b[0m \n",
            "\u001b[2m\u001b[36m(ray_preprocess_tweet_text pid=1132)\u001b[0m \n",
            "\u001b[2m\u001b[36m(ray_preprocess_tweet_text pid=1094)\u001b[0m \n",
            "\u001b[2m\u001b[36m(ray_preprocess_tweet_text pid=996)\u001b[0m \n",
            "\u001b[2m\u001b[36m(ray_preprocess_tweet_text pid=996)\u001b[0m \n",
            "585.7289617061615\n",
            "1807.83984375\n"
          ]
        }
      ]
    },
    {
      "cell_type": "code",
      "metadata": {
        "colab": {
          "base_uri": "https://localhost:8080/",
          "height": 204
        },
        "id": "PVFqgsRJW-9t",
        "outputId": "3a726217-50e6-4c74-a456-411d5ebb348b"
      },
      "source": [
        "df_train.head()"
      ],
      "execution_count": 58,
      "outputs": [
        {
          "output_type": "execute_result",
          "data": {
            "text/html": [
              "<div>\n",
              "<style scoped>\n",
              "    .dataframe tbody tr th:only-of-type {\n",
              "        vertical-align: middle;\n",
              "    }\n",
              "\n",
              "    .dataframe tbody tr th {\n",
              "        vertical-align: top;\n",
              "    }\n",
              "\n",
              "    .dataframe thead th {\n",
              "        text-align: right;\n",
              "    }\n",
              "</style>\n",
              "<table border=\"1\" class=\"dataframe\">\n",
              "  <thead>\n",
              "    <tr style=\"text-align: right;\">\n",
              "      <th></th>\n",
              "      <th>id</th>\n",
              "      <th>title</th>\n",
              "      <th>author</th>\n",
              "      <th>text</th>\n",
              "      <th>label</th>\n",
              "    </tr>\n",
              "  </thead>\n",
              "  <tbody>\n",
              "    <tr>\n",
              "      <th>0</th>\n",
              "      <td>0</td>\n",
              "      <td>House Dem Aide: We Didn’t Even See Comey’s Let...</td>\n",
              "      <td>Darrell Lucus</td>\n",
              "      <td>house dem aide ’ even see comey ’ letter jason...</td>\n",
              "      <td>1</td>\n",
              "    </tr>\n",
              "    <tr>\n",
              "      <th>1</th>\n",
              "      <td>1</td>\n",
              "      <td>FLYNN: Hillary Clinton, Big Woman on Campus - ...</td>\n",
              "      <td>Daniel J. Flynn</td>\n",
              "      <td>ever get feeling life circles roundabout rathe...</td>\n",
              "      <td>0</td>\n",
              "    </tr>\n",
              "    <tr>\n",
              "      <th>2</th>\n",
              "      <td>2</td>\n",
              "      <td>Why the Truth Might Get You Fired</td>\n",
              "      <td>Consortiumnews.com</td>\n",
              "      <td>truth might get fired october 29 2016 tension ...</td>\n",
              "      <td>1</td>\n",
              "    </tr>\n",
              "    <tr>\n",
              "      <th>3</th>\n",
              "      <td>3</td>\n",
              "      <td>15 Civilians Killed In Single US Airstrike Hav...</td>\n",
              "      <td>Jessica Purkiss</td>\n",
              "      <td>videos 15 civilians killed single us airstrike...</td>\n",
              "      <td>1</td>\n",
              "    </tr>\n",
              "    <tr>\n",
              "      <th>4</th>\n",
              "      <td>4</td>\n",
              "      <td>Iranian woman jailed for fictional unpublished...</td>\n",
              "      <td>Howard Portnoy</td>\n",
              "      <td>print iranian woman sentenced six years prison...</td>\n",
              "      <td>1</td>\n",
              "    </tr>\n",
              "  </tbody>\n",
              "</table>\n",
              "</div>"
            ],
            "text/plain": [
              "   id  ... label\n",
              "0   0  ...     1\n",
              "1   1  ...     0\n",
              "2   2  ...     1\n",
              "3   3  ...     1\n",
              "4   4  ...     1\n",
              "\n",
              "[5 rows x 5 columns]"
            ]
          },
          "metadata": {},
          "execution_count": 58
        }
      ]
    },
    {
      "cell_type": "markdown",
      "metadata": {
        "id": "ZiNdAdSBhlhB"
      },
      "source": [
        "## Pre-procesamiento"
      ]
    },
    {
      "cell_type": "code",
      "metadata": {
        "id": "h_ovL5L3bSBc"
      },
      "source": [
        "@ray.remote\n",
        "def ray_get_feature_vector(da):\n",
        "    return get_feature_vector(da)"
      ],
      "execution_count": 60,
      "outputs": []
    },
    {
      "cell_type": "code",
      "metadata": {
        "colab": {
          "base_uri": "https://localhost:8080/"
        },
        "id": "Y5e3872dcfNY",
        "outputId": "0c0e0d06-6cfd-498a-dabf-960b9697f7f0"
      },
      "source": [
        "start = time.time()\n",
        "\n",
        "tf_vector_ray = ray_get_feature_vector.remote(np.array(df_train.iloc[:, 3]).ravel())\n",
        "tf_vector = ray.get(tf_vector_ray)\n",
        "X_train = tf_vector.transform(np.array(df_train.iloc[:, 3]).ravel())\n",
        "y_train = np.array(df_train.iloc[:, 4]).ravel()\n",
        "\n",
        "duration = time.time() - start\n",
        "print(duration)\n",
        "print(psutil.Process().memory_info().rss / (1024 * 1024))"
      ],
      "execution_count": 62,
      "outputs": [
        {
          "output_type": "stream",
          "name": "stdout",
          "text": [
            "22.835763692855835\n",
            "2073.19921875\n"
          ]
        }
      ]
    },
    {
      "cell_type": "code",
      "metadata": {
        "colab": {
          "base_uri": "https://localhost:8080/",
          "height": 204
        },
        "id": "FStSZzN1eUKQ",
        "outputId": "89a40fb2-d9a6-49ad-8fd9-8dc3becfe7cc"
      },
      "source": [
        "df_submit.head()"
      ],
      "execution_count": 67,
      "outputs": [
        {
          "output_type": "execute_result",
          "data": {
            "text/html": [
              "<div>\n",
              "<style scoped>\n",
              "    .dataframe tbody tr th:only-of-type {\n",
              "        vertical-align: middle;\n",
              "    }\n",
              "\n",
              "    .dataframe tbody tr th {\n",
              "        vertical-align: top;\n",
              "    }\n",
              "\n",
              "    .dataframe thead th {\n",
              "        text-align: right;\n",
              "    }\n",
              "</style>\n",
              "<table border=\"1\" class=\"dataframe\">\n",
              "  <thead>\n",
              "    <tr style=\"text-align: right;\">\n",
              "      <th></th>\n",
              "      <th>id</th>\n",
              "      <th>label</th>\n",
              "    </tr>\n",
              "  </thead>\n",
              "  <tbody>\n",
              "    <tr>\n",
              "      <th>0</th>\n",
              "      <td>20800</td>\n",
              "      <td>0</td>\n",
              "    </tr>\n",
              "    <tr>\n",
              "      <th>1</th>\n",
              "      <td>20801</td>\n",
              "      <td>1</td>\n",
              "    </tr>\n",
              "    <tr>\n",
              "      <th>2</th>\n",
              "      <td>20802</td>\n",
              "      <td>0</td>\n",
              "    </tr>\n",
              "    <tr>\n",
              "      <th>3</th>\n",
              "      <td>20803</td>\n",
              "      <td>1</td>\n",
              "    </tr>\n",
              "    <tr>\n",
              "      <th>4</th>\n",
              "      <td>20804</td>\n",
              "      <td>1</td>\n",
              "    </tr>\n",
              "  </tbody>\n",
              "</table>\n",
              "</div>"
            ],
            "text/plain": [
              "      id  label\n",
              "0  20800      0\n",
              "1  20801      1\n",
              "2  20802      0\n",
              "3  20803      1\n",
              "4  20804      1"
            ]
          },
          "metadata": {},
          "execution_count": 67
        }
      ]
    },
    {
      "cell_type": "code",
      "metadata": {
        "colab": {
          "base_uri": "https://localhost:8080/",
          "height": 204
        },
        "id": "yNeidjGUeFDE",
        "outputId": "8f24f95f-d452-4082-99a7-b37b7b06d978"
      },
      "source": [
        "df_test.head()"
      ],
      "execution_count": 66,
      "outputs": [
        {
          "output_type": "execute_result",
          "data": {
            "text/html": [
              "<div>\n",
              "<style scoped>\n",
              "    .dataframe tbody tr th:only-of-type {\n",
              "        vertical-align: middle;\n",
              "    }\n",
              "\n",
              "    .dataframe tbody tr th {\n",
              "        vertical-align: top;\n",
              "    }\n",
              "\n",
              "    .dataframe thead th {\n",
              "        text-align: right;\n",
              "    }\n",
              "</style>\n",
              "<table border=\"1\" class=\"dataframe\">\n",
              "  <thead>\n",
              "    <tr style=\"text-align: right;\">\n",
              "      <th></th>\n",
              "      <th>id</th>\n",
              "      <th>title</th>\n",
              "      <th>author</th>\n",
              "      <th>text</th>\n",
              "    </tr>\n",
              "  </thead>\n",
              "  <tbody>\n",
              "    <tr>\n",
              "      <th>0</th>\n",
              "      <td>20800</td>\n",
              "      <td>Specter of Trump Loosens Tongues, if Not Purse...</td>\n",
              "      <td>David Streitfeld</td>\n",
              "      <td>PALO ALTO, Calif.  —   After years of scorning...</td>\n",
              "    </tr>\n",
              "    <tr>\n",
              "      <th>1</th>\n",
              "      <td>20801</td>\n",
              "      <td>Russian warships ready to strike terrorists ne...</td>\n",
              "      <td>NaN</td>\n",
              "      <td>Russian warships ready to strike terrorists ne...</td>\n",
              "    </tr>\n",
              "    <tr>\n",
              "      <th>2</th>\n",
              "      <td>20802</td>\n",
              "      <td>#NoDAPL: Native American Leaders Vow to Stay A...</td>\n",
              "      <td>Common Dreams</td>\n",
              "      <td>Videos #NoDAPL: Native American Leaders Vow to...</td>\n",
              "    </tr>\n",
              "    <tr>\n",
              "      <th>3</th>\n",
              "      <td>20803</td>\n",
              "      <td>Tim Tebow Will Attempt Another Comeback, This ...</td>\n",
              "      <td>Daniel Victor</td>\n",
              "      <td>If at first you don’t succeed, try a different...</td>\n",
              "    </tr>\n",
              "    <tr>\n",
              "      <th>4</th>\n",
              "      <td>20804</td>\n",
              "      <td>Keiser Report: Meme Wars (E995)</td>\n",
              "      <td>Truth Broadcast Network</td>\n",
              "      <td>42 mins ago 1 Views 0 Comments 0 Likes 'For th...</td>\n",
              "    </tr>\n",
              "  </tbody>\n",
              "</table>\n",
              "</div>"
            ],
            "text/plain": [
              "      id  ...                                               text\n",
              "0  20800  ...  PALO ALTO, Calif.  —   After years of scorning...\n",
              "1  20801  ...  Russian warships ready to strike terrorists ne...\n",
              "2  20802  ...  Videos #NoDAPL: Native American Leaders Vow to...\n",
              "3  20803  ...  If at first you don’t succeed, try a different...\n",
              "4  20804  ...  42 mins ago 1 Views 0 Comments 0 Likes 'For th...\n",
              "\n",
              "[5 rows x 4 columns]"
            ]
          },
          "metadata": {},
          "execution_count": 66
        }
      ]
    },
    {
      "cell_type": "code",
      "metadata": {
        "id": "0T1lSRpNel-T"
      },
      "source": [
        "df_test = pd.merge(product,customer,on='Product_ID',how='left')"
      ],
      "execution_count": null,
      "outputs": []
    },
    {
      "cell_type": "code",
      "metadata": {
        "id": "p901qzcFeqwe"
      },
      "source": [
        "@ray.remote\n",
        "def join_test(bd1,bd2):\n",
        "    return pd.merge(bd1, bd2, on=\"id\",how='left')\n",
        "\n"
      ],
      "execution_count": null,
      "outputs": []
    },
    {
      "cell_type": "code",
      "metadata": {
        "id": "KxZhwgY5daNo"
      },
      "source": [
        "start = time.time()\n",
        "\n",
        "tf_vector_ray = ray_get_feature_vector.remote(np.array(df_test.iloc[:, 3]).ravel())\n",
        "tf_vector = ray.get(tf_vector_ray)\n",
        "X_test = tf_vector.transform(np.array(df_test.iloc[:, 3]).ravel())\n",
        "y_test = np.array(df_test.iloc[:, 4]).ravel()\n",
        "\n",
        "duration = time.time() - start\n",
        "print(duration)\n",
        "print(psutil.Process().memory_info().rss / (1024 * 1024))"
      ],
      "execution_count": null,
      "outputs": []
    },
    {
      "cell_type": "code",
      "metadata": {
        "id": "oxFd4j0Vb-H2"
      },
      "source": [
        "X_train, X_test, y_train, y_test = train_test_split(X, y, test_size=0.2, random_state=30)"
      ],
      "execution_count": null,
      "outputs": []
    },
    {
      "cell_type": "markdown",
      "metadata": {
        "id": "R1Hpw7-0ioZb"
      },
      "source": [
        "## Modelamiento"
      ]
    },
    {
      "cell_type": "code",
      "metadata": {
        "id": "IgHMta-ppZMF"
      },
      "source": [
        "from ray.util.joblib import register_ray\n"
      ],
      "execution_count": null,
      "outputs": []
    },
    {
      "cell_type": "code",
      "metadata": {
        "colab": {
          "base_uri": "https://localhost:8080/"
        },
        "id": "8SY6vWklWN5R",
        "outputId": "8227ac60-6fea-4a64-b525-d292e5007574"
      },
      "source": [
        "register_ray()\n",
        "NB_model = MultinomialNB()\n",
        "with parallel_backend('ray'):\n",
        "    NB_model.fit(X_train, y_train)\n",
        "y_predict_nb = NB_model.predict(X_test)\n",
        "print(accuracy_score(y_test, y_predict_nb))"
      ],
      "execution_count": null,
      "outputs": [
        {
          "output_type": "stream",
          "name": "stdout",
          "text": [
            "0.7823260293763544\n"
          ]
        }
      ]
    },
    {
      "cell_type": "code",
      "metadata": {
        "colab": {
          "base_uri": "https://localhost:8080/"
        },
        "id": "jtM7HfULiw12",
        "outputId": "017a414b-865c-4ccb-f168-d5f4bb0b3c8a"
      },
      "source": [
        "print(classification_report(y_test , y_predict_nb))"
      ],
      "execution_count": null,
      "outputs": [
        {
          "output_type": "stream",
          "name": "stdout",
          "text": [
            "              precision    recall  f1-score   support\n",
            "\n",
            "           0       0.70      1.00      0.82      2068\n",
            "           1       1.00      0.57      0.72      2085\n",
            "\n",
            "    accuracy                           0.78      4153\n",
            "   macro avg       0.85      0.78      0.77      4153\n",
            "weighted avg       0.85      0.78      0.77      4153\n",
            "\n"
          ]
        }
      ]
    },
    {
      "cell_type": "code",
      "metadata": {
        "colab": {
          "base_uri": "https://localhost:8080/"
        },
        "id": "WxFD_2Jsiymg",
        "outputId": "0b27e657-a52a-48df-e7f0-62da40b6b519"
      },
      "source": [
        "LR_model = LogisticRegression(solver='lbfgs')\n",
        "with parallel_backend('ray'):\n",
        "    LR_model.fit(X_train, y_train)\n",
        "y_predict_lr = LR_model.predict(X_test)\n",
        "print(accuracy_score(y_test, y_predict_lr))"
      ],
      "execution_count": null,
      "outputs": [
        {
          "output_type": "stream",
          "name": "stderr",
          "text": [
            "2021-11-28 08:25:24,710\tWARNING pool.py:470 -- The 'context' argument is not supported using ray. Please refer to the documentation for how to control ray initialization.\n"
          ]
        },
        {
          "output_type": "stream",
          "name": "stdout",
          "text": [
            "0.959306525403323\n"
          ]
        }
      ]
    },
    {
      "cell_type": "code",
      "metadata": {
        "colab": {
          "base_uri": "https://localhost:8080/"
        },
        "id": "09Wl9Xi1i4pc",
        "outputId": "5402b8e5-0011-4112-a7d6-118cf7441f4e"
      },
      "source": [
        "print(classification_report(y_test , y_predict_lr))"
      ],
      "execution_count": null,
      "outputs": [
        {
          "output_type": "stream",
          "name": "stdout",
          "text": [
            "              precision    recall  f1-score   support\n",
            "\n",
            "           0       0.97      0.95      0.96      2068\n",
            "           1       0.95      0.97      0.96      2085\n",
            "\n",
            "    accuracy                           0.96      4153\n",
            "   macro avg       0.96      0.96      0.96      4153\n",
            "weighted avg       0.96      0.96      0.96      4153\n",
            "\n"
          ]
        }
      ]
    },
    {
      "cell_type": "code",
      "metadata": {
        "id": "C4N0y4RPrF4g"
      },
      "source": [
        "@ray.remote\n",
        "def ray_RandomForestClassifier():\n",
        "    return RandomForestClassifier()"
      ],
      "execution_count": null,
      "outputs": []
    },
    {
      "cell_type": "code",
      "metadata": {
        "id": "B-wkjv3vtOzc"
      },
      "source": [
        "RF_model = ray_RandomForestClassifier.remote()"
      ],
      "execution_count": null,
      "outputs": []
    },
    {
      "cell_type": "code",
      "metadata": {
        "id": "vaLoBOFhETeB"
      },
      "source": [
        ""
      ],
      "execution_count": null,
      "outputs": []
    },
    {
      "cell_type": "code",
      "metadata": {
        "colab": {
          "base_uri": "https://localhost:8080/"
        },
        "id": "Ay4d-zJNi8Zw",
        "outputId": "bc1fc9ea-fb62-4ea9-9614-91ce0ed78311"
      },
      "source": [
        "start = time.time()\n",
        "RF_model = ray.get(ray_RandomForestClassifier.remote())\n",
        "RF_model.fit(X_train, y_train)\n",
        "y_predict_rf = RF_model.predict(X_test)\n",
        "duration = time.time() - start\n",
        "print(duration)\n",
        "print(accuracy_score(y_test, y_predict_rf))"
      ],
      "execution_count": null,
      "outputs": [
        {
          "output_type": "stream",
          "name": "stdout",
          "text": [
            "108.95050573348999\n",
            "0.9227064772453648\n"
          ]
        }
      ]
    },
    {
      "cell_type": "code",
      "metadata": {
        "colab": {
          "base_uri": "https://localhost:8080/"
        },
        "id": "12_o_SOBjFrm",
        "outputId": "7852ab3d-dcb6-4e39-d270-6d73d250edba"
      },
      "source": [
        "print(classification_report(y_test , y_predict_rf))"
      ],
      "execution_count": null,
      "outputs": [
        {
          "output_type": "stream",
          "name": "stdout",
          "text": [
            "              precision    recall  f1-score   support\n",
            "\n",
            "           0       0.90      0.95      0.92      2068\n",
            "           1       0.94      0.90      0.92      2085\n",
            "\n",
            "    accuracy                           0.92      4153\n",
            "   macro avg       0.92      0.92      0.92      4153\n",
            "weighted avg       0.92      0.92      0.92      4153\n",
            "\n"
          ]
        }
      ]
    },
    {
      "cell_type": "code",
      "metadata": {
        "colab": {
          "base_uri": "https://localhost:8080/"
        },
        "id": "qn13uBl7jH-h",
        "outputId": "33624dbe-2a2c-4870-bf6a-dcbbb32698af"
      },
      "source": [
        "SVM_model = svm.SVC(C=1.9, kernel='linear')\n",
        "SVM_model.fit(X_train, y_train)\n",
        "y_predict_svm = SVM_model.predict(X_test)\n",
        "print(accuracy_score(y_test, y_predict_svm))"
      ],
      "execution_count": null,
      "outputs": [
        {
          "output_type": "stream",
          "name": "stdout",
          "text": [
            "0.9703828557669155\n"
          ]
        }
      ]
    },
    {
      "cell_type": "code",
      "metadata": {
        "colab": {
          "base_uri": "https://localhost:8080/"
        },
        "id": "3ZBjYTmVjN0h",
        "outputId": "82e9e6b0-a887-4c23-fe87-4d3561f8e26d"
      },
      "source": [
        "print(classification_report(y_test , y_predict_svm))"
      ],
      "execution_count": null,
      "outputs": [
        {
          "output_type": "stream",
          "name": "stdout",
          "text": [
            "              precision    recall  f1-score   support\n",
            "\n",
            "           0       0.97      0.97      0.97      2068\n",
            "           1       0.97      0.97      0.97      2085\n",
            "\n",
            "    accuracy                           0.97      4153\n",
            "   macro avg       0.97      0.97      0.97      4153\n",
            "weighted avg       0.97      0.97      0.97      4153\n",
            "\n"
          ]
        }
      ]
    },
    {
      "cell_type": "code",
      "metadata": {
        "id": "eNaPyNnZmQjw"
      },
      "source": [
        ""
      ],
      "execution_count": null,
      "outputs": []
    }
  ]
}