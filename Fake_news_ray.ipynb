{
  "nbformat": 4,
  "nbformat_minor": 0,
  "metadata": {
    "application/vnd.databricks.v1+notebook": {
      "notebookName": "Fake-news",
      "dashboards": [],
      "notebookMetadata": {
        "pythonIndentUnit": 2
      },
      "language": "python",
      "widgets": {},
      "notebookOrigID": 2108108501825771
    },
    "colab": {
      "name": "Fake-news_ray.ipynb",
      "provenance": [],
      "collapsed_sections": []
    },
    "language_info": {
      "name": "python"
    },
    "kernelspec": {
      "name": "python3",
      "display_name": "Python 3"
    }
  },
  "cells": [
    {
      "cell_type": "code",
      "metadata": {
        "id": "V2JM4RztjxB1"
      },
      "source": [
        "## Descargar kaggle.json de \"account\" en la cuenta de kaggle."
      ],
      "execution_count": null,
      "outputs": []
    },
    {
      "cell_type": "markdown",
      "metadata": {
        "id": "vp7fSMw3D8aH"
      },
      "source": [
        "## Descargar librerías importantes"
      ]
    },
    {
      "cell_type": "code",
      "metadata": {
        "colab": {
          "base_uri": "https://localhost:8080/"
        },
        "id": "m47_4zqGKZSu",
        "outputId": "30714774-5665-437e-adc1-cc13c143d83f"
      },
      "source": [
        "!pip install kaggle"
      ],
      "execution_count": 1,
      "outputs": [
        {
          "output_type": "stream",
          "name": "stdout",
          "text": [
            "Requirement already satisfied: kaggle in /usr/local/lib/python3.7/dist-packages (1.5.12)\n",
            "Requirement already satisfied: urllib3 in /usr/local/lib/python3.7/dist-packages (from kaggle) (1.24.3)\n",
            "Requirement already satisfied: six>=1.10 in /usr/local/lib/python3.7/dist-packages (from kaggle) (1.15.0)\n",
            "Requirement already satisfied: certifi in /usr/local/lib/python3.7/dist-packages (from kaggle) (2021.10.8)\n",
            "Requirement already satisfied: python-slugify in /usr/local/lib/python3.7/dist-packages (from kaggle) (5.0.2)\n",
            "Requirement already satisfied: python-dateutil in /usr/local/lib/python3.7/dist-packages (from kaggle) (2.8.2)\n",
            "Requirement already satisfied: tqdm in /usr/local/lib/python3.7/dist-packages (from kaggle) (4.62.3)\n",
            "Requirement already satisfied: requests in /usr/local/lib/python3.7/dist-packages (from kaggle) (2.23.0)\n",
            "Requirement already satisfied: text-unidecode>=1.3 in /usr/local/lib/python3.7/dist-packages (from python-slugify->kaggle) (1.3)\n",
            "Requirement already satisfied: idna<3,>=2.5 in /usr/local/lib/python3.7/dist-packages (from requests->kaggle) (2.10)\n",
            "Requirement already satisfied: chardet<4,>=3.0.2 in /usr/local/lib/python3.7/dist-packages (from requests->kaggle) (3.0.4)\n"
          ]
        }
      ]
    },
    {
      "cell_type": "code",
      "metadata": {
        "colab": {
          "base_uri": "https://localhost:8080/"
        },
        "id": "D1bKdiy2D5aD",
        "outputId": "56e65c27-a67a-4462-f4cd-73e8058c4a9d"
      },
      "source": [
        "!pip install ray"
      ],
      "execution_count": 2,
      "outputs": [
        {
          "output_type": "stream",
          "name": "stdout",
          "text": [
            "Requirement already satisfied: ray in /usr/local/lib/python3.7/dist-packages (1.9.0)\n",
            "Requirement already satisfied: click>=7.0 in /usr/local/lib/python3.7/dist-packages (from ray) (7.1.2)\n",
            "Requirement already satisfied: numpy>=1.16 in /usr/local/lib/python3.7/dist-packages (from ray) (1.21.4)\n",
            "Requirement already satisfied: attrs in /usr/local/lib/python3.7/dist-packages (from ray) (21.2.0)\n",
            "Requirement already satisfied: grpcio>=1.28.1 in /usr/local/lib/python3.7/dist-packages (from ray) (1.42.0)\n",
            "Requirement already satisfied: filelock in /usr/local/lib/python3.7/dist-packages (from ray) (3.4.0)\n",
            "Requirement already satisfied: jsonschema in /usr/local/lib/python3.7/dist-packages (from ray) (2.6.0)\n",
            "Requirement already satisfied: protobuf>=3.15.3 in /usr/local/lib/python3.7/dist-packages (from ray) (3.17.3)\n",
            "Requirement already satisfied: pyyaml in /usr/local/lib/python3.7/dist-packages (from ray) (3.13)\n",
            "Requirement already satisfied: redis>=3.5.0 in /usr/local/lib/python3.7/dist-packages (from ray) (4.0.2)\n",
            "Requirement already satisfied: msgpack<2.0.0,>=1.0.0 in /usr/local/lib/python3.7/dist-packages (from ray) (1.0.3)\n",
            "Requirement already satisfied: six>=1.5.2 in /usr/local/lib/python3.7/dist-packages (from grpcio>=1.28.1->ray) (1.15.0)\n",
            "Requirement already satisfied: deprecated in /usr/local/lib/python3.7/dist-packages (from redis>=3.5.0->ray) (1.2.13)\n",
            "Requirement already satisfied: wrapt<2,>=1.10 in /usr/local/lib/python3.7/dist-packages (from deprecated->redis>=3.5.0->ray) (1.13.3)\n"
          ]
        }
      ]
    },
    {
      "cell_type": "code",
      "metadata": {
        "colab": {
          "base_uri": "https://localhost:8080/"
        },
        "id": "sW41inrSFpzT",
        "outputId": "b88a74da-104c-4388-8038-a4fb0f07e0b2"
      },
      "source": [
        "!pip install ray[data]"
      ],
      "execution_count": 3,
      "outputs": [
        {
          "output_type": "stream",
          "name": "stdout",
          "text": [
            "Requirement already satisfied: ray[data] in /usr/local/lib/python3.7/dist-packages (1.9.0)\n",
            "Requirement already satisfied: numpy>=1.16 in /usr/local/lib/python3.7/dist-packages (from ray[data]) (1.21.4)\n",
            "Requirement already satisfied: grpcio>=1.28.1 in /usr/local/lib/python3.7/dist-packages (from ray[data]) (1.42.0)\n",
            "Requirement already satisfied: pyyaml in /usr/local/lib/python3.7/dist-packages (from ray[data]) (3.13)\n",
            "Requirement already satisfied: attrs in /usr/local/lib/python3.7/dist-packages (from ray[data]) (21.2.0)\n",
            "Requirement already satisfied: jsonschema in /usr/local/lib/python3.7/dist-packages (from ray[data]) (2.6.0)\n",
            "Requirement already satisfied: click>=7.0 in /usr/local/lib/python3.7/dist-packages (from ray[data]) (7.1.2)\n",
            "Requirement already satisfied: redis>=3.5.0 in /usr/local/lib/python3.7/dist-packages (from ray[data]) (4.0.2)\n",
            "Requirement already satisfied: protobuf>=3.15.3 in /usr/local/lib/python3.7/dist-packages (from ray[data]) (3.17.3)\n",
            "Requirement already satisfied: msgpack<2.0.0,>=1.0.0 in /usr/local/lib/python3.7/dist-packages (from ray[data]) (1.0.3)\n",
            "Requirement already satisfied: filelock in /usr/local/lib/python3.7/dist-packages (from ray[data]) (3.4.0)\n",
            "Requirement already satisfied: pandas in /usr/local/lib/python3.7/dist-packages (from ray[data]) (1.1.5)\n",
            "Requirement already satisfied: pyarrow>=4.0.1 in /usr/local/lib/python3.7/dist-packages (from ray[data]) (6.0.1)\n",
            "Requirement already satisfied: fsspec in /usr/local/lib/python3.7/dist-packages (from ray[data]) (2021.11.1)\n",
            "Requirement already satisfied: six>=1.5.2 in /usr/local/lib/python3.7/dist-packages (from grpcio>=1.28.1->ray[data]) (1.15.0)\n",
            "Requirement already satisfied: deprecated in /usr/local/lib/python3.7/dist-packages (from redis>=3.5.0->ray[data]) (1.2.13)\n",
            "Requirement already satisfied: wrapt<2,>=1.10 in /usr/local/lib/python3.7/dist-packages (from deprecated->redis>=3.5.0->ray[data]) (1.13.3)\n",
            "Requirement already satisfied: python-dateutil>=2.7.3 in /usr/local/lib/python3.7/dist-packages (from pandas->ray[data]) (2.8.2)\n",
            "Requirement already satisfied: pytz>=2017.2 in /usr/local/lib/python3.7/dist-packages (from pandas->ray[data]) (2018.9)\n"
          ]
        }
      ]
    },
    {
      "cell_type": "code",
      "metadata": {
        "colab": {
          "base_uri": "https://localhost:8080/"
        },
        "id": "fV0QE0WjEnHi",
        "outputId": "de19412e-7c69-4dd5-dc5e-4062ab6a7589"
      },
      "source": [
        "!pip install emoji"
      ],
      "execution_count": 4,
      "outputs": [
        {
          "output_type": "stream",
          "name": "stdout",
          "text": [
            "Collecting emoji\n",
            "  Downloading emoji-1.6.1.tar.gz (170 kB)\n",
            "\u001b[?25l\r\u001b[K     |██                              | 10 kB 25.7 MB/s eta 0:00:01\r\u001b[K     |███▉                            | 20 kB 28.9 MB/s eta 0:00:01\r\u001b[K     |█████▉                          | 30 kB 34.1 MB/s eta 0:00:01\r\u001b[K     |███████▊                        | 40 kB 24.8 MB/s eta 0:00:01\r\u001b[K     |█████████▋                      | 51 kB 18.7 MB/s eta 0:00:01\r\u001b[K     |███████████▋                    | 61 kB 13.8 MB/s eta 0:00:01\r\u001b[K     |█████████████▌                  | 71 kB 14.4 MB/s eta 0:00:01\r\u001b[K     |███████████████▍                | 81 kB 15.6 MB/s eta 0:00:01\r\u001b[K     |█████████████████▍              | 92 kB 16.3 MB/s eta 0:00:01\r\u001b[K     |███████████████████▎            | 102 kB 11.8 MB/s eta 0:00:01\r\u001b[K     |█████████████████████▏          | 112 kB 11.8 MB/s eta 0:00:01\r\u001b[K     |███████████████████████▏        | 122 kB 11.8 MB/s eta 0:00:01\r\u001b[K     |█████████████████████████       | 133 kB 11.8 MB/s eta 0:00:01\r\u001b[K     |███████████████████████████     | 143 kB 11.8 MB/s eta 0:00:01\r\u001b[K     |█████████████████████████████   | 153 kB 11.8 MB/s eta 0:00:01\r\u001b[K     |██████████████████████████████▉ | 163 kB 11.8 MB/s eta 0:00:01\r\u001b[K     |████████████████████████████████| 170 kB 11.8 MB/s \n",
            "\u001b[?25hBuilding wheels for collected packages: emoji\n",
            "  Building wheel for emoji (setup.py) ... \u001b[?25l\u001b[?25hdone\n",
            "  Created wheel for emoji: filename=emoji-1.6.1-py3-none-any.whl size=169314 sha256=ba805573c174f153a88a2fd0a34b14a2675a024ed2d50b2900edc789231a0913\n",
            "  Stored in directory: /root/.cache/pip/wheels/ea/5f/d3/03d313ddb3c2a1a427bb4690f1621eea60fe6f2a30cc95940f\n",
            "Successfully built emoji\n",
            "Installing collected packages: emoji\n",
            "Successfully installed emoji-1.6.1\n"
          ]
        }
      ]
    },
    {
      "cell_type": "code",
      "source": [
        "!pip install --upgrade --force-reinstall --no-deps kaggle"
      ],
      "metadata": {
        "colab": {
          "base_uri": "https://localhost:8080/"
        },
        "id": "qowK5V4Y-VvJ",
        "outputId": "94751775-a71b-48b5-d408-49a0d4b00f1c"
      },
      "execution_count": 28,
      "outputs": [
        {
          "output_type": "stream",
          "name": "stdout",
          "text": [
            "Collecting kaggle\n",
            "  Downloading kaggle-1.5.12.tar.gz (58 kB)\n",
            "\u001b[?25l\r\u001b[K     |█████▋                          | 10 kB 16.0 MB/s eta 0:00:01\r\u001b[K     |███████████▏                    | 20 kB 18.8 MB/s eta 0:00:01\r\u001b[K     |████████████████▊               | 30 kB 11.2 MB/s eta 0:00:01\r\u001b[K     |██████████████████████▎         | 40 kB 10.6 MB/s eta 0:00:01\r\u001b[K     |███████████████████████████▉    | 51 kB 9.3 MB/s eta 0:00:01\r\u001b[K     |████████████████████████████████| 58 kB 1.7 MB/s \n",
            "\u001b[?25hBuilding wheels for collected packages: kaggle\n",
            "  Building wheel for kaggle (setup.py) ... \u001b[?25l\u001b[?25hdone\n",
            "  Created wheel for kaggle: filename=kaggle-1.5.12-py3-none-any.whl size=73051 sha256=57bf20aafaedaea0b2a4b9245fde05197f89966a01a57489ac26e7380f260ff5\n",
            "  Stored in directory: /root/.cache/pip/wheels/62/d6/58/5853130f941e75b2177d281eb7e44b4a98ed46dd155f556dc5\n",
            "Successfully built kaggle\n",
            "Installing collected packages: kaggle\n",
            "  Attempting uninstall: kaggle\n",
            "    Found existing installation: kaggle 1.5.12\n",
            "    Uninstalling kaggle-1.5.12:\n",
            "      Successfully uninstalled kaggle-1.5.12\n",
            "Successfully installed kaggle-1.5.12\n"
          ]
        }
      ]
    },
    {
      "cell_type": "code",
      "metadata": {
        "id": "pBWwrfxEEi9L"
      },
      "source": [
        "import pandas as pd\n",
        "import numpy as np\n",
        "import re\n",
        "import string\n",
        "import emoji\n",
        "import matplotlib.pyplot as plt\n",
        "from nltk.corpus import stopwords\n",
        "from nltk.tokenize import word_tokenize\n",
        "from sklearn.feature_extraction.text import TfidfVectorizer\n",
        "from sklearn.model_selection import train_test_split\n",
        "# ML Libraries\n",
        "from sklearn.metrics import accuracy_score, classification_report\n",
        "from sklearn.ensemble import RandomForestClassifier, VotingClassifier\n",
        "from sklearn.naive_bayes import MultinomialNB\n",
        "from sklearn.linear_model import LogisticRegression\n",
        "from sklearn import svm, tree\n",
        "\n",
        "import ray\n",
        "from joblib import parallel_backend\n",
        "import math, statistics, time\n",
        "import numpy as np\n",
        "import os, psutil"
      ],
      "execution_count": 5,
      "outputs": []
    },
    {
      "cell_type": "markdown",
      "metadata": {
        "id": "1BYwa9UUEBU-"
      },
      "source": [
        "## Acceder a la base de datos"
      ]
    },
    {
      "cell_type": "code",
      "metadata": {
        "id": "HWpF2HscKpth"
      },
      "source": [
        "!cp kaggle.json kaggle"
      ],
      "execution_count": 33,
      "outputs": []
    },
    {
      "cell_type": "code",
      "metadata": {
        "id": "O_9dDKS_LvQE"
      },
      "source": [
        "! chmod 600 kaggle.json"
      ],
      "execution_count": 34,
      "outputs": []
    },
    {
      "cell_type": "code",
      "metadata": {
        "id": "Js5UEuiqMKc2"
      },
      "source": [
        "! cp kaggle.json ~/.kaggle/"
      ],
      "execution_count": 38,
      "outputs": []
    },
    {
      "cell_type": "code",
      "metadata": {
        "id": "IHwag5pNMMiX"
      },
      "source": [
        "! chmod 600 ~/.kaggle/kaggle.json"
      ],
      "execution_count": 39,
      "outputs": []
    },
    {
      "cell_type": "code",
      "metadata": {
        "id": "UhTM440FL73b"
      },
      "source": [
        "!kaggle competitions download -c fake-news"
      ],
      "execution_count": null,
      "outputs": []
    },
    {
      "cell_type": "code",
      "source": [
        "from google.colab import drive\n",
        "drive.mount('/content/drive')"
      ],
      "metadata": {
        "colab": {
          "base_uri": "https://localhost:8080/"
        },
        "id": "5Qy_v0PC-_kJ",
        "outputId": "11712b84-9050-4031-9e2a-619f7ecc1142"
      },
      "execution_count": 41,
      "outputs": [
        {
          "output_type": "stream",
          "name": "stdout",
          "text": [
            "Mounted at /content/drive\n"
          ]
        }
      ]
    },
    {
      "cell_type": "code",
      "source": [
        "! unzip \"/content/drive/MyDrive/Proy_colab/Maestria/bigdata/Proyecto/fake-news.zip\""
      ],
      "metadata": {
        "colab": {
          "base_uri": "https://localhost:8080/"
        },
        "id": "pyiLFyOI_RYT",
        "outputId": "8ba48fa7-ae9a-4bd7-94c3-b609858c7358"
      },
      "execution_count": 42,
      "outputs": [
        {
          "output_type": "stream",
          "name": "stdout",
          "text": [
            "Archive:  /content/drive/MyDrive/Proy_colab/Maestria/bigdata/Proyecto/fake-news.zip\n",
            "  inflating: submit.csv              \n",
            "  inflating: test.csv                \n",
            "  inflating: train.csv               \n"
          ]
        }
      ]
    },
    {
      "cell_type": "markdown",
      "metadata": {
        "id": "XHrxS5bMFEg3"
      },
      "source": [
        "## Entorno Ray"
      ]
    },
    {
      "cell_type": "code",
      "metadata": {
        "colab": {
          "base_uri": "https://localhost:8080/"
        },
        "id": "srfvWviHFIhN",
        "outputId": "22877e91-0d36-4a16-8971-b23f87775720"
      },
      "source": [
        "num_workers = 8\n",
        "trials = 20\n",
        "ray.init(num_cpus=num_workers, ignore_reinit_error=True)"
      ],
      "execution_count": 43,
      "outputs": [
        {
          "output_type": "execute_result",
          "data": {
            "text/plain": [
              "{'metrics_export_port': 47212,\n",
              " 'node_id': '1a68d89844e06e78288524aa86ed7f8d18cd69d8467e143e4ff14ff6',\n",
              " 'node_ip_address': '172.28.0.2',\n",
              " 'object_store_address': '/tmp/ray/session_2021-12-15_02-48-03_328523_208/sockets/plasma_store',\n",
              " 'raylet_ip_address': '172.28.0.2',\n",
              " 'raylet_socket_name': '/tmp/ray/session_2021-12-15_02-48-03_328523_208/sockets/raylet',\n",
              " 'redis_address': '172.28.0.2:6379',\n",
              " 'session_dir': '/tmp/ray/session_2021-12-15_02-48-03_328523_208',\n",
              " 'webui_url': None}"
            ]
          },
          "metadata": {},
          "execution_count": 43
        }
      ]
    },
    {
      "cell_type": "markdown",
      "metadata": {
        "id": "E9QQrX7bEEmG"
      },
      "source": [
        "## Lectura de datos"
      ]
    },
    {
      "cell_type": "code",
      "metadata": {
        "id": "7ohyvqpkLBGg"
      },
      "source": [
        "@ray.remote\n",
        "def ray_read(dat):\n",
        "    return pd.read_csv(dat)"
      ],
      "execution_count": 44,
      "outputs": []
    },
    {
      "cell_type": "code",
      "metadata": {
        "colab": {
          "base_uri": "https://localhost:8080/"
        },
        "id": "F58UqbgTEbUA",
        "outputId": "db609a82-2ca0-45c3-d52e-52809c27e23f"
      },
      "source": [
        "start = time.time()\n",
        "df_submit_ray = ray_read.remote(\"/content/submit.csv\")\n",
        "df_submit = ray.get(df_submit_ray)\n",
        "duration = time.time() - start\n",
        "print(duration)\n",
        "print(psutil.Process().memory_info().rss / (1024 * 1024))"
      ],
      "execution_count": 45,
      "outputs": [
        {
          "output_type": "stream",
          "name": "stdout",
          "text": [
            "0.33952927589416504\n",
            "242.5546875\n"
          ]
        }
      ]
    },
    {
      "cell_type": "code",
      "metadata": {
        "colab": {
          "base_uri": "https://localhost:8080/"
        },
        "id": "sitiE0UBGoVF",
        "outputId": "45524b9a-fc06-4708-aef1-ba7ec894ede6"
      },
      "source": [
        "start = time.time()\n",
        "df_train_ray = ray_read.remote(\"/content/train.csv\")\n",
        "df_train = ray.get(df_train_ray)\n",
        "duration = time.time() - start\n",
        "print(duration)\n",
        "print(psutil.Process().memory_info().rss / (1024 * 1024))"
      ],
      "execution_count": 46,
      "outputs": [
        {
          "output_type": "stream",
          "name": "stdout",
          "text": [
            "2.9312312602996826\n",
            "540.265625\n"
          ]
        }
      ]
    },
    {
      "cell_type": "code",
      "metadata": {
        "colab": {
          "base_uri": "https://localhost:8080/"
        },
        "id": "9NyJFcw8NCjW",
        "outputId": "0429535d-dc4f-4f12-b146-4579e9e7b43f"
      },
      "source": [
        "start = time.time()\n",
        "df_test_ray = ray_read.remote(\"/content/test.csv\")\n",
        "df_test = ray.get(df_test_ray)\n",
        "duration = time.time() - start\n",
        "print(duration)\n",
        "print(psutil.Process().memory_info().rss / (1024 * 1024))"
      ],
      "execution_count": 47,
      "outputs": [
        {
          "output_type": "stream",
          "name": "stdout",
          "text": [
            "0.4124736785888672\n",
            "616.07421875\n"
          ]
        }
      ]
    },
    {
      "cell_type": "code",
      "metadata": {
        "colab": {
          "base_uri": "https://localhost:8080/",
          "height": 206
        },
        "id": "lx0e6ifkQtNq",
        "outputId": "a02064d4-f1bd-421d-fdd2-53ae1ad86688"
      },
      "source": [
        "df_train.head()"
      ],
      "execution_count": 48,
      "outputs": [
        {
          "output_type": "execute_result",
          "data": {
            "text/html": [
              "<div>\n",
              "<style scoped>\n",
              "    .dataframe tbody tr th:only-of-type {\n",
              "        vertical-align: middle;\n",
              "    }\n",
              "\n",
              "    .dataframe tbody tr th {\n",
              "        vertical-align: top;\n",
              "    }\n",
              "\n",
              "    .dataframe thead th {\n",
              "        text-align: right;\n",
              "    }\n",
              "</style>\n",
              "<table border=\"1\" class=\"dataframe\">\n",
              "  <thead>\n",
              "    <tr style=\"text-align: right;\">\n",
              "      <th></th>\n",
              "      <th>id</th>\n",
              "      <th>title</th>\n",
              "      <th>author</th>\n",
              "      <th>text</th>\n",
              "      <th>label</th>\n",
              "    </tr>\n",
              "  </thead>\n",
              "  <tbody>\n",
              "    <tr>\n",
              "      <th>0</th>\n",
              "      <td>0</td>\n",
              "      <td>House Dem Aide: We Didn’t Even See Comey’s Let...</td>\n",
              "      <td>Darrell Lucus</td>\n",
              "      <td>House Dem Aide: We Didn’t Even See Comey’s Let...</td>\n",
              "      <td>1</td>\n",
              "    </tr>\n",
              "    <tr>\n",
              "      <th>1</th>\n",
              "      <td>1</td>\n",
              "      <td>FLYNN: Hillary Clinton, Big Woman on Campus - ...</td>\n",
              "      <td>Daniel J. Flynn</td>\n",
              "      <td>Ever get the feeling your life circles the rou...</td>\n",
              "      <td>0</td>\n",
              "    </tr>\n",
              "    <tr>\n",
              "      <th>2</th>\n",
              "      <td>2</td>\n",
              "      <td>Why the Truth Might Get You Fired</td>\n",
              "      <td>Consortiumnews.com</td>\n",
              "      <td>Why the Truth Might Get You Fired October 29, ...</td>\n",
              "      <td>1</td>\n",
              "    </tr>\n",
              "    <tr>\n",
              "      <th>3</th>\n",
              "      <td>3</td>\n",
              "      <td>15 Civilians Killed In Single US Airstrike Hav...</td>\n",
              "      <td>Jessica Purkiss</td>\n",
              "      <td>Videos 15 Civilians Killed In Single US Airstr...</td>\n",
              "      <td>1</td>\n",
              "    </tr>\n",
              "    <tr>\n",
              "      <th>4</th>\n",
              "      <td>4</td>\n",
              "      <td>Iranian woman jailed for fictional unpublished...</td>\n",
              "      <td>Howard Portnoy</td>\n",
              "      <td>Print \\nAn Iranian woman has been sentenced to...</td>\n",
              "      <td>1</td>\n",
              "    </tr>\n",
              "  </tbody>\n",
              "</table>\n",
              "</div>"
            ],
            "text/plain": [
              "   id  ... label\n",
              "0   0  ...     1\n",
              "1   1  ...     0\n",
              "2   2  ...     1\n",
              "3   3  ...     1\n",
              "4   4  ...     1\n",
              "\n",
              "[5 rows x 5 columns]"
            ]
          },
          "metadata": {},
          "execution_count": 48
        }
      ]
    },
    {
      "cell_type": "markdown",
      "metadata": {
        "id": "Z27bw4hVQi7b"
      },
      "source": [
        "## Eliminar nulos"
      ]
    },
    {
      "cell_type": "code",
      "metadata": {
        "id": "dkbdA57NRMya"
      },
      "source": [
        "@ray.remote\n",
        "def ray_remove_null(dat):\n",
        "    return dat[dat.text.notna()]"
      ],
      "execution_count": 49,
      "outputs": []
    },
    {
      "cell_type": "code",
      "metadata": {
        "colab": {
          "base_uri": "https://localhost:8080/"
        },
        "id": "wNPnb_SFQanP",
        "outputId": "7ac3abf4-4865-4185-9a47-5dcd22567d96"
      },
      "source": [
        "start = time.time()\n",
        "df_train_rm = ray_remove_null.remote(df_train)\n",
        "df_train = ray.get(df_train_rm)\n",
        "duration = time.time() - start\n",
        "print(duration)\n",
        "print(psutil.Process().memory_info().rss / (1024 * 1024))"
      ],
      "execution_count": 50,
      "outputs": [
        {
          "output_type": "stream",
          "name": "stdout",
          "text": [
            "1.4488945007324219\n",
            "1111.421875\n"
          ]
        }
      ]
    },
    {
      "cell_type": "code",
      "metadata": {
        "colab": {
          "base_uri": "https://localhost:8080/"
        },
        "id": "IrGA0A8mRqvB",
        "outputId": "ebfa3809-8c8e-4e4b-9b68-3a8893f90b6e"
      },
      "source": [
        "start = time.time()\n",
        "df_test_rm = ray_remove_null.remote(df_test)\n",
        "df_test = ray.get(df_test_rm)\n",
        "duration = time.time() - start\n",
        "print(duration)\n",
        "print(psutil.Process().memory_info().rss / (1024 * 1024))"
      ],
      "execution_count": 51,
      "outputs": [
        {
          "output_type": "stream",
          "name": "stdout",
          "text": [
            "0.3324432373046875\n",
            "1201.3828125\n"
          ]
        }
      ]
    },
    {
      "cell_type": "code",
      "metadata": {
        "colab": {
          "base_uri": "https://localhost:8080/",
          "height": 121
        },
        "id": "Tp3Blnv9O9_L",
        "outputId": "1c9a2dd5-668a-4e9b-af06-fd141541a252"
      },
      "source": [
        "display(type(df_test))\n",
        "display((df_test.count(), len(df_test.columns)))"
      ],
      "execution_count": 52,
      "outputs": [
        {
          "output_type": "display_data",
          "data": {
            "text/plain": [
              "pandas.core.frame.DataFrame"
            ]
          },
          "metadata": {}
        },
        {
          "output_type": "display_data",
          "data": {
            "text/plain": [
              "(id        5193\n",
              " title     5071\n",
              " author    4697\n",
              " text      5193\n",
              " dtype: int64, 4)"
            ]
          },
          "metadata": {}
        }
      ]
    },
    {
      "cell_type": "markdown",
      "metadata": {
        "id": "UCsA2usoTqoc"
      },
      "source": [
        "## Procesamiento de datos"
      ]
    },
    {
      "cell_type": "code",
      "metadata": {
        "colab": {
          "base_uri": "https://localhost:8080/"
        },
        "id": "iRb50IxcTbP0",
        "outputId": "2e83e4a5-9db4-46f3-f7a3-fe6adce542b3"
      },
      "source": [
        "import nltk\n",
        "nltk.download('stopwords')\n",
        "nltk.download('punkt')"
      ],
      "execution_count": 53,
      "outputs": [
        {
          "output_type": "stream",
          "name": "stdout",
          "text": [
            "[nltk_data] Downloading package stopwords to /root/nltk_data...\n",
            "[nltk_data]   Unzipping corpora/stopwords.zip.\n",
            "[nltk_data] Downloading package punkt to /root/nltk_data...\n",
            "[nltk_data]   Unzipping tokenizers/punkt.zip.\n"
          ]
        },
        {
          "output_type": "execute_result",
          "data": {
            "text/plain": [
              "True"
            ]
          },
          "metadata": {},
          "execution_count": 53
        }
      ]
    },
    {
      "cell_type": "code",
      "metadata": {
        "id": "cFFFm31YT0UT"
      },
      "source": [
        "stop_words = set(stopwords.words('english'))"
      ],
      "execution_count": 54,
      "outputs": []
    },
    {
      "cell_type": "code",
      "metadata": {
        "id": "77IjoH0VWOaL"
      },
      "source": [
        "def give_emoji_free_text(text): \n",
        "    return emoji.get_emoji_regexp().sub(r'', text)"
      ],
      "execution_count": 55,
      "outputs": []
    },
    {
      "cell_type": "code",
      "metadata": {
        "id": "mmzP-Lq4WOOt"
      },
      "source": [
        "def preprocess_tweet_text(tweet):\n",
        "    emoticon_string = r\"\"\"\n",
        "    (?:\n",
        "    [<>]?\n",
        "    [:;=8]                     \n",
        "    [\\-o\\*\\']?                 \n",
        "    [\\)\\]\\(\\[dDpP/\\:\\}\\{@\\|\\\\]       \n",
        "    |\n",
        "    [\\)\\]\\(\\[dDpP/\\:\\}\\{@\\|\\\\]\n",
        "    [\\-o\\*\\']?                 \n",
        "    [:;=8]                     \n",
        "    [<>]?\n",
        "    )\"\"\"\n",
        "\n",
        "    replacements = (\n",
        "    (\"á\", \"a\"),\n",
        "    (\"é\", \"e\"),\n",
        "    (\"í\", \"i\"),\n",
        "    (\"ó\", \"o\"),\n",
        "    (\"ú\", \"u\"),\n",
        "    )\n",
        "\n",
        "    tweet = tweet.lower()\n",
        "    # Remove urls\n",
        "    tweet = re.sub(r\"http\\S+|www\\S+|https\\S+\", '', tweet, flags=re.MULTILINE)\n",
        "    # Remove user @ references and '#' from tweet\n",
        "    tweet = re.sub(r'\\@\\w+|\\#','', tweet)\n",
        "    # Remove user ¿ and ¡ from tweet\n",
        "    tweet = re.sub(r'\\¿|\\¡|\\?|\\!','', tweet)\n",
        "    # Remove punctuations\n",
        "    tweet = tweet.translate(str.maketrans('', '', string.punctuation))\n",
        "    # remove graphical emoji\n",
        "    tweet = give_emoji_free_text(tweet) \n",
        "    # remove textual emoji\n",
        "    tweet = re.sub(emoticon_string,'',tweet)\n",
        "    #remove accent mark\n",
        "    for a, b in replacements:\n",
        "        tweet = tweet.replace(a, b)\n",
        "\n",
        "    # Remove stopwords\n",
        "    tweet_tokens = word_tokenize(tweet)\n",
        "    filtered_words = [w for w in tweet_tokens if not w in stop_words]\n",
        "    \n",
        "    return \" \".join(filtered_words)"
      ],
      "execution_count": 56,
      "outputs": []
    },
    {
      "cell_type": "code",
      "metadata": {
        "id": "h3LZCrEFWOFK"
      },
      "source": [
        "def get_feature_vector(train_fit):\n",
        "    vector = TfidfVectorizer(sublinear_tf=True)\n",
        "    vector.fit(train_fit)\n",
        "    return vector"
      ],
      "execution_count": 57,
      "outputs": []
    },
    {
      "cell_type": "code",
      "metadata": {
        "colab": {
          "base_uri": "https://localhost:8080/",
          "height": 206
        },
        "id": "-d_TdTf4XbPd",
        "outputId": "4b430d79-2fc8-411c-d2bc-1886de253497"
      },
      "source": [
        "df_train.head()"
      ],
      "execution_count": 58,
      "outputs": [
        {
          "output_type": "execute_result",
          "data": {
            "text/html": [
              "<div>\n",
              "<style scoped>\n",
              "    .dataframe tbody tr th:only-of-type {\n",
              "        vertical-align: middle;\n",
              "    }\n",
              "\n",
              "    .dataframe tbody tr th {\n",
              "        vertical-align: top;\n",
              "    }\n",
              "\n",
              "    .dataframe thead th {\n",
              "        text-align: right;\n",
              "    }\n",
              "</style>\n",
              "<table border=\"1\" class=\"dataframe\">\n",
              "  <thead>\n",
              "    <tr style=\"text-align: right;\">\n",
              "      <th></th>\n",
              "      <th>id</th>\n",
              "      <th>title</th>\n",
              "      <th>author</th>\n",
              "      <th>text</th>\n",
              "      <th>label</th>\n",
              "    </tr>\n",
              "  </thead>\n",
              "  <tbody>\n",
              "    <tr>\n",
              "      <th>0</th>\n",
              "      <td>0</td>\n",
              "      <td>House Dem Aide: We Didn’t Even See Comey’s Let...</td>\n",
              "      <td>Darrell Lucus</td>\n",
              "      <td>House Dem Aide: We Didn’t Even See Comey’s Let...</td>\n",
              "      <td>1</td>\n",
              "    </tr>\n",
              "    <tr>\n",
              "      <th>1</th>\n",
              "      <td>1</td>\n",
              "      <td>FLYNN: Hillary Clinton, Big Woman on Campus - ...</td>\n",
              "      <td>Daniel J. Flynn</td>\n",
              "      <td>Ever get the feeling your life circles the rou...</td>\n",
              "      <td>0</td>\n",
              "    </tr>\n",
              "    <tr>\n",
              "      <th>2</th>\n",
              "      <td>2</td>\n",
              "      <td>Why the Truth Might Get You Fired</td>\n",
              "      <td>Consortiumnews.com</td>\n",
              "      <td>Why the Truth Might Get You Fired October 29, ...</td>\n",
              "      <td>1</td>\n",
              "    </tr>\n",
              "    <tr>\n",
              "      <th>3</th>\n",
              "      <td>3</td>\n",
              "      <td>15 Civilians Killed In Single US Airstrike Hav...</td>\n",
              "      <td>Jessica Purkiss</td>\n",
              "      <td>Videos 15 Civilians Killed In Single US Airstr...</td>\n",
              "      <td>1</td>\n",
              "    </tr>\n",
              "    <tr>\n",
              "      <th>4</th>\n",
              "      <td>4</td>\n",
              "      <td>Iranian woman jailed for fictional unpublished...</td>\n",
              "      <td>Howard Portnoy</td>\n",
              "      <td>Print \\nAn Iranian woman has been sentenced to...</td>\n",
              "      <td>1</td>\n",
              "    </tr>\n",
              "  </tbody>\n",
              "</table>\n",
              "</div>"
            ],
            "text/plain": [
              "   id  ... label\n",
              "0   0  ...     1\n",
              "1   1  ...     0\n",
              "2   2  ...     1\n",
              "3   3  ...     1\n",
              "4   4  ...     1\n",
              "\n",
              "[5 rows x 5 columns]"
            ]
          },
          "metadata": {},
          "execution_count": 58
        }
      ]
    },
    {
      "cell_type": "code",
      "metadata": {
        "id": "kXdgWbvJb8HT"
      },
      "source": [
        "@ray.remote\n",
        "def ray_preprocess_tweet_text(tweet):\n",
        "    return preprocess_tweet_text(tweet)"
      ],
      "execution_count": 59,
      "outputs": []
    },
    {
      "cell_type": "code",
      "metadata": {
        "colab": {
          "base_uri": "https://localhost:8080/"
        },
        "id": "JrIMQCqwUJ-G",
        "outputId": "dc53a66e-b7c9-44a8-acac-828a73019a2b"
      },
      "source": [
        "start = time.time()\n",
        "df_train['text'] = df_train['text'].apply(ray_preprocess_tweet_text.remote)\n",
        "df_train['text'] = df_train['text'].apply(ray.get)\n",
        "duration = time.time() - start\n",
        "print(duration)\n",
        "print(psutil.Process().memory_info().rss / (1024 * 1024))"
      ],
      "execution_count": 60,
      "outputs": [
        {
          "output_type": "stream",
          "name": "stderr",
          "text": [
            "\u001b[2m\u001b[36m(ray_preprocess_tweet_text pid=835)\u001b[0m \n"
          ]
        },
        {
          "output_type": "stream",
          "name": "stdout",
          "text": [
            "\u001b[2m\u001b[36m(ray_preprocess_tweet_text pid=983)\u001b[0m \n",
            "\u001b[2m\u001b[36m(ray_preprocess_tweet_text pid=927)\u001b[0m \n"
          ]
        },
        {
          "output_type": "stream",
          "name": "stderr",
          "text": [
            "\u001b[2m\u001b[36m(ray_preprocess_tweet_text pid=927)\u001b[0m \n"
          ]
        },
        {
          "output_type": "stream",
          "name": "stdout",
          "text": [
            "\u001b[2m\u001b[36m(ray_preprocess_tweet_text pid=928)\u001b[0m \n",
            "\u001b[2m\u001b[36m(ray_preprocess_tweet_text pid=835)\u001b[0m \n",
            "\u001b[2m\u001b[36m(ray_preprocess_tweet_text pid=984)\u001b[0m \n",
            "\u001b[2m\u001b[36m(ray_preprocess_tweet_text pid=927)\u001b[0m \n",
            "\u001b[2m\u001b[36m(ray_preprocess_tweet_text pid=927)\u001b[0m \n",
            "\u001b[2m\u001b[36m(ray_preprocess_tweet_text pid=1031)\u001b[0m \n",
            "\u001b[2m\u001b[36m(ray_preprocess_tweet_text pid=983)\u001b[0m \n",
            "\u001b[2m\u001b[36m(ray_preprocess_tweet_text pid=928)\u001b[0m \n",
            "\u001b[2m\u001b[36m(ray_preprocess_tweet_text pid=836)\u001b[0m \n"
          ]
        },
        {
          "output_type": "stream",
          "name": "stderr",
          "text": [
            "\u001b[2m\u001b[36m(ray_preprocess_tweet_text pid=984)\u001b[0m \n"
          ]
        },
        {
          "output_type": "stream",
          "name": "stdout",
          "text": [
            "\u001b[2m\u001b[36m(ray_preprocess_tweet_text pid=1087)\u001b[0m \n",
            "\u001b[2m\u001b[36m(ray_preprocess_tweet_text pid=927)\u001b[0m \n",
            "791.6926488876343\n",
            "1401.09375\n"
          ]
        }
      ]
    },
    {
      "cell_type": "code",
      "metadata": {
        "colab": {
          "base_uri": "https://localhost:8080/",
          "height": 206
        },
        "id": "PVFqgsRJW-9t",
        "outputId": "d91d4351-9c8b-4950-f8b6-7a3b25192c43"
      },
      "source": [
        "df_train.head()"
      ],
      "execution_count": 61,
      "outputs": [
        {
          "output_type": "execute_result",
          "data": {
            "text/html": [
              "<div>\n",
              "<style scoped>\n",
              "    .dataframe tbody tr th:only-of-type {\n",
              "        vertical-align: middle;\n",
              "    }\n",
              "\n",
              "    .dataframe tbody tr th {\n",
              "        vertical-align: top;\n",
              "    }\n",
              "\n",
              "    .dataframe thead th {\n",
              "        text-align: right;\n",
              "    }\n",
              "</style>\n",
              "<table border=\"1\" class=\"dataframe\">\n",
              "  <thead>\n",
              "    <tr style=\"text-align: right;\">\n",
              "      <th></th>\n",
              "      <th>id</th>\n",
              "      <th>title</th>\n",
              "      <th>author</th>\n",
              "      <th>text</th>\n",
              "      <th>label</th>\n",
              "    </tr>\n",
              "  </thead>\n",
              "  <tbody>\n",
              "    <tr>\n",
              "      <th>0</th>\n",
              "      <td>0</td>\n",
              "      <td>House Dem Aide: We Didn’t Even See Comey’s Let...</td>\n",
              "      <td>Darrell Lucus</td>\n",
              "      <td>house dem aide ’ even see comey ’ letter jason...</td>\n",
              "      <td>1</td>\n",
              "    </tr>\n",
              "    <tr>\n",
              "      <th>1</th>\n",
              "      <td>1</td>\n",
              "      <td>FLYNN: Hillary Clinton, Big Woman on Campus - ...</td>\n",
              "      <td>Daniel J. Flynn</td>\n",
              "      <td>ever get feeling life circles roundabout rathe...</td>\n",
              "      <td>0</td>\n",
              "    </tr>\n",
              "    <tr>\n",
              "      <th>2</th>\n",
              "      <td>2</td>\n",
              "      <td>Why the Truth Might Get You Fired</td>\n",
              "      <td>Consortiumnews.com</td>\n",
              "      <td>truth might get fired october 29 2016 tension ...</td>\n",
              "      <td>1</td>\n",
              "    </tr>\n",
              "    <tr>\n",
              "      <th>3</th>\n",
              "      <td>3</td>\n",
              "      <td>15 Civilians Killed In Single US Airstrike Hav...</td>\n",
              "      <td>Jessica Purkiss</td>\n",
              "      <td>videos 15 civilians killed single us airstrike...</td>\n",
              "      <td>1</td>\n",
              "    </tr>\n",
              "    <tr>\n",
              "      <th>4</th>\n",
              "      <td>4</td>\n",
              "      <td>Iranian woman jailed for fictional unpublished...</td>\n",
              "      <td>Howard Portnoy</td>\n",
              "      <td>print iranian woman sentenced six years prison...</td>\n",
              "      <td>1</td>\n",
              "    </tr>\n",
              "  </tbody>\n",
              "</table>\n",
              "</div>"
            ],
            "text/plain": [
              "   id  ... label\n",
              "0   0  ...     1\n",
              "1   1  ...     0\n",
              "2   2  ...     1\n",
              "3   3  ...     1\n",
              "4   4  ...     1\n",
              "\n",
              "[5 rows x 5 columns]"
            ]
          },
          "metadata": {},
          "execution_count": 61
        }
      ]
    },
    {
      "cell_type": "markdown",
      "metadata": {
        "id": "ZiNdAdSBhlhB"
      },
      "source": [
        "## Pre-procesamiento"
      ]
    },
    {
      "cell_type": "code",
      "metadata": {
        "id": "h_ovL5L3bSBc"
      },
      "source": [
        "@ray.remote\n",
        "def ray_get_feature_vector(da):\n",
        "    return get_feature_vector(da)"
      ],
      "execution_count": 62,
      "outputs": []
    },
    {
      "cell_type": "code",
      "metadata": {
        "colab": {
          "base_uri": "https://localhost:8080/"
        },
        "id": "Y5e3872dcfNY",
        "outputId": "72227999-2491-43de-c814-0982f53dd618"
      },
      "source": [
        "start = time.time()\n",
        "\n",
        "tf_vector_ray = ray_get_feature_vector.remote(np.array(df_train.iloc[:, 3]).ravel())\n",
        "tf_vector = ray.get(tf_vector_ray)\n",
        "X_train = tf_vector.transform(np.array(df_train.iloc[:, 3]).ravel())\n",
        "y_train = np.array(df_train.iloc[:, 4]).ravel()\n",
        "\n",
        "duration = time.time() - start\n",
        "print(duration)\n",
        "print(psutil.Process().memory_info().rss / (1024 * 1024))"
      ],
      "execution_count": 63,
      "outputs": [
        {
          "output_type": "stream",
          "name": "stdout",
          "text": [
            "21.31521964073181\n",
            "1696.64453125\n"
          ]
        }
      ]
    },
    {
      "cell_type": "code",
      "metadata": {
        "colab": {
          "base_uri": "https://localhost:8080/",
          "height": 206
        },
        "id": "FStSZzN1eUKQ",
        "outputId": "27ff805d-20ee-4968-ca0c-dd6e86371a84"
      },
      "source": [
        "df_submit.head()"
      ],
      "execution_count": 64,
      "outputs": [
        {
          "output_type": "execute_result",
          "data": {
            "text/html": [
              "<div>\n",
              "<style scoped>\n",
              "    .dataframe tbody tr th:only-of-type {\n",
              "        vertical-align: middle;\n",
              "    }\n",
              "\n",
              "    .dataframe tbody tr th {\n",
              "        vertical-align: top;\n",
              "    }\n",
              "\n",
              "    .dataframe thead th {\n",
              "        text-align: right;\n",
              "    }\n",
              "</style>\n",
              "<table border=\"1\" class=\"dataframe\">\n",
              "  <thead>\n",
              "    <tr style=\"text-align: right;\">\n",
              "      <th></th>\n",
              "      <th>id</th>\n",
              "      <th>label</th>\n",
              "    </tr>\n",
              "  </thead>\n",
              "  <tbody>\n",
              "    <tr>\n",
              "      <th>0</th>\n",
              "      <td>20800</td>\n",
              "      <td>0</td>\n",
              "    </tr>\n",
              "    <tr>\n",
              "      <th>1</th>\n",
              "      <td>20801</td>\n",
              "      <td>1</td>\n",
              "    </tr>\n",
              "    <tr>\n",
              "      <th>2</th>\n",
              "      <td>20802</td>\n",
              "      <td>0</td>\n",
              "    </tr>\n",
              "    <tr>\n",
              "      <th>3</th>\n",
              "      <td>20803</td>\n",
              "      <td>1</td>\n",
              "    </tr>\n",
              "    <tr>\n",
              "      <th>4</th>\n",
              "      <td>20804</td>\n",
              "      <td>1</td>\n",
              "    </tr>\n",
              "  </tbody>\n",
              "</table>\n",
              "</div>"
            ],
            "text/plain": [
              "      id  label\n",
              "0  20800      0\n",
              "1  20801      1\n",
              "2  20802      0\n",
              "3  20803      1\n",
              "4  20804      1"
            ]
          },
          "metadata": {},
          "execution_count": 64
        }
      ]
    },
    {
      "cell_type": "code",
      "metadata": {
        "colab": {
          "base_uri": "https://localhost:8080/",
          "height": 206
        },
        "id": "yNeidjGUeFDE",
        "outputId": "515e7a13-3170-4242-bc9d-e8e7ef39d0f8"
      },
      "source": [
        "df_test.head()"
      ],
      "execution_count": 65,
      "outputs": [
        {
          "output_type": "execute_result",
          "data": {
            "text/html": [
              "<div>\n",
              "<style scoped>\n",
              "    .dataframe tbody tr th:only-of-type {\n",
              "        vertical-align: middle;\n",
              "    }\n",
              "\n",
              "    .dataframe tbody tr th {\n",
              "        vertical-align: top;\n",
              "    }\n",
              "\n",
              "    .dataframe thead th {\n",
              "        text-align: right;\n",
              "    }\n",
              "</style>\n",
              "<table border=\"1\" class=\"dataframe\">\n",
              "  <thead>\n",
              "    <tr style=\"text-align: right;\">\n",
              "      <th></th>\n",
              "      <th>id</th>\n",
              "      <th>title</th>\n",
              "      <th>author</th>\n",
              "      <th>text</th>\n",
              "    </tr>\n",
              "  </thead>\n",
              "  <tbody>\n",
              "    <tr>\n",
              "      <th>0</th>\n",
              "      <td>20800</td>\n",
              "      <td>Specter of Trump Loosens Tongues, if Not Purse...</td>\n",
              "      <td>David Streitfeld</td>\n",
              "      <td>PALO ALTO, Calif.  —   After years of scorning...</td>\n",
              "    </tr>\n",
              "    <tr>\n",
              "      <th>1</th>\n",
              "      <td>20801</td>\n",
              "      <td>Russian warships ready to strike terrorists ne...</td>\n",
              "      <td>NaN</td>\n",
              "      <td>Russian warships ready to strike terrorists ne...</td>\n",
              "    </tr>\n",
              "    <tr>\n",
              "      <th>2</th>\n",
              "      <td>20802</td>\n",
              "      <td>#NoDAPL: Native American Leaders Vow to Stay A...</td>\n",
              "      <td>Common Dreams</td>\n",
              "      <td>Videos #NoDAPL: Native American Leaders Vow to...</td>\n",
              "    </tr>\n",
              "    <tr>\n",
              "      <th>3</th>\n",
              "      <td>20803</td>\n",
              "      <td>Tim Tebow Will Attempt Another Comeback, This ...</td>\n",
              "      <td>Daniel Victor</td>\n",
              "      <td>If at first you don’t succeed, try a different...</td>\n",
              "    </tr>\n",
              "    <tr>\n",
              "      <th>4</th>\n",
              "      <td>20804</td>\n",
              "      <td>Keiser Report: Meme Wars (E995)</td>\n",
              "      <td>Truth Broadcast Network</td>\n",
              "      <td>42 mins ago 1 Views 0 Comments 0 Likes 'For th...</td>\n",
              "    </tr>\n",
              "  </tbody>\n",
              "</table>\n",
              "</div>"
            ],
            "text/plain": [
              "      id  ...                                               text\n",
              "0  20800  ...  PALO ALTO, Calif.  —   After years of scorning...\n",
              "1  20801  ...  Russian warships ready to strike terrorists ne...\n",
              "2  20802  ...  Videos #NoDAPL: Native American Leaders Vow to...\n",
              "3  20803  ...  If at first you don’t succeed, try a different...\n",
              "4  20804  ...  42 mins ago 1 Views 0 Comments 0 Likes 'For th...\n",
              "\n",
              "[5 rows x 4 columns]"
            ]
          },
          "metadata": {},
          "execution_count": 65
        }
      ]
    },
    {
      "cell_type": "code",
      "metadata": {
        "id": "0T1lSRpNel-T"
      },
      "source": [
        "df_test = pd.merge(df_test,df_submit,on='id',how='left')"
      ],
      "execution_count": 73,
      "outputs": []
    },
    {
      "cell_type": "code",
      "metadata": {
        "id": "p901qzcFeqwe"
      },
      "source": [
        "@ray.remote\n",
        "def join_test(bd1,bd2):\n",
        "    return pd.merge(bd1, bd2, on=\"id\",how='left')\n",
        "\n"
      ],
      "execution_count": 74,
      "outputs": []
    },
    {
      "cell_type": "code",
      "metadata": {
        "id": "KxZhwgY5daNo",
        "colab": {
          "base_uri": "https://localhost:8080/"
        },
        "outputId": "4ee1ae1e-20fb-4b4e-c055-1dcbf2a892c6"
      },
      "source": [
        "start = time.time()\n",
        "\n",
        "tf_vector_ray = ray_get_feature_vector.remote(np.array(df_test.iloc[:, 3]).ravel())\n",
        "tf_vector = ray.get(tf_vector_ray)\n",
        "X_test = tf_vector.transform(np.array(df_test.iloc[:, 3]).ravel())\n",
        "y_test = np.array(df_test.iloc[:, 4]).ravel()\n",
        "\n",
        "duration = time.time() - start\n",
        "print(duration)\n",
        "print(psutil.Process().memory_info().rss / (1024 * 1024))"
      ],
      "execution_count": 75,
      "outputs": [
        {
          "output_type": "stream",
          "name": "stdout",
          "text": [
            "9.310114860534668\n",
            "1702.0390625\n"
          ]
        }
      ]
    },
    {
      "cell_type": "markdown",
      "metadata": {
        "id": "R1Hpw7-0ioZb"
      },
      "source": [
        "## Modelamiento"
      ]
    },
    {
      "cell_type": "code",
      "metadata": {
        "id": "IgHMta-ppZMF"
      },
      "source": [
        "from nltk.stem import PorterStemmer\n",
        "import re\n",
        "import tensorflow\n",
        "from tensorflow.keras.layers import Embedding, Dense, LSTM\n",
        "from tensorflow.keras.preprocessing.sequence import pad_sequences\n",
        "from tensorflow.keras.models import Sequential\n",
        "from tensorflow.keras.preprocessing.text import one_hot\n"
      ],
      "execution_count": 77,
      "outputs": []
    },
    {
      "cell_type": "code",
      "source": [
        "%%time\n",
        "\n",
        "embedding_vector_features = 40\n",
        "voc_size = 5000\n",
        "sent_length = 20\n",
        "model = Sequential()\n",
        "model.add(Embedding(voc_size, embedding_vector_features, input_length=sent_length))\n",
        "model.add(LSTM(100))\n",
        "model.add(Dense(1, activation='sigmoid'))\n",
        "model.compile(loss='binary_crossentropy', optimizer='adam', metrics=['accuracy'])\n"
      ],
      "metadata": {
        "colab": {
          "base_uri": "https://localhost:8080/"
        },
        "id": "j2yfC4nOCNJc",
        "outputId": "77d03934-e5ba-4e16-d55f-48907c97129a"
      },
      "execution_count": 115,
      "outputs": [
        {
          "output_type": "stream",
          "name": "stdout",
          "text": [
            "CPU times: user 549 ms, sys: 14.7 ms, total: 563 ms\n",
            "Wall time: 629 ms\n"
          ]
        }
      ]
    },
    {
      "cell_type": "code",
      "source": [
        "%%time\n",
        "voc_size = 5000\n",
        "onehot_repre = [one_hot(words, voc_size) for words in df_train.text]\n",
        "print(psutil.Process().memory_info().rss / (1024 * 1024))\n",
        "onehot_repre[0]"
      ],
      "metadata": {
        "colab": {
          "base_uri": "https://localhost:8080/"
        },
        "id": "k57IXoxlEoUl",
        "outputId": "5bbadcfe-6a80-4460-9c3b-b08afe68c05c"
      },
      "execution_count": 108,
      "outputs": [
        {
          "output_type": "stream",
          "name": "stdout",
          "text": [
            "2587.62890625\n",
            "CPU times: user 11.3 s, sys: 353 ms, total: 11.6 s\n",
            "Wall time: 12.2 s\n"
          ]
        }
      ]
    },
    {
      "cell_type": "code",
      "source": [
        "embedded_docs = pad_sequences(onehot_repre, padding='pre', maxlen=sent_length)\n",
        "print(embedded_docs[0])"
      ],
      "metadata": {
        "colab": {
          "base_uri": "https://localhost:8080/"
        },
        "id": "B6RwwDJvEoR-",
        "outputId": "0f81d3da-0ffe-4a5a-a715-a227451cfeb4"
      },
      "execution_count": 109,
      "outputs": [
        {
          "output_type": "stream",
          "name": "stdout",
          "text": [
            "[2759 4703 1180 2478 4108 4617 4121  290 2944 4969 2202 4072 2798  582\n",
            " 4001 3078 2864 4966  707 2798]\n"
          ]
        }
      ]
    },
    {
      "cell_type": "code",
      "source": [
        "Y = df_train.label  \n",
        "x_final = np.array(embedded_docs)\n",
        "y_final = np.array(Y)"
      ],
      "metadata": {
        "id": "-v8lVta2E-Hm"
      },
      "execution_count": 110,
      "outputs": []
    },
    {
      "cell_type": "code",
      "source": [
        "x_final.shape, y_final.shape"
      ],
      "metadata": {
        "colab": {
          "base_uri": "https://localhost:8080/"
        },
        "id": "lBNVBzc-E-FK",
        "outputId": "ce99d995-71ae-42de-f832-dc59604dfef0"
      },
      "execution_count": 111,
      "outputs": [
        {
          "output_type": "execute_result",
          "data": {
            "text/plain": [
              "((20761, 20), (20761,))"
            ]
          },
          "metadata": {},
          "execution_count": 111
        }
      ]
    },
    {
      "cell_type": "code",
      "source": [
        "from sklearn.model_selection import train_test_split\n",
        "X_train, X_test, y_train, y_test = train_test_split(x_final, y_final, test_size=0.33, random_state=42)"
      ],
      "metadata": {
        "id": "ihEHIz_zE-C_"
      },
      "execution_count": 112,
      "outputs": []
    },
    {
      "cell_type": "code",
      "source": [
        "%%time\n",
        "# model = model_ray()\n",
        "model.fit(X_train, y_train, validation_data=(X_test, y_test), epochs=10, batch_size=64)\n",
        "print(psutil.Process().memory_info().rss / (1024 * 1024))"
      ],
      "metadata": {
        "colab": {
          "base_uri": "https://localhost:8080/"
        },
        "id": "kfp2BdzGE-AO",
        "outputId": "15e0919f-d3e9-44c5-c328-e4eba44d1179"
      },
      "execution_count": 128,
      "outputs": [
        {
          "output_type": "stream",
          "name": "stdout",
          "text": [
            "Epoch 1/10\n",
            "218/218 [==============================] - 14s 65ms/step - loss: 0.4035 - accuracy: 0.8136 - val_loss: 0.3091 - val_accuracy: 0.8589\n",
            "Epoch 2/10\n",
            "218/218 [==============================] - 9s 41ms/step - loss: 0.2304 - accuracy: 0.9060 - val_loss: 0.3114 - val_accuracy: 0.8634\n",
            "Epoch 3/10\n",
            "218/218 [==============================] - 9s 40ms/step - loss: 0.1573 - accuracy: 0.9409 - val_loss: 0.3645 - val_accuracy: 0.8583\n",
            "Epoch 4/10\n",
            "218/218 [==============================] - 9s 39ms/step - loss: 0.1020 - accuracy: 0.9665 - val_loss: 0.4124 - val_accuracy: 0.8536\n",
            "Epoch 5/10\n",
            "218/218 [==============================] - 9s 40ms/step - loss: 0.0618 - accuracy: 0.9808 - val_loss: 0.6194 - val_accuracy: 0.8473\n",
            "Epoch 6/10\n",
            "218/218 [==============================] - 9s 39ms/step - loss: 0.0412 - accuracy: 0.9874 - val_loss: 0.6406 - val_accuracy: 0.8463\n",
            "Epoch 7/10\n",
            "218/218 [==============================] - 9s 39ms/step - loss: 0.0249 - accuracy: 0.9931 - val_loss: 0.7486 - val_accuracy: 0.8466\n",
            "Epoch 8/10\n",
            "218/218 [==============================] - 9s 39ms/step - loss: 0.0215 - accuracy: 0.9935 - val_loss: 0.8515 - val_accuracy: 0.8449\n",
            "Epoch 9/10\n",
            "218/218 [==============================] - 9s 39ms/step - loss: 0.0192 - accuracy: 0.9930 - val_loss: 0.8813 - val_accuracy: 0.8408\n",
            "Epoch 10/10\n",
            "218/218 [==============================] - 9s 39ms/step - loss: 0.0131 - accuracy: 0.9962 - val_loss: 0.8805 - val_accuracy: 0.8398\n",
            "2331.6015625\n",
            "CPU times: user 2min 2s, sys: 6.19 s, total: 2min 8s\n",
            "Wall time: 2min 22s\n"
          ]
        }
      ]
    },
    {
      "cell_type": "code",
      "source": [
        "%%time\n",
        "classes_x = (model.predict(X_test) > 0.5).astype(\"int32\")\n",
        "print(psutil.Process().memory_info().rss / (1024 * 1024))"
      ],
      "metadata": {
        "colab": {
          "base_uri": "https://localhost:8080/"
        },
        "id": "VAHCwa6UE99f",
        "outputId": "7383e8f3-5bac-488d-d47c-edf7cd2e4aba"
      },
      "execution_count": 129,
      "outputs": [
        {
          "output_type": "stream",
          "name": "stdout",
          "text": [
            "2331.60546875\n",
            "CPU times: user 2.37 s, sys: 93.2 ms, total: 2.47 s\n",
            "Wall time: 1.88 s\n"
          ]
        }
      ]
    },
    {
      "cell_type": "code",
      "source": [
        "from sklearn.metrics import confusion_matrix\n",
        "confusion_matrix(y_test, classes_x)"
      ],
      "metadata": {
        "colab": {
          "base_uri": "https://localhost:8080/"
        },
        "id": "M2e3SmlQFFR1",
        "outputId": "8e04105a-bbed-4067-b4cd-55e5b86fdd5d"
      },
      "execution_count": 131,
      "outputs": [
        {
          "output_type": "execute_result",
          "data": {
            "text/plain": [
              "array([[2814,  620],\n",
              "       [ 478, 2940]])"
            ]
          },
          "metadata": {},
          "execution_count": 131
        }
      ]
    },
    {
      "cell_type": "code",
      "source": [
        "from sklearn.metrics import accuracy_score\n",
        "accuracy_score(y_test,classes_x)"
      ],
      "metadata": {
        "colab": {
          "base_uri": "https://localhost:8080/"
        },
        "id": "1KO2z1VrFFO_",
        "outputId": "2a18c15d-61ba-417c-d38a-4fcba69f11c6"
      },
      "execution_count": 132,
      "outputs": [
        {
          "output_type": "execute_result",
          "data": {
            "text/plain": [
              "0.839754816112084"
            ]
          },
          "metadata": {},
          "execution_count": 132
        }
      ]
    },
    {
      "cell_type": "code",
      "metadata": {
        "id": "eNaPyNnZmQjw"
      },
      "source": [
        ""
      ],
      "execution_count": null,
      "outputs": []
    }
  ]
}