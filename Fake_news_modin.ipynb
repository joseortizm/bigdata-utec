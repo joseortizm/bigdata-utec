{
  "nbformat": 4,
  "nbformat_minor": 0,
  "metadata": {
    "application/vnd.databricks.v1+notebook": {
      "notebookName": "Fake-news",
      "dashboards": [],
      "notebookMetadata": {
        "pythonIndentUnit": 2
      },
      "language": "python",
      "widgets": {},
      "notebookOrigID": 2108108501825771
    },
    "colab": {
      "name": "Modin_Fake-news.ipynb",
      "provenance": []
    },
    "language_info": {
      "name": "python"
    },
    "kernelspec": {
      "name": "python3",
      "display_name": "Python 3"
    }
  },
  "cells": [
    {
      "cell_type": "code",
      "metadata": {
        "application/vnd.databricks.v1+cell": {
          "title": "",
          "showTitle": false,
          "inputWidgets": {},
          "nuid": "a3833d5b-f68f-450b-9807-eadfb07a262c"
        },
        "id": "104-V-WeBIfQ",
        "colab": {
          "base_uri": "https://localhost:8080/"
        },
        "outputId": "622116a8-1f73-4165-eaee-6ee4ef8220ce"
      },
      "source": [
        "! pip install kaggle"
      ],
      "execution_count": null,
      "outputs": [
        {
          "output_type": "stream",
          "name": "stdout",
          "text": [
            "Requirement already satisfied: kaggle in /usr/local/lib/python3.7/dist-packages (1.5.12)\n",
            "Requirement already satisfied: six>=1.10 in /usr/local/lib/python3.7/dist-packages (from kaggle) (1.15.0)\n",
            "Requirement already satisfied: urllib3 in /usr/local/lib/python3.7/dist-packages (from kaggle) (1.24.3)\n",
            "Requirement already satisfied: tqdm in /usr/local/lib/python3.7/dist-packages (from kaggle) (4.62.3)\n",
            "Requirement already satisfied: certifi in /usr/local/lib/python3.7/dist-packages (from kaggle) (2021.10.8)\n",
            "Requirement already satisfied: python-dateutil in /usr/local/lib/python3.7/dist-packages (from kaggle) (2.8.2)\n",
            "Requirement already satisfied: python-slugify in /usr/local/lib/python3.7/dist-packages (from kaggle) (5.0.2)\n",
            "Requirement already satisfied: requests in /usr/local/lib/python3.7/dist-packages (from kaggle) (2.23.0)\n",
            "Requirement already satisfied: text-unidecode>=1.3 in /usr/local/lib/python3.7/dist-packages (from python-slugify->kaggle) (1.3)\n",
            "Requirement already satisfied: chardet<4,>=3.0.2 in /usr/local/lib/python3.7/dist-packages (from requests->kaggle) (3.0.4)\n",
            "Requirement already satisfied: idna<3,>=2.5 in /usr/local/lib/python3.7/dist-packages (from requests->kaggle) (2.10)\n"
          ]
        }
      ]
    },
    {
      "cell_type": "code",
      "metadata": {
        "id": "wMP4wa10K51I"
      },
      "source": [
        "! chmod 600 ~/.kaggle/kaggle.json"
      ],
      "execution_count": null,
      "outputs": []
    },
    {
      "cell_type": "code",
      "metadata": {
        "colab": {
          "base_uri": "https://localhost:8080/"
        },
        "id": "V1nrS2TMLCUH",
        "outputId": "63ec1692-626e-422a-b18c-1261a2091e30"
      },
      "source": [
        "! kaggle competitions download -c fake-news"
      ],
      "execution_count": null,
      "outputs": [
        {
          "output_type": "stream",
          "name": "stdout",
          "text": [
            "Warning: Looks like you're using an outdated API Version, please consider updating (server 1.5.12 / client 1.5.4)\n",
            "Downloading train.csv.zip to /content\n",
            " 62% 23.0M/37.0M [00:00<00:00, 65.6MB/s]\n",
            "100% 37.0M/37.0M [00:00<00:00, 124MB/s] \n",
            "Downloading test.csv.zip to /content\n",
            " 96% 9.00M/9.42M [00:00<00:00, 92.7MB/s]\n",
            "100% 9.42M/9.42M [00:00<00:00, 86.4MB/s]\n",
            "Downloading submit.csv to /content\n",
            "  0% 0.00/40.6k [00:00<?, ?B/s]\n",
            "100% 40.6k/40.6k [00:00<00:00, 42.5MB/s]\n"
          ]
        }
      ]
    },
    {
      "cell_type": "code",
      "metadata": {
        "application/vnd.databricks.v1+cell": {
          "title": "",
          "showTitle": false,
          "inputWidgets": {},
          "nuid": "c079f75a-95ff-44b6-b1ba-e2a4cdb1d5a4"
        },
        "id": "Gf7ELtLRBIfs",
        "colab": {
          "base_uri": "https://localhost:8080/"
        },
        "outputId": "872c6b0d-dd4d-4f73-bd6e-8a2601d8cb8f"
      },
      "source": [
        "!unzip test.csv.zip\n",
        "!unzip train.csv.zip"
      ],
      "execution_count": null,
      "outputs": [
        {
          "output_type": "stream",
          "name": "stdout",
          "text": [
            "Archive:  test.csv.zip\n",
            "  inflating: test.csv                \n",
            "Archive:  train.csv.zip\n",
            "  inflating: train.csv               \n"
          ]
        }
      ]
    },
    {
      "cell_type": "code",
      "metadata": {
        "colab": {
          "base_uri": "https://localhost:8080/"
        },
        "id": "-XkFylRFLU5e",
        "outputId": "30340bc2-33ac-4c92-df81-f0dae23cf517"
      },
      "source": [
        "!python -m pip install 'fsspec>=0.3.3'"
      ],
      "execution_count": null,
      "outputs": [
        {
          "output_type": "stream",
          "name": "stdout",
          "text": [
            "Requirement already satisfied: fsspec>=0.3.3 in /usr/local/lib/python3.7/dist-packages (2021.11.1)\n"
          ]
        }
      ]
    },
    {
      "cell_type": "code",
      "metadata": {
        "colab": {
          "base_uri": "https://localhost:8080/",
          "height": 1000
        },
        "id": "hdlGEWjUMVdp",
        "outputId": "dc7a4eb6-801b-4e9e-f2bf-cf0911066b8a"
      },
      "source": [
        "print('NOTE: Intentionally crashing session to use the newly installed library.\\n')\n",
        "\n",
        "!pip uninstall -y pyarrow\n",
        "!pip install ray[debug]==0.7.5\n",
        "!pip install bs4\n",
        "\n",
        "# A hack to force the runtime to restart, needed to include the above dependencies.\n"
      ],
      "execution_count": null,
      "outputs": [
        {
          "output_type": "stream",
          "name": "stdout",
          "text": [
            "NOTE: Intentionally crashing session to use the newly installed library.\n",
            "\n",
            "Found existing installation: pyarrow 3.0.0\n",
            "Uninstalling pyarrow-3.0.0:\n",
            "  Successfully uninstalled pyarrow-3.0.0\n",
            "Collecting ray[debug]==0.7.5\n",
            "  Downloading ray-0.7.5-cp37-cp37m-manylinux1_x86_64.whl (74.9 MB)\n",
            "\u001b[K     |████████████████████████████████| 74.9 MB 1.2 MB/s \n",
            "\u001b[?25hCollecting colorama\n",
            "  Downloading colorama-0.4.4-py2.py3-none-any.whl (16 kB)\n",
            "Requirement already satisfied: jsonschema in /usr/local/lib/python3.7/dist-packages (from ray[debug]==0.7.5) (2.6.0)\n",
            "Requirement already satisfied: filelock in /usr/local/lib/python3.7/dist-packages (from ray[debug]==0.7.5) (3.4.0)\n",
            "Collecting redis>=3.3.2\n",
            "  Downloading redis-4.0.2-py3-none-any.whl (119 kB)\n",
            "\u001b[K     |████████████████████████████████| 119 kB 73.4 MB/s \n",
            "\u001b[?25hRequirement already satisfied: numpy>=1.14 in /usr/local/lib/python3.7/dist-packages (from ray[debug]==0.7.5) (1.19.5)\n",
            "Requirement already satisfied: protobuf>=3.8.0 in /usr/local/lib/python3.7/dist-packages (from ray[debug]==0.7.5) (3.17.3)\n",
            "Collecting funcsigs\n",
            "  Downloading funcsigs-1.0.2-py2.py3-none-any.whl (17 kB)\n",
            "Requirement already satisfied: six>=1.0.0 in /usr/local/lib/python3.7/dist-packages (from ray[debug]==0.7.5) (1.15.0)\n",
            "Requirement already satisfied: pyyaml in /usr/local/lib/python3.7/dist-packages (from ray[debug]==0.7.5) (3.13)\n",
            "Requirement already satisfied: click in /usr/local/lib/python3.7/dist-packages (from ray[debug]==0.7.5) (7.1.2)\n",
            "Requirement already satisfied: pytest in /usr/local/lib/python3.7/dist-packages (from ray[debug]==0.7.5) (3.6.4)\n",
            "Collecting py-spy\n",
            "  Downloading py_spy-0.3.11-py2.py3-none-manylinux_2_5_x86_64.manylinux1_x86_64.whl (3.0 MB)\n",
            "\u001b[K     |████████████████████████████████| 3.0 MB 56.3 MB/s \n",
            "\u001b[?25hRequirement already satisfied: psutil in /usr/local/lib/python3.7/dist-packages (from ray[debug]==0.7.5) (5.4.8)\n",
            "Collecting setproctitle\n",
            "  Downloading setproctitle-1.2.2-cp37-cp37m-manylinux1_x86_64.whl (36 kB)\n",
            "Collecting deprecated\n",
            "  Downloading Deprecated-1.2.13-py2.py3-none-any.whl (9.6 kB)\n",
            "Requirement already satisfied: wrapt<2,>=1.10 in /usr/local/lib/python3.7/dist-packages (from deprecated->redis>=3.3.2->ray[debug]==0.7.5) (1.13.3)\n",
            "Requirement already satisfied: py>=1.5.0 in /usr/local/lib/python3.7/dist-packages (from pytest->ray[debug]==0.7.5) (1.11.0)\n",
            "Requirement already satisfied: more-itertools>=4.0.0 in /usr/local/lib/python3.7/dist-packages (from pytest->ray[debug]==0.7.5) (8.11.0)\n",
            "Requirement already satisfied: atomicwrites>=1.0 in /usr/local/lib/python3.7/dist-packages (from pytest->ray[debug]==0.7.5) (1.4.0)\n",
            "Requirement already satisfied: setuptools in /usr/local/lib/python3.7/dist-packages (from pytest->ray[debug]==0.7.5) (57.4.0)\n",
            "Requirement already satisfied: attrs>=17.4.0 in /usr/local/lib/python3.7/dist-packages (from pytest->ray[debug]==0.7.5) (21.2.0)\n",
            "Requirement already satisfied: pluggy<0.8,>=0.5 in /usr/local/lib/python3.7/dist-packages (from pytest->ray[debug]==0.7.5) (0.7.1)\n",
            "Installing collected packages: deprecated, redis, funcsigs, colorama, setproctitle, ray, py-spy\n",
            "Successfully installed colorama-0.4.4 deprecated-1.2.13 funcsigs-1.0.2 py-spy-0.3.11 ray-0.7.5 redis-4.0.2 setproctitle-1.2.2\n",
            "Requirement already satisfied: bs4 in /usr/local/lib/python3.7/dist-packages (0.0.1)\n",
            "Requirement already satisfied: beautifulsoup4 in /usr/local/lib/python3.7/dist-packages (from bs4) (4.6.3)\n",
            "Requirement already satisfied: ipykernel in /usr/local/lib/python3.7/dist-packages (4.10.1)\n",
            "Collecting ipykernel\n",
            "  Downloading ipykernel-6.5.1-py3-none-any.whl (125 kB)\n",
            "\u001b[K     |████████████████████████████████| 125 kB 5.0 MB/s \n",
            "\u001b[?25hRequirement already satisfied: importlib-metadata<5 in /usr/local/lib/python3.7/dist-packages (from ipykernel) (4.8.2)\n",
            "Requirement already satisfied: tornado<7.0,>=4.2 in /usr/local/lib/python3.7/dist-packages (from ipykernel) (5.1.1)\n",
            "Requirement already satisfied: jupyter-client<8.0 in /usr/local/lib/python3.7/dist-packages (from ipykernel) (5.3.5)\n",
            "Requirement already satisfied: debugpy<2.0,>=1.0.0 in /usr/local/lib/python3.7/dist-packages (from ipykernel) (1.0.0)\n",
            "Collecting ipython>=7.23.1\n",
            "  Downloading ipython-7.30.0-py3-none-any.whl (791 kB)\n",
            "\u001b[K     |████████████████████████████████| 791 kB 47.5 MB/s \n",
            "\u001b[?25hRequirement already satisfied: matplotlib-inline<0.2.0,>=0.1.0 in /usr/local/lib/python3.7/dist-packages (from ipykernel) (0.1.3)\n",
            "Requirement already satisfied: traitlets<6.0,>=5.1.0 in /usr/local/lib/python3.7/dist-packages (from ipykernel) (5.1.1)\n",
            "Requirement already satisfied: argcomplete>=1.12.3 in /usr/local/lib/python3.7/dist-packages (from ipykernel) (1.12.3)\n",
            "Requirement already satisfied: typing-extensions>=3.6.4 in /usr/local/lib/python3.7/dist-packages (from importlib-metadata<5->ipykernel) (3.10.0.2)\n",
            "Requirement already satisfied: zipp>=0.5 in /usr/local/lib/python3.7/dist-packages (from importlib-metadata<5->ipykernel) (3.6.0)\n",
            "Requirement already satisfied: jedi>=0.16 in /usr/local/lib/python3.7/dist-packages (from ipython>=7.23.1->ipykernel) (0.18.1)\n",
            "Requirement already satisfied: pexpect>4.3 in /usr/local/lib/python3.7/dist-packages (from ipython>=7.23.1->ipykernel) (4.8.0)\n",
            "Collecting prompt-toolkit!=3.0.0,!=3.0.1,<3.1.0,>=2.0.0\n",
            "  Downloading prompt_toolkit-3.0.23-py3-none-any.whl (374 kB)\n",
            "\u001b[K     |████████████████████████████████| 374 kB 78.2 MB/s \n",
            "\u001b[?25hRequirement already satisfied: backcall in /usr/local/lib/python3.7/dist-packages (from ipython>=7.23.1->ipykernel) (0.2.0)\n",
            "Requirement already satisfied: pygments in /usr/local/lib/python3.7/dist-packages (from ipython>=7.23.1->ipykernel) (2.6.1)\n",
            "Requirement already satisfied: decorator in /usr/local/lib/python3.7/dist-packages (from ipython>=7.23.1->ipykernel) (4.4.2)\n",
            "Requirement already satisfied: setuptools>=18.5 in /usr/local/lib/python3.7/dist-packages (from ipython>=7.23.1->ipykernel) (57.4.0)\n",
            "Requirement already satisfied: pickleshare in /usr/local/lib/python3.7/dist-packages (from ipython>=7.23.1->ipykernel) (0.7.5)\n",
            "Requirement already satisfied: parso<0.9.0,>=0.8.0 in /usr/local/lib/python3.7/dist-packages (from jedi>=0.16->ipython>=7.23.1->ipykernel) (0.8.2)\n",
            "Requirement already satisfied: python-dateutil>=2.1 in /usr/local/lib/python3.7/dist-packages (from jupyter-client<8.0->ipykernel) (2.8.2)\n",
            "Requirement already satisfied: pyzmq>=13 in /usr/local/lib/python3.7/dist-packages (from jupyter-client<8.0->ipykernel) (22.3.0)\n",
            "Requirement already satisfied: jupyter-core>=4.6.0 in /usr/local/lib/python3.7/dist-packages (from jupyter-client<8.0->ipykernel) (4.9.1)\n",
            "Requirement already satisfied: ptyprocess>=0.5 in /usr/local/lib/python3.7/dist-packages (from pexpect>4.3->ipython>=7.23.1->ipykernel) (0.7.0)\n",
            "Requirement already satisfied: wcwidth in /usr/local/lib/python3.7/dist-packages (from prompt-toolkit!=3.0.0,!=3.0.1,<3.1.0,>=2.0.0->ipython>=7.23.1->ipykernel) (0.2.5)\n",
            "Requirement already satisfied: six>=1.5 in /usr/local/lib/python3.7/dist-packages (from python-dateutil>=2.1->jupyter-client<8.0->ipykernel) (1.15.0)\n",
            "Installing collected packages: prompt-toolkit, ipython, ipykernel\n",
            "  Attempting uninstall: prompt-toolkit\n",
            "    Found existing installation: prompt-toolkit 1.0.18\n",
            "    Uninstalling prompt-toolkit-1.0.18:\n",
            "      Successfully uninstalled prompt-toolkit-1.0.18\n",
            "  Attempting uninstall: ipython\n",
            "    Found existing installation: ipython 5.5.0\n",
            "    Uninstalling ipython-5.5.0:\n",
            "      Successfully uninstalled ipython-5.5.0\n",
            "  Attempting uninstall: ipykernel\n",
            "    Found existing installation: ipykernel 4.10.1\n",
            "    Uninstalling ipykernel-4.10.1:\n",
            "      Successfully uninstalled ipykernel-4.10.1\n",
            "\u001b[31mERROR: pip's dependency resolver does not currently take into account all the packages that are installed. This behaviour is the source of the following dependency conflicts.\n",
            "jupyter-console 5.2.0 requires prompt-toolkit<2.0.0,>=1.0.0, but you have prompt-toolkit 3.0.23 which is incompatible.\n",
            "google-colab 1.0.0 requires ipykernel~=4.10, but you have ipykernel 6.5.1 which is incompatible.\n",
            "google-colab 1.0.0 requires ipython~=5.5.0, but you have ipython 7.30.0 which is incompatible.\u001b[0m\n",
            "Successfully installed ipykernel-6.5.1 ipython-7.30.0 prompt-toolkit-3.0.23\n"
          ]
        },
        {
          "output_type": "display_data",
          "data": {
            "application/vnd.colab-display-data+json": {
              "pip_warning": {
                "packages": [
                  "IPython",
                  "ipykernel",
                  "prompt_toolkit"
                ]
              }
            }
          },
          "metadata": {}
        },
        {
          "output_type": "stream",
          "name": "stdout",
          "text": [
            "Collecting modin[all]\n",
            "  Downloading modin-0.12.0-py3-none-any.whl (746 kB)\n",
            "\u001b[?25l\r\u001b[K     |▍                               | 10 kB 26.9 MB/s eta 0:00:01\r\u001b[K     |▉                               | 20 kB 29.8 MB/s eta 0:00:01\r\u001b[K     |█▎                              | 30 kB 11.2 MB/s eta 0:00:01\r\u001b[K     |█▊                              | 40 kB 9.1 MB/s eta 0:00:01\r\u001b[K     |██▏                             | 51 kB 5.1 MB/s eta 0:00:01\r\u001b[K     |██▋                             | 61 kB 5.7 MB/s eta 0:00:01\r\u001b[K     |███                             | 71 kB 4.8 MB/s eta 0:00:01\r\u001b[K     |███▌                            | 81 kB 5.4 MB/s eta 0:00:01\r\u001b[K     |████                            | 92 kB 4.6 MB/s eta 0:00:01\r\u001b[K     |████▍                           | 102 kB 5.0 MB/s eta 0:00:01\r\u001b[K     |████▉                           | 112 kB 5.0 MB/s eta 0:00:01\r\u001b[K     |█████▎                          | 122 kB 5.0 MB/s eta 0:00:01\r\u001b[K     |█████▊                          | 133 kB 5.0 MB/s eta 0:00:01\r\u001b[K     |██████▏                         | 143 kB 5.0 MB/s eta 0:00:01\r\u001b[K     |██████▋                         | 153 kB 5.0 MB/s eta 0:00:01\r\u001b[K     |███████                         | 163 kB 5.0 MB/s eta 0:00:01\r\u001b[K     |███████▌                        | 174 kB 5.0 MB/s eta 0:00:01\r\u001b[K     |████████                        | 184 kB 5.0 MB/s eta 0:00:01\r\u001b[K     |████████▍                       | 194 kB 5.0 MB/s eta 0:00:01\r\u001b[K     |████████▉                       | 204 kB 5.0 MB/s eta 0:00:01\r\u001b[K     |█████████▏                      | 215 kB 5.0 MB/s eta 0:00:01\r\u001b[K     |█████████▋                      | 225 kB 5.0 MB/s eta 0:00:01\r\u001b[K     |██████████                      | 235 kB 5.0 MB/s eta 0:00:01\r\u001b[K     |██████████▌                     | 245 kB 5.0 MB/s eta 0:00:01\r\u001b[K     |███████████                     | 256 kB 5.0 MB/s eta 0:00:01\r\u001b[K     |███████████▍                    | 266 kB 5.0 MB/s eta 0:00:01\r\u001b[K     |███████████▉                    | 276 kB 5.0 MB/s eta 0:00:01\r\u001b[K     |████████████▎                   | 286 kB 5.0 MB/s eta 0:00:01\r\u001b[K     |████████████▊                   | 296 kB 5.0 MB/s eta 0:00:01\r\u001b[K     |█████████████▏                  | 307 kB 5.0 MB/s eta 0:00:01\r\u001b[K     |█████████████▋                  | 317 kB 5.0 MB/s eta 0:00:01\r\u001b[K     |██████████████                  | 327 kB 5.0 MB/s eta 0:00:01\r\u001b[K     |██████████████▌                 | 337 kB 5.0 MB/s eta 0:00:01\r\u001b[K     |███████████████                 | 348 kB 5.0 MB/s eta 0:00:01\r\u001b[K     |███████████████▍                | 358 kB 5.0 MB/s eta 0:00:01\r\u001b[K     |███████████████▉                | 368 kB 5.0 MB/s eta 0:00:01\r\u001b[K     |████████████████▎               | 378 kB 5.0 MB/s eta 0:00:01\r\u001b[K     |████████████████▊               | 389 kB 5.0 MB/s eta 0:00:01\r\u001b[K     |█████████████████▏              | 399 kB 5.0 MB/s eta 0:00:01\r\u001b[K     |█████████████████▋              | 409 kB 5.0 MB/s eta 0:00:01\r\u001b[K     |██████████████████              | 419 kB 5.0 MB/s eta 0:00:01\r\u001b[K     |██████████████████▍             | 430 kB 5.0 MB/s eta 0:00:01\r\u001b[K     |██████████████████▉             | 440 kB 5.0 MB/s eta 0:00:01\r\u001b[K     |███████████████████▎            | 450 kB 5.0 MB/s eta 0:00:01\r\u001b[K     |███████████████████▊            | 460 kB 5.0 MB/s eta 0:00:01\r\u001b[K     |████████████████████▏           | 471 kB 5.0 MB/s eta 0:00:01\r\u001b[K     |████████████████████▋           | 481 kB 5.0 MB/s eta 0:00:01\r\u001b[K     |█████████████████████           | 491 kB 5.0 MB/s eta 0:00:01\r\u001b[K     |█████████████████████▌          | 501 kB 5.0 MB/s eta 0:00:01\r\u001b[K     |██████████████████████          | 512 kB 5.0 MB/s eta 0:00:01\r\u001b[K     |██████████████████████▍         | 522 kB 5.0 MB/s eta 0:00:01\r\u001b[K     |██████████████████████▉         | 532 kB 5.0 MB/s eta 0:00:01\r\u001b[K     |███████████████████████▎        | 542 kB 5.0 MB/s eta 0:00:01\r\u001b[K     |███████████████████████▊        | 552 kB 5.0 MB/s eta 0:00:01\r\u001b[K     |████████████████████████▏       | 563 kB 5.0 MB/s eta 0:00:01\r\u001b[K     |████████████████████████▋       | 573 kB 5.0 MB/s eta 0:00:01\r\u001b[K     |█████████████████████████       | 583 kB 5.0 MB/s eta 0:00:01\r\u001b[K     |█████████████████████████▌      | 593 kB 5.0 MB/s eta 0:00:01\r\u001b[K     |██████████████████████████      | 604 kB 5.0 MB/s eta 0:00:01\r\u001b[K     |██████████████████████████▍     | 614 kB 5.0 MB/s eta 0:00:01\r\u001b[K     |██████████████████████████▉     | 624 kB 5.0 MB/s eta 0:00:01\r\u001b[K     |███████████████████████████▏    | 634 kB 5.0 MB/s eta 0:00:01\r\u001b[K     |███████████████████████████▋    | 645 kB 5.0 MB/s eta 0:00:01\r\u001b[K     |████████████████████████████    | 655 kB 5.0 MB/s eta 0:00:01\r\u001b[K     |████████████████████████████▌   | 665 kB 5.0 MB/s eta 0:00:01\r\u001b[K     |█████████████████████████████   | 675 kB 5.0 MB/s eta 0:00:01\r\u001b[K     |█████████████████████████████▍  | 686 kB 5.0 MB/s eta 0:00:01\r\u001b[K     |█████████████████████████████▉  | 696 kB 5.0 MB/s eta 0:00:01\r\u001b[K     |██████████████████████████████▎ | 706 kB 5.0 MB/s eta 0:00:01\r\u001b[K     |██████████████████████████████▊ | 716 kB 5.0 MB/s eta 0:00:01\r\u001b[K     |███████████████████████████████▏| 727 kB 5.0 MB/s eta 0:00:01\r\u001b[K     |███████████████████████████████▋| 737 kB 5.0 MB/s eta 0:00:01\r\u001b[K     |████████████████████████████████| 746 kB 5.0 MB/s \n",
            "\u001b[?25hRequirement already satisfied: fsspec in /usr/local/lib/python3.7/dist-packages (from modin[all]) (2021.11.1)\n",
            "Requirement already satisfied: numpy>=1.16.5 in /usr/local/lib/python3.7/dist-packages (from modin[all]) (1.19.5)\n",
            "Requirement already satisfied: packaging in /usr/local/lib/python3.7/dist-packages (from modin[all]) (21.3)\n",
            "Collecting pandas==1.3.4\n",
            "  Downloading pandas-1.3.4-cp37-cp37m-manylinux_2_17_x86_64.manylinux2014_x86_64.whl (11.3 MB)\n",
            "\u001b[K     |████████████████████████████████| 11.3 MB 32.7 MB/s \n",
            "\u001b[?25hCollecting distributed>=2.22.0\n",
            "  Downloading distributed-2021.11.2-py3-none-any.whl (802 kB)\n",
            "\u001b[K     |████████████████████████████████| 802 kB 59.7 MB/s \n",
            "\u001b[?25hCollecting modin-spreadsheet>=0.1.0\n",
            "  Downloading modin_spreadsheet-0.1.2-py2.py3-none-any.whl (1.8 MB)\n",
            "\u001b[K     |████████████████████████████████| 1.8 MB 72.2 MB/s \n",
            "\u001b[?25hCollecting boto3\n",
            "  Downloading boto3-1.20.14-py3-none-any.whl (131 kB)\n",
            "\u001b[K     |████████████████████████████████| 131 kB 56.9 MB/s \n",
            "\u001b[?25hCollecting dask>=2.22.0\n",
            "  Downloading dask-2021.11.2-py3-none-any.whl (1.0 MB)\n",
            "\u001b[K     |████████████████████████████████| 1.0 MB 62.6 MB/s \n",
            "\u001b[?25hCollecting rpyc==4.1.5\n",
            "  Downloading rpyc-4.1.5-py3-none-any.whl (68 kB)\n",
            "\u001b[K     |████████████████████████████████| 68 kB 6.4 MB/s \n",
            "\u001b[?25hCollecting ray[default]>=1.4.0\n",
            "  Downloading ray-1.8.0-cp37-cp37m-manylinux2014_x86_64.whl (54.7 MB)\n",
            "\u001b[K     |████████████████████████████████| 54.7 MB 89 kB/s \n",
            "\u001b[?25hRequirement already satisfied: cloudpickle in /usr/local/lib/python3.7/dist-packages (from modin[all]) (1.3.0)\n",
            "Collecting pyarrow>=1.0\n",
            "  Downloading pyarrow-6.0.1-cp37-cp37m-manylinux_2_17_x86_64.manylinux2014_x86_64.whl (25.6 MB)\n",
            "\u001b[K     |████████████████████████████████| 25.6 MB 1.3 MB/s \n",
            "\u001b[?25hRequirement already satisfied: python-dateutil>=2.7.3 in /usr/local/lib/python3.7/dist-packages (from pandas==1.3.4->modin[all]) (2.8.2)\n",
            "Requirement already satisfied: pytz>=2017.3 in /usr/local/lib/python3.7/dist-packages (from pandas==1.3.4->modin[all]) (2018.9)\n",
            "Collecting plumbum\n",
            "  Downloading plumbum-1.7.1-py2.py3-none-any.whl (117 kB)\n",
            "\u001b[K     |████████████████████████████████| 117 kB 76.3 MB/s \n",
            "\u001b[?25hRequirement already satisfied: pyyaml in /usr/local/lib/python3.7/dist-packages (from dask>=2.22.0->modin[all]) (3.13)\n",
            "Collecting partd>=0.3.10\n",
            "  Downloading partd-1.2.0-py3-none-any.whl (19 kB)\n",
            "Requirement already satisfied: toolz>=0.8.2 in /usr/local/lib/python3.7/dist-packages (from dask>=2.22.0->modin[all]) (0.11.2)\n",
            "Requirement already satisfied: jinja2 in /usr/local/lib/python3.7/dist-packages (from distributed>=2.22.0->modin[all]) (2.11.3)\n",
            "Requirement already satisfied: msgpack>=0.6.0 in /usr/local/lib/python3.7/dist-packages (from distributed>=2.22.0->modin[all]) (1.0.2)\n",
            "Requirement already satisfied: zict>=0.1.3 in /usr/local/lib/python3.7/dist-packages (from distributed>=2.22.0->modin[all]) (2.0.0)\n",
            "Requirement already satisfied: setuptools in /usr/local/lib/python3.7/dist-packages (from distributed>=2.22.0->modin[all]) (57.4.0)\n",
            "Requirement already satisfied: tblib>=1.6.0 in /usr/local/lib/python3.7/dist-packages (from distributed>=2.22.0->modin[all]) (1.7.0)\n",
            "Collecting cloudpickle\n",
            "  Downloading cloudpickle-2.0.0-py3-none-any.whl (25 kB)\n",
            "Requirement already satisfied: tornado>=5 in /usr/local/lib/python3.7/dist-packages (from distributed>=2.22.0->modin[all]) (5.1.1)\n",
            "Requirement already satisfied: click>=6.6 in /usr/local/lib/python3.7/dist-packages (from distributed>=2.22.0->modin[all]) (7.1.2)\n",
            "Requirement already satisfied: psutil>=5.0 in /usr/local/lib/python3.7/dist-packages (from distributed>=2.22.0->modin[all]) (5.4.8)\n",
            "Requirement already satisfied: sortedcontainers!=2.0.0,!=2.0.1 in /usr/local/lib/python3.7/dist-packages (from distributed>=2.22.0->modin[all]) (2.4.0)\n",
            "Requirement already satisfied: jupyter>=1.0.0 in /usr/local/lib/python3.7/dist-packages (from modin-spreadsheet>=0.1.0->modin[all]) (1.0.0)\n",
            "Requirement already satisfied: ipywidgets>=7.0.0 in /usr/local/lib/python3.7/dist-packages (from modin-spreadsheet>=0.1.0->modin[all]) (7.6.5)\n",
            "Collecting notebook>=6.0.3\n",
            "  Downloading notebook-6.4.6-py3-none-any.whl (9.9 MB)\n",
            "\u001b[K     |████████████████████████████████| 9.9 MB 50.5 MB/s \n",
            "\u001b[?25hRequirement already satisfied: ipython>=4.0.0 in /usr/local/lib/python3.7/dist-packages (from ipywidgets>=7.0.0->modin-spreadsheet>=0.1.0->modin[all]) (7.30.0)\n",
            "Requirement already satisfied: traitlets>=4.3.1 in /usr/local/lib/python3.7/dist-packages (from ipywidgets>=7.0.0->modin-spreadsheet>=0.1.0->modin[all]) (5.1.1)\n",
            "Requirement already satisfied: nbformat>=4.2.0 in /usr/local/lib/python3.7/dist-packages (from ipywidgets>=7.0.0->modin-spreadsheet>=0.1.0->modin[all]) (5.1.3)\n",
            "Requirement already satisfied: widgetsnbextension~=3.5.0 in /usr/local/lib/python3.7/dist-packages (from ipywidgets>=7.0.0->modin-spreadsheet>=0.1.0->modin[all]) (3.5.2)\n",
            "Requirement already satisfied: jupyterlab-widgets>=1.0.0 in /usr/local/lib/python3.7/dist-packages (from ipywidgets>=7.0.0->modin-spreadsheet>=0.1.0->modin[all]) (1.0.2)\n",
            "Requirement already satisfied: ipykernel>=4.5.1 in /usr/local/lib/python3.7/dist-packages (from ipywidgets>=7.0.0->modin-spreadsheet>=0.1.0->modin[all]) (6.5.1)\n",
            "Requirement already satisfied: ipython-genutils~=0.2.0 in /usr/local/lib/python3.7/dist-packages (from ipywidgets>=7.0.0->modin-spreadsheet>=0.1.0->modin[all]) (0.2.0)\n",
            "Requirement already satisfied: jupyter-client<8.0 in /usr/local/lib/python3.7/dist-packages (from ipykernel>=4.5.1->ipywidgets>=7.0.0->modin-spreadsheet>=0.1.0->modin[all]) (5.3.5)\n",
            "Requirement already satisfied: argcomplete>=1.12.3 in /usr/local/lib/python3.7/dist-packages (from ipykernel>=4.5.1->ipywidgets>=7.0.0->modin-spreadsheet>=0.1.0->modin[all]) (1.12.3)\n",
            "Requirement already satisfied: importlib-metadata<5 in /usr/local/lib/python3.7/dist-packages (from ipykernel>=4.5.1->ipywidgets>=7.0.0->modin-spreadsheet>=0.1.0->modin[all]) (4.8.2)\n",
            "Requirement already satisfied: debugpy<2.0,>=1.0.0 in /usr/local/lib/python3.7/dist-packages (from ipykernel>=4.5.1->ipywidgets>=7.0.0->modin-spreadsheet>=0.1.0->modin[all]) (1.0.0)\n",
            "Requirement already satisfied: matplotlib-inline<0.2.0,>=0.1.0 in /usr/local/lib/python3.7/dist-packages (from ipykernel>=4.5.1->ipywidgets>=7.0.0->modin-spreadsheet>=0.1.0->modin[all]) (0.1.3)\n",
            "Requirement already satisfied: zipp>=0.5 in /usr/local/lib/python3.7/dist-packages (from importlib-metadata<5->ipykernel>=4.5.1->ipywidgets>=7.0.0->modin-spreadsheet>=0.1.0->modin[all]) (3.6.0)\n",
            "Requirement already satisfied: typing-extensions>=3.6.4 in /usr/local/lib/python3.7/dist-packages (from importlib-metadata<5->ipykernel>=4.5.1->ipywidgets>=7.0.0->modin-spreadsheet>=0.1.0->modin[all]) (3.10.0.2)\n",
            "Requirement already satisfied: jedi>=0.16 in /usr/local/lib/python3.7/dist-packages (from ipython>=4.0.0->ipywidgets>=7.0.0->modin-spreadsheet>=0.1.0->modin[all]) (0.18.1)\n",
            "Requirement already satisfied: decorator in /usr/local/lib/python3.7/dist-packages (from ipython>=4.0.0->ipywidgets>=7.0.0->modin-spreadsheet>=0.1.0->modin[all]) (4.4.2)\n",
            "Requirement already satisfied: prompt-toolkit!=3.0.0,!=3.0.1,<3.1.0,>=2.0.0 in /usr/local/lib/python3.7/dist-packages (from ipython>=4.0.0->ipywidgets>=7.0.0->modin-spreadsheet>=0.1.0->modin[all]) (3.0.23)\n",
            "Requirement already satisfied: pygments in /usr/local/lib/python3.7/dist-packages (from ipython>=4.0.0->ipywidgets>=7.0.0->modin-spreadsheet>=0.1.0->modin[all]) (2.6.1)\n",
            "Requirement already satisfied: pexpect>4.3 in /usr/local/lib/python3.7/dist-packages (from ipython>=4.0.0->ipywidgets>=7.0.0->modin-spreadsheet>=0.1.0->modin[all]) (4.8.0)\n",
            "Requirement already satisfied: backcall in /usr/local/lib/python3.7/dist-packages (from ipython>=4.0.0->ipywidgets>=7.0.0->modin-spreadsheet>=0.1.0->modin[all]) (0.2.0)\n",
            "Requirement already satisfied: pickleshare in /usr/local/lib/python3.7/dist-packages (from ipython>=4.0.0->ipywidgets>=7.0.0->modin-spreadsheet>=0.1.0->modin[all]) (0.7.5)\n",
            "Requirement already satisfied: parso<0.9.0,>=0.8.0 in /usr/local/lib/python3.7/dist-packages (from jedi>=0.16->ipython>=4.0.0->ipywidgets>=7.0.0->modin-spreadsheet>=0.1.0->modin[all]) (0.8.2)\n",
            "Requirement already satisfied: nbconvert in /usr/local/lib/python3.7/dist-packages (from jupyter>=1.0.0->modin-spreadsheet>=0.1.0->modin[all]) (5.6.1)\n",
            "Requirement already satisfied: qtconsole in /usr/local/lib/python3.7/dist-packages (from jupyter>=1.0.0->modin-spreadsheet>=0.1.0->modin[all]) (5.2.0)\n",
            "Requirement already satisfied: jupyter-console in /usr/local/lib/python3.7/dist-packages (from jupyter>=1.0.0->modin-spreadsheet>=0.1.0->modin[all]) (5.2.0)\n",
            "Requirement already satisfied: pyzmq>=13 in /usr/local/lib/python3.7/dist-packages (from jupyter-client<8.0->ipykernel>=4.5.1->ipywidgets>=7.0.0->modin-spreadsheet>=0.1.0->modin[all]) (22.3.0)\n",
            "Requirement already satisfied: jupyter-core>=4.6.0 in /usr/local/lib/python3.7/dist-packages (from jupyter-client<8.0->ipykernel>=4.5.1->ipywidgets>=7.0.0->modin-spreadsheet>=0.1.0->modin[all]) (4.9.1)\n",
            "Requirement already satisfied: jsonschema!=2.5.0,>=2.4 in /usr/local/lib/python3.7/dist-packages (from nbformat>=4.2.0->ipywidgets>=7.0.0->modin-spreadsheet>=0.1.0->modin[all]) (2.6.0)\n",
            "Requirement already satisfied: argon2-cffi in /usr/local/lib/python3.7/dist-packages (from notebook>=6.0.3->modin-spreadsheet>=0.1.0->modin[all]) (21.1.0)\n",
            "Requirement already satisfied: prometheus-client in /usr/local/lib/python3.7/dist-packages (from notebook>=6.0.3->modin-spreadsheet>=0.1.0->modin[all]) (0.12.0)\n",
            "Requirement already satisfied: nest-asyncio>=1.5 in /usr/local/lib/python3.7/dist-packages (from notebook>=6.0.3->modin-spreadsheet>=0.1.0->modin[all]) (1.5.1)\n",
            "Requirement already satisfied: terminado>=0.8.3 in /usr/local/lib/python3.7/dist-packages (from notebook>=6.0.3->modin-spreadsheet>=0.1.0->modin[all]) (0.12.1)\n",
            "Requirement already satisfied: Send2Trash>=1.8.0 in /usr/local/lib/python3.7/dist-packages (from notebook>=6.0.3->modin-spreadsheet>=0.1.0->modin[all]) (1.8.0)\n",
            "Collecting tornado>=5\n",
            "  Downloading tornado-6.1-cp37-cp37m-manylinux2010_x86_64.whl (428 kB)\n",
            "\u001b[K     |████████████████████████████████| 428 kB 59.8 MB/s \n",
            "\u001b[?25hRequirement already satisfied: pyparsing!=3.0.5,>=2.0.2 in /usr/local/lib/python3.7/dist-packages (from packaging->modin[all]) (3.0.6)\n",
            "Collecting locket\n",
            "  Downloading locket-0.2.1-py2.py3-none-any.whl (4.1 kB)\n",
            "Requirement already satisfied: ptyprocess>=0.5 in /usr/local/lib/python3.7/dist-packages (from pexpect>4.3->ipython>=4.0.0->ipywidgets>=7.0.0->modin-spreadsheet>=0.1.0->modin[all]) (0.7.0)\n",
            "Requirement already satisfied: wcwidth in /usr/local/lib/python3.7/dist-packages (from prompt-toolkit!=3.0.0,!=3.0.1,<3.1.0,>=2.0.0->ipython>=4.0.0->ipywidgets>=7.0.0->modin-spreadsheet>=0.1.0->modin[all]) (0.2.5)\n",
            "Requirement already satisfied: six>=1.5 in /usr/local/lib/python3.7/dist-packages (from python-dateutil>=2.7.3->pandas==1.3.4->modin[all]) (1.15.0)\n",
            "Requirement already satisfied: attrs in /usr/local/lib/python3.7/dist-packages (from ray[default]>=1.4.0->modin[all]) (21.2.0)\n",
            "Requirement already satisfied: redis>=3.5.0 in /usr/local/lib/python3.7/dist-packages (from ray[default]>=1.4.0->modin[all]) (4.0.2)\n",
            "Requirement already satisfied: grpcio>=1.28.1 in /usr/local/lib/python3.7/dist-packages (from ray[default]>=1.4.0->modin[all]) (1.42.0)\n",
            "Requirement already satisfied: protobuf>=3.15.3 in /usr/local/lib/python3.7/dist-packages (from ray[default]>=1.4.0->modin[all]) (3.17.3)\n",
            "Requirement already satisfied: filelock in /usr/local/lib/python3.7/dist-packages (from ray[default]>=1.4.0->modin[all]) (3.4.0)\n",
            "Collecting aioredis<2\n",
            "  Downloading aioredis-1.3.1-py3-none-any.whl (65 kB)\n",
            "\u001b[K     |████████████████████████████████| 65 kB 3.7 MB/s \n",
            "\u001b[?25hCollecting colorful\n",
            "  Downloading colorful-0.5.4-py2.py3-none-any.whl (201 kB)\n",
            "\u001b[K     |████████████████████████████████| 201 kB 58.2 MB/s \n",
            "\u001b[?25hRequirement already satisfied: py-spy>=0.2.0 in /usr/local/lib/python3.7/dist-packages (from ray[default]>=1.4.0->modin[all]) (0.3.11)\n",
            "Requirement already satisfied: requests in /usr/local/lib/python3.7/dist-packages (from ray[default]>=1.4.0->modin[all]) (2.23.0)\n",
            "Collecting aiohttp-cors\n",
            "  Downloading aiohttp_cors-0.7.0-py3-none-any.whl (27 kB)\n",
            "Collecting opencensus\n",
            "  Downloading opencensus-0.8.0-py2.py3-none-any.whl (128 kB)\n",
            "\u001b[K     |████████████████████████████████| 128 kB 55.1 MB/s \n",
            "\u001b[?25hCollecting gpustat>=1.0.0b1\n",
            "  Downloading gpustat-1.0.0b1.tar.gz (82 kB)\n",
            "\u001b[K     |████████████████████████████████| 82 kB 238 kB/s \n",
            "\u001b[?25hCollecting aiohttp>=3.7\n",
            "  Downloading aiohttp-3.8.1-cp37-cp37m-manylinux_2_5_x86_64.manylinux1_x86_64.manylinux_2_12_x86_64.manylinux2010_x86_64.whl (1.1 MB)\n",
            "\u001b[K     |████████████████████████████████| 1.1 MB 52.6 MB/s \n",
            "\u001b[?25hCollecting multidict<7.0,>=4.5\n",
            "  Downloading multidict-5.2.0-cp37-cp37m-manylinux_2_5_x86_64.manylinux1_x86_64.manylinux_2_12_x86_64.manylinux2010_x86_64.whl (160 kB)\n",
            "\u001b[K     |████████████████████████████████| 160 kB 58.9 MB/s \n",
            "\u001b[?25hCollecting asynctest==0.13.0\n",
            "  Downloading asynctest-0.13.0-py3-none-any.whl (26 kB)\n",
            "Requirement already satisfied: charset-normalizer<3.0,>=2.0 in /usr/local/lib/python3.7/dist-packages (from aiohttp>=3.7->ray[default]>=1.4.0->modin[all]) (2.0.7)\n",
            "Collecting frozenlist>=1.1.1\n",
            "  Downloading frozenlist-1.2.0-cp37-cp37m-manylinux_2_5_x86_64.manylinux1_x86_64.manylinux_2_12_x86_64.manylinux2010_x86_64.whl (192 kB)\n",
            "\u001b[K     |████████████████████████████████| 192 kB 73.7 MB/s \n",
            "\u001b[?25hCollecting aiosignal>=1.1.2\n",
            "  Downloading aiosignal-1.2.0-py3-none-any.whl (8.2 kB)\n",
            "Collecting async-timeout<5.0,>=4.0.0a3\n",
            "  Downloading async_timeout-4.0.1-py3-none-any.whl (5.7 kB)\n",
            "Collecting yarl<2.0,>=1.0\n",
            "  Downloading yarl-1.7.2-cp37-cp37m-manylinux_2_5_x86_64.manylinux1_x86_64.manylinux_2_12_x86_64.manylinux2010_x86_64.whl (271 kB)\n",
            "\u001b[K     |████████████████████████████████| 271 kB 61.2 MB/s \n",
            "\u001b[?25hCollecting hiredis\n",
            "  Downloading hiredis-2.0.0-cp37-cp37m-manylinux2010_x86_64.whl (85 kB)\n",
            "\u001b[K     |████████████████████████████████| 85 kB 3.7 MB/s \n",
            "\u001b[?25hRequirement already satisfied: nvidia-ml-py3>=7.352.0 in /usr/local/lib/python3.7/dist-packages (from gpustat>=1.0.0b1->ray[default]>=1.4.0->modin[all]) (7.352.0)\n",
            "Collecting blessed>=1.17.1\n",
            "  Downloading blessed-1.19.0-py2.py3-none-any.whl (57 kB)\n",
            "\u001b[K     |████████████████████████████████| 57 kB 5.5 MB/s \n",
            "\u001b[?25hRequirement already satisfied: deprecated in /usr/local/lib/python3.7/dist-packages (from redis>=3.5.0->ray[default]>=1.4.0->modin[all]) (1.2.13)\n",
            "Requirement already satisfied: idna>=2.0 in /usr/local/lib/python3.7/dist-packages (from yarl<2.0,>=1.0->aiohttp>=3.7->ray[default]>=1.4.0->modin[all]) (2.10)\n",
            "Requirement already satisfied: heapdict in /usr/local/lib/python3.7/dist-packages (from zict>=0.1.3->distributed>=2.22.0->modin[all]) (1.0.1)\n",
            "Requirement already satisfied: cffi>=1.0.0 in /usr/local/lib/python3.7/dist-packages (from argon2-cffi->notebook>=6.0.3->modin-spreadsheet>=0.1.0->modin[all]) (1.15.0)\n",
            "Requirement already satisfied: pycparser in /usr/local/lib/python3.7/dist-packages (from cffi>=1.0.0->argon2-cffi->notebook>=6.0.3->modin-spreadsheet>=0.1.0->modin[all]) (2.21)\n",
            "Collecting jmespath<1.0.0,>=0.7.1\n",
            "  Downloading jmespath-0.10.0-py2.py3-none-any.whl (24 kB)\n",
            "Collecting s3transfer<0.6.0,>=0.5.0\n",
            "  Downloading s3transfer-0.5.0-py3-none-any.whl (79 kB)\n",
            "\u001b[K     |████████████████████████████████| 79 kB 8.2 MB/s \n",
            "\u001b[?25hCollecting botocore<1.24.0,>=1.23.14\n",
            "  Downloading botocore-1.23.14-py3-none-any.whl (8.2 MB)\n",
            "\u001b[K     |████████████████████████████████| 8.2 MB 19.1 MB/s \n",
            "\u001b[?25hCollecting urllib3<1.27,>=1.25.4\n"
          ]
        }
      ]
    },
    {
      "cell_type": "code",
      "metadata": {
        "id": "VW0_5sNDMe8V"
      },
      "source": [
        "import numpy as np #manejo de matrices y vectores\n",
        "import scipy as sp  #libreria para data science\n",
        "import pandas as pd # manejo de la información\n",
        "import matplotlib.pyplot as plt # visualizacion\n",
        "import seaborn as sns # visualizacion\n",
        "import dask.dataframe as dd "
      ],
      "execution_count": null,
      "outputs": []
    },
    {
      "cell_type": "code",
      "metadata": {
        "colab": {
          "base_uri": "https://localhost:8080/",
          "height": 1000
        },
        "id": "BDKgXVlMRar8",
        "outputId": "58c2ccf2-069a-4c6a-8aef-4f703d909593"
      },
      "source": [
        "import os\n",
        "#os._exit(0)\n",
        "!pip install -U ipykernel\n",
        "!pip install modin[all]\n",
        "!pip install modin"
      ],
      "execution_count": null,
      "outputs": [
        {
          "output_type": "stream",
          "name": "stdout",
          "text": [
            "Requirement already satisfied: ipykernel in /usr/local/lib/python3.7/dist-packages (6.5.1)\n",
            "Requirement already satisfied: jupyter-client<8.0 in /usr/local/lib/python3.7/dist-packages (from ipykernel) (5.3.5)\n",
            "Requirement already satisfied: argcomplete>=1.12.3 in /usr/local/lib/python3.7/dist-packages (from ipykernel) (1.12.3)\n",
            "Requirement already satisfied: traitlets<6.0,>=5.1.0 in /usr/local/lib/python3.7/dist-packages (from ipykernel) (5.1.1)\n",
            "Requirement already satisfied: importlib-metadata<5 in /usr/local/lib/python3.7/dist-packages (from ipykernel) (4.8.2)\n",
            "Requirement already satisfied: debugpy<2.0,>=1.0.0 in /usr/local/lib/python3.7/dist-packages (from ipykernel) (1.0.0)\n",
            "Requirement already satisfied: ipython>=7.23.1 in /usr/local/lib/python3.7/dist-packages (from ipykernel) (7.30.0)\n",
            "Requirement already satisfied: matplotlib-inline<0.2.0,>=0.1.0 in /usr/local/lib/python3.7/dist-packages (from ipykernel) (0.1.3)\n",
            "Requirement already satisfied: tornado<7.0,>=4.2 in /usr/local/lib/python3.7/dist-packages (from ipykernel) (5.1.1)\n",
            "Requirement already satisfied: typing-extensions>=3.6.4 in /usr/local/lib/python3.7/dist-packages (from importlib-metadata<5->ipykernel) (3.10.0.2)\n",
            "Requirement already satisfied: zipp>=0.5 in /usr/local/lib/python3.7/dist-packages (from importlib-metadata<5->ipykernel) (3.6.0)\n",
            "Requirement already satisfied: decorator in /usr/local/lib/python3.7/dist-packages (from ipython>=7.23.1->ipykernel) (4.4.2)\n",
            "Requirement already satisfied: jedi>=0.16 in /usr/local/lib/python3.7/dist-packages (from ipython>=7.23.1->ipykernel) (0.18.1)\n",
            "Requirement already satisfied: pexpect>4.3 in /usr/local/lib/python3.7/dist-packages (from ipython>=7.23.1->ipykernel) (4.8.0)\n",
            "Requirement already satisfied: setuptools>=18.5 in /usr/local/lib/python3.7/dist-packages (from ipython>=7.23.1->ipykernel) (57.4.0)\n",
            "Requirement already satisfied: backcall in /usr/local/lib/python3.7/dist-packages (from ipython>=7.23.1->ipykernel) (0.2.0)\n",
            "Requirement already satisfied: prompt-toolkit!=3.0.0,!=3.0.1,<3.1.0,>=2.0.0 in /usr/local/lib/python3.7/dist-packages (from ipython>=7.23.1->ipykernel) (3.0.23)\n",
            "Requirement already satisfied: pygments in /usr/local/lib/python3.7/dist-packages (from ipython>=7.23.1->ipykernel) (2.6.1)\n",
            "Requirement already satisfied: pickleshare in /usr/local/lib/python3.7/dist-packages (from ipython>=7.23.1->ipykernel) (0.7.5)\n",
            "Requirement already satisfied: parso<0.9.0,>=0.8.0 in /usr/local/lib/python3.7/dist-packages (from jedi>=0.16->ipython>=7.23.1->ipykernel) (0.8.2)\n",
            "Requirement already satisfied: pyzmq>=13 in /usr/local/lib/python3.7/dist-packages (from jupyter-client<8.0->ipykernel) (22.3.0)\n",
            "Requirement already satisfied: jupyter-core>=4.6.0 in /usr/local/lib/python3.7/dist-packages (from jupyter-client<8.0->ipykernel) (4.9.1)\n",
            "Requirement already satisfied: python-dateutil>=2.1 in /usr/local/lib/python3.7/dist-packages (from jupyter-client<8.0->ipykernel) (2.8.2)\n",
            "Requirement already satisfied: ptyprocess>=0.5 in /usr/local/lib/python3.7/dist-packages (from pexpect>4.3->ipython>=7.23.1->ipykernel) (0.7.0)\n",
            "Requirement already satisfied: wcwidth in /usr/local/lib/python3.7/dist-packages (from prompt-toolkit!=3.0.0,!=3.0.1,<3.1.0,>=2.0.0->ipython>=7.23.1->ipykernel) (0.2.5)\n",
            "Requirement already satisfied: six>=1.5 in /usr/local/lib/python3.7/dist-packages (from python-dateutil>=2.1->jupyter-client<8.0->ipykernel) (1.15.0)\n",
            "Collecting modin[all]\n",
            "  Using cached modin-0.12.0-py3-none-any.whl (746 kB)\n",
            "Requirement already satisfied: numpy>=1.16.5 in /usr/local/lib/python3.7/dist-packages (from modin[all]) (1.19.5)\n",
            "Collecting pandas==1.3.4\n",
            "  Using cached pandas-1.3.4-cp37-cp37m-manylinux_2_17_x86_64.manylinux2014_x86_64.whl (11.3 MB)\n",
            "Requirement already satisfied: packaging in /usr/local/lib/python3.7/dist-packages (from modin[all]) (21.3)\n",
            "Requirement already satisfied: fsspec in /usr/local/lib/python3.7/dist-packages (from modin[all]) (2021.11.1)\n",
            "Collecting rpyc==4.1.5\n",
            "  Using cached rpyc-4.1.5-py3-none-any.whl (68 kB)\n",
            "Collecting modin-spreadsheet>=0.1.0\n",
            "  Using cached modin_spreadsheet-0.1.2-py2.py3-none-any.whl (1.8 MB)\n",
            "Collecting boto3\n",
            "  Using cached boto3-1.20.14-py3-none-any.whl (131 kB)\n",
            "Collecting distributed>=2.22.0\n",
            "  Using cached distributed-2021.11.2-py3-none-any.whl (802 kB)\n",
            "Collecting dask>=2.22.0\n",
            "  Using cached dask-2021.11.2-py3-none-any.whl (1.0 MB)\n",
            "Collecting pyarrow>=1.0\n",
            "  Using cached pyarrow-6.0.1-cp37-cp37m-manylinux_2_17_x86_64.manylinux2014_x86_64.whl (25.6 MB)\n",
            "Requirement already satisfied: cloudpickle in /usr/local/lib/python3.7/dist-packages (from modin[all]) (1.3.0)\n",
            "Collecting ray[default]>=1.4.0\n",
            "  Using cached ray-1.8.0-cp37-cp37m-manylinux2014_x86_64.whl (54.7 MB)\n",
            "Requirement already satisfied: python-dateutil>=2.7.3 in /usr/local/lib/python3.7/dist-packages (from pandas==1.3.4->modin[all]) (2.8.2)\n",
            "Requirement already satisfied: pytz>=2017.3 in /usr/local/lib/python3.7/dist-packages (from pandas==1.3.4->modin[all]) (2018.9)\n",
            "Collecting plumbum\n",
            "  Using cached plumbum-1.7.1-py2.py3-none-any.whl (117 kB)\n",
            "Requirement already satisfied: toolz>=0.8.2 in /usr/local/lib/python3.7/dist-packages (from dask>=2.22.0->modin[all]) (0.11.2)\n",
            "Requirement already satisfied: pyyaml in /usr/local/lib/python3.7/dist-packages (from dask>=2.22.0->modin[all]) (3.13)\n",
            "Collecting partd>=0.3.10\n",
            "  Using cached partd-1.2.0-py3-none-any.whl (19 kB)\n",
            "Requirement already satisfied: jinja2 in /usr/local/lib/python3.7/dist-packages (from distributed>=2.22.0->modin[all]) (2.11.3)\n",
            "Requirement already satisfied: click>=6.6 in /usr/local/lib/python3.7/dist-packages (from distributed>=2.22.0->modin[all]) (7.1.2)\n",
            "Requirement already satisfied: tblib>=1.6.0 in /usr/local/lib/python3.7/dist-packages (from distributed>=2.22.0->modin[all]) (1.7.0)\n",
            "Requirement already satisfied: zict>=0.1.3 in /usr/local/lib/python3.7/dist-packages (from distributed>=2.22.0->modin[all]) (2.0.0)\n",
            "Collecting cloudpickle\n",
            "  Using cached cloudpickle-2.0.0-py3-none-any.whl (25 kB)\n",
            "Requirement already satisfied: msgpack>=0.6.0 in /usr/local/lib/python3.7/dist-packages (from distributed>=2.22.0->modin[all]) (1.0.2)\n",
            "Requirement already satisfied: tornado>=5 in /usr/local/lib/python3.7/dist-packages (from distributed>=2.22.0->modin[all]) (5.1.1)\n",
            "Requirement already satisfied: psutil>=5.0 in /usr/local/lib/python3.7/dist-packages (from distributed>=2.22.0->modin[all]) (5.4.8)\n",
            "Requirement already satisfied: setuptools in /usr/local/lib/python3.7/dist-packages (from distributed>=2.22.0->modin[all]) (57.4.0)\n",
            "Requirement already satisfied: sortedcontainers!=2.0.0,!=2.0.1 in /usr/local/lib/python3.7/dist-packages (from distributed>=2.22.0->modin[all]) (2.4.0)\n",
            "Requirement already satisfied: jupyter>=1.0.0 in /usr/local/lib/python3.7/dist-packages (from modin-spreadsheet>=0.1.0->modin[all]) (1.0.0)\n",
            "Requirement already satisfied: ipywidgets>=7.0.0 in /usr/local/lib/python3.7/dist-packages (from modin-spreadsheet>=0.1.0->modin[all]) (7.6.5)\n",
            "Collecting notebook>=6.0.3\n",
            "  Using cached notebook-6.4.6-py3-none-any.whl (9.9 MB)\n",
            "Requirement already satisfied: jupyterlab-widgets>=1.0.0 in /usr/local/lib/python3.7/dist-packages (from ipywidgets>=7.0.0->modin-spreadsheet>=0.1.0->modin[all]) (1.0.2)\n",
            "Requirement already satisfied: widgetsnbextension~=3.5.0 in /usr/local/lib/python3.7/dist-packages (from ipywidgets>=7.0.0->modin-spreadsheet>=0.1.0->modin[all]) (3.5.2)\n",
            "Requirement already satisfied: traitlets>=4.3.1 in /usr/local/lib/python3.7/dist-packages (from ipywidgets>=7.0.0->modin-spreadsheet>=0.1.0->modin[all]) (5.1.1)\n",
            "Requirement already satisfied: ipython-genutils~=0.2.0 in /usr/local/lib/python3.7/dist-packages (from ipywidgets>=7.0.0->modin-spreadsheet>=0.1.0->modin[all]) (0.2.0)\n",
            "Requirement already satisfied: ipython>=4.0.0 in /usr/local/lib/python3.7/dist-packages (from ipywidgets>=7.0.0->modin-spreadsheet>=0.1.0->modin[all]) (7.30.0)\n",
            "Requirement already satisfied: ipykernel>=4.5.1 in /usr/local/lib/python3.7/dist-packages (from ipywidgets>=7.0.0->modin-spreadsheet>=0.1.0->modin[all]) (6.5.1)\n",
            "Requirement already satisfied: nbformat>=4.2.0 in /usr/local/lib/python3.7/dist-packages (from ipywidgets>=7.0.0->modin-spreadsheet>=0.1.0->modin[all]) (5.1.3)\n",
            "Requirement already satisfied: debugpy<2.0,>=1.0.0 in /usr/local/lib/python3.7/dist-packages (from ipykernel>=4.5.1->ipywidgets>=7.0.0->modin-spreadsheet>=0.1.0->modin[all]) (1.0.0)\n",
            "Requirement already satisfied: jupyter-client<8.0 in /usr/local/lib/python3.7/dist-packages (from ipykernel>=4.5.1->ipywidgets>=7.0.0->modin-spreadsheet>=0.1.0->modin[all]) (5.3.5)\n",
            "Requirement already satisfied: argcomplete>=1.12.3 in /usr/local/lib/python3.7/dist-packages (from ipykernel>=4.5.1->ipywidgets>=7.0.0->modin-spreadsheet>=0.1.0->modin[all]) (1.12.3)\n",
            "Requirement already satisfied: importlib-metadata<5 in /usr/local/lib/python3.7/dist-packages (from ipykernel>=4.5.1->ipywidgets>=7.0.0->modin-spreadsheet>=0.1.0->modin[all]) (4.8.2)\n",
            "Requirement already satisfied: matplotlib-inline<0.2.0,>=0.1.0 in /usr/local/lib/python3.7/dist-packages (from ipykernel>=4.5.1->ipywidgets>=7.0.0->modin-spreadsheet>=0.1.0->modin[all]) (0.1.3)\n",
            "Requirement already satisfied: typing-extensions>=3.6.4 in /usr/local/lib/python3.7/dist-packages (from importlib-metadata<5->ipykernel>=4.5.1->ipywidgets>=7.0.0->modin-spreadsheet>=0.1.0->modin[all]) (3.10.0.2)\n",
            "Requirement already satisfied: zipp>=0.5 in /usr/local/lib/python3.7/dist-packages (from importlib-metadata<5->ipykernel>=4.5.1->ipywidgets>=7.0.0->modin-spreadsheet>=0.1.0->modin[all]) (3.6.0)\n",
            "Requirement already satisfied: decorator in /usr/local/lib/python3.7/dist-packages (from ipython>=4.0.0->ipywidgets>=7.0.0->modin-spreadsheet>=0.1.0->modin[all]) (4.4.2)\n",
            "Requirement already satisfied: pygments in /usr/local/lib/python3.7/dist-packages (from ipython>=4.0.0->ipywidgets>=7.0.0->modin-spreadsheet>=0.1.0->modin[all]) (2.6.1)\n",
            "Requirement already satisfied: pexpect>4.3 in /usr/local/lib/python3.7/dist-packages (from ipython>=4.0.0->ipywidgets>=7.0.0->modin-spreadsheet>=0.1.0->modin[all]) (4.8.0)\n",
            "Requirement already satisfied: backcall in /usr/local/lib/python3.7/dist-packages (from ipython>=4.0.0->ipywidgets>=7.0.0->modin-spreadsheet>=0.1.0->modin[all]) (0.2.0)\n",
            "Requirement already satisfied: jedi>=0.16 in /usr/local/lib/python3.7/dist-packages (from ipython>=4.0.0->ipywidgets>=7.0.0->modin-spreadsheet>=0.1.0->modin[all]) (0.18.1)\n",
            "Requirement already satisfied: pickleshare in /usr/local/lib/python3.7/dist-packages (from ipython>=4.0.0->ipywidgets>=7.0.0->modin-spreadsheet>=0.1.0->modin[all]) (0.7.5)\n",
            "Requirement already satisfied: prompt-toolkit!=3.0.0,!=3.0.1,<3.1.0,>=2.0.0 in /usr/local/lib/python3.7/dist-packages (from ipython>=4.0.0->ipywidgets>=7.0.0->modin-spreadsheet>=0.1.0->modin[all]) (3.0.23)\n",
            "Requirement already satisfied: parso<0.9.0,>=0.8.0 in /usr/local/lib/python3.7/dist-packages (from jedi>=0.16->ipython>=4.0.0->ipywidgets>=7.0.0->modin-spreadsheet>=0.1.0->modin[all]) (0.8.2)\n",
            "Requirement already satisfied: nbconvert in /usr/local/lib/python3.7/dist-packages (from jupyter>=1.0.0->modin-spreadsheet>=0.1.0->modin[all]) (5.6.1)\n",
            "Requirement already satisfied: jupyter-console in /usr/local/lib/python3.7/dist-packages (from jupyter>=1.0.0->modin-spreadsheet>=0.1.0->modin[all]) (5.2.0)\n",
            "Requirement already satisfied: qtconsole in /usr/local/lib/python3.7/dist-packages (from jupyter>=1.0.0->modin-spreadsheet>=0.1.0->modin[all]) (5.2.0)\n",
            "Requirement already satisfied: jupyter-core>=4.6.0 in /usr/local/lib/python3.7/dist-packages (from jupyter-client<8.0->ipykernel>=4.5.1->ipywidgets>=7.0.0->modin-spreadsheet>=0.1.0->modin[all]) (4.9.1)\n",
            "Requirement already satisfied: pyzmq>=13 in /usr/local/lib/python3.7/dist-packages (from jupyter-client<8.0->ipykernel>=4.5.1->ipywidgets>=7.0.0->modin-spreadsheet>=0.1.0->modin[all]) (22.3.0)\n",
            "Requirement already satisfied: jsonschema!=2.5.0,>=2.4 in /usr/local/lib/python3.7/dist-packages (from nbformat>=4.2.0->ipywidgets>=7.0.0->modin-spreadsheet>=0.1.0->modin[all]) (2.6.0)\n",
            "Requirement already satisfied: nest-asyncio>=1.5 in /usr/local/lib/python3.7/dist-packages (from notebook>=6.0.3->modin-spreadsheet>=0.1.0->modin[all]) (1.5.1)\n",
            "Requirement already satisfied: terminado>=0.8.3 in /usr/local/lib/python3.7/dist-packages (from notebook>=6.0.3->modin-spreadsheet>=0.1.0->modin[all]) (0.12.1)\n",
            "Requirement already satisfied: Send2Trash>=1.8.0 in /usr/local/lib/python3.7/dist-packages (from notebook>=6.0.3->modin-spreadsheet>=0.1.0->modin[all]) (1.8.0)\n",
            "Collecting tornado>=5\n",
            "  Using cached tornado-6.1-cp37-cp37m-manylinux2010_x86_64.whl (428 kB)\n",
            "Requirement already satisfied: argon2-cffi in /usr/local/lib/python3.7/dist-packages (from notebook>=6.0.3->modin-spreadsheet>=0.1.0->modin[all]) (21.1.0)\n",
            "Requirement already satisfied: prometheus-client in /usr/local/lib/python3.7/dist-packages (from notebook>=6.0.3->modin-spreadsheet>=0.1.0->modin[all]) (0.12.0)\n",
            "Requirement already satisfied: pyparsing!=3.0.5,>=2.0.2 in /usr/local/lib/python3.7/dist-packages (from packaging->modin[all]) (3.0.6)\n",
            "Collecting locket\n",
            "  Using cached locket-0.2.1-py2.py3-none-any.whl (4.1 kB)\n",
            "Requirement already satisfied: ptyprocess>=0.5 in /usr/local/lib/python3.7/dist-packages (from pexpect>4.3->ipython>=4.0.0->ipywidgets>=7.0.0->modin-spreadsheet>=0.1.0->modin[all]) (0.7.0)\n",
            "Requirement already satisfied: wcwidth in /usr/local/lib/python3.7/dist-packages (from prompt-toolkit!=3.0.0,!=3.0.1,<3.1.0,>=2.0.0->ipython>=4.0.0->ipywidgets>=7.0.0->modin-spreadsheet>=0.1.0->modin[all]) (0.2.5)\n",
            "Requirement already satisfied: six>=1.5 in /usr/local/lib/python3.7/dist-packages (from python-dateutil>=2.7.3->pandas==1.3.4->modin[all]) (1.15.0)\n",
            "Requirement already satisfied: redis>=3.5.0 in /usr/local/lib/python3.7/dist-packages (from ray[default]>=1.4.0->modin[all]) (4.0.2)\n",
            "Requirement already satisfied: protobuf>=3.15.3 in /usr/local/lib/python3.7/dist-packages (from ray[default]>=1.4.0->modin[all]) (3.17.3)\n",
            "Requirement already satisfied: attrs in /usr/local/lib/python3.7/dist-packages (from ray[default]>=1.4.0->modin[all]) (21.2.0)\n",
            "Requirement already satisfied: filelock in /usr/local/lib/python3.7/dist-packages (from ray[default]>=1.4.0->modin[all]) (3.4.0)\n",
            "Requirement already satisfied: grpcio>=1.28.1 in /usr/local/lib/python3.7/dist-packages (from ray[default]>=1.4.0->modin[all]) (1.42.0)\n",
            "Requirement already satisfied: requests in /usr/local/lib/python3.7/dist-packages (from ray[default]>=1.4.0->modin[all]) (2.23.0)\n",
            "Collecting gpustat>=1.0.0b1\n",
            "  Using cached gpustat-1.0.0b1.tar.gz (82 kB)\n",
            "Requirement already satisfied: py-spy>=0.2.0 in /usr/local/lib/python3.7/dist-packages (from ray[default]>=1.4.0->modin[all]) (0.3.11)\n",
            "Collecting aioredis<2\n",
            "  Using cached aioredis-1.3.1-py3-none-any.whl (65 kB)\n",
            "Collecting opencensus\n",
            "  Using cached opencensus-0.8.0-py2.py3-none-any.whl (128 kB)\n",
            "Collecting aiohttp-cors\n",
            "  Using cached aiohttp_cors-0.7.0-py3-none-any.whl (27 kB)\n",
            "Collecting aiohttp>=3.7\n",
            "  Using cached aiohttp-3.8.1-cp37-cp37m-manylinux_2_5_x86_64.manylinux1_x86_64.manylinux_2_12_x86_64.manylinux2010_x86_64.whl (1.1 MB)\n",
            "Collecting colorful\n",
            "  Using cached colorful-0.5.4-py2.py3-none-any.whl (201 kB)\n",
            "Collecting multidict<7.0,>=4.5\n",
            "  Using cached multidict-5.2.0-cp37-cp37m-manylinux_2_5_x86_64.manylinux1_x86_64.manylinux_2_12_x86_64.manylinux2010_x86_64.whl (160 kB)\n",
            "Collecting async-timeout<5.0,>=4.0.0a3\n",
            "  Using cached async_timeout-4.0.1-py3-none-any.whl (5.7 kB)\n",
            "Collecting yarl<2.0,>=1.0\n",
            "  Using cached yarl-1.7.2-cp37-cp37m-manylinux_2_5_x86_64.manylinux1_x86_64.manylinux_2_12_x86_64.manylinux2010_x86_64.whl (271 kB)\n",
            "Requirement already satisfied: charset-normalizer<3.0,>=2.0 in /usr/local/lib/python3.7/dist-packages (from aiohttp>=3.7->ray[default]>=1.4.0->modin[all]) (2.0.7)\n",
            "Collecting frozenlist>=1.1.1\n",
            "  Using cached frozenlist-1.2.0-cp37-cp37m-manylinux_2_5_x86_64.manylinux1_x86_64.manylinux_2_12_x86_64.manylinux2010_x86_64.whl (192 kB)\n",
            "Collecting asynctest==0.13.0\n",
            "  Using cached asynctest-0.13.0-py3-none-any.whl (26 kB)\n",
            "Collecting aiosignal>=1.1.2\n",
            "  Using cached aiosignal-1.2.0-py3-none-any.whl (8.2 kB)\n",
            "Collecting hiredis\n",
            "  Using cached hiredis-2.0.0-cp37-cp37m-manylinux2010_x86_64.whl (85 kB)\n",
            "Requirement already satisfied: nvidia-ml-py3>=7.352.0 in /usr/local/lib/python3.7/dist-packages (from gpustat>=1.0.0b1->ray[default]>=1.4.0->modin[all]) (7.352.0)\n",
            "Collecting blessed>=1.17.1\n",
            "  Using cached blessed-1.19.0-py2.py3-none-any.whl (57 kB)\n",
            "Requirement already satisfied: deprecated in /usr/local/lib/python3.7/dist-packages (from redis>=3.5.0->ray[default]>=1.4.0->modin[all]) (1.2.13)\n",
            "Requirement already satisfied: idna>=2.0 in /usr/local/lib/python3.7/dist-packages (from yarl<2.0,>=1.0->aiohttp>=3.7->ray[default]>=1.4.0->modin[all]) (2.10)\n",
            "Requirement already satisfied: heapdict in /usr/local/lib/python3.7/dist-packages (from zict>=0.1.3->distributed>=2.22.0->modin[all]) (1.0.1)\n",
            "Requirement already satisfied: cffi>=1.0.0 in /usr/local/lib/python3.7/dist-packages (from argon2-cffi->notebook>=6.0.3->modin-spreadsheet>=0.1.0->modin[all]) (1.15.0)\n",
            "Requirement already satisfied: pycparser in /usr/local/lib/python3.7/dist-packages (from cffi>=1.0.0->argon2-cffi->notebook>=6.0.3->modin-spreadsheet>=0.1.0->modin[all]) (2.21)\n",
            "Collecting jmespath<1.0.0,>=0.7.1\n",
            "  Using cached jmespath-0.10.0-py2.py3-none-any.whl (24 kB)\n",
            "Collecting botocore<1.24.0,>=1.23.14\n",
            "  Using cached botocore-1.23.14-py3-none-any.whl (8.2 MB)\n",
            "Collecting s3transfer<0.6.0,>=0.5.0\n",
            "  Using cached s3transfer-0.5.0-py3-none-any.whl (79 kB)\n",
            "Collecting urllib3<1.27,>=1.25.4\n",
            "  Using cached urllib3-1.26.7-py2.py3-none-any.whl (138 kB)\n",
            "Requirement already satisfied: wrapt<2,>=1.10 in /usr/local/lib/python3.7/dist-packages (from deprecated->redis>=3.5.0->ray[default]>=1.4.0->modin[all]) (1.13.3)\n",
            "Requirement already satisfied: MarkupSafe>=0.23 in /usr/local/lib/python3.7/dist-packages (from jinja2->distributed>=2.22.0->modin[all]) (2.0.1)\n",
            "Collecting jupyter-console\n",
            "  Downloading jupyter_console-6.4.0-py3-none-any.whl (22 kB)\n",
            "Requirement already satisfied: defusedxml in /usr/local/lib/python3.7/dist-packages (from nbconvert->jupyter>=1.0.0->modin-spreadsheet>=0.1.0->modin[all]) (0.7.1)\n",
            "Requirement already satisfied: mistune<2,>=0.8.1 in /usr/local/lib/python3.7/dist-packages (from nbconvert->jupyter>=1.0.0->modin-spreadsheet>=0.1.0->modin[all]) (0.8.4)\n",
            "Requirement already satisfied: testpath in /usr/local/lib/python3.7/dist-packages (from nbconvert->jupyter>=1.0.0->modin-spreadsheet>=0.1.0->modin[all]) (0.5.0)\n",
            "Requirement already satisfied: bleach in /usr/local/lib/python3.7/dist-packages (from nbconvert->jupyter>=1.0.0->modin-spreadsheet>=0.1.0->modin[all]) (4.1.0)\n",
            "Requirement already satisfied: entrypoints>=0.2.2 in /usr/local/lib/python3.7/dist-packages (from nbconvert->jupyter>=1.0.0->modin-spreadsheet>=0.1.0->modin[all]) (0.3)\n",
            "Requirement already satisfied: pandocfilters>=1.4.1 in /usr/local/lib/python3.7/dist-packages (from nbconvert->jupyter>=1.0.0->modin-spreadsheet>=0.1.0->modin[all]) (1.5.0)\n",
            "Requirement already satisfied: webencodings in /usr/local/lib/python3.7/dist-packages (from bleach->nbconvert->jupyter>=1.0.0->modin-spreadsheet>=0.1.0->modin[all]) (0.5.1)\n",
            "Collecting opencensus-context==0.1.2\n",
            "  Downloading opencensus_context-0.1.2-py2.py3-none-any.whl (4.4 kB)\n",
            "Requirement already satisfied: google-api-core<3.0.0,>=1.0.0 in /usr/local/lib/python3.7/dist-packages (from opencensus->ray[default]>=1.4.0->modin[all]) (1.26.3)\n",
            "Requirement already satisfied: googleapis-common-protos<2.0dev,>=1.6.0 in /usr/local/lib/python3.7/dist-packages (from google-api-core<3.0.0,>=1.0.0->opencensus->ray[default]>=1.4.0->modin[all]) (1.53.0)\n",
            "Requirement already satisfied: google-auth<2.0dev,>=1.21.1 in /usr/local/lib/python3.7/dist-packages (from google-api-core<3.0.0,>=1.0.0->opencensus->ray[default]>=1.4.0->modin[all]) (1.35.0)\n",
            "Requirement already satisfied: rsa<5,>=3.1.4 in /usr/local/lib/python3.7/dist-packages (from google-auth<2.0dev,>=1.21.1->google-api-core<3.0.0,>=1.0.0->opencensus->ray[default]>=1.4.0->modin[all]) (4.7.2)\n",
            "Requirement already satisfied: pyasn1-modules>=0.2.1 in /usr/local/lib/python3.7/dist-packages (from google-auth<2.0dev,>=1.21.1->google-api-core<3.0.0,>=1.0.0->opencensus->ray[default]>=1.4.0->modin[all]) (0.2.8)\n",
            "Requirement already satisfied: cachetools<5.0,>=2.0.0 in /usr/local/lib/python3.7/dist-packages (from google-auth<2.0dev,>=1.21.1->google-api-core<3.0.0,>=1.0.0->opencensus->ray[default]>=1.4.0->modin[all]) (4.2.4)\n",
            "Requirement already satisfied: pyasn1<0.5.0,>=0.4.6 in /usr/local/lib/python3.7/dist-packages (from pyasn1-modules>=0.2.1->google-auth<2.0dev,>=1.21.1->google-api-core<3.0.0,>=1.0.0->opencensus->ray[default]>=1.4.0->modin[all]) (0.4.8)\n",
            "Requirement already satisfied: certifi>=2017.4.17 in /usr/local/lib/python3.7/dist-packages (from requests->ray[default]>=1.4.0->modin[all]) (2021.10.8)\n",
            "Collecting urllib3<1.27,>=1.25.4\n",
            "  Downloading urllib3-1.25.11-py2.py3-none-any.whl (127 kB)\n",
            "\u001b[K     |████████████████████████████████| 127 kB 7.4 MB/s \n",
            "\u001b[?25hRequirement already satisfied: chardet<4,>=3.0.2 in /usr/local/lib/python3.7/dist-packages (from requests->ray[default]>=1.4.0->modin[all]) (3.0.4)\n",
            "Requirement already satisfied: qtpy in /usr/local/lib/python3.7/dist-packages (from qtconsole->jupyter>=1.0.0->modin-spreadsheet>=0.1.0->modin[all]) (1.11.2)\n",
            "Building wheels for collected packages: gpustat\n",
            "  Building wheel for gpustat (setup.py) ... \u001b[?25l\u001b[?25hdone\n",
            "  Created wheel for gpustat: filename=gpustat-1.0.0b1-py3-none-any.whl size=15979 sha256=7d208fa94a3909b8f47a4bd597cea0b1f6481df2260331af16a4f4a2150110d6\n",
            "  Stored in directory: /root/.cache/pip/wheels/1a/16/e2/3e2437fba4c4b6a97a97bd96fce5d14e66cff5c4966fb1cc8c\n",
            "Successfully built gpustat\n",
            "Installing collected packages: tornado, urllib3, notebook, multidict, frozenlist, yarl, locket, jmespath, asynctest, async-timeout, aiosignal, partd, opencensus-context, jupyter-console, hiredis, cloudpickle, botocore, blessed, aiohttp, s3transfer, ray, plumbum, pandas, opencensus, gpustat, dask, colorful, aioredis, aiohttp-cors, rpyc, pyarrow, modin-spreadsheet, modin, distributed, boto3\n",
            "  Attempting uninstall: tornado\n",
            "    Found existing installation: tornado 5.1.1\n",
            "    Uninstalling tornado-5.1.1:\n",
            "      Successfully uninstalled tornado-5.1.1\n",
            "  Attempting uninstall: urllib3\n",
            "    Found existing installation: urllib3 1.24.3\n",
            "    Uninstalling urllib3-1.24.3:\n",
            "      Successfully uninstalled urllib3-1.24.3\n",
            "  Attempting uninstall: notebook\n",
            "    Found existing installation: notebook 5.3.1\n",
            "    Uninstalling notebook-5.3.1:\n",
            "      Successfully uninstalled notebook-5.3.1\n",
            "  Attempting uninstall: jupyter-console\n",
            "    Found existing installation: jupyter-console 5.2.0\n",
            "    Uninstalling jupyter-console-5.2.0:\n",
            "      Successfully uninstalled jupyter-console-5.2.0\n",
            "  Attempting uninstall: cloudpickle\n",
            "    Found existing installation: cloudpickle 1.3.0\n",
            "    Uninstalling cloudpickle-1.3.0:\n",
            "      Successfully uninstalled cloudpickle-1.3.0\n",
            "  Attempting uninstall: ray\n",
            "    Found existing installation: ray 0.7.5\n",
            "    Uninstalling ray-0.7.5:\n",
            "      Successfully uninstalled ray-0.7.5\n",
            "  Attempting uninstall: pandas\n",
            "    Found existing installation: pandas 1.1.5\n",
            "    Uninstalling pandas-1.1.5:\n",
            "      Successfully uninstalled pandas-1.1.5\n",
            "  Attempting uninstall: dask\n",
            "    Found existing installation: dask 2.12.0\n",
            "    Uninstalling dask-2.12.0:\n",
            "      Successfully uninstalled dask-2.12.0\n",
            "  Attempting uninstall: distributed\n",
            "    Found existing installation: distributed 1.25.3\n",
            "    Uninstalling distributed-1.25.3:\n",
            "      Successfully uninstalled distributed-1.25.3\n",
            "\u001b[31mERROR: pip's dependency resolver does not currently take into account all the packages that are installed. This behaviour is the source of the following dependency conflicts.\n",
            "gym 0.17.3 requires cloudpickle<1.7.0,>=1.2.0, but you have cloudpickle 2.0.0 which is incompatible.\n",
            "google-colab 1.0.0 requires ipykernel~=4.10, but you have ipykernel 6.5.1 which is incompatible.\n",
            "google-colab 1.0.0 requires ipython~=5.5.0, but you have ipython 7.30.0 which is incompatible.\n",
            "google-colab 1.0.0 requires notebook~=5.3.0; python_version >= \"3.0\", but you have notebook 6.4.6 which is incompatible.\n",
            "google-colab 1.0.0 requires pandas~=1.1.0; python_version >= \"3.0\", but you have pandas 1.3.4 which is incompatible.\n",
            "google-colab 1.0.0 requires tornado~=5.1.0; python_version >= \"3.0\", but you have tornado 6.1 which is incompatible.\n",
            "datascience 0.10.6 requires folium==0.2.1, but you have folium 0.8.3 which is incompatible.\u001b[0m\n",
            "Successfully installed aiohttp-3.8.1 aiohttp-cors-0.7.0 aioredis-1.3.1 aiosignal-1.2.0 async-timeout-4.0.1 asynctest-0.13.0 blessed-1.19.0 boto3-1.20.14 botocore-1.23.14 cloudpickle-2.0.0 colorful-0.5.4 dask-2021.11.2 distributed-2021.11.2 frozenlist-1.2.0 gpustat-1.0.0b1 hiredis-2.0.0 jmespath-0.10.0 jupyter-console-6.4.0 locket-0.2.1 modin-0.12.0 modin-spreadsheet-0.1.2 multidict-5.2.0 notebook-6.4.6 opencensus-0.8.0 opencensus-context-0.1.2 pandas-1.3.4 partd-1.2.0 plumbum-1.7.1 pyarrow-6.0.1 ray-1.8.0 rpyc-4.1.5 s3transfer-0.5.0 tornado-6.1 urllib3-1.25.11 yarl-1.7.2\n"
          ]
        },
        {
          "output_type": "display_data",
          "data": {
            "application/vnd.colab-display-data+json": {
              "pip_warning": {
                "packages": [
                  "cloudpickle",
                  "dask",
                  "pandas",
                  "tornado"
                ]
              }
            }
          },
          "metadata": {}
        },
        {
          "output_type": "stream",
          "name": "stdout",
          "text": [
            "Requirement already satisfied: modin in /usr/local/lib/python3.7/dist-packages (0.12.0)\n",
            "Requirement already satisfied: numpy>=1.16.5 in /usr/local/lib/python3.7/dist-packages (from modin) (1.19.5)\n",
            "Requirement already satisfied: fsspec in /usr/local/lib/python3.7/dist-packages (from modin) (2021.11.1)\n",
            "Requirement already satisfied: packaging in /usr/local/lib/python3.7/dist-packages (from modin) (21.3)\n",
            "Requirement already satisfied: pandas==1.3.4 in /usr/local/lib/python3.7/dist-packages (from modin) (1.3.4)\n",
            "Requirement already satisfied: pytz>=2017.3 in /usr/local/lib/python3.7/dist-packages (from pandas==1.3.4->modin) (2018.9)\n",
            "Requirement already satisfied: python-dateutil>=2.7.3 in /usr/local/lib/python3.7/dist-packages (from pandas==1.3.4->modin) (2.8.2)\n",
            "Requirement already satisfied: six>=1.5 in /usr/local/lib/python3.7/dist-packages (from python-dateutil>=2.7.3->pandas==1.3.4->modin) (1.15.0)\n",
            "Requirement already satisfied: pyparsing!=3.0.5,>=2.0.2 in /usr/local/lib/python3.7/dist-packages (from packaging->modin) (3.0.6)\n"
          ]
        }
      ]
    },
    {
      "cell_type": "code",
      "metadata": {
        "id": "tCmoGVO7Mjoh"
      },
      "source": [
        "import os\n",
        "os.environ[\"MODIN_ENGINE\"] = \"ray\"\n",
        "import modin.pandas as pd\n",
        "import numpy as np #Manejo de matrices y vectores\n",
        "import scipy as sp #libreria para data science\n",
        "#import pandas as pd #Manejo de iformacióón\n",
        "import matplotlib.pyplot as plt #Visualización\n",
        "import seaborn as sns #Visualización"
      ],
      "execution_count": null,
      "outputs": []
    },
    {
      "cell_type": "code",
      "metadata": {
        "id": "dpWIZmByRv1N"
      },
      "source": [
        "# Importar librerias\n",
        "import pandas as pda\n",
        "import pyarrow.parquet as pq\n",
        "import sqlite3\n",
        "import dask.dataframe as dd\n",
        "#import pyarrow.dataset as ds"
      ],
      "execution_count": null,
      "outputs": []
    },
    {
      "cell_type": "code",
      "metadata": {
        "application/vnd.databricks.v1+cell": {
          "title": "",
          "showTitle": false,
          "inputWidgets": {},
          "nuid": "99301707-7c3f-47bd-b75e-91020be140f4"
        },
        "id": "Hicw0nqCBIfx",
        "outputId": "4e4f06c3-7bd3-4b87-f069-733004452090"
      },
      "source": [
        "df_submit = spark.read.format(\"csv\").option(\"header\", \"true\").load(\"/FileStore/submit.csv\")\n",
        "display(df_submit)"
      ],
      "execution_count": null,
      "outputs": [
        {
          "output_type": "display_data",
          "metadata": {
            "application/vnd.databricks.v1+output": {
              "overflow": true,
              "datasetInfos": [],
              "data": [
                [
                  "20800",
                  "0"
                ],
                [
                  "20801",
                  "1"
                ],
                [
                  "20802",
                  "0"
                ],
                [
                  "20803",
                  "1"
                ],
                [
                  "20804",
                  "1"
                ],
                [
                  "20805",
                  "1"
                ],
                [
                  "20806",
                  "1"
                ],
                [
                  "20807",
                  "1"
                ],
                [
                  "20808",
                  "0"
                ],
                [
                  "20809",
                  "1"
                ],
                [
                  "20810",
                  "0"
                ],
                [
                  "20811",
                  "1"
                ],
                [
                  "20812",
                  "0"
                ],
                [
                  "20813",
                  "1"
                ],
                [
                  "20814",
                  "1"
                ],
                [
                  "20815",
                  "0"
                ],
                [
                  "20816",
                  "0"
                ],
                [
                  "20817",
                  "1"
                ],
                [
                  "20818",
                  "1"
                ],
                [
                  "20819",
                  "1"
                ],
                [
                  "20820",
                  "1"
                ],
                [
                  "20821",
                  "1"
                ],
                [
                  "20822",
                  "0"
                ],
                [
                  "20823",
                  "1"
                ],
                [
                  "20824",
                  "1"
                ],
                [
                  "20825",
                  "0"
                ],
                [
                  "20826",
                  "1"
                ],
                [
                  "20827",
                  "0"
                ],
                [
                  "20828",
                  "0"
                ],
                [
                  "20829",
                  "1"
                ],
                [
                  "20830",
                  "1"
                ],
                [
                  "20831",
                  "1"
                ],
                [
                  "20832",
                  "0"
                ],
                [
                  "20833",
                  "0"
                ],
                [
                  "20834",
                  "1"
                ],
                [
                  "20835",
                  "0"
                ],
                [
                  "20836",
                  "1"
                ],
                [
                  "20837",
                  "1"
                ],
                [
                  "20838",
                  "0"
                ],
                [
                  "20839",
                  "0"
                ],
                [
                  "20840",
                  "0"
                ],
                [
                  "20841",
                  "1"
                ],
                [
                  "20842",
                  "1"
                ],
                [
                  "20843",
                  "1"
                ],
                [
                  "20844",
                  "0"
                ],
                [
                  "20845",
                  "1"
                ],
                [
                  "20846",
                  "1"
                ],
                [
                  "20847",
                  "0"
                ],
                [
                  "20848",
                  "1"
                ],
                [
                  "20849",
                  "1"
                ],
                [
                  "20850",
                  "0"
                ],
                [
                  "20851",
                  "0"
                ],
                [
                  "20852",
                  "0"
                ],
                [
                  "20853",
                  "1"
                ],
                [
                  "20854",
                  "1"
                ],
                [
                  "20855",
                  "0"
                ],
                [
                  "20856",
                  "1"
                ],
                [
                  "20857",
                  "0"
                ],
                [
                  "20858",
                  "0"
                ],
                [
                  "20859",
                  "1"
                ],
                [
                  "20860",
                  "1"
                ],
                [
                  "20861",
                  "0"
                ],
                [
                  "20862",
                  "0"
                ],
                [
                  "20863",
                  "1"
                ],
                [
                  "20864",
                  "1"
                ],
                [
                  "20865",
                  "1"
                ],
                [
                  "20866",
                  "0"
                ],
                [
                  "20867",
                  "1"
                ],
                [
                  "20868",
                  "0"
                ],
                [
                  "20869",
                  "1"
                ],
                [
                  "20870",
                  "1"
                ],
                [
                  "20871",
                  "1"
                ],
                [
                  "20872",
                  "0"
                ],
                [
                  "20873",
                  "1"
                ],
                [
                  "20874",
                  "0"
                ],
                [
                  "20875",
                  "0"
                ],
                [
                  "20876",
                  "0"
                ],
                [
                  "20877",
                  "0"
                ],
                [
                  "20878",
                  "1"
                ],
                [
                  "20879",
                  "1"
                ],
                [
                  "20880",
                  "0"
                ],
                [
                  "20881",
                  "1"
                ],
                [
                  "20882",
                  "1"
                ],
                [
                  "20883",
                  "1"
                ],
                [
                  "20884",
                  "0"
                ],
                [
                  "20885",
                  "0"
                ],
                [
                  "20886",
                  "1"
                ],
                [
                  "20887",
                  "0"
                ],
                [
                  "20888",
                  "0"
                ],
                [
                  "20889",
                  "1"
                ],
                [
                  "20890",
                  "1"
                ],
                [
                  "20891",
                  "0"
                ],
                [
                  "20892",
                  "0"
                ],
                [
                  "20893",
                  "1"
                ],
                [
                  "20894",
                  "1"
                ],
                [
                  "20895",
                  "0"
                ],
                [
                  "20896",
                  "0"
                ],
                [
                  "20897",
                  "1"
                ],
                [
                  "20898",
                  "0"
                ],
                [
                  "20899",
                  "0"
                ],
                [
                  "20900",
                  "1"
                ],
                [
                  "20901",
                  "1"
                ],
                [
                  "20902",
                  "1"
                ],
                [
                  "20903",
                  "0"
                ],
                [
                  "20904",
                  "0"
                ],
                [
                  "20905",
                  "0"
                ],
                [
                  "20906",
                  "0"
                ],
                [
                  "20907",
                  "0"
                ],
                [
                  "20908",
                  "1"
                ],
                [
                  "20909",
                  "1"
                ],
                [
                  "20910",
                  "0"
                ],
                [
                  "20911",
                  "1"
                ],
                [
                  "20912",
                  "1"
                ],
                [
                  "20913",
                  "0"
                ],
                [
                  "20914",
                  "1"
                ],
                [
                  "20915",
                  "1"
                ],
                [
                  "20916",
                  "0"
                ],
                [
                  "20917",
                  "0"
                ],
                [
                  "20918",
                  "1"
                ],
                [
                  "20919",
                  "1"
                ],
                [
                  "20920",
                  "1"
                ],
                [
                  "20921",
                  "1"
                ],
                [
                  "20922",
                  "1"
                ],
                [
                  "20923",
                  "1"
                ],
                [
                  "20924",
                  "1"
                ],
                [
                  "20925",
                  "1"
                ],
                [
                  "20926",
                  "1"
                ],
                [
                  "20927",
                  "1"
                ],
                [
                  "20928",
                  "1"
                ],
                [
                  "20929",
                  "0"
                ],
                [
                  "20930",
                  "1"
                ],
                [
                  "20931",
                  "0"
                ],
                [
                  "20932",
                  "1"
                ],
                [
                  "20933",
                  "1"
                ],
                [
                  "20934",
                  "1"
                ],
                [
                  "20935",
                  "0"
                ],
                [
                  "20936",
                  "0"
                ],
                [
                  "20937",
                  "0"
                ],
                [
                  "20938",
                  "0"
                ],
                [
                  "20939",
                  "1"
                ],
                [
                  "20940",
                  "1"
                ],
                [
                  "20941",
                  "1"
                ],
                [
                  "20942",
                  "0"
                ],
                [
                  "20943",
                  "1"
                ],
                [
                  "20944",
                  "1"
                ],
                [
                  "20945",
                  "0"
                ],
                [
                  "20946",
                  "1"
                ],
                [
                  "20947",
                  "1"
                ],
                [
                  "20948",
                  "0"
                ],
                [
                  "20949",
                  "0"
                ],
                [
                  "20950",
                  "1"
                ],
                [
                  "20951",
                  "1"
                ],
                [
                  "20952",
                  "0"
                ],
                [
                  "20953",
                  "1"
                ],
                [
                  "20954",
                  "0"
                ],
                [
                  "20955",
                  "1"
                ],
                [
                  "20956",
                  "1"
                ],
                [
                  "20957",
                  "1"
                ],
                [
                  "20958",
                  "0"
                ],
                [
                  "20959",
                  "1"
                ],
                [
                  "20960",
                  "1"
                ],
                [
                  "20961",
                  "1"
                ],
                [
                  "20962",
                  "1"
                ],
                [
                  "20963",
                  "0"
                ],
                [
                  "20964",
                  "0"
                ],
                [
                  "20965",
                  "1"
                ],
                [
                  "20966",
                  "1"
                ],
                [
                  "20967",
                  "1"
                ],
                [
                  "20968",
                  "1"
                ],
                [
                  "20969",
                  "1"
                ],
                [
                  "20970",
                  "1"
                ],
                [
                  "20971",
                  "0"
                ],
                [
                  "20972",
                  "1"
                ],
                [
                  "20973",
                  "0"
                ],
                [
                  "20974",
                  "0"
                ],
                [
                  "20975",
                  "1"
                ],
                [
                  "20976",
                  "0"
                ],
                [
                  "20977",
                  "1"
                ],
                [
                  "20978",
                  "1"
                ],
                [
                  "20979",
                  "1"
                ],
                [
                  "20980",
                  "0"
                ],
                [
                  "20981",
                  "1"
                ],
                [
                  "20982",
                  "1"
                ],
                [
                  "20983",
                  "1"
                ],
                [
                  "20984",
                  "0"
                ],
                [
                  "20985",
                  "1"
                ],
                [
                  "20986",
                  "0"
                ],
                [
                  "20987",
                  "0"
                ],
                [
                  "20988",
                  "1"
                ],
                [
                  "20989",
                  "1"
                ],
                [
                  "20990",
                  "1"
                ],
                [
                  "20991",
                  "1"
                ],
                [
                  "20992",
                  "0"
                ],
                [
                  "20993",
                  "1"
                ],
                [
                  "20994",
                  "1"
                ],
                [
                  "20995",
                  "0"
                ],
                [
                  "20996",
                  "0"
                ],
                [
                  "20997",
                  "1"
                ],
                [
                  "20998",
                  "1"
                ],
                [
                  "20999",
                  "1"
                ],
                [
                  "21000",
                  "0"
                ],
                [
                  "21001",
                  "1"
                ],
                [
                  "21002",
                  "1"
                ],
                [
                  "21003",
                  "1"
                ],
                [
                  "21004",
                  "1"
                ],
                [
                  "21005",
                  "1"
                ],
                [
                  "21006",
                  "1"
                ],
                [
                  "21007",
                  "0"
                ],
                [
                  "21008",
                  "1"
                ],
                [
                  "21009",
                  "1"
                ],
                [
                  "21010",
                  "0"
                ],
                [
                  "21011",
                  "1"
                ],
                [
                  "21012",
                  "1"
                ],
                [
                  "21013",
                  "1"
                ],
                [
                  "21014",
                  "0"
                ],
                [
                  "21015",
                  "1"
                ],
                [
                  "21016",
                  "1"
                ],
                [
                  "21017",
                  "0"
                ],
                [
                  "21018",
                  "0"
                ],
                [
                  "21019",
                  "0"
                ],
                [
                  "21020",
                  "0"
                ],
                [
                  "21021",
                  "1"
                ],
                [
                  "21022",
                  "0"
                ],
                [
                  "21023",
                  "1"
                ],
                [
                  "21024",
                  "0"
                ],
                [
                  "21025",
                  "1"
                ],
                [
                  "21026",
                  "1"
                ],
                [
                  "21027",
                  "1"
                ],
                [
                  "21028",
                  "0"
                ],
                [
                  "21029",
                  "0"
                ],
                [
                  "21030",
                  "0"
                ],
                [
                  "21031",
                  "0"
                ],
                [
                  "21032",
                  "0"
                ],
                [
                  "21033",
                  "1"
                ],
                [
                  "21034",
                  "1"
                ],
                [
                  "21035",
                  "1"
                ],
                [
                  "21036",
                  "0"
                ],
                [
                  "21037",
                  "0"
                ],
                [
                  "21038",
                  "1"
                ],
                [
                  "21039",
                  "1"
                ],
                [
                  "21040",
                  "1"
                ],
                [
                  "21041",
                  "0"
                ],
                [
                  "21042",
                  "0"
                ],
                [
                  "21043",
                  "1"
                ],
                [
                  "21044",
                  "0"
                ],
                [
                  "21045",
                  "1"
                ],
                [
                  "21046",
                  "1"
                ],
                [
                  "21047",
                  "1"
                ],
                [
                  "21048",
                  "0"
                ],
                [
                  "21049",
                  "1"
                ],
                [
                  "21050",
                  "1"
                ],
                [
                  "21051",
                  "1"
                ],
                [
                  "21052",
                  "0"
                ],
                [
                  "21053",
                  "0"
                ],
                [
                  "21054",
                  "0"
                ],
                [
                  "21055",
                  "1"
                ],
                [
                  "21056",
                  "1"
                ],
                [
                  "21057",
                  "1"
                ],
                [
                  "21058",
                  "1"
                ],
                [
                  "21059",
                  "1"
                ],
                [
                  "21060",
                  "1"
                ],
                [
                  "21061",
                  "1"
                ],
                [
                  "21062",
                  "1"
                ],
                [
                  "21063",
                  "1"
                ],
                [
                  "21064",
                  "1"
                ],
                [
                  "21065",
                  "1"
                ],
                [
                  "21066",
                  "1"
                ],
                [
                  "21067",
                  "1"
                ],
                [
                  "21068",
                  "0"
                ],
                [
                  "21069",
                  "1"
                ],
                [
                  "21070",
                  "0"
                ],
                [
                  "21071",
                  "1"
                ],
                [
                  "21072",
                  "0"
                ],
                [
                  "21073",
                  "1"
                ],
                [
                  "21074",
                  "0"
                ],
                [
                  "21075",
                  "0"
                ],
                [
                  "21076",
                  "0"
                ],
                [
                  "21077",
                  "0"
                ],
                [
                  "21078",
                  "0"
                ],
                [
                  "21079",
                  "0"
                ],
                [
                  "21080",
                  "1"
                ],
                [
                  "21081",
                  "1"
                ],
                [
                  "21082",
                  "1"
                ],
                [
                  "21083",
                  "1"
                ],
                [
                  "21084",
                  "1"
                ],
                [
                  "21085",
                  "0"
                ],
                [
                  "21086",
                  "0"
                ],
                [
                  "21087",
                  "0"
                ],
                [
                  "21088",
                  "1"
                ],
                [
                  "21089",
                  "1"
                ],
                [
                  "21090",
                  "0"
                ],
                [
                  "21091",
                  "1"
                ],
                [
                  "21092",
                  "0"
                ],
                [
                  "21093",
                  "1"
                ],
                [
                  "21094",
                  "0"
                ],
                [
                  "21095",
                  "0"
                ],
                [
                  "21096",
                  "1"
                ],
                [
                  "21097",
                  "1"
                ],
                [
                  "21098",
                  "1"
                ],
                [
                  "21099",
                  "0"
                ],
                [
                  "21100",
                  "1"
                ],
                [
                  "21101",
                  "0"
                ],
                [
                  "21102",
                  "0"
                ],
                [
                  "21103",
                  "1"
                ],
                [
                  "21104",
                  "1"
                ],
                [
                  "21105",
                  "0"
                ],
                [
                  "21106",
                  "1"
                ],
                [
                  "21107",
                  "1"
                ],
                [
                  "21108",
                  "0"
                ],
                [
                  "21109",
                  "0"
                ],
                [
                  "21110",
                  "1"
                ],
                [
                  "21111",
                  "0"
                ],
                [
                  "21112",
                  "1"
                ],
                [
                  "21113",
                  "0"
                ],
                [
                  "21114",
                  "1"
                ],
                [
                  "21115",
                  "1"
                ],
                [
                  "21116",
                  "0"
                ],
                [
                  "21117",
                  "1"
                ],
                [
                  "21118",
                  "0"
                ],
                [
                  "21119",
                  "0"
                ],
                [
                  "21120",
                  "0"
                ],
                [
                  "21121",
                  "0"
                ],
                [
                  "21122",
                  "0"
                ],
                [
                  "21123",
                  "1"
                ],
                [
                  "21124",
                  "0"
                ],
                [
                  "21125",
                  "1"
                ],
                [
                  "21126",
                  "1"
                ],
                [
                  "21127",
                  "0"
                ],
                [
                  "21128",
                  "0"
                ],
                [
                  "21129",
                  "1"
                ],
                [
                  "21130",
                  "0"
                ],
                [
                  "21131",
                  "1"
                ],
                [
                  "21132",
                  "1"
                ],
                [
                  "21133",
                  "1"
                ],
                [
                  "21134",
                  "0"
                ],
                [
                  "21135",
                  "1"
                ],
                [
                  "21136",
                  "0"
                ],
                [
                  "21137",
                  "1"
                ],
                [
                  "21138",
                  "0"
                ],
                [
                  "21139",
                  "1"
                ],
                [
                  "21140",
                  "1"
                ],
                [
                  "21141",
                  "1"
                ],
                [
                  "21142",
                  "1"
                ],
                [
                  "21143",
                  "0"
                ],
                [
                  "21144",
                  "1"
                ],
                [
                  "21145",
                  "0"
                ],
                [
                  "21146",
                  "1"
                ],
                [
                  "21147",
                  "1"
                ],
                [
                  "21148",
                  "1"
                ],
                [
                  "21149",
                  "1"
                ],
                [
                  "21150",
                  "0"
                ],
                [
                  "21151",
                  "0"
                ],
                [
                  "21152",
                  "1"
                ],
                [
                  "21153",
                  "0"
                ],
                [
                  "21154",
                  "0"
                ],
                [
                  "21155",
                  "1"
                ],
                [
                  "21156",
                  "1"
                ],
                [
                  "21157",
                  "0"
                ],
                [
                  "21158",
                  "1"
                ],
                [
                  "21159",
                  "0"
                ],
                [
                  "21160",
                  "0"
                ],
                [
                  "21161",
                  "0"
                ],
                [
                  "21162",
                  "1"
                ],
                [
                  "21163",
                  "0"
                ],
                [
                  "21164",
                  "1"
                ],
                [
                  "21165",
                  "0"
                ],
                [
                  "21166",
                  "1"
                ],
                [
                  "21167",
                  "1"
                ],
                [
                  "21168",
                  "1"
                ],
                [
                  "21169",
                  "0"
                ],
                [
                  "21170",
                  "0"
                ],
                [
                  "21171",
                  "0"
                ],
                [
                  "21172",
                  "1"
                ],
                [
                  "21173",
                  "0"
                ],
                [
                  "21174",
                  "0"
                ],
                [
                  "21175",
                  "0"
                ],
                [
                  "21176",
                  "1"
                ],
                [
                  "21177",
                  "0"
                ],
                [
                  "21178",
                  "0"
                ],
                [
                  "21179",
                  "0"
                ],
                [
                  "21180",
                  "0"
                ],
                [
                  "21181",
                  "0"
                ],
                [
                  "21182",
                  "0"
                ],
                [
                  "21183",
                  "1"
                ],
                [
                  "21184",
                  "1"
                ],
                [
                  "21185",
                  "1"
                ],
                [
                  "21186",
                  "0"
                ],
                [
                  "21187",
                  "1"
                ],
                [
                  "21188",
                  "1"
                ],
                [
                  "21189",
                  "0"
                ],
                [
                  "21190",
                  "0"
                ],
                [
                  "21191",
                  "1"
                ],
                [
                  "21192",
                  "0"
                ],
                [
                  "21193",
                  "1"
                ],
                [
                  "21194",
                  "1"
                ],
                [
                  "21195",
                  "1"
                ],
                [
                  "21196",
                  "1"
                ],
                [
                  "21197",
                  "1"
                ],
                [
                  "21198",
                  "1"
                ],
                [
                  "21199",
                  "1"
                ],
                [
                  "21200",
                  "0"
                ],
                [
                  "21201",
                  "1"
                ],
                [
                  "21202",
                  "1"
                ],
                [
                  "21203",
                  "1"
                ],
                [
                  "21204",
                  "1"
                ],
                [
                  "21205",
                  "0"
                ],
                [
                  "21206",
                  "1"
                ],
                [
                  "21207",
                  "0"
                ],
                [
                  "21208",
                  "0"
                ],
                [
                  "21209",
                  "1"
                ],
                [
                  "21210",
                  "0"
                ],
                [
                  "21211",
                  "1"
                ],
                [
                  "21212",
                  "1"
                ],
                [
                  "21213",
                  "0"
                ],
                [
                  "21214",
                  "1"
                ],
                [
                  "21215",
                  "0"
                ],
                [
                  "21216",
                  "0"
                ],
                [
                  "21217",
                  "0"
                ],
                [
                  "21218",
                  "1"
                ],
                [
                  "21219",
                  "1"
                ],
                [
                  "21220",
                  "0"
                ],
                [
                  "21221",
                  "0"
                ],
                [
                  "21222",
                  "0"
                ],
                [
                  "21223",
                  "1"
                ],
                [
                  "21224",
                  "0"
                ],
                [
                  "21225",
                  "0"
                ],
                [
                  "21226",
                  "1"
                ],
                [
                  "21227",
                  "1"
                ],
                [
                  "21228",
                  "0"
                ],
                [
                  "21229",
                  "1"
                ],
                [
                  "21230",
                  "0"
                ],
                [
                  "21231",
                  "0"
                ],
                [
                  "21232",
                  "0"
                ],
                [
                  "21233",
                  "1"
                ],
                [
                  "21234",
                  "0"
                ],
                [
                  "21235",
                  "0"
                ],
                [
                  "21236",
                  "0"
                ],
                [
                  "21237",
                  "1"
                ],
                [
                  "21238",
                  "1"
                ],
                [
                  "21239",
                  "1"
                ],
                [
                  "21240",
                  "1"
                ],
                [
                  "21241",
                  "0"
                ],
                [
                  "21242",
                  "0"
                ],
                [
                  "21243",
                  "1"
                ],
                [
                  "21244",
                  "0"
                ],
                [
                  "21245",
                  "0"
                ],
                [
                  "21246",
                  "1"
                ],
                [
                  "21247",
                  "1"
                ],
                [
                  "21248",
                  "1"
                ],
                [
                  "21249",
                  "1"
                ],
                [
                  "21250",
                  "1"
                ],
                [
                  "21251",
                  "0"
                ],
                [
                  "21252",
                  "1"
                ],
                [
                  "21253",
                  "1"
                ],
                [
                  "21254",
                  "1"
                ],
                [
                  "21255",
                  "0"
                ],
                [
                  "21256",
                  "0"
                ],
                [
                  "21257",
                  "1"
                ],
                [
                  "21258",
                  "0"
                ],
                [
                  "21259",
                  "0"
                ],
                [
                  "21260",
                  "1"
                ],
                [
                  "21261",
                  "1"
                ],
                [
                  "21262",
                  "0"
                ],
                [
                  "21263",
                  "0"
                ],
                [
                  "21264",
                  "1"
                ],
                [
                  "21265",
                  "0"
                ],
                [
                  "21266",
                  "0"
                ],
                [
                  "21267",
                  "0"
                ],
                [
                  "21268",
                  "0"
                ],
                [
                  "21269",
                  "1"
                ],
                [
                  "21270",
                  "0"
                ],
                [
                  "21271",
                  "1"
                ],
                [
                  "21272",
                  "0"
                ],
                [
                  "21273",
                  "0"
                ],
                [
                  "21274",
                  "1"
                ],
                [
                  "21275",
                  "0"
                ],
                [
                  "21276",
                  "0"
                ],
                [
                  "21277",
                  "0"
                ],
                [
                  "21278",
                  "0"
                ],
                [
                  "21279",
                  "1"
                ],
                [
                  "21280",
                  "1"
                ],
                [
                  "21281",
                  "1"
                ],
                [
                  "21282",
                  "1"
                ],
                [
                  "21283",
                  "1"
                ],
                [
                  "21284",
                  "1"
                ],
                [
                  "21285",
                  "1"
                ],
                [
                  "21286",
                  "1"
                ],
                [
                  "21287",
                  "1"
                ],
                [
                  "21288",
                  "1"
                ],
                [
                  "21289",
                  "0"
                ],
                [
                  "21290",
                  "0"
                ],
                [
                  "21291",
                  "1"
                ],
                [
                  "21292",
                  "0"
                ],
                [
                  "21293",
                  "0"
                ],
                [
                  "21294",
                  "1"
                ],
                [
                  "21295",
                  "0"
                ],
                [
                  "21296",
                  "0"
                ],
                [
                  "21297",
                  "1"
                ],
                [
                  "21298",
                  "1"
                ],
                [
                  "21299",
                  "1"
                ],
                [
                  "21300",
                  "0"
                ],
                [
                  "21301",
                  "1"
                ],
                [
                  "21302",
                  "0"
                ],
                [
                  "21303",
                  "0"
                ],
                [
                  "21304",
                  "1"
                ],
                [
                  "21305",
                  "1"
                ],
                [
                  "21306",
                  "1"
                ],
                [
                  "21307",
                  "0"
                ],
                [
                  "21308",
                  "0"
                ],
                [
                  "21309",
                  "1"
                ],
                [
                  "21310",
                  "1"
                ],
                [
                  "21311",
                  "1"
                ],
                [
                  "21312",
                  "1"
                ],
                [
                  "21313",
                  "0"
                ],
                [
                  "21314",
                  "0"
                ],
                [
                  "21315",
                  "1"
                ],
                [
                  "21316",
                  "0"
                ],
                [
                  "21317",
                  "0"
                ],
                [
                  "21318",
                  "1"
                ],
                [
                  "21319",
                  "0"
                ],
                [
                  "21320",
                  "0"
                ],
                [
                  "21321",
                  "1"
                ],
                [
                  "21322",
                  "1"
                ],
                [
                  "21323",
                  "0"
                ],
                [
                  "21324",
                  "0"
                ],
                [
                  "21325",
                  "1"
                ],
                [
                  "21326",
                  "0"
                ],
                [
                  "21327",
                  "0"
                ],
                [
                  "21328",
                  "1"
                ],
                [
                  "21329",
                  "1"
                ],
                [
                  "21330",
                  "1"
                ],
                [
                  "21331",
                  "1"
                ],
                [
                  "21332",
                  "0"
                ],
                [
                  "21333",
                  "0"
                ],
                [
                  "21334",
                  "0"
                ],
                [
                  "21335",
                  "1"
                ],
                [
                  "21336",
                  "0"
                ],
                [
                  "21337",
                  "0"
                ],
                [
                  "21338",
                  "1"
                ],
                [
                  "21339",
                  "0"
                ],
                [
                  "21340",
                  "0"
                ],
                [
                  "21341",
                  "0"
                ],
                [
                  "21342",
                  "0"
                ],
                [
                  "21343",
                  "1"
                ],
                [
                  "21344",
                  "1"
                ],
                [
                  "21345",
                  "1"
                ],
                [
                  "21346",
                  "0"
                ],
                [
                  "21347",
                  "0"
                ],
                [
                  "21348",
                  "0"
                ],
                [
                  "21349",
                  "0"
                ],
                [
                  "21350",
                  "0"
                ],
                [
                  "21351",
                  "1"
                ],
                [
                  "21352",
                  "1"
                ],
                [
                  "21353",
                  "0"
                ],
                [
                  "21354",
                  "1"
                ],
                [
                  "21355",
                  "1"
                ],
                [
                  "21356",
                  "1"
                ],
                [
                  "21357",
                  "1"
                ],
                [
                  "21358",
                  "0"
                ],
                [
                  "21359",
                  "0"
                ],
                [
                  "21360",
                  "0"
                ],
                [
                  "21361",
                  "1"
                ],
                [
                  "21362",
                  "1"
                ],
                [
                  "21363",
                  "0"
                ],
                [
                  "21364",
                  "0"
                ],
                [
                  "21365",
                  "1"
                ],
                [
                  "21366",
                  "1"
                ],
                [
                  "21367",
                  "0"
                ],
                [
                  "21368",
                  "1"
                ],
                [
                  "21369",
                  "0"
                ],
                [
                  "21370",
                  "0"
                ],
                [
                  "21371",
                  "0"
                ],
                [
                  "21372",
                  "1"
                ],
                [
                  "21373",
                  "0"
                ],
                [
                  "21374",
                  "0"
                ],
                [
                  "21375",
                  "0"
                ],
                [
                  "21376",
                  "1"
                ],
                [
                  "21377",
                  "0"
                ],
                [
                  "21378",
                  "1"
                ],
                [
                  "21379",
                  "1"
                ],
                [
                  "21380",
                  "1"
                ],
                [
                  "21381",
                  "0"
                ],
                [
                  "21382",
                  "0"
                ],
                [
                  "21383",
                  "1"
                ],
                [
                  "21384",
                  "0"
                ],
                [
                  "21385",
                  "1"
                ],
                [
                  "21386",
                  "1"
                ],
                [
                  "21387",
                  "0"
                ],
                [
                  "21388",
                  "0"
                ],
                [
                  "21389",
                  "1"
                ],
                [
                  "21390",
                  "0"
                ],
                [
                  "21391",
                  "0"
                ],
                [
                  "21392",
                  "0"
                ],
                [
                  "21393",
                  "0"
                ],
                [
                  "21394",
                  "0"
                ],
                [
                  "21395",
                  "0"
                ],
                [
                  "21396",
                  "1"
                ],
                [
                  "21397",
                  "1"
                ],
                [
                  "21398",
                  "1"
                ],
                [
                  "21399",
                  "1"
                ],
                [
                  "21400",
                  "1"
                ],
                [
                  "21401",
                  "1"
                ],
                [
                  "21402",
                  "1"
                ],
                [
                  "21403",
                  "0"
                ],
                [
                  "21404",
                  "0"
                ],
                [
                  "21405",
                  "1"
                ],
                [
                  "21406",
                  "0"
                ],
                [
                  "21407",
                  "0"
                ],
                [
                  "21408",
                  "0"
                ],
                [
                  "21409",
                  "1"
                ],
                [
                  "21410",
                  "0"
                ],
                [
                  "21411",
                  "1"
                ],
                [
                  "21412",
                  "0"
                ],
                [
                  "21413",
                  "0"
                ],
                [
                  "21414",
                  "0"
                ],
                [
                  "21415",
                  "1"
                ],
                [
                  "21416",
                  "1"
                ],
                [
                  "21417",
                  "1"
                ],
                [
                  "21418",
                  "0"
                ],
                [
                  "21419",
                  "1"
                ],
                [
                  "21420",
                  "0"
                ],
                [
                  "21421",
                  "0"
                ],
                [
                  "21422",
                  "1"
                ],
                [
                  "21423",
                  "0"
                ],
                [
                  "21424",
                  "0"
                ],
                [
                  "21425",
                  "1"
                ],
                [
                  "21426",
                  "1"
                ],
                [
                  "21427",
                  "1"
                ],
                [
                  "21428",
                  "1"
                ],
                [
                  "21429",
                  "0"
                ],
                [
                  "21430",
                  "1"
                ],
                [
                  "21431",
                  "0"
                ],
                [
                  "21432",
                  "1"
                ],
                [
                  "21433",
                  "1"
                ],
                [
                  "21434",
                  "1"
                ],
                [
                  "21435",
                  "1"
                ],
                [
                  "21436",
                  "1"
                ],
                [
                  "21437",
                  "0"
                ],
                [
                  "21438",
                  "0"
                ],
                [
                  "21439",
                  "1"
                ],
                [
                  "21440",
                  "0"
                ],
                [
                  "21441",
                  "0"
                ],
                [
                  "21442",
                  "1"
                ],
                [
                  "21443",
                  "0"
                ],
                [
                  "21444",
                  "1"
                ],
                [
                  "21445",
                  "1"
                ],
                [
                  "21446",
                  "1"
                ],
                [
                  "21447",
                  "0"
                ],
                [
                  "21448",
                  "1"
                ],
                [
                  "21449",
                  "0"
                ],
                [
                  "21450",
                  "1"
                ],
                [
                  "21451",
                  "0"
                ],
                [
                  "21452",
                  "1"
                ],
                [
                  "21453",
                  "1"
                ],
                [
                  "21454",
                  "0"
                ],
                [
                  "21455",
                  "0"
                ],
                [
                  "21456",
                  "0"
                ],
                [
                  "21457",
                  "1"
                ],
                [
                  "21458",
                  "0"
                ],
                [
                  "21459",
                  "1"
                ],
                [
                  "21460",
                  "1"
                ],
                [
                  "21461",
                  "1"
                ],
                [
                  "21462",
                  "1"
                ],
                [
                  "21463",
                  "1"
                ],
                [
                  "21464",
                  "0"
                ],
                [
                  "21465",
                  "0"
                ],
                [
                  "21466",
                  "0"
                ],
                [
                  "21467",
                  "0"
                ],
                [
                  "21468",
                  "0"
                ],
                [
                  "21469",
                  "0"
                ],
                [
                  "21470",
                  "1"
                ],
                [
                  "21471",
                  "1"
                ],
                [
                  "21472",
                  "1"
                ],
                [
                  "21473",
                  "1"
                ],
                [
                  "21474",
                  "0"
                ],
                [
                  "21475",
                  "0"
                ],
                [
                  "21476",
                  "1"
                ],
                [
                  "21477",
                  "0"
                ],
                [
                  "21478",
                  "1"
                ],
                [
                  "21479",
                  "1"
                ],
                [
                  "21480",
                  "1"
                ],
                [
                  "21481",
                  "0"
                ],
                [
                  "21482",
                  "0"
                ],
                [
                  "21483",
                  "1"
                ],
                [
                  "21484",
                  "0"
                ],
                [
                  "21485",
                  "1"
                ],
                [
                  "21486",
                  "1"
                ],
                [
                  "21487",
                  "1"
                ],
                [
                  "21488",
                  "1"
                ],
                [
                  "21489",
                  "1"
                ],
                [
                  "21490",
                  "0"
                ],
                [
                  "21491",
                  "0"
                ],
                [
                  "21492",
                  "1"
                ],
                [
                  "21493",
                  "1"
                ],
                [
                  "21494",
                  "0"
                ],
                [
                  "21495",
                  "1"
                ],
                [
                  "21496",
                  "1"
                ],
                [
                  "21497",
                  "1"
                ],
                [
                  "21498",
                  "1"
                ],
                [
                  "21499",
                  "1"
                ],
                [
                  "21500",
                  "1"
                ],
                [
                  "21501",
                  "0"
                ],
                [
                  "21502",
                  "1"
                ],
                [
                  "21503",
                  "0"
                ],
                [
                  "21504",
                  "1"
                ],
                [
                  "21505",
                  "1"
                ],
                [
                  "21506",
                  "1"
                ],
                [
                  "21507",
                  "1"
                ],
                [
                  "21508",
                  "1"
                ],
                [
                  "21509",
                  "1"
                ],
                [
                  "21510",
                  "0"
                ],
                [
                  "21511",
                  "1"
                ],
                [
                  "21512",
                  "1"
                ],
                [
                  "21513",
                  "1"
                ],
                [
                  "21514",
                  "1"
                ],
                [
                  "21515",
                  "0"
                ],
                [
                  "21516",
                  "0"
                ],
                [
                  "21517",
                  "1"
                ],
                [
                  "21518",
                  "1"
                ],
                [
                  "21519",
                  "1"
                ],
                [
                  "21520",
                  "0"
                ],
                [
                  "21521",
                  "1"
                ],
                [
                  "21522",
                  "0"
                ],
                [
                  "21523",
                  "1"
                ],
                [
                  "21524",
                  "1"
                ],
                [
                  "21525",
                  "0"
                ],
                [
                  "21526",
                  "0"
                ],
                [
                  "21527",
                  "1"
                ],
                [
                  "21528",
                  "1"
                ],
                [
                  "21529",
                  "0"
                ],
                [
                  "21530",
                  "0"
                ],
                [
                  "21531",
                  "1"
                ],
                [
                  "21532",
                  "0"
                ],
                [
                  "21533",
                  "0"
                ],
                [
                  "21534",
                  "0"
                ],
                [
                  "21535",
                  "0"
                ],
                [
                  "21536",
                  "0"
                ],
                [
                  "21537",
                  "1"
                ],
                [
                  "21538",
                  "1"
                ],
                [
                  "21539",
                  "1"
                ],
                [
                  "21540",
                  "1"
                ],
                [
                  "21541",
                  "1"
                ],
                [
                  "21542",
                  "1"
                ],
                [
                  "21543",
                  "0"
                ],
                [
                  "21544",
                  "0"
                ],
                [
                  "21545",
                  "1"
                ],
                [
                  "21546",
                  "1"
                ],
                [
                  "21547",
                  "0"
                ],
                [
                  "21548",
                  "1"
                ],
                [
                  "21549",
                  "1"
                ],
                [
                  "21550",
                  "1"
                ],
                [
                  "21551",
                  "1"
                ],
                [
                  "21552",
                  "0"
                ],
                [
                  "21553",
                  "1"
                ],
                [
                  "21554",
                  "1"
                ],
                [
                  "21555",
                  "1"
                ],
                [
                  "21556",
                  "1"
                ],
                [
                  "21557",
                  "0"
                ],
                [
                  "21558",
                  "0"
                ],
                [
                  "21559",
                  "1"
                ],
                [
                  "21560",
                  "0"
                ],
                [
                  "21561",
                  "0"
                ],
                [
                  "21562",
                  "1"
                ],
                [
                  "21563",
                  "0"
                ],
                [
                  "21564",
                  "1"
                ],
                [
                  "21565",
                  "1"
                ],
                [
                  "21566",
                  "0"
                ],
                [
                  "21567",
                  "1"
                ],
                [
                  "21568",
                  "0"
                ],
                [
                  "21569",
                  "1"
                ],
                [
                  "21570",
                  "0"
                ],
                [
                  "21571",
                  "0"
                ],
                [
                  "21572",
                  "0"
                ],
                [
                  "21573",
                  "0"
                ],
                [
                  "21574",
                  "1"
                ],
                [
                  "21575",
                  "0"
                ],
                [
                  "21576",
                  "0"
                ],
                [
                  "21577",
                  "1"
                ],
                [
                  "21578",
                  "1"
                ],
                [
                  "21579",
                  "0"
                ],
                [
                  "21580",
                  "1"
                ],
                [
                  "21581",
                  "0"
                ],
                [
                  "21582",
                  "1"
                ],
                [
                  "21583",
                  "0"
                ],
                [
                  "21584",
                  "1"
                ],
                [
                  "21585",
                  "0"
                ],
                [
                  "21586",
                  "1"
                ],
                [
                  "21587",
                  "0"
                ],
                [
                  "21588",
                  "1"
                ],
                [
                  "21589",
                  "0"
                ],
                [
                  "21590",
                  "0"
                ],
                [
                  "21591",
                  "1"
                ],
                [
                  "21592",
                  "1"
                ],
                [
                  "21593",
                  "1"
                ],
                [
                  "21594",
                  "1"
                ],
                [
                  "21595",
                  "0"
                ],
                [
                  "21596",
                  "0"
                ],
                [
                  "21597",
                  "1"
                ],
                [
                  "21598",
                  "0"
                ],
                [
                  "21599",
                  "1"
                ],
                [
                  "21600",
                  "0"
                ],
                [
                  "21601",
                  "1"
                ],
                [
                  "21602",
                  "1"
                ],
                [
                  "21603",
                  "0"
                ],
                [
                  "21604",
                  "0"
                ],
                [
                  "21605",
                  "0"
                ],
                [
                  "21606",
                  "0"
                ],
                [
                  "21607",
                  "1"
                ],
                [
                  "21608",
                  "1"
                ],
                [
                  "21609",
                  "0"
                ],
                [
                  "21610",
                  "1"
                ],
                [
                  "21611",
                  "1"
                ],
                [
                  "21612",
                  "1"
                ],
                [
                  "21613",
                  "0"
                ],
                [
                  "21614",
                  "0"
                ],
                [
                  "21615",
                  "1"
                ],
                [
                  "21616",
                  "0"
                ],
                [
                  "21617",
                  "1"
                ],
                [
                  "21618",
                  "0"
                ],
                [
                  "21619",
                  "0"
                ],
                [
                  "21620",
                  "0"
                ],
                [
                  "21621",
                  "1"
                ],
                [
                  "21622",
                  "1"
                ],
                [
                  "21623",
                  "1"
                ],
                [
                  "21624",
                  "1"
                ],
                [
                  "21625",
                  "0"
                ],
                [
                  "21626",
                  "0"
                ],
                [
                  "21627",
                  "1"
                ],
                [
                  "21628",
                  "0"
                ],
                [
                  "21629",
                  "1"
                ],
                [
                  "21630",
                  "0"
                ],
                [
                  "21631",
                  "0"
                ],
                [
                  "21632",
                  "1"
                ],
                [
                  "21633",
                  "1"
                ],
                [
                  "21634",
                  "1"
                ],
                [
                  "21635",
                  "1"
                ],
                [
                  "21636",
                  "1"
                ],
                [
                  "21637",
                  "1"
                ],
                [
                  "21638",
                  "1"
                ],
                [
                  "21639",
                  "1"
                ],
                [
                  "21640",
                  "1"
                ],
                [
                  "21641",
                  "1"
                ],
                [
                  "21642",
                  "0"
                ],
                [
                  "21643",
                  "0"
                ],
                [
                  "21644",
                  "0"
                ],
                [
                  "21645",
                  "1"
                ],
                [
                  "21646",
                  "0"
                ],
                [
                  "21647",
                  "0"
                ],
                [
                  "21648",
                  "0"
                ],
                [
                  "21649",
                  "0"
                ],
                [
                  "21650",
                  "0"
                ],
                [
                  "21651",
                  "1"
                ],
                [
                  "21652",
                  "1"
                ],
                [
                  "21653",
                  "0"
                ],
                [
                  "21654",
                  "1"
                ],
                [
                  "21655",
                  "1"
                ],
                [
                  "21656",
                  "1"
                ],
                [
                  "21657",
                  "1"
                ],
                [
                  "21658",
                  "1"
                ],
                [
                  "21659",
                  "1"
                ],
                [
                  "21660",
                  "1"
                ],
                [
                  "21661",
                  "1"
                ],
                [
                  "21662",
                  "0"
                ],
                [
                  "21663",
                  "1"
                ],
                [
                  "21664",
                  "1"
                ],
                [
                  "21665",
                  "1"
                ],
                [
                  "21666",
                  "1"
                ],
                [
                  "21667",
                  "1"
                ],
                [
                  "21668",
                  "1"
                ],
                [
                  "21669",
                  "1"
                ],
                [
                  "21670",
                  "0"
                ],
                [
                  "21671",
                  "0"
                ],
                [
                  "21672",
                  "0"
                ],
                [
                  "21673",
                  "1"
                ],
                [
                  "21674",
                  "1"
                ],
                [
                  "21675",
                  "1"
                ],
                [
                  "21676",
                  "0"
                ],
                [
                  "21677",
                  "0"
                ],
                [
                  "21678",
                  "1"
                ],
                [
                  "21679",
                  "0"
                ],
                [
                  "21680",
                  "1"
                ],
                [
                  "21681",
                  "0"
                ],
                [
                  "21682",
                  "1"
                ],
                [
                  "21683",
                  "1"
                ],
                [
                  "21684",
                  "1"
                ],
                [
                  "21685",
                  "0"
                ],
                [
                  "21686",
                  "1"
                ],
                [
                  "21687",
                  "1"
                ],
                [
                  "21688",
                  "1"
                ],
                [
                  "21689",
                  "0"
                ],
                [
                  "21690",
                  "0"
                ],
                [
                  "21691",
                  "1"
                ],
                [
                  "21692",
                  "0"
                ],
                [
                  "21693",
                  "0"
                ],
                [
                  "21694",
                  "1"
                ],
                [
                  "21695",
                  "0"
                ],
                [
                  "21696",
                  "0"
                ],
                [
                  "21697",
                  "0"
                ],
                [
                  "21698",
                  "0"
                ],
                [
                  "21699",
                  "0"
                ],
                [
                  "21700",
                  "1"
                ],
                [
                  "21701",
                  "0"
                ],
                [
                  "21702",
                  "1"
                ],
                [
                  "21703",
                  "0"
                ],
                [
                  "21704",
                  "1"
                ],
                [
                  "21705",
                  "1"
                ],
                [
                  "21706",
                  "0"
                ],
                [
                  "21707",
                  "1"
                ],
                [
                  "21708",
                  "0"
                ],
                [
                  "21709",
                  "1"
                ],
                [
                  "21710",
                  "0"
                ],
                [
                  "21711",
                  "1"
                ],
                [
                  "21712",
                  "1"
                ],
                [
                  "21713",
                  "1"
                ],
                [
                  "21714",
                  "1"
                ],
                [
                  "21715",
                  "1"
                ],
                [
                  "21716",
                  "0"
                ],
                [
                  "21717",
                  "0"
                ],
                [
                  "21718",
                  "0"
                ],
                [
                  "21719",
                  "0"
                ],
                [
                  "21720",
                  "0"
                ],
                [
                  "21721",
                  "1"
                ],
                [
                  "21722",
                  "0"
                ],
                [
                  "21723",
                  "0"
                ],
                [
                  "21724",
                  "1"
                ],
                [
                  "21725",
                  "0"
                ],
                [
                  "21726",
                  "1"
                ],
                [
                  "21727",
                  "0"
                ],
                [
                  "21728",
                  "1"
                ],
                [
                  "21729",
                  "1"
                ],
                [
                  "21730",
                  "1"
                ],
                [
                  "21731",
                  "1"
                ],
                [
                  "21732",
                  "1"
                ],
                [
                  "21733",
                  "1"
                ],
                [
                  "21734",
                  "0"
                ],
                [
                  "21735",
                  "1"
                ],
                [
                  "21736",
                  "0"
                ],
                [
                  "21737",
                  "0"
                ],
                [
                  "21738",
                  "0"
                ],
                [
                  "21739",
                  "1"
                ],
                [
                  "21740",
                  "1"
                ],
                [
                  "21741",
                  "1"
                ],
                [
                  "21742",
                  "1"
                ],
                [
                  "21743",
                  "0"
                ],
                [
                  "21744",
                  "0"
                ],
                [
                  "21745",
                  "1"
                ],
                [
                  "21746",
                  "1"
                ],
                [
                  "21747",
                  "1"
                ],
                [
                  "21748",
                  "0"
                ],
                [
                  "21749",
                  "1"
                ],
                [
                  "21750",
                  "0"
                ],
                [
                  "21751",
                  "0"
                ],
                [
                  "21752",
                  "1"
                ],
                [
                  "21753",
                  "1"
                ],
                [
                  "21754",
                  "1"
                ],
                [
                  "21755",
                  "0"
                ],
                [
                  "21756",
                  "1"
                ],
                [
                  "21757",
                  "0"
                ],
                [
                  "21758",
                  "1"
                ],
                [
                  "21759",
                  "0"
                ],
                [
                  "21760",
                  "0"
                ],
                [
                  "21761",
                  "0"
                ],
                [
                  "21762",
                  "1"
                ],
                [
                  "21763",
                  "1"
                ],
                [
                  "21764",
                  "0"
                ],
                [
                  "21765",
                  "1"
                ],
                [
                  "21766",
                  "1"
                ],
                [
                  "21767",
                  "1"
                ],
                [
                  "21768",
                  "0"
                ],
                [
                  "21769",
                  "0"
                ],
                [
                  "21770",
                  "0"
                ],
                [
                  "21771",
                  "0"
                ],
                [
                  "21772",
                  "0"
                ],
                [
                  "21773",
                  "1"
                ],
                [
                  "21774",
                  "0"
                ],
                [
                  "21775",
                  "0"
                ],
                [
                  "21776",
                  "1"
                ],
                [
                  "21777",
                  "1"
                ],
                [
                  "21778",
                  "1"
                ],
                [
                  "21779",
                  "0"
                ],
                [
                  "21780",
                  "0"
                ],
                [
                  "21781",
                  "0"
                ],
                [
                  "21782",
                  "1"
                ],
                [
                  "21783",
                  "1"
                ],
                [
                  "21784",
                  "0"
                ],
                [
                  "21785",
                  "1"
                ],
                [
                  "21786",
                  "1"
                ],
                [
                  "21787",
                  "1"
                ],
                [
                  "21788",
                  "1"
                ],
                [
                  "21789",
                  "0"
                ],
                [
                  "21790",
                  "1"
                ],
                [
                  "21791",
                  "0"
                ],
                [
                  "21792",
                  "1"
                ],
                [
                  "21793",
                  "1"
                ],
                [
                  "21794",
                  "1"
                ],
                [
                  "21795",
                  "0"
                ],
                [
                  "21796",
                  "1"
                ],
                [
                  "21797",
                  "0"
                ],
                [
                  "21798",
                  "1"
                ],
                [
                  "21799",
                  "1"
                ]
              ],
              "plotOptions": {
                "displayType": "table",
                "customPlotOptions": {},
                "pivotColumns": null,
                "pivotAggregation": null,
                "xColumns": null,
                "yColumns": null
              },
              "columnCustomDisplayInfos": {},
              "aggType": "",
              "isJsonSchema": true,
              "removedWidgets": [],
              "aggSchema": [],
              "schema": [
                {
                  "name": "id",
                  "type": "\"string\"",
                  "metadata": "{}"
                },
                {
                  "name": "label",
                  "type": "\"string\"",
                  "metadata": "{}"
                }
              ],
              "aggError": "",
              "aggData": [],
              "addedWidgets": {},
              "metadata": {},
              "dbfsResultPath": null,
              "type": "table",
              "aggOverflow": false,
              "aggSeriesLimitReached": false,
              "arguments": {}
            }
          },
          "data": {
            "text/html": [
              "<style scoped>\n  .table-result-container {\n    max-height: 300px;\n    overflow: auto;\n  }\n  table, th, td {\n    border: 1px solid black;\n    border-collapse: collapse;\n  }\n  th, td {\n    padding: 5px;\n  }\n  th {\n    text-align: left;\n  }\n</style><div class='table-result-container'><table class='table-result'><thead style='background-color: white'><tr><th>id</th><th>label</th></tr></thead><tbody><tr><td>20800</td><td>0</td></tr><tr><td>20801</td><td>1</td></tr><tr><td>20802</td><td>0</td></tr><tr><td>20803</td><td>1</td></tr><tr><td>20804</td><td>1</td></tr><tr><td>20805</td><td>1</td></tr><tr><td>20806</td><td>1</td></tr><tr><td>20807</td><td>1</td></tr><tr><td>20808</td><td>0</td></tr><tr><td>20809</td><td>1</td></tr><tr><td>20810</td><td>0</td></tr><tr><td>20811</td><td>1</td></tr><tr><td>20812</td><td>0</td></tr><tr><td>20813</td><td>1</td></tr><tr><td>20814</td><td>1</td></tr><tr><td>20815</td><td>0</td></tr><tr><td>20816</td><td>0</td></tr><tr><td>20817</td><td>1</td></tr><tr><td>20818</td><td>1</td></tr><tr><td>20819</td><td>1</td></tr><tr><td>20820</td><td>1</td></tr><tr><td>20821</td><td>1</td></tr><tr><td>20822</td><td>0</td></tr><tr><td>20823</td><td>1</td></tr><tr><td>20824</td><td>1</td></tr><tr><td>20825</td><td>0</td></tr><tr><td>20826</td><td>1</td></tr><tr><td>20827</td><td>0</td></tr><tr><td>20828</td><td>0</td></tr><tr><td>20829</td><td>1</td></tr><tr><td>20830</td><td>1</td></tr><tr><td>20831</td><td>1</td></tr><tr><td>20832</td><td>0</td></tr><tr><td>20833</td><td>0</td></tr><tr><td>20834</td><td>1</td></tr><tr><td>20835</td><td>0</td></tr><tr><td>20836</td><td>1</td></tr><tr><td>20837</td><td>1</td></tr><tr><td>20838</td><td>0</td></tr><tr><td>20839</td><td>0</td></tr><tr><td>20840</td><td>0</td></tr><tr><td>20841</td><td>1</td></tr><tr><td>20842</td><td>1</td></tr><tr><td>20843</td><td>1</td></tr><tr><td>20844</td><td>0</td></tr><tr><td>20845</td><td>1</td></tr><tr><td>20846</td><td>1</td></tr><tr><td>20847</td><td>0</td></tr><tr><td>20848</td><td>1</td></tr><tr><td>20849</td><td>1</td></tr><tr><td>20850</td><td>0</td></tr><tr><td>20851</td><td>0</td></tr><tr><td>20852</td><td>0</td></tr><tr><td>20853</td><td>1</td></tr><tr><td>20854</td><td>1</td></tr><tr><td>20855</td><td>0</td></tr><tr><td>20856</td><td>1</td></tr><tr><td>20857</td><td>0</td></tr><tr><td>20858</td><td>0</td></tr><tr><td>20859</td><td>1</td></tr><tr><td>20860</td><td>1</td></tr><tr><td>20861</td><td>0</td></tr><tr><td>20862</td><td>0</td></tr><tr><td>20863</td><td>1</td></tr><tr><td>20864</td><td>1</td></tr><tr><td>20865</td><td>1</td></tr><tr><td>20866</td><td>0</td></tr><tr><td>20867</td><td>1</td></tr><tr><td>20868</td><td>0</td></tr><tr><td>20869</td><td>1</td></tr><tr><td>20870</td><td>1</td></tr><tr><td>20871</td><td>1</td></tr><tr><td>20872</td><td>0</td></tr><tr><td>20873</td><td>1</td></tr><tr><td>20874</td><td>0</td></tr><tr><td>20875</td><td>0</td></tr><tr><td>20876</td><td>0</td></tr><tr><td>20877</td><td>0</td></tr><tr><td>20878</td><td>1</td></tr><tr><td>20879</td><td>1</td></tr><tr><td>20880</td><td>0</td></tr><tr><td>20881</td><td>1</td></tr><tr><td>20882</td><td>1</td></tr><tr><td>20883</td><td>1</td></tr><tr><td>20884</td><td>0</td></tr><tr><td>20885</td><td>0</td></tr><tr><td>20886</td><td>1</td></tr><tr><td>20887</td><td>0</td></tr><tr><td>20888</td><td>0</td></tr><tr><td>20889</td><td>1</td></tr><tr><td>20890</td><td>1</td></tr><tr><td>20891</td><td>0</td></tr><tr><td>20892</td><td>0</td></tr><tr><td>20893</td><td>1</td></tr><tr><td>20894</td><td>1</td></tr><tr><td>20895</td><td>0</td></tr><tr><td>20896</td><td>0</td></tr><tr><td>20897</td><td>1</td></tr><tr><td>20898</td><td>0</td></tr><tr><td>20899</td><td>0</td></tr><tr><td>20900</td><td>1</td></tr><tr><td>20901</td><td>1</td></tr><tr><td>20902</td><td>1</td></tr><tr><td>20903</td><td>0</td></tr><tr><td>20904</td><td>0</td></tr><tr><td>20905</td><td>0</td></tr><tr><td>20906</td><td>0</td></tr><tr><td>20907</td><td>0</td></tr><tr><td>20908</td><td>1</td></tr><tr><td>20909</td><td>1</td></tr><tr><td>20910</td><td>0</td></tr><tr><td>20911</td><td>1</td></tr><tr><td>20912</td><td>1</td></tr><tr><td>20913</td><td>0</td></tr><tr><td>20914</td><td>1</td></tr><tr><td>20915</td><td>1</td></tr><tr><td>20916</td><td>0</td></tr><tr><td>20917</td><td>0</td></tr><tr><td>20918</td><td>1</td></tr><tr><td>20919</td><td>1</td></tr><tr><td>20920</td><td>1</td></tr><tr><td>20921</td><td>1</td></tr><tr><td>20922</td><td>1</td></tr><tr><td>20923</td><td>1</td></tr><tr><td>20924</td><td>1</td></tr><tr><td>20925</td><td>1</td></tr><tr><td>20926</td><td>1</td></tr><tr><td>20927</td><td>1</td></tr><tr><td>20928</td><td>1</td></tr><tr><td>20929</td><td>0</td></tr><tr><td>20930</td><td>1</td></tr><tr><td>20931</td><td>0</td></tr><tr><td>20932</td><td>1</td></tr><tr><td>20933</td><td>1</td></tr><tr><td>20934</td><td>1</td></tr><tr><td>20935</td><td>0</td></tr><tr><td>20936</td><td>0</td></tr><tr><td>20937</td><td>0</td></tr><tr><td>20938</td><td>0</td></tr><tr><td>20939</td><td>1</td></tr><tr><td>20940</td><td>1</td></tr><tr><td>20941</td><td>1</td></tr><tr><td>20942</td><td>0</td></tr><tr><td>20943</td><td>1</td></tr><tr><td>20944</td><td>1</td></tr><tr><td>20945</td><td>0</td></tr><tr><td>20946</td><td>1</td></tr><tr><td>20947</td><td>1</td></tr><tr><td>20948</td><td>0</td></tr><tr><td>20949</td><td>0</td></tr><tr><td>20950</td><td>1</td></tr><tr><td>20951</td><td>1</td></tr><tr><td>20952</td><td>0</td></tr><tr><td>20953</td><td>1</td></tr><tr><td>20954</td><td>0</td></tr><tr><td>20955</td><td>1</td></tr><tr><td>20956</td><td>1</td></tr><tr><td>20957</td><td>1</td></tr><tr><td>20958</td><td>0</td></tr><tr><td>20959</td><td>1</td></tr><tr><td>20960</td><td>1</td></tr><tr><td>20961</td><td>1</td></tr><tr><td>20962</td><td>1</td></tr><tr><td>20963</td><td>0</td></tr><tr><td>20964</td><td>0</td></tr><tr><td>20965</td><td>1</td></tr><tr><td>20966</td><td>1</td></tr><tr><td>20967</td><td>1</td></tr><tr><td>20968</td><td>1</td></tr><tr><td>20969</td><td>1</td></tr><tr><td>20970</td><td>1</td></tr><tr><td>20971</td><td>0</td></tr><tr><td>20972</td><td>1</td></tr><tr><td>20973</td><td>0</td></tr><tr><td>20974</td><td>0</td></tr><tr><td>20975</td><td>1</td></tr><tr><td>20976</td><td>0</td></tr><tr><td>20977</td><td>1</td></tr><tr><td>20978</td><td>1</td></tr><tr><td>20979</td><td>1</td></tr><tr><td>20980</td><td>0</td></tr><tr><td>20981</td><td>1</td></tr><tr><td>20982</td><td>1</td></tr><tr><td>20983</td><td>1</td></tr><tr><td>20984</td><td>0</td></tr><tr><td>20985</td><td>1</td></tr><tr><td>20986</td><td>0</td></tr><tr><td>20987</td><td>0</td></tr><tr><td>20988</td><td>1</td></tr><tr><td>20989</td><td>1</td></tr><tr><td>20990</td><td>1</td></tr><tr><td>20991</td><td>1</td></tr><tr><td>20992</td><td>0</td></tr><tr><td>20993</td><td>1</td></tr><tr><td>20994</td><td>1</td></tr><tr><td>20995</td><td>0</td></tr><tr><td>20996</td><td>0</td></tr><tr><td>20997</td><td>1</td></tr><tr><td>20998</td><td>1</td></tr><tr><td>20999</td><td>1</td></tr><tr><td>21000</td><td>0</td></tr><tr><td>21001</td><td>1</td></tr><tr><td>21002</td><td>1</td></tr><tr><td>21003</td><td>1</td></tr><tr><td>21004</td><td>1</td></tr><tr><td>21005</td><td>1</td></tr><tr><td>21006</td><td>1</td></tr><tr><td>21007</td><td>0</td></tr><tr><td>21008</td><td>1</td></tr><tr><td>21009</td><td>1</td></tr><tr><td>21010</td><td>0</td></tr><tr><td>21011</td><td>1</td></tr><tr><td>21012</td><td>1</td></tr><tr><td>21013</td><td>1</td></tr><tr><td>21014</td><td>0</td></tr><tr><td>21015</td><td>1</td></tr><tr><td>21016</td><td>1</td></tr><tr><td>21017</td><td>0</td></tr><tr><td>21018</td><td>0</td></tr><tr><td>21019</td><td>0</td></tr><tr><td>21020</td><td>0</td></tr><tr><td>21021</td><td>1</td></tr><tr><td>21022</td><td>0</td></tr><tr><td>21023</td><td>1</td></tr><tr><td>21024</td><td>0</td></tr><tr><td>21025</td><td>1</td></tr><tr><td>21026</td><td>1</td></tr><tr><td>21027</td><td>1</td></tr><tr><td>21028</td><td>0</td></tr><tr><td>21029</td><td>0</td></tr><tr><td>21030</td><td>0</td></tr><tr><td>21031</td><td>0</td></tr><tr><td>21032</td><td>0</td></tr><tr><td>21033</td><td>1</td></tr><tr><td>21034</td><td>1</td></tr><tr><td>21035</td><td>1</td></tr><tr><td>21036</td><td>0</td></tr><tr><td>21037</td><td>0</td></tr><tr><td>21038</td><td>1</td></tr><tr><td>21039</td><td>1</td></tr><tr><td>21040</td><td>1</td></tr><tr><td>21041</td><td>0</td></tr><tr><td>21042</td><td>0</td></tr><tr><td>21043</td><td>1</td></tr><tr><td>21044</td><td>0</td></tr><tr><td>21045</td><td>1</td></tr><tr><td>21046</td><td>1</td></tr><tr><td>21047</td><td>1</td></tr><tr><td>21048</td><td>0</td></tr><tr><td>21049</td><td>1</td></tr><tr><td>21050</td><td>1</td></tr><tr><td>21051</td><td>1</td></tr><tr><td>21052</td><td>0</td></tr><tr><td>21053</td><td>0</td></tr><tr><td>21054</td><td>0</td></tr><tr><td>21055</td><td>1</td></tr><tr><td>21056</td><td>1</td></tr><tr><td>21057</td><td>1</td></tr><tr><td>21058</td><td>1</td></tr><tr><td>21059</td><td>1</td></tr><tr><td>21060</td><td>1</td></tr><tr><td>21061</td><td>1</td></tr><tr><td>21062</td><td>1</td></tr><tr><td>21063</td><td>1</td></tr><tr><td>21064</td><td>1</td></tr><tr><td>21065</td><td>1</td></tr><tr><td>21066</td><td>1</td></tr><tr><td>21067</td><td>1</td></tr><tr><td>21068</td><td>0</td></tr><tr><td>21069</td><td>1</td></tr><tr><td>21070</td><td>0</td></tr><tr><td>21071</td><td>1</td></tr><tr><td>21072</td><td>0</td></tr><tr><td>21073</td><td>1</td></tr><tr><td>21074</td><td>0</td></tr><tr><td>21075</td><td>0</td></tr><tr><td>21076</td><td>0</td></tr><tr><td>21077</td><td>0</td></tr><tr><td>21078</td><td>0</td></tr><tr><td>21079</td><td>0</td></tr><tr><td>21080</td><td>1</td></tr><tr><td>21081</td><td>1</td></tr><tr><td>21082</td><td>1</td></tr><tr><td>21083</td><td>1</td></tr><tr><td>21084</td><td>1</td></tr><tr><td>21085</td><td>0</td></tr><tr><td>21086</td><td>0</td></tr><tr><td>21087</td><td>0</td></tr><tr><td>21088</td><td>1</td></tr><tr><td>21089</td><td>1</td></tr><tr><td>21090</td><td>0</td></tr><tr><td>21091</td><td>1</td></tr><tr><td>21092</td><td>0</td></tr><tr><td>21093</td><td>1</td></tr><tr><td>21094</td><td>0</td></tr><tr><td>21095</td><td>0</td></tr><tr><td>21096</td><td>1</td></tr><tr><td>21097</td><td>1</td></tr><tr><td>21098</td><td>1</td></tr><tr><td>21099</td><td>0</td></tr><tr><td>21100</td><td>1</td></tr><tr><td>21101</td><td>0</td></tr><tr><td>21102</td><td>0</td></tr><tr><td>21103</td><td>1</td></tr><tr><td>21104</td><td>1</td></tr><tr><td>21105</td><td>0</td></tr><tr><td>21106</td><td>1</td></tr><tr><td>21107</td><td>1</td></tr><tr><td>21108</td><td>0</td></tr><tr><td>21109</td><td>0</td></tr><tr><td>21110</td><td>1</td></tr><tr><td>21111</td><td>0</td></tr><tr><td>21112</td><td>1</td></tr><tr><td>21113</td><td>0</td></tr><tr><td>21114</td><td>1</td></tr><tr><td>21115</td><td>1</td></tr><tr><td>21116</td><td>0</td></tr><tr><td>21117</td><td>1</td></tr><tr><td>21118</td><td>0</td></tr><tr><td>21119</td><td>0</td></tr><tr><td>21120</td><td>0</td></tr><tr><td>21121</td><td>0</td></tr><tr><td>21122</td><td>0</td></tr><tr><td>21123</td><td>1</td></tr><tr><td>21124</td><td>0</td></tr><tr><td>21125</td><td>1</td></tr><tr><td>21126</td><td>1</td></tr><tr><td>21127</td><td>0</td></tr><tr><td>21128</td><td>0</td></tr><tr><td>21129</td><td>1</td></tr><tr><td>21130</td><td>0</td></tr><tr><td>21131</td><td>1</td></tr><tr><td>21132</td><td>1</td></tr><tr><td>21133</td><td>1</td></tr><tr><td>21134</td><td>0</td></tr><tr><td>21135</td><td>1</td></tr><tr><td>21136</td><td>0</td></tr><tr><td>21137</td><td>1</td></tr><tr><td>21138</td><td>0</td></tr><tr><td>21139</td><td>1</td></tr><tr><td>21140</td><td>1</td></tr><tr><td>21141</td><td>1</td></tr><tr><td>21142</td><td>1</td></tr><tr><td>21143</td><td>0</td></tr><tr><td>21144</td><td>1</td></tr><tr><td>21145</td><td>0</td></tr><tr><td>21146</td><td>1</td></tr><tr><td>21147</td><td>1</td></tr><tr><td>21148</td><td>1</td></tr><tr><td>21149</td><td>1</td></tr><tr><td>21150</td><td>0</td></tr><tr><td>21151</td><td>0</td></tr><tr><td>21152</td><td>1</td></tr><tr><td>21153</td><td>0</td></tr><tr><td>21154</td><td>0</td></tr><tr><td>21155</td><td>1</td></tr><tr><td>21156</td><td>1</td></tr><tr><td>21157</td><td>0</td></tr><tr><td>21158</td><td>1</td></tr><tr><td>21159</td><td>0</td></tr><tr><td>21160</td><td>0</td></tr><tr><td>21161</td><td>0</td></tr><tr><td>21162</td><td>1</td></tr><tr><td>21163</td><td>0</td></tr><tr><td>21164</td><td>1</td></tr><tr><td>21165</td><td>0</td></tr><tr><td>21166</td><td>1</td></tr><tr><td>21167</td><td>1</td></tr><tr><td>21168</td><td>1</td></tr><tr><td>21169</td><td>0</td></tr><tr><td>21170</td><td>0</td></tr><tr><td>21171</td><td>0</td></tr><tr><td>21172</td><td>1</td></tr><tr><td>21173</td><td>0</td></tr><tr><td>21174</td><td>0</td></tr><tr><td>21175</td><td>0</td></tr><tr><td>21176</td><td>1</td></tr><tr><td>21177</td><td>0</td></tr><tr><td>21178</td><td>0</td></tr><tr><td>21179</td><td>0</td></tr><tr><td>21180</td><td>0</td></tr><tr><td>21181</td><td>0</td></tr><tr><td>21182</td><td>0</td></tr><tr><td>21183</td><td>1</td></tr><tr><td>21184</td><td>1</td></tr><tr><td>21185</td><td>1</td></tr><tr><td>21186</td><td>0</td></tr><tr><td>21187</td><td>1</td></tr><tr><td>21188</td><td>1</td></tr><tr><td>21189</td><td>0</td></tr><tr><td>21190</td><td>0</td></tr><tr><td>21191</td><td>1</td></tr><tr><td>21192</td><td>0</td></tr><tr><td>21193</td><td>1</td></tr><tr><td>21194</td><td>1</td></tr><tr><td>21195</td><td>1</td></tr><tr><td>21196</td><td>1</td></tr><tr><td>21197</td><td>1</td></tr><tr><td>21198</td><td>1</td></tr><tr><td>21199</td><td>1</td></tr><tr><td>21200</td><td>0</td></tr><tr><td>21201</td><td>1</td></tr><tr><td>21202</td><td>1</td></tr><tr><td>21203</td><td>1</td></tr><tr><td>21204</td><td>1</td></tr><tr><td>21205</td><td>0</td></tr><tr><td>21206</td><td>1</td></tr><tr><td>21207</td><td>0</td></tr><tr><td>21208</td><td>0</td></tr><tr><td>21209</td><td>1</td></tr><tr><td>21210</td><td>0</td></tr><tr><td>21211</td><td>1</td></tr><tr><td>21212</td><td>1</td></tr><tr><td>21213</td><td>0</td></tr><tr><td>21214</td><td>1</td></tr><tr><td>21215</td><td>0</td></tr><tr><td>21216</td><td>0</td></tr><tr><td>21217</td><td>0</td></tr><tr><td>21218</td><td>1</td></tr><tr><td>21219</td><td>1</td></tr><tr><td>21220</td><td>0</td></tr><tr><td>21221</td><td>0</td></tr><tr><td>21222</td><td>0</td></tr><tr><td>21223</td><td>1</td></tr><tr><td>21224</td><td>0</td></tr><tr><td>21225</td><td>0</td></tr><tr><td>21226</td><td>1</td></tr><tr><td>21227</td><td>1</td></tr><tr><td>21228</td><td>0</td></tr><tr><td>21229</td><td>1</td></tr><tr><td>21230</td><td>0</td></tr><tr><td>21231</td><td>0</td></tr><tr><td>21232</td><td>0</td></tr><tr><td>21233</td><td>1</td></tr><tr><td>21234</td><td>0</td></tr><tr><td>21235</td><td>0</td></tr><tr><td>21236</td><td>0</td></tr><tr><td>21237</td><td>1</td></tr><tr><td>21238</td><td>1</td></tr><tr><td>21239</td><td>1</td></tr><tr><td>21240</td><td>1</td></tr><tr><td>21241</td><td>0</td></tr><tr><td>21242</td><td>0</td></tr><tr><td>21243</td><td>1</td></tr><tr><td>21244</td><td>0</td></tr><tr><td>21245</td><td>0</td></tr><tr><td>21246</td><td>1</td></tr><tr><td>21247</td><td>1</td></tr><tr><td>21248</td><td>1</td></tr><tr><td>21249</td><td>1</td></tr><tr><td>21250</td><td>1</td></tr><tr><td>21251</td><td>0</td></tr><tr><td>21252</td><td>1</td></tr><tr><td>21253</td><td>1</td></tr><tr><td>21254</td><td>1</td></tr><tr><td>21255</td><td>0</td></tr><tr><td>21256</td><td>0</td></tr><tr><td>21257</td><td>1</td></tr><tr><td>21258</td><td>0</td></tr><tr><td>21259</td><td>0</td></tr><tr><td>21260</td><td>1</td></tr><tr><td>21261</td><td>1</td></tr><tr><td>21262</td><td>0</td></tr><tr><td>21263</td><td>0</td></tr><tr><td>21264</td><td>1</td></tr><tr><td>21265</td><td>0</td></tr><tr><td>21266</td><td>0</td></tr><tr><td>21267</td><td>0</td></tr><tr><td>21268</td><td>0</td></tr><tr><td>21269</td><td>1</td></tr><tr><td>21270</td><td>0</td></tr><tr><td>21271</td><td>1</td></tr><tr><td>21272</td><td>0</td></tr><tr><td>21273</td><td>0</td></tr><tr><td>21274</td><td>1</td></tr><tr><td>21275</td><td>0</td></tr><tr><td>21276</td><td>0</td></tr><tr><td>21277</td><td>0</td></tr><tr><td>21278</td><td>0</td></tr><tr><td>21279</td><td>1</td></tr><tr><td>21280</td><td>1</td></tr><tr><td>21281</td><td>1</td></tr><tr><td>21282</td><td>1</td></tr><tr><td>21283</td><td>1</td></tr><tr><td>21284</td><td>1</td></tr><tr><td>21285</td><td>1</td></tr><tr><td>21286</td><td>1</td></tr><tr><td>21287</td><td>1</td></tr><tr><td>21288</td><td>1</td></tr><tr><td>21289</td><td>0</td></tr><tr><td>21290</td><td>0</td></tr><tr><td>21291</td><td>1</td></tr><tr><td>21292</td><td>0</td></tr><tr><td>21293</td><td>0</td></tr><tr><td>21294</td><td>1</td></tr><tr><td>21295</td><td>0</td></tr><tr><td>21296</td><td>0</td></tr><tr><td>21297</td><td>1</td></tr><tr><td>21298</td><td>1</td></tr><tr><td>21299</td><td>1</td></tr><tr><td>21300</td><td>0</td></tr><tr><td>21301</td><td>1</td></tr><tr><td>21302</td><td>0</td></tr><tr><td>21303</td><td>0</td></tr><tr><td>21304</td><td>1</td></tr><tr><td>21305</td><td>1</td></tr><tr><td>21306</td><td>1</td></tr><tr><td>21307</td><td>0</td></tr><tr><td>21308</td><td>0</td></tr><tr><td>21309</td><td>1</td></tr><tr><td>21310</td><td>1</td></tr><tr><td>21311</td><td>1</td></tr><tr><td>21312</td><td>1</td></tr><tr><td>21313</td><td>0</td></tr><tr><td>21314</td><td>0</td></tr><tr><td>21315</td><td>1</td></tr><tr><td>21316</td><td>0</td></tr><tr><td>21317</td><td>0</td></tr><tr><td>21318</td><td>1</td></tr><tr><td>21319</td><td>0</td></tr><tr><td>21320</td><td>0</td></tr><tr><td>21321</td><td>1</td></tr><tr><td>21322</td><td>1</td></tr><tr><td>21323</td><td>0</td></tr><tr><td>21324</td><td>0</td></tr><tr><td>21325</td><td>1</td></tr><tr><td>21326</td><td>0</td></tr><tr><td>21327</td><td>0</td></tr><tr><td>21328</td><td>1</td></tr><tr><td>21329</td><td>1</td></tr><tr><td>21330</td><td>1</td></tr><tr><td>21331</td><td>1</td></tr><tr><td>21332</td><td>0</td></tr><tr><td>21333</td><td>0</td></tr><tr><td>21334</td><td>0</td></tr><tr><td>21335</td><td>1</td></tr><tr><td>21336</td><td>0</td></tr><tr><td>21337</td><td>0</td></tr><tr><td>21338</td><td>1</td></tr><tr><td>21339</td><td>0</td></tr><tr><td>21340</td><td>0</td></tr><tr><td>21341</td><td>0</td></tr><tr><td>21342</td><td>0</td></tr><tr><td>21343</td><td>1</td></tr><tr><td>21344</td><td>1</td></tr><tr><td>21345</td><td>1</td></tr><tr><td>21346</td><td>0</td></tr><tr><td>21347</td><td>0</td></tr><tr><td>21348</td><td>0</td></tr><tr><td>21349</td><td>0</td></tr><tr><td>21350</td><td>0</td></tr><tr><td>21351</td><td>1</td></tr><tr><td>21352</td><td>1</td></tr><tr><td>21353</td><td>0</td></tr><tr><td>21354</td><td>1</td></tr><tr><td>21355</td><td>1</td></tr><tr><td>21356</td><td>1</td></tr><tr><td>21357</td><td>1</td></tr><tr><td>21358</td><td>0</td></tr><tr><td>21359</td><td>0</td></tr><tr><td>21360</td><td>0</td></tr><tr><td>21361</td><td>1</td></tr><tr><td>21362</td><td>1</td></tr><tr><td>21363</td><td>0</td></tr><tr><td>21364</td><td>0</td></tr><tr><td>21365</td><td>1</td></tr><tr><td>21366</td><td>1</td></tr><tr><td>21367</td><td>0</td></tr><tr><td>21368</td><td>1</td></tr><tr><td>21369</td><td>0</td></tr><tr><td>21370</td><td>0</td></tr><tr><td>21371</td><td>0</td></tr><tr><td>21372</td><td>1</td></tr><tr><td>21373</td><td>0</td></tr><tr><td>21374</td><td>0</td></tr><tr><td>21375</td><td>0</td></tr><tr><td>21376</td><td>1</td></tr><tr><td>21377</td><td>0</td></tr><tr><td>21378</td><td>1</td></tr><tr><td>21379</td><td>1</td></tr><tr><td>21380</td><td>1</td></tr><tr><td>21381</td><td>0</td></tr><tr><td>21382</td><td>0</td></tr><tr><td>21383</td><td>1</td></tr><tr><td>21384</td><td>0</td></tr><tr><td>21385</td><td>1</td></tr><tr><td>21386</td><td>1</td></tr><tr><td>21387</td><td>0</td></tr><tr><td>21388</td><td>0</td></tr><tr><td>21389</td><td>1</td></tr><tr><td>21390</td><td>0</td></tr><tr><td>21391</td><td>0</td></tr><tr><td>21392</td><td>0</td></tr><tr><td>21393</td><td>0</td></tr><tr><td>21394</td><td>0</td></tr><tr><td>21395</td><td>0</td></tr><tr><td>21396</td><td>1</td></tr><tr><td>21397</td><td>1</td></tr><tr><td>21398</td><td>1</td></tr><tr><td>21399</td><td>1</td></tr><tr><td>21400</td><td>1</td></tr><tr><td>21401</td><td>1</td></tr><tr><td>21402</td><td>1</td></tr><tr><td>21403</td><td>0</td></tr><tr><td>21404</td><td>0</td></tr><tr><td>21405</td><td>1</td></tr><tr><td>21406</td><td>0</td></tr><tr><td>21407</td><td>0</td></tr><tr><td>21408</td><td>0</td></tr><tr><td>21409</td><td>1</td></tr><tr><td>21410</td><td>0</td></tr><tr><td>21411</td><td>1</td></tr><tr><td>21412</td><td>0</td></tr><tr><td>21413</td><td>0</td></tr><tr><td>21414</td><td>0</td></tr><tr><td>21415</td><td>1</td></tr><tr><td>21416</td><td>1</td></tr><tr><td>21417</td><td>1</td></tr><tr><td>21418</td><td>0</td></tr><tr><td>21419</td><td>1</td></tr><tr><td>21420</td><td>0</td></tr><tr><td>21421</td><td>0</td></tr><tr><td>21422</td><td>1</td></tr><tr><td>21423</td><td>0</td></tr><tr><td>21424</td><td>0</td></tr><tr><td>21425</td><td>1</td></tr><tr><td>21426</td><td>1</td></tr><tr><td>21427</td><td>1</td></tr><tr><td>21428</td><td>1</td></tr><tr><td>21429</td><td>0</td></tr><tr><td>21430</td><td>1</td></tr><tr><td>21431</td><td>0</td></tr><tr><td>21432</td><td>1</td></tr><tr><td>21433</td><td>1</td></tr><tr><td>21434</td><td>1</td></tr><tr><td>21435</td><td>1</td></tr><tr><td>21436</td><td>1</td></tr><tr><td>21437</td><td>0</td></tr><tr><td>21438</td><td>0</td></tr><tr><td>21439</td><td>1</td></tr><tr><td>21440</td><td>0</td></tr><tr><td>21441</td><td>0</td></tr><tr><td>21442</td><td>1</td></tr><tr><td>21443</td><td>0</td></tr><tr><td>21444</td><td>1</td></tr><tr><td>21445</td><td>1</td></tr><tr><td>21446</td><td>1</td></tr><tr><td>21447</td><td>0</td></tr><tr><td>21448</td><td>1</td></tr><tr><td>21449</td><td>0</td></tr><tr><td>21450</td><td>1</td></tr><tr><td>21451</td><td>0</td></tr><tr><td>21452</td><td>1</td></tr><tr><td>21453</td><td>1</td></tr><tr><td>21454</td><td>0</td></tr><tr><td>21455</td><td>0</td></tr><tr><td>21456</td><td>0</td></tr><tr><td>21457</td><td>1</td></tr><tr><td>21458</td><td>0</td></tr><tr><td>21459</td><td>1</td></tr><tr><td>21460</td><td>1</td></tr><tr><td>21461</td><td>1</td></tr><tr><td>21462</td><td>1</td></tr><tr><td>21463</td><td>1</td></tr><tr><td>21464</td><td>0</td></tr><tr><td>21465</td><td>0</td></tr><tr><td>21466</td><td>0</td></tr><tr><td>21467</td><td>0</td></tr><tr><td>21468</td><td>0</td></tr><tr><td>21469</td><td>0</td></tr><tr><td>21470</td><td>1</td></tr><tr><td>21471</td><td>1</td></tr><tr><td>21472</td><td>1</td></tr><tr><td>21473</td><td>1</td></tr><tr><td>21474</td><td>0</td></tr><tr><td>21475</td><td>0</td></tr><tr><td>21476</td><td>1</td></tr><tr><td>21477</td><td>0</td></tr><tr><td>21478</td><td>1</td></tr><tr><td>21479</td><td>1</td></tr><tr><td>21480</td><td>1</td></tr><tr><td>21481</td><td>0</td></tr><tr><td>21482</td><td>0</td></tr><tr><td>21483</td><td>1</td></tr><tr><td>21484</td><td>0</td></tr><tr><td>21485</td><td>1</td></tr><tr><td>21486</td><td>1</td></tr><tr><td>21487</td><td>1</td></tr><tr><td>21488</td><td>1</td></tr><tr><td>21489</td><td>1</td></tr><tr><td>21490</td><td>0</td></tr><tr><td>21491</td><td>0</td></tr><tr><td>21492</td><td>1</td></tr><tr><td>21493</td><td>1</td></tr><tr><td>21494</td><td>0</td></tr><tr><td>21495</td><td>1</td></tr><tr><td>21496</td><td>1</td></tr><tr><td>21497</td><td>1</td></tr><tr><td>21498</td><td>1</td></tr><tr><td>21499</td><td>1</td></tr><tr><td>21500</td><td>1</td></tr><tr><td>21501</td><td>0</td></tr><tr><td>21502</td><td>1</td></tr><tr><td>21503</td><td>0</td></tr><tr><td>21504</td><td>1</td></tr><tr><td>21505</td><td>1</td></tr><tr><td>21506</td><td>1</td></tr><tr><td>21507</td><td>1</td></tr><tr><td>21508</td><td>1</td></tr><tr><td>21509</td><td>1</td></tr><tr><td>21510</td><td>0</td></tr><tr><td>21511</td><td>1</td></tr><tr><td>21512</td><td>1</td></tr><tr><td>21513</td><td>1</td></tr><tr><td>21514</td><td>1</td></tr><tr><td>21515</td><td>0</td></tr><tr><td>21516</td><td>0</td></tr><tr><td>21517</td><td>1</td></tr><tr><td>21518</td><td>1</td></tr><tr><td>21519</td><td>1</td></tr><tr><td>21520</td><td>0</td></tr><tr><td>21521</td><td>1</td></tr><tr><td>21522</td><td>0</td></tr><tr><td>21523</td><td>1</td></tr><tr><td>21524</td><td>1</td></tr><tr><td>21525</td><td>0</td></tr><tr><td>21526</td><td>0</td></tr><tr><td>21527</td><td>1</td></tr><tr><td>21528</td><td>1</td></tr><tr><td>21529</td><td>0</td></tr><tr><td>21530</td><td>0</td></tr><tr><td>21531</td><td>1</td></tr><tr><td>21532</td><td>0</td></tr><tr><td>21533</td><td>0</td></tr><tr><td>21534</td><td>0</td></tr><tr><td>21535</td><td>0</td></tr><tr><td>21536</td><td>0</td></tr><tr><td>21537</td><td>1</td></tr><tr><td>21538</td><td>1</td></tr><tr><td>21539</td><td>1</td></tr><tr><td>21540</td><td>1</td></tr><tr><td>21541</td><td>1</td></tr><tr><td>21542</td><td>1</td></tr><tr><td>21543</td><td>0</td></tr><tr><td>21544</td><td>0</td></tr><tr><td>21545</td><td>1</td></tr><tr><td>21546</td><td>1</td></tr><tr><td>21547</td><td>0</td></tr><tr><td>21548</td><td>1</td></tr><tr><td>21549</td><td>1</td></tr><tr><td>21550</td><td>1</td></tr><tr><td>21551</td><td>1</td></tr><tr><td>21552</td><td>0</td></tr><tr><td>21553</td><td>1</td></tr><tr><td>21554</td><td>1</td></tr><tr><td>21555</td><td>1</td></tr><tr><td>21556</td><td>1</td></tr><tr><td>21557</td><td>0</td></tr><tr><td>21558</td><td>0</td></tr><tr><td>21559</td><td>1</td></tr><tr><td>21560</td><td>0</td></tr><tr><td>21561</td><td>0</td></tr><tr><td>21562</td><td>1</td></tr><tr><td>21563</td><td>0</td></tr><tr><td>21564</td><td>1</td></tr><tr><td>21565</td><td>1</td></tr><tr><td>21566</td><td>0</td></tr><tr><td>21567</td><td>1</td></tr><tr><td>21568</td><td>0</td></tr><tr><td>21569</td><td>1</td></tr><tr><td>21570</td><td>0</td></tr><tr><td>21571</td><td>0</td></tr><tr><td>21572</td><td>0</td></tr><tr><td>21573</td><td>0</td></tr><tr><td>21574</td><td>1</td></tr><tr><td>21575</td><td>0</td></tr><tr><td>21576</td><td>0</td></tr><tr><td>21577</td><td>1</td></tr><tr><td>21578</td><td>1</td></tr><tr><td>21579</td><td>0</td></tr><tr><td>21580</td><td>1</td></tr><tr><td>21581</td><td>0</td></tr><tr><td>21582</td><td>1</td></tr><tr><td>21583</td><td>0</td></tr><tr><td>21584</td><td>1</td></tr><tr><td>21585</td><td>0</td></tr><tr><td>21586</td><td>1</td></tr><tr><td>21587</td><td>0</td></tr><tr><td>21588</td><td>1</td></tr><tr><td>21589</td><td>0</td></tr><tr><td>21590</td><td>0</td></tr><tr><td>21591</td><td>1</td></tr><tr><td>21592</td><td>1</td></tr><tr><td>21593</td><td>1</td></tr><tr><td>21594</td><td>1</td></tr><tr><td>21595</td><td>0</td></tr><tr><td>21596</td><td>0</td></tr><tr><td>21597</td><td>1</td></tr><tr><td>21598</td><td>0</td></tr><tr><td>21599</td><td>1</td></tr><tr><td>21600</td><td>0</td></tr><tr><td>21601</td><td>1</td></tr><tr><td>21602</td><td>1</td></tr><tr><td>21603</td><td>0</td></tr><tr><td>21604</td><td>0</td></tr><tr><td>21605</td><td>0</td></tr><tr><td>21606</td><td>0</td></tr><tr><td>21607</td><td>1</td></tr><tr><td>21608</td><td>1</td></tr><tr><td>21609</td><td>0</td></tr><tr><td>21610</td><td>1</td></tr><tr><td>21611</td><td>1</td></tr><tr><td>21612</td><td>1</td></tr><tr><td>21613</td><td>0</td></tr><tr><td>21614</td><td>0</td></tr><tr><td>21615</td><td>1</td></tr><tr><td>21616</td><td>0</td></tr><tr><td>21617</td><td>1</td></tr><tr><td>21618</td><td>0</td></tr><tr><td>21619</td><td>0</td></tr><tr><td>21620</td><td>0</td></tr><tr><td>21621</td><td>1</td></tr><tr><td>21622</td><td>1</td></tr><tr><td>21623</td><td>1</td></tr><tr><td>21624</td><td>1</td></tr><tr><td>21625</td><td>0</td></tr><tr><td>21626</td><td>0</td></tr><tr><td>21627</td><td>1</td></tr><tr><td>21628</td><td>0</td></tr><tr><td>21629</td><td>1</td></tr><tr><td>21630</td><td>0</td></tr><tr><td>21631</td><td>0</td></tr><tr><td>21632</td><td>1</td></tr><tr><td>21633</td><td>1</td></tr><tr><td>21634</td><td>1</td></tr><tr><td>21635</td><td>1</td></tr><tr><td>21636</td><td>1</td></tr><tr><td>21637</td><td>1</td></tr><tr><td>21638</td><td>1</td></tr><tr><td>21639</td><td>1</td></tr><tr><td>21640</td><td>1</td></tr><tr><td>21641</td><td>1</td></tr><tr><td>21642</td><td>0</td></tr><tr><td>21643</td><td>0</td></tr><tr><td>21644</td><td>0</td></tr><tr><td>21645</td><td>1</td></tr><tr><td>21646</td><td>0</td></tr><tr><td>21647</td><td>0</td></tr><tr><td>21648</td><td>0</td></tr><tr><td>21649</td><td>0</td></tr><tr><td>21650</td><td>0</td></tr><tr><td>21651</td><td>1</td></tr><tr><td>21652</td><td>1</td></tr><tr><td>21653</td><td>0</td></tr><tr><td>21654</td><td>1</td></tr><tr><td>21655</td><td>1</td></tr><tr><td>21656</td><td>1</td></tr><tr><td>21657</td><td>1</td></tr><tr><td>21658</td><td>1</td></tr><tr><td>21659</td><td>1</td></tr><tr><td>21660</td><td>1</td></tr><tr><td>21661</td><td>1</td></tr><tr><td>21662</td><td>0</td></tr><tr><td>21663</td><td>1</td></tr><tr><td>21664</td><td>1</td></tr><tr><td>21665</td><td>1</td></tr><tr><td>21666</td><td>1</td></tr><tr><td>21667</td><td>1</td></tr><tr><td>21668</td><td>1</td></tr><tr><td>21669</td><td>1</td></tr><tr><td>21670</td><td>0</td></tr><tr><td>21671</td><td>0</td></tr><tr><td>21672</td><td>0</td></tr><tr><td>21673</td><td>1</td></tr><tr><td>21674</td><td>1</td></tr><tr><td>21675</td><td>1</td></tr><tr><td>21676</td><td>0</td></tr><tr><td>21677</td><td>0</td></tr><tr><td>21678</td><td>1</td></tr><tr><td>21679</td><td>0</td></tr><tr><td>21680</td><td>1</td></tr><tr><td>21681</td><td>0</td></tr><tr><td>21682</td><td>1</td></tr><tr><td>21683</td><td>1</td></tr><tr><td>21684</td><td>1</td></tr><tr><td>21685</td><td>0</td></tr><tr><td>21686</td><td>1</td></tr><tr><td>21687</td><td>1</td></tr><tr><td>21688</td><td>1</td></tr><tr><td>21689</td><td>0</td></tr><tr><td>21690</td><td>0</td></tr><tr><td>21691</td><td>1</td></tr><tr><td>21692</td><td>0</td></tr><tr><td>21693</td><td>0</td></tr><tr><td>21694</td><td>1</td></tr><tr><td>21695</td><td>0</td></tr><tr><td>21696</td><td>0</td></tr><tr><td>21697</td><td>0</td></tr><tr><td>21698</td><td>0</td></tr><tr><td>21699</td><td>0</td></tr><tr><td>21700</td><td>1</td></tr><tr><td>21701</td><td>0</td></tr><tr><td>21702</td><td>1</td></tr><tr><td>21703</td><td>0</td></tr><tr><td>21704</td><td>1</td></tr><tr><td>21705</td><td>1</td></tr><tr><td>21706</td><td>0</td></tr><tr><td>21707</td><td>1</td></tr><tr><td>21708</td><td>0</td></tr><tr><td>21709</td><td>1</td></tr><tr><td>21710</td><td>0</td></tr><tr><td>21711</td><td>1</td></tr><tr><td>21712</td><td>1</td></tr><tr><td>21713</td><td>1</td></tr><tr><td>21714</td><td>1</td></tr><tr><td>21715</td><td>1</td></tr><tr><td>21716</td><td>0</td></tr><tr><td>21717</td><td>0</td></tr><tr><td>21718</td><td>0</td></tr><tr><td>21719</td><td>0</td></tr><tr><td>21720</td><td>0</td></tr><tr><td>21721</td><td>1</td></tr><tr><td>21722</td><td>0</td></tr><tr><td>21723</td><td>0</td></tr><tr><td>21724</td><td>1</td></tr><tr><td>21725</td><td>0</td></tr><tr><td>21726</td><td>1</td></tr><tr><td>21727</td><td>0</td></tr><tr><td>21728</td><td>1</td></tr><tr><td>21729</td><td>1</td></tr><tr><td>21730</td><td>1</td></tr><tr><td>21731</td><td>1</td></tr><tr><td>21732</td><td>1</td></tr><tr><td>21733</td><td>1</td></tr><tr><td>21734</td><td>0</td></tr><tr><td>21735</td><td>1</td></tr><tr><td>21736</td><td>0</td></tr><tr><td>21737</td><td>0</td></tr><tr><td>21738</td><td>0</td></tr><tr><td>21739</td><td>1</td></tr><tr><td>21740</td><td>1</td></tr><tr><td>21741</td><td>1</td></tr><tr><td>21742</td><td>1</td></tr><tr><td>21743</td><td>0</td></tr><tr><td>21744</td><td>0</td></tr><tr><td>21745</td><td>1</td></tr><tr><td>21746</td><td>1</td></tr><tr><td>21747</td><td>1</td></tr><tr><td>21748</td><td>0</td></tr><tr><td>21749</td><td>1</td></tr><tr><td>21750</td><td>0</td></tr><tr><td>21751</td><td>0</td></tr><tr><td>21752</td><td>1</td></tr><tr><td>21753</td><td>1</td></tr><tr><td>21754</td><td>1</td></tr><tr><td>21755</td><td>0</td></tr><tr><td>21756</td><td>1</td></tr><tr><td>21757</td><td>0</td></tr><tr><td>21758</td><td>1</td></tr><tr><td>21759</td><td>0</td></tr><tr><td>21760</td><td>0</td></tr><tr><td>21761</td><td>0</td></tr><tr><td>21762</td><td>1</td></tr><tr><td>21763</td><td>1</td></tr><tr><td>21764</td><td>0</td></tr><tr><td>21765</td><td>1</td></tr><tr><td>21766</td><td>1</td></tr><tr><td>21767</td><td>1</td></tr><tr><td>21768</td><td>0</td></tr><tr><td>21769</td><td>0</td></tr><tr><td>21770</td><td>0</td></tr><tr><td>21771</td><td>0</td></tr><tr><td>21772</td><td>0</td></tr><tr><td>21773</td><td>1</td></tr><tr><td>21774</td><td>0</td></tr><tr><td>21775</td><td>0</td></tr><tr><td>21776</td><td>1</td></tr><tr><td>21777</td><td>1</td></tr><tr><td>21778</td><td>1</td></tr><tr><td>21779</td><td>0</td></tr><tr><td>21780</td><td>0</td></tr><tr><td>21781</td><td>0</td></tr><tr><td>21782</td><td>1</td></tr><tr><td>21783</td><td>1</td></tr><tr><td>21784</td><td>0</td></tr><tr><td>21785</td><td>1</td></tr><tr><td>21786</td><td>1</td></tr><tr><td>21787</td><td>1</td></tr><tr><td>21788</td><td>1</td></tr><tr><td>21789</td><td>0</td></tr><tr><td>21790</td><td>1</td></tr><tr><td>21791</td><td>0</td></tr><tr><td>21792</td><td>1</td></tr><tr><td>21793</td><td>1</td></tr><tr><td>21794</td><td>1</td></tr><tr><td>21795</td><td>0</td></tr><tr><td>21796</td><td>1</td></tr><tr><td>21797</td><td>0</td></tr><tr><td>21798</td><td>1</td></tr><tr><td>21799</td><td>1</td></tr></tbody></table>Showing the first 1000 rows.</div>"
            ]
          },
          "transient": null
        }
      ]
    },
    {
      "cell_type": "code",
      "metadata": {
        "colab": {
          "base_uri": "https://localhost:8080/"
        },
        "id": "3rUzjNDyVz6b",
        "outputId": "9b006830-d44f-400a-84cb-3c226ebbd152"
      },
      "source": [
        "%%time\n",
        "df_submit = pd.read_csv('/content/submit.csv')   \n",
        "# df_submit.columns = [\"id_submit\",\"label\"]\n",
        "\n",
        "\n"
      ],
      "execution_count": null,
      "outputs": [
        {
          "output_type": "stream",
          "name": "stdout",
          "text": [
            "CPU times: user 12.1 ms, sys: 5.93 ms, total: 18 ms\n",
            "Wall time: 33.1 ms\n"
          ]
        }
      ]
    },
    {
      "cell_type": "code",
      "metadata": {
        "colab": {
          "base_uri": "https://localhost:8080/"
        },
        "id": "9VXFzhSRYXR1",
        "outputId": "5bbca291-6065-4314-ec44-1b818cd321fb"
      },
      "source": [
        "%%time\n",
        "df_train = pd.read_csv('/content/train.csv')   \n",
        "# df_train.columns = [\"numero de origen\",\"numero de destino\",\"tipo de llamada\",\"duración de llamada (seg)\",\"numero de llamadas\",\"numero de sms\"]\n"
      ],
      "execution_count": null,
      "outputs": [
        {
          "output_type": "stream",
          "name": "stdout",
          "text": [
            "CPU times: user 145 ms, sys: 69.6 ms, total: 215 ms\n",
            "Wall time: 1.73 s\n"
          ]
        }
      ]
    },
    {
      "cell_type": "code",
      "metadata": {
        "colab": {
          "base_uri": "https://localhost:8080/"
        },
        "id": "8gJ-RhdAYVRI",
        "outputId": "8b5d233f-a37b-46b3-f3cc-b8d3604fae31"
      },
      "source": [
        "%%time\n",
        "df_test = pd.read_csv('/content/test.csv')   \n",
        "# df_test.columns = [\"numero de origen\",\"numero de destino\",\"tipo de llamada\",\"duración de llamada (seg)\",\"numero de llamadas\",\"numero de sms\"]\n"
      ],
      "execution_count": null,
      "outputs": [
        {
          "output_type": "stream",
          "name": "stdout",
          "text": [
            "CPU times: user 47.3 ms, sys: 37.7 ms, total: 84.9 ms\n",
            "Wall time: 446 ms\n"
          ]
        }
      ]
    },
    {
      "cell_type": "code",
      "metadata": {
        "colab": {
          "base_uri": "https://localhost:8080/",
          "height": 534
        },
        "id": "Fs3V_ydNWNtc",
        "outputId": "d76c75aa-f3eb-4cf4-9efb-c01f29d371bd"
      },
      "source": [
        "df_submit"
      ],
      "execution_count": null,
      "outputs": [
        {
          "output_type": "execute_result",
          "data": {
            "text/html": [
              "<div>\n",
              "<style scoped>\n",
              "    .dataframe tbody tr th:only-of-type {\n",
              "        vertical-align: middle;\n",
              "    }\n",
              "\n",
              "    .dataframe tbody tr th {\n",
              "        vertical-align: top;\n",
              "    }\n",
              "\n",
              "    .dataframe thead th {\n",
              "        text-align: right;\n",
              "    }\n",
              "</style>\n",
              "<table border=\"1\" class=\"dataframe\">\n",
              "  <thead>\n",
              "    <tr style=\"text-align: right;\">\n",
              "      <th></th>\n",
              "      <th>id</th>\n",
              "      <th>label</th>\n",
              "    </tr>\n",
              "  </thead>\n",
              "  <tbody>\n",
              "    <tr>\n",
              "      <th>0</th>\n",
              "      <td>20800</td>\n",
              "      <td>0</td>\n",
              "    </tr>\n",
              "    <tr>\n",
              "      <th>1</th>\n",
              "      <td>20801</td>\n",
              "      <td>1</td>\n",
              "    </tr>\n",
              "    <tr>\n",
              "      <th>2</th>\n",
              "      <td>20802</td>\n",
              "      <td>0</td>\n",
              "    </tr>\n",
              "    <tr>\n",
              "      <th>3</th>\n",
              "      <td>20803</td>\n",
              "      <td>1</td>\n",
              "    </tr>\n",
              "    <tr>\n",
              "      <th>4</th>\n",
              "      <td>20804</td>\n",
              "      <td>1</td>\n",
              "    </tr>\n",
              "    <tr>\n",
              "      <th>...</th>\n",
              "      <td>...</td>\n",
              "      <td>...</td>\n",
              "    </tr>\n",
              "    <tr>\n",
              "      <th>5195</th>\n",
              "      <td>25995</td>\n",
              "      <td>0</td>\n",
              "    </tr>\n",
              "    <tr>\n",
              "      <th>5196</th>\n",
              "      <td>25996</td>\n",
              "      <td>1</td>\n",
              "    </tr>\n",
              "    <tr>\n",
              "      <th>5197</th>\n",
              "      <td>25997</td>\n",
              "      <td>0</td>\n",
              "    </tr>\n",
              "    <tr>\n",
              "      <th>5198</th>\n",
              "      <td>25998</td>\n",
              "      <td>1</td>\n",
              "    </tr>\n",
              "    <tr>\n",
              "      <th>5199</th>\n",
              "      <td>25999</td>\n",
              "      <td>0</td>\n",
              "    </tr>\n",
              "  </tbody>\n",
              "</table>\n",
              "<p>5200 rows x 2 columns</p>\n",
              "</div>"
            ],
            "text/plain": [
              "         id  label\n",
              "0     20800      0\n",
              "1     20801      1\n",
              "2     20802      0\n",
              "3     20803      1\n",
              "4     20804      1\n",
              "...     ...    ...\n",
              "5195  25995      0\n",
              "5196  25996      1\n",
              "5197  25997      0\n",
              "5198  25998      1\n",
              "5199  25999      0\n",
              "\n",
              "[5200 rows x 2 columns]"
            ]
          },
          "metadata": {},
          "execution_count": 63
        }
      ]
    },
    {
      "cell_type": "code",
      "metadata": {
        "application/vnd.databricks.v1+cell": {
          "title": "",
          "showTitle": false,
          "inputWidgets": {},
          "nuid": "034c42eb-13d7-4165-900f-545bbb2f3712"
        },
        "id": "_2rHEa2NBIfz",
        "colab": {
          "base_uri": "https://localhost:8080/",
          "height": 106
        },
        "outputId": "bc5527ea-ccd6-453d-f536-326efa326da9"
      },
      "source": [
        "display((df_submit.count(), len(df_submit.columns)))"
      ],
      "execution_count": null,
      "outputs": [
        {
          "output_type": "display_data",
          "data": {
            "text/plain": [
              "(id_submit    5200\n",
              " label        5200\n",
              " dtype: int64,\n",
              " 2)"
            ]
          },
          "metadata": {}
        }
      ]
    },
    {
      "cell_type": "code",
      "metadata": {
        "application/vnd.databricks.v1+cell": {
          "title": "",
          "showTitle": false,
          "inputWidgets": {},
          "nuid": "85c0bcfe-097a-44cc-bde5-09d4468846a5"
        },
        "id": "0eCn4aR8BIf8",
        "colab": {
          "base_uri": "https://localhost:8080/",
          "height": 534
        },
        "outputId": "1f01c2e3-1fa6-4b4f-a327-8edf2f19b7cc"
      },
      "source": [
        "display(df_test)"
      ],
      "execution_count": null,
      "outputs": [
        {
          "output_type": "display_data",
          "data": {
            "text/html": [
              "<div>\n",
              "<style scoped>\n",
              "    .dataframe tbody tr th:only-of-type {\n",
              "        vertical-align: middle;\n",
              "    }\n",
              "\n",
              "    .dataframe tbody tr th {\n",
              "        vertical-align: top;\n",
              "    }\n",
              "\n",
              "    .dataframe thead th {\n",
              "        text-align: right;\n",
              "    }\n",
              "</style>\n",
              "<table border=\"1\" class=\"dataframe\">\n",
              "  <thead>\n",
              "    <tr style=\"text-align: right;\">\n",
              "      <th></th>\n",
              "      <th>id</th>\n",
              "      <th>title</th>\n",
              "      <th>author</th>\n",
              "      <th>text</th>\n",
              "    </tr>\n",
              "  </thead>\n",
              "  <tbody>\n",
              "    <tr>\n",
              "      <th>0</th>\n",
              "      <td>20800</td>\n",
              "      <td>Specter of Trump Loosens Tongues, if Not Purse...</td>\n",
              "      <td>David Streitfeld</td>\n",
              "      <td>PALO ALTO, Calif.  —   After years of scorning...</td>\n",
              "    </tr>\n",
              "    <tr>\n",
              "      <th>1</th>\n",
              "      <td>20801</td>\n",
              "      <td>Russian warships ready to strike terrorists ne...</td>\n",
              "      <td>NaN</td>\n",
              "      <td>Russian warships ready to strike terrorists ne...</td>\n",
              "    </tr>\n",
              "    <tr>\n",
              "      <th>2</th>\n",
              "      <td>20802</td>\n",
              "      <td>#NoDAPL: Native American Leaders Vow to Stay A...</td>\n",
              "      <td>Common Dreams</td>\n",
              "      <td>Videos #NoDAPL: Native American Leaders Vow to...</td>\n",
              "    </tr>\n",
              "    <tr>\n",
              "      <th>3</th>\n",
              "      <td>20803</td>\n",
              "      <td>Tim Tebow Will Attempt Another Comeback, This ...</td>\n",
              "      <td>Daniel Victor</td>\n",
              "      <td>If at first you don’t succeed, try a different...</td>\n",
              "    </tr>\n",
              "    <tr>\n",
              "      <th>4</th>\n",
              "      <td>20804</td>\n",
              "      <td>Keiser Report: Meme Wars (E995)</td>\n",
              "      <td>Truth Broadcast Network</td>\n",
              "      <td>42 mins ago 1 Views 0 Comments 0 Likes 'For th...</td>\n",
              "    </tr>\n",
              "    <tr>\n",
              "      <th>...</th>\n",
              "      <td>...</td>\n",
              "      <td>...</td>\n",
              "      <td>...</td>\n",
              "      <td>...</td>\n",
              "    </tr>\n",
              "    <tr>\n",
              "      <th>5195</th>\n",
              "      <td>25995</td>\n",
              "      <td>The Bangladeshi Traffic Jam That Never Ends - ...</td>\n",
              "      <td>Jody Rosen</td>\n",
              "      <td>Of all the dysfunctions that plague the world’...</td>\n",
              "    </tr>\n",
              "    <tr>\n",
              "      <th>5196</th>\n",
              "      <td>25996</td>\n",
              "      <td>John Kasich Signs One Abortion Bill in Ohio bu...</td>\n",
              "      <td>Sheryl Gay Stolberg</td>\n",
              "      <td>WASHINGTON  —   Gov. John Kasich of Ohio on Tu...</td>\n",
              "    </tr>\n",
              "    <tr>\n",
              "      <th>5197</th>\n",
              "      <td>25997</td>\n",
              "      <td>California Today: What, Exactly, Is in Your Su...</td>\n",
              "      <td>Mike McPhate</td>\n",
              "      <td>Good morning. (Want to get California Today by...</td>\n",
              "    </tr>\n",
              "    <tr>\n",
              "      <th>5198</th>\n",
              "      <td>25998</td>\n",
              "      <td>300 US Marines To Be Deployed To Russian Borde...</td>\n",
              "      <td>NaN</td>\n",
              "      <td>« Previous - Next » 300 US Marines To Be Deplo...</td>\n",
              "    </tr>\n",
              "    <tr>\n",
              "      <th>5199</th>\n",
              "      <td>25999</td>\n",
              "      <td>Awkward Sex, Onscreen and Off - The New York T...</td>\n",
              "      <td>Teddy Wayne</td>\n",
              "      <td>Perhaps you’ve seen the new TV series whose pi...</td>\n",
              "    </tr>\n",
              "  </tbody>\n",
              "</table>\n",
              "<p>5200 rows x 4 columns</p>\n",
              "</div>"
            ],
            "text/plain": [
              "         id  ...                                               text\n",
              "0     20800  ...  PALO ALTO, Calif.  —   After years of scorning...\n",
              "1     20801  ...  Russian warships ready to strike terrorists ne...\n",
              "2     20802  ...  Videos #NoDAPL: Native American Leaders Vow to...\n",
              "3     20803  ...  If at first you don’t succeed, try a different...\n",
              "4     20804  ...  42 mins ago 1 Views 0 Comments 0 Likes 'For th...\n",
              "...     ...  ...                                                ...\n",
              "5195  25995  ...  Of all the dysfunctions that plague the world’...\n",
              "5196  25996  ...  WASHINGTON  —   Gov. John Kasich of Ohio on Tu...\n",
              "5197  25997  ...  Good morning. (Want to get California Today by...\n",
              "5198  25998  ...  « Previous - Next » 300 US Marines To Be Deplo...\n",
              "5199  25999  ...  Perhaps you’ve seen the new TV series whose pi...\n",
              "\n",
              "[5200 rows x 4 columns]"
            ]
          },
          "metadata": {}
        }
      ]
    },
    {
      "cell_type": "code",
      "metadata": {
        "application/vnd.databricks.v1+cell": {
          "title": "",
          "showTitle": false,
          "inputWidgets": {},
          "nuid": "f135c835-b378-4422-822e-9027768d42ec"
        },
        "id": "h7VFItbnBIf9",
        "colab": {
          "base_uri": "https://localhost:8080/",
          "height": 100
        },
        "outputId": "66394810-4c7f-44f0-936b-ac5ed342cae5"
      },
      "source": [
        "df_test[df_test.id == 20800]"
      ],
      "execution_count": null,
      "outputs": [
        {
          "output_type": "execute_result",
          "data": {
            "text/html": [
              "<div>\n",
              "<style scoped>\n",
              "    .dataframe tbody tr th:only-of-type {\n",
              "        vertical-align: middle;\n",
              "    }\n",
              "\n",
              "    .dataframe tbody tr th {\n",
              "        vertical-align: top;\n",
              "    }\n",
              "\n",
              "    .dataframe thead th {\n",
              "        text-align: right;\n",
              "    }\n",
              "</style>\n",
              "<table border=\"1\" class=\"dataframe\">\n",
              "  <thead>\n",
              "    <tr style=\"text-align: right;\">\n",
              "      <th></th>\n",
              "      <th>id</th>\n",
              "      <th>title</th>\n",
              "      <th>author</th>\n",
              "      <th>text</th>\n",
              "    </tr>\n",
              "  </thead>\n",
              "  <tbody>\n",
              "    <tr>\n",
              "      <th>0</th>\n",
              "      <td>20800</td>\n",
              "      <td>Specter of Trump Loosens Tongues, if Not Purse...</td>\n",
              "      <td>David Streitfeld</td>\n",
              "      <td>PALO ALTO, Calif.  —   After years of scorning...</td>\n",
              "    </tr>\n",
              "  </tbody>\n",
              "</table>\n",
              "</div>"
            ],
            "text/plain": [
              "      id  ...                                               text\n",
              "0  20800  ...  PALO ALTO, Calif.  —   After years of scorning...\n",
              "\n",
              "[1 rows x 4 columns]"
            ]
          },
          "metadata": {},
          "execution_count": 70
        }
      ]
    },
    {
      "cell_type": "code",
      "metadata": {
        "application/vnd.databricks.v1+cell": {
          "title": "",
          "showTitle": false,
          "inputWidgets": {},
          "nuid": "6a9f026e-6640-45f9-8b97-2f45265e0ca0"
        },
        "id": "RYQikrAPBIgE",
        "colab": {
          "base_uri": "https://localhost:8080/",
          "height": 578
        },
        "outputId": "b95d4598-008b-4f9e-cb6f-d7f959a77e5c"
      },
      "source": [
        "%%time\n",
        "df_submit_label = df_submit[\"label\"]\n",
        "df_test = pd.concat([df_test, df_submit_label], axis=1,)\n",
        "df_test"
      ],
      "execution_count": null,
      "outputs": [
        {
          "output_type": "stream",
          "name": "stdout",
          "text": [
            "CPU times: user 28.1 ms, sys: 4.02 ms, total: 32.1 ms\n",
            "Wall time: 200 ms\n"
          ]
        },
        {
          "output_type": "execute_result",
          "data": {
            "text/html": [
              "<div>\n",
              "<style scoped>\n",
              "    .dataframe tbody tr th:only-of-type {\n",
              "        vertical-align: middle;\n",
              "    }\n",
              "\n",
              "    .dataframe tbody tr th {\n",
              "        vertical-align: top;\n",
              "    }\n",
              "\n",
              "    .dataframe thead th {\n",
              "        text-align: right;\n",
              "    }\n",
              "</style>\n",
              "<table border=\"1\" class=\"dataframe\">\n",
              "  <thead>\n",
              "    <tr style=\"text-align: right;\">\n",
              "      <th></th>\n",
              "      <th>id</th>\n",
              "      <th>title</th>\n",
              "      <th>author</th>\n",
              "      <th>text</th>\n",
              "      <th>label</th>\n",
              "    </tr>\n",
              "  </thead>\n",
              "  <tbody>\n",
              "    <tr>\n",
              "      <th>0</th>\n",
              "      <td>20800</td>\n",
              "      <td>Specter of Trump Loosens Tongues, if Not Purse...</td>\n",
              "      <td>David Streitfeld</td>\n",
              "      <td>PALO ALTO, Calif.  —   After years of scorning...</td>\n",
              "      <td>0</td>\n",
              "    </tr>\n",
              "    <tr>\n",
              "      <th>1</th>\n",
              "      <td>20801</td>\n",
              "      <td>Russian warships ready to strike terrorists ne...</td>\n",
              "      <td>NaN</td>\n",
              "      <td>Russian warships ready to strike terrorists ne...</td>\n",
              "      <td>1</td>\n",
              "    </tr>\n",
              "    <tr>\n",
              "      <th>2</th>\n",
              "      <td>20802</td>\n",
              "      <td>#NoDAPL: Native American Leaders Vow to Stay A...</td>\n",
              "      <td>Common Dreams</td>\n",
              "      <td>Videos #NoDAPL: Native American Leaders Vow to...</td>\n",
              "      <td>0</td>\n",
              "    </tr>\n",
              "    <tr>\n",
              "      <th>3</th>\n",
              "      <td>20803</td>\n",
              "      <td>Tim Tebow Will Attempt Another Comeback, This ...</td>\n",
              "      <td>Daniel Victor</td>\n",
              "      <td>If at first you don’t succeed, try a different...</td>\n",
              "      <td>1</td>\n",
              "    </tr>\n",
              "    <tr>\n",
              "      <th>4</th>\n",
              "      <td>20804</td>\n",
              "      <td>Keiser Report: Meme Wars (E995)</td>\n",
              "      <td>Truth Broadcast Network</td>\n",
              "      <td>42 mins ago 1 Views 0 Comments 0 Likes 'For th...</td>\n",
              "      <td>1</td>\n",
              "    </tr>\n",
              "    <tr>\n",
              "      <th>...</th>\n",
              "      <td>...</td>\n",
              "      <td>...</td>\n",
              "      <td>...</td>\n",
              "      <td>...</td>\n",
              "      <td>...</td>\n",
              "    </tr>\n",
              "    <tr>\n",
              "      <th>5195</th>\n",
              "      <td>25995</td>\n",
              "      <td>The Bangladeshi Traffic Jam That Never Ends - ...</td>\n",
              "      <td>Jody Rosen</td>\n",
              "      <td>Of all the dysfunctions that plague the world’...</td>\n",
              "      <td>0</td>\n",
              "    </tr>\n",
              "    <tr>\n",
              "      <th>5196</th>\n",
              "      <td>25996</td>\n",
              "      <td>John Kasich Signs One Abortion Bill in Ohio bu...</td>\n",
              "      <td>Sheryl Gay Stolberg</td>\n",
              "      <td>WASHINGTON  —   Gov. John Kasich of Ohio on Tu...</td>\n",
              "      <td>1</td>\n",
              "    </tr>\n",
              "    <tr>\n",
              "      <th>5197</th>\n",
              "      <td>25997</td>\n",
              "      <td>California Today: What, Exactly, Is in Your Su...</td>\n",
              "      <td>Mike McPhate</td>\n",
              "      <td>Good morning. (Want to get California Today by...</td>\n",
              "      <td>0</td>\n",
              "    </tr>\n",
              "    <tr>\n",
              "      <th>5198</th>\n",
              "      <td>25998</td>\n",
              "      <td>300 US Marines To Be Deployed To Russian Borde...</td>\n",
              "      <td>NaN</td>\n",
              "      <td>« Previous - Next » 300 US Marines To Be Deplo...</td>\n",
              "      <td>1</td>\n",
              "    </tr>\n",
              "    <tr>\n",
              "      <th>5199</th>\n",
              "      <td>25999</td>\n",
              "      <td>Awkward Sex, Onscreen and Off - The New York T...</td>\n",
              "      <td>Teddy Wayne</td>\n",
              "      <td>Perhaps you’ve seen the new TV series whose pi...</td>\n",
              "      <td>0</td>\n",
              "    </tr>\n",
              "  </tbody>\n",
              "</table>\n",
              "<p>5200 rows x 5 columns</p>\n",
              "</div>"
            ],
            "text/plain": [
              "         id  ... label\n",
              "0     20800  ...     0\n",
              "1     20801  ...     1\n",
              "2     20802  ...     0\n",
              "3     20803  ...     1\n",
              "4     20804  ...     1\n",
              "...     ...  ...   ...\n",
              "5195  25995  ...     0\n",
              "5196  25996  ...     1\n",
              "5197  25997  ...     0\n",
              "5198  25998  ...     1\n",
              "5199  25999  ...     0\n",
              "\n",
              "[5200 rows x 5 columns]"
            ]
          },
          "metadata": {},
          "execution_count": 104
        }
      ]
    },
    {
      "cell_type": "code",
      "metadata": {
        "application/vnd.databricks.v1+cell": {
          "title": "",
          "showTitle": false,
          "inputWidgets": {},
          "nuid": "9cd8a655-956d-4d70-9e69-239268c645e7"
        },
        "id": "VZ-7T3s3BIgM",
        "colab": {
          "base_uri": "https://localhost:8080/"
        },
        "outputId": "e7b7079c-f341-4e34-bfd9-2e538a45e151"
      },
      "source": [
        "# df_test[df_test.text.isNull()]\n",
        "df_test[df_test.text == \" \"].count()"
      ],
      "execution_count": null,
      "outputs": [
        {
          "output_type": "execute_result",
          "data": {
            "text/plain": [
              "id        31\n",
              "title     31\n",
              "author    31\n",
              "text      31\n",
              "label     31\n",
              "dtype: int64"
            ]
          },
          "metadata": {},
          "execution_count": 106
        }
      ]
    },
    {
      "cell_type": "code",
      "metadata": {
        "application/vnd.databricks.v1+cell": {
          "title": "",
          "showTitle": false,
          "inputWidgets": {},
          "nuid": "a3da0782-a25e-439f-b511-672072e661c0"
        },
        "id": "PsMl0gb7BIgN",
        "colab": {
          "base_uri": "https://localhost:8080/"
        },
        "outputId": "9c5d8891-365f-41db-9390-a8164ecd2176"
      },
      "source": [
        "%%time\n",
        "df_test = df_test[df_test.text != \" \"]"
      ],
      "execution_count": null,
      "outputs": [
        {
          "output_type": "stream",
          "name": "stdout",
          "text": [
            "CPU times: user 23.9 ms, sys: 460 µs, total: 24.3 ms\n",
            "Wall time: 56.2 ms\n"
          ]
        }
      ]
    },
    {
      "cell_type": "code",
      "metadata": {
        "colab": {
          "base_uri": "https://localhost:8080/"
        },
        "id": "KAnmF6apfTTk",
        "outputId": "331b4dd2-136d-4a48-cdbe-ad7269e20704"
      },
      "source": [
        "df_test.count()"
      ],
      "execution_count": null,
      "outputs": [
        {
          "output_type": "execute_result",
          "data": {
            "text/plain": [
              "id        5169\n",
              "title     5047\n",
              "author    4666\n",
              "text      5162\n",
              "label     5169\n",
              "dtype: int64"
            ]
          },
          "metadata": {},
          "execution_count": 108
        }
      ]
    },
    {
      "cell_type": "code",
      "metadata": {
        "application/vnd.databricks.v1+cell": {
          "title": "",
          "showTitle": false,
          "inputWidgets": {},
          "nuid": "c2bc1e6c-da6a-4bb7-ad11-508a3de2304e"
        },
        "id": "WqU5q9HnBIgT",
        "colab": {
          "base_uri": "https://localhost:8080/",
          "height": 194
        },
        "outputId": "8d39b21a-5cfb-4450-b5f4-a5026f087a96"
      },
      "source": [
        "display(type(df_test))\n",
        "display((df_test.count(), len(df_test.columns)))"
      ],
      "execution_count": null,
      "outputs": [
        {
          "output_type": "display_data",
          "data": {
            "text/plain": [
              "modin.pandas.dataframe.DataFrame"
            ]
          },
          "metadata": {}
        },
        {
          "output_type": "display_data",
          "data": {
            "text/plain": [
              "(id        5169\n",
              " title     5047\n",
              " author    4666\n",
              " text      5162\n",
              " label     5169\n",
              " dtype: int64,\n",
              " 5)"
            ]
          },
          "metadata": {}
        }
      ]
    },
    {
      "cell_type": "code",
      "metadata": {
        "application/vnd.databricks.v1+cell": {
          "title": "",
          "showTitle": false,
          "inputWidgets": {},
          "nuid": "cf064ad0-da51-42e9-84a9-2420878a0bf1"
        },
        "id": "eIoLpKGnBIgV",
        "colab": {
          "base_uri": "https://localhost:8080/",
          "height": 940
        },
        "outputId": "364f184e-48e2-4c9d-bbfb-12c81fdf93db"
      },
      "source": [
        "\n",
        "display(df_train)\n",
        "mem_report()"
      ],
      "execution_count": null,
      "outputs": [
        {
          "output_type": "display_data",
          "data": {
            "text/html": [
              "<div>\n",
              "<style scoped>\n",
              "    .dataframe tbody tr th:only-of-type {\n",
              "        vertical-align: middle;\n",
              "    }\n",
              "\n",
              "    .dataframe tbody tr th {\n",
              "        vertical-align: top;\n",
              "    }\n",
              "\n",
              "    .dataframe thead th {\n",
              "        text-align: right;\n",
              "    }\n",
              "</style>\n",
              "<table border=\"1\" class=\"dataframe\">\n",
              "  <thead>\n",
              "    <tr style=\"text-align: right;\">\n",
              "      <th></th>\n",
              "      <th>id</th>\n",
              "      <th>title</th>\n",
              "      <th>author</th>\n",
              "      <th>text</th>\n",
              "      <th>label</th>\n",
              "    </tr>\n",
              "  </thead>\n",
              "  <tbody>\n",
              "    <tr>\n",
              "      <th>0</th>\n",
              "      <td>0</td>\n",
              "      <td>House Dem Aide: We Didn’t Even See Comey’s Let...</td>\n",
              "      <td>Darrell Lucus</td>\n",
              "      <td>House Dem Aide: We Didn’t Even See Comey’s Let...</td>\n",
              "      <td>1</td>\n",
              "    </tr>\n",
              "    <tr>\n",
              "      <th>1</th>\n",
              "      <td>1</td>\n",
              "      <td>FLYNN: Hillary Clinton, Big Woman on Campus - ...</td>\n",
              "      <td>Daniel J. Flynn</td>\n",
              "      <td>Ever get the feeling your life circles the rou...</td>\n",
              "      <td>0</td>\n",
              "    </tr>\n",
              "    <tr>\n",
              "      <th>2</th>\n",
              "      <td>2</td>\n",
              "      <td>Why the Truth Might Get You Fired</td>\n",
              "      <td>Consortiumnews.com</td>\n",
              "      <td>Why the Truth Might Get You Fired October 29, ...</td>\n",
              "      <td>1</td>\n",
              "    </tr>\n",
              "    <tr>\n",
              "      <th>3</th>\n",
              "      <td>3</td>\n",
              "      <td>15 Civilians Killed In Single US Airstrike Hav...</td>\n",
              "      <td>Jessica Purkiss</td>\n",
              "      <td>Videos 15 Civilians Killed In Single US Airstr...</td>\n",
              "      <td>1</td>\n",
              "    </tr>\n",
              "    <tr>\n",
              "      <th>4</th>\n",
              "      <td>4</td>\n",
              "      <td>Iranian woman jailed for fictional unpublished...</td>\n",
              "      <td>Howard Portnoy</td>\n",
              "      <td>Print \\nAn Iranian woman has been sentenced to...</td>\n",
              "      <td>1</td>\n",
              "    </tr>\n",
              "    <tr>\n",
              "      <th>...</th>\n",
              "      <td>...</td>\n",
              "      <td>...</td>\n",
              "      <td>...</td>\n",
              "      <td>...</td>\n",
              "      <td>...</td>\n",
              "    </tr>\n",
              "    <tr>\n",
              "      <th>20795</th>\n",
              "      <td>20795</td>\n",
              "      <td>Rapper T.I.: Trump a ’Poster Child For White S...</td>\n",
              "      <td>Jerome Hudson</td>\n",
              "      <td>Rapper T. I. unloaded on black celebrities who...</td>\n",
              "      <td>0</td>\n",
              "    </tr>\n",
              "    <tr>\n",
              "      <th>20796</th>\n",
              "      <td>20796</td>\n",
              "      <td>N.F.L. Playoffs: Schedule, Matchups and Odds -...</td>\n",
              "      <td>Benjamin Hoffman</td>\n",
              "      <td>When the Green Bay Packers lost to the Washing...</td>\n",
              "      <td>0</td>\n",
              "    </tr>\n",
              "    <tr>\n",
              "      <th>20797</th>\n",
              "      <td>20797</td>\n",
              "      <td>Macy’s Is Said to Receive Takeover Approach by...</td>\n",
              "      <td>Michael J. de la Merced and Rachel Abrams</td>\n",
              "      <td>The Macy’s of today grew from the union of sev...</td>\n",
              "      <td>0</td>\n",
              "    </tr>\n",
              "    <tr>\n",
              "      <th>20798</th>\n",
              "      <td>20798</td>\n",
              "      <td>NATO, Russia To Hold Parallel Exercises In Bal...</td>\n",
              "      <td>Alex Ansary</td>\n",
              "      <td>NATO, Russia To Hold Parallel Exercises In Bal...</td>\n",
              "      <td>1</td>\n",
              "    </tr>\n",
              "    <tr>\n",
              "      <th>20799</th>\n",
              "      <td>20799</td>\n",
              "      <td>What Keeps the F-35 Alive</td>\n",
              "      <td>David Swanson</td>\n",
              "      <td>David Swanson is an author, activist, journa...</td>\n",
              "      <td>1</td>\n",
              "    </tr>\n",
              "  </tbody>\n",
              "</table>\n",
              "<p>20725 rows x 5 columns</p>\n",
              "</div>"
            ],
            "text/plain": [
              "          id  ... label\n",
              "0          0  ...     1\n",
              "1          1  ...     0\n",
              "2          2  ...     1\n",
              "3          3  ...     1\n",
              "4          4  ...     1\n",
              "...      ...  ...   ...\n",
              "20795  20795  ...     0\n",
              "20796  20796  ...     0\n",
              "20797  20797  ...     0\n",
              "20798  20798  ...     1\n",
              "20799  20799  ...     1\n",
              "\n",
              "[20725 rows x 5 columns]"
            ]
          },
          "metadata": {}
        },
        {
          "output_type": "stream",
          "name": "stdout",
          "text": [
            "CPU RAM Free: 11.8 GB\n"
          ]
        },
        {
          "output_type": "error",
          "ename": "ValueError",
          "evalue": "ignored",
          "traceback": [
            "\u001b[0;31m---------------------------------------------------------------------------\u001b[0m",
            "\u001b[0;31mValueError\u001b[0m                                Traceback (most recent call last)",
            "\u001b[0;32m/tmp/ipykernel_621/3693698481.py\u001b[0m in \u001b[0;36m<module>\u001b[0;34m\u001b[0m\n\u001b[1;32m      1\u001b[0m \u001b[0mdisplay\u001b[0m\u001b[0;34m(\u001b[0m\u001b[0mdf_train\u001b[0m\u001b[0;34m)\u001b[0m\u001b[0;34m\u001b[0m\u001b[0;34m\u001b[0m\u001b[0m\n\u001b[0;32m----> 2\u001b[0;31m \u001b[0mmem_report\u001b[0m\u001b[0;34m(\u001b[0m\u001b[0;34m)\u001b[0m\u001b[0;34m\u001b[0m\u001b[0;34m\u001b[0m\u001b[0m\n\u001b[0m",
            "\u001b[0;32m/tmp/ipykernel_621/2978702771.py\u001b[0m in \u001b[0;36mmem_report\u001b[0;34m()\u001b[0m\n\u001b[1;32m      6\u001b[0m   \u001b[0mprint\u001b[0m\u001b[0;34m(\u001b[0m\u001b[0;34m\"CPU RAM Free: \"\u001b[0m \u001b[0;34m+\u001b[0m \u001b[0mhumanize\u001b[0m\u001b[0;34m.\u001b[0m\u001b[0mnaturalsize\u001b[0m\u001b[0;34m(\u001b[0m \u001b[0mpsutil\u001b[0m\u001b[0;34m.\u001b[0m\u001b[0mvirtual_memory\u001b[0m\u001b[0;34m(\u001b[0m\u001b[0;34m)\u001b[0m\u001b[0;34m.\u001b[0m\u001b[0mavailable\u001b[0m \u001b[0;34m)\u001b[0m\u001b[0;34m)\u001b[0m\u001b[0;34m\u001b[0m\u001b[0;34m\u001b[0m\u001b[0m\n\u001b[1;32m      7\u001b[0m \u001b[0;34m\u001b[0m\u001b[0m\n\u001b[0;32m----> 8\u001b[0;31m   \u001b[0mGPUs\u001b[0m \u001b[0;34m=\u001b[0m \u001b[0mGPUtil\u001b[0m\u001b[0;34m.\u001b[0m\u001b[0mgetGPUs\u001b[0m\u001b[0;34m(\u001b[0m\u001b[0;34m)\u001b[0m\u001b[0;34m\u001b[0m\u001b[0;34m\u001b[0m\u001b[0m\n\u001b[0m\u001b[1;32m      9\u001b[0m   \u001b[0;32mfor\u001b[0m \u001b[0mi\u001b[0m\u001b[0;34m,\u001b[0m \u001b[0mgpu\u001b[0m \u001b[0;32min\u001b[0m \u001b[0menumerate\u001b[0m\u001b[0;34m(\u001b[0m\u001b[0mGPUs\u001b[0m\u001b[0;34m)\u001b[0m\u001b[0;34m:\u001b[0m\u001b[0;34m\u001b[0m\u001b[0;34m\u001b[0m\u001b[0m\n\u001b[1;32m     10\u001b[0m     \u001b[0mprint\u001b[0m\u001b[0;34m(\u001b[0m\u001b[0;34m'GPU {:d} ... Mem Free: {:.0f}MB / {:.0f}MB | Utilization {:3.0f}%'\u001b[0m\u001b[0;34m.\u001b[0m\u001b[0mformat\u001b[0m\u001b[0;34m(\u001b[0m\u001b[0mi\u001b[0m\u001b[0;34m,\u001b[0m \u001b[0mgpu\u001b[0m\u001b[0;34m.\u001b[0m\u001b[0mmemoryFree\u001b[0m\u001b[0;34m,\u001b[0m \u001b[0mgpu\u001b[0m\u001b[0;34m.\u001b[0m\u001b[0mmemoryTotal\u001b[0m\u001b[0;34m,\u001b[0m \u001b[0mgpu\u001b[0m\u001b[0;34m.\u001b[0m\u001b[0mmemoryUtil\u001b[0m\u001b[0;34m*\u001b[0m\u001b[0;36m100\u001b[0m\u001b[0;34m)\u001b[0m\u001b[0;34m)\u001b[0m\u001b[0;34m\u001b[0m\u001b[0;34m\u001b[0m\u001b[0m\n",
            "\u001b[0;32m/usr/local/lib/python3.7/dist-packages/GPUtil/GPUtil.py\u001b[0m in \u001b[0;36mgetGPUs\u001b[0;34m()\u001b[0m\n\u001b[1;32m    100\u001b[0m             \u001b[0;31m# print(vals[i])\u001b[0m\u001b[0;34m\u001b[0m\u001b[0;34m\u001b[0m\u001b[0;34m\u001b[0m\u001b[0m\n\u001b[1;32m    101\u001b[0m             \u001b[0;32mif\u001b[0m \u001b[0;34m(\u001b[0m\u001b[0mi\u001b[0m \u001b[0;34m==\u001b[0m \u001b[0;36m0\u001b[0m\u001b[0;34m)\u001b[0m\u001b[0;34m:\u001b[0m\u001b[0;34m\u001b[0m\u001b[0;34m\u001b[0m\u001b[0m\n\u001b[0;32m--> 102\u001b[0;31m                 \u001b[0mdeviceIds\u001b[0m \u001b[0;34m=\u001b[0m \u001b[0mint\u001b[0m\u001b[0;34m(\u001b[0m\u001b[0mvals\u001b[0m\u001b[0;34m[\u001b[0m\u001b[0mi\u001b[0m\u001b[0;34m]\u001b[0m\u001b[0;34m)\u001b[0m\u001b[0;34m\u001b[0m\u001b[0;34m\u001b[0m\u001b[0m\n\u001b[0m\u001b[1;32m    103\u001b[0m             \u001b[0;32melif\u001b[0m \u001b[0;34m(\u001b[0m\u001b[0mi\u001b[0m \u001b[0;34m==\u001b[0m \u001b[0;36m1\u001b[0m\u001b[0;34m)\u001b[0m\u001b[0;34m:\u001b[0m\u001b[0;34m\u001b[0m\u001b[0;34m\u001b[0m\u001b[0m\n\u001b[1;32m    104\u001b[0m                 \u001b[0muuid\u001b[0m \u001b[0;34m=\u001b[0m \u001b[0mvals\u001b[0m\u001b[0;34m[\u001b[0m\u001b[0mi\u001b[0m\u001b[0;34m]\u001b[0m\u001b[0;34m\u001b[0m\u001b[0;34m\u001b[0m\u001b[0m\n",
            "\u001b[0;31mValueError\u001b[0m: invalid literal for int() with base 10: \"NVIDIA-SMI has failed because it couldn't communicate with the NVIDIA driver. Make sure that the latest NVIDIA driver is installed and running.\""
          ]
        }
      ]
    },
    {
      "cell_type": "code",
      "metadata": {
        "application/vnd.databricks.v1+cell": {
          "title": "",
          "showTitle": false,
          "inputWidgets": {},
          "nuid": "61675625-44a0-4df0-b253-fdaf477de6b5"
        },
        "id": "Or0T3x6FBIie",
        "colab": {
          "base_uri": "https://localhost:8080/"
        },
        "outputId": "75a9a82a-979a-4444-ac81-6caf171936bc"
      },
      "source": [
        "%%time\n",
        "\n",
        "df_train = df_train[df_train.text != \" \"]\n",
        "mem_report()\n"
      ],
      "execution_count": null,
      "outputs": [
        {
          "output_type": "stream",
          "name": "stdout",
          "text": [
            "CPU times: user 33 ms, sys: 1.73 ms, total: 34.8 ms\n",
            "Wall time: 178 ms\n"
          ]
        }
      ]
    },
    {
      "cell_type": "code",
      "metadata": {
        "colab": {
          "base_uri": "https://localhost:8080/"
        },
        "id": "uem8UR0El_9F",
        "outputId": "11bfa9cd-7539-4f62-cb46-e71774a2c38d"
      },
      "source": [
        "!pip install gputil\n",
        "!pip install psutil\n",
        "!pip install humanize"
      ],
      "execution_count": null,
      "outputs": [
        {
          "output_type": "stream",
          "name": "stdout",
          "text": [
            "Collecting gputil\n",
            "  Downloading GPUtil-1.4.0.tar.gz (5.5 kB)\n",
            "Building wheels for collected packages: gputil\n",
            "  Building wheel for gputil (setup.py) ... \u001b[?25l\u001b[?25hdone\n",
            "  Created wheel for gputil: filename=GPUtil-1.4.0-py3-none-any.whl size=7411 sha256=0e8fb217e21aa043f1635ffa1d0068d70d4c66c5ca7762aa50c769883bb35a17\n",
            "  Stored in directory: /root/.cache/pip/wheels/6e/f8/83/534c52482d6da64622ddbf72cd93c35d2ef2881b78fd08ff0c\n",
            "Successfully built gputil\n",
            "Installing collected packages: gputil\n",
            "Successfully installed gputil-1.4.0\n",
            "Requirement already satisfied: psutil in /usr/local/lib/python3.7/dist-packages (5.4.8)\n",
            "Requirement already satisfied: humanize in /usr/local/lib/python3.7/dist-packages (0.5.1)\n"
          ]
        }
      ]
    },
    {
      "cell_type": "code",
      "metadata": {
        "id": "CVDHa3yPmASt"
      },
      "source": [
        "# Import packages\n",
        "import os,sys,humanize,psutil,GPUtil\n",
        "\n",
        "# Define function\n",
        "def mem_report():\n",
        "  print(\"CPU RAM Free: \" + humanize.naturalsize( psutil.virtual_memory().available ))\n",
        "  \n",
        "  GPUs = GPUtil.getGPUs()\n",
        "  for i, gpu in enumerate(GPUs):\n",
        "    print('GPU {:d} ... Mem Free: {:.0f}MB / {:.0f}MB | Utilization {:3.0f}%'.format(i, gpu.memoryFree, gpu.memoryTotal, gpu.memoryUtil*100))\n",
        "    \n",
        "# Execute function\n",
        "# mem_report()"
      ],
      "execution_count": null,
      "outputs": []
    },
    {
      "cell_type": "code",
      "metadata": {
        "application/vnd.databricks.v1+cell": {
          "title": "",
          "showTitle": false,
          "inputWidgets": {},
          "nuid": "e6406e9e-0fd7-4b1a-b5e9-d560e49aafa5"
        },
        "id": "eDn1w_xGBIjD"
      },
      "source": [
        ""
      ],
      "execution_count": null,
      "outputs": []
    }
  ]
}